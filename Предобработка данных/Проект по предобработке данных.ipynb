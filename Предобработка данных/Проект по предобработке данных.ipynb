{
 "cells": [
  {
   "cell_type": "markdown",
   "metadata": {},
   "source": [
    "# Исследование надёжности заёмщиков\n",
    "\n",
    "Нужно разобраться, влияет ли семейное положение и количество детей клиента на факт погашения кредита в срок. Входные данные от банка — статистика о платёжеспособности клиентов. Результаты исследования будут учтены при построении модели **кредитного скоринга**.\n",
    "\n",
    "Источник данных: **Яндекс.Практикум**"
   ]
  },
  {
   "cell_type": "code",
   "execution_count": 1,
   "metadata": {
    "scrolled": true
   },
   "outputs": [
    {
     "name": "stderr",
     "output_type": "stream",
     "text": [
      "[nltk_data] Downloading package wordnet to\n",
      "[nltk_data]     C:\\Users\\erokh\\AppData\\Roaming\\nltk_data...\n",
      "[nltk_data]   Package wordnet is already up-to-date!\n"
     ]
    }
   ],
   "source": [
    "import pandas as pd\n",
    "import nltk\n",
    "nltk.download('wordnet')\n",
    "from pymorphy2 import MorphAnalyzer\n",
    "import matplotlib.pyplot as plt\n",
    "\n",
    "import warnings\n",
    "warnings.simplefilter('ignore')"
   ]
  },
  {
   "cell_type": "markdown",
   "metadata": {},
   "source": [
    "## Предобработка и исследовательсикий анализ данных"
   ]
  },
  {
   "cell_type": "code",
   "execution_count": 2,
   "metadata": {},
   "outputs": [
    {
     "data": {
      "text/html": [
       "<div>\n",
       "<style scoped>\n",
       "    .dataframe tbody tr th:only-of-type {\n",
       "        vertical-align: middle;\n",
       "    }\n",
       "\n",
       "    .dataframe tbody tr th {\n",
       "        vertical-align: top;\n",
       "    }\n",
       "\n",
       "    .dataframe thead th {\n",
       "        text-align: right;\n",
       "    }\n",
       "</style>\n",
       "<table border=\"1\" class=\"dataframe\">\n",
       "  <thead>\n",
       "    <tr style=\"text-align: right;\">\n",
       "      <th></th>\n",
       "      <th>children</th>\n",
       "      <th>days_employed</th>\n",
       "      <th>dob_years</th>\n",
       "      <th>education</th>\n",
       "      <th>education_id</th>\n",
       "      <th>family_status</th>\n",
       "      <th>family_status_id</th>\n",
       "      <th>gender</th>\n",
       "      <th>income_type</th>\n",
       "      <th>debt</th>\n",
       "      <th>total_income</th>\n",
       "      <th>purpose</th>\n",
       "    </tr>\n",
       "  </thead>\n",
       "  <tbody>\n",
       "    <tr>\n",
       "      <th>0</th>\n",
       "      <td>1</td>\n",
       "      <td>-8437.673028</td>\n",
       "      <td>42</td>\n",
       "      <td>высшее</td>\n",
       "      <td>0</td>\n",
       "      <td>женат / замужем</td>\n",
       "      <td>0</td>\n",
       "      <td>F</td>\n",
       "      <td>сотрудник</td>\n",
       "      <td>0</td>\n",
       "      <td>253875.639453</td>\n",
       "      <td>покупка жилья</td>\n",
       "    </tr>\n",
       "    <tr>\n",
       "      <th>1</th>\n",
       "      <td>1</td>\n",
       "      <td>-4024.803754</td>\n",
       "      <td>36</td>\n",
       "      <td>среднее</td>\n",
       "      <td>1</td>\n",
       "      <td>женат / замужем</td>\n",
       "      <td>0</td>\n",
       "      <td>F</td>\n",
       "      <td>сотрудник</td>\n",
       "      <td>0</td>\n",
       "      <td>112080.014102</td>\n",
       "      <td>приобретение автомобиля</td>\n",
       "    </tr>\n",
       "    <tr>\n",
       "      <th>2</th>\n",
       "      <td>0</td>\n",
       "      <td>-5623.422610</td>\n",
       "      <td>33</td>\n",
       "      <td>Среднее</td>\n",
       "      <td>1</td>\n",
       "      <td>женат / замужем</td>\n",
       "      <td>0</td>\n",
       "      <td>M</td>\n",
       "      <td>сотрудник</td>\n",
       "      <td>0</td>\n",
       "      <td>145885.952297</td>\n",
       "      <td>покупка жилья</td>\n",
       "    </tr>\n",
       "    <tr>\n",
       "      <th>3</th>\n",
       "      <td>3</td>\n",
       "      <td>-4124.747207</td>\n",
       "      <td>32</td>\n",
       "      <td>среднее</td>\n",
       "      <td>1</td>\n",
       "      <td>женат / замужем</td>\n",
       "      <td>0</td>\n",
       "      <td>M</td>\n",
       "      <td>сотрудник</td>\n",
       "      <td>0</td>\n",
       "      <td>267628.550329</td>\n",
       "      <td>дополнительное образование</td>\n",
       "    </tr>\n",
       "    <tr>\n",
       "      <th>4</th>\n",
       "      <td>0</td>\n",
       "      <td>340266.072047</td>\n",
       "      <td>53</td>\n",
       "      <td>среднее</td>\n",
       "      <td>1</td>\n",
       "      <td>гражданский брак</td>\n",
       "      <td>1</td>\n",
       "      <td>F</td>\n",
       "      <td>пенсионер</td>\n",
       "      <td>0</td>\n",
       "      <td>158616.077870</td>\n",
       "      <td>сыграть свадьбу</td>\n",
       "    </tr>\n",
       "    <tr>\n",
       "      <th>5</th>\n",
       "      <td>0</td>\n",
       "      <td>-926.185831</td>\n",
       "      <td>27</td>\n",
       "      <td>высшее</td>\n",
       "      <td>0</td>\n",
       "      <td>гражданский брак</td>\n",
       "      <td>1</td>\n",
       "      <td>M</td>\n",
       "      <td>компаньон</td>\n",
       "      <td>0</td>\n",
       "      <td>255763.565419</td>\n",
       "      <td>покупка жилья</td>\n",
       "    </tr>\n",
       "    <tr>\n",
       "      <th>6</th>\n",
       "      <td>0</td>\n",
       "      <td>-2879.202052</td>\n",
       "      <td>43</td>\n",
       "      <td>высшее</td>\n",
       "      <td>0</td>\n",
       "      <td>женат / замужем</td>\n",
       "      <td>0</td>\n",
       "      <td>F</td>\n",
       "      <td>компаньон</td>\n",
       "      <td>0</td>\n",
       "      <td>240525.971920</td>\n",
       "      <td>операции с жильем</td>\n",
       "    </tr>\n",
       "    <tr>\n",
       "      <th>7</th>\n",
       "      <td>0</td>\n",
       "      <td>-152.779569</td>\n",
       "      <td>50</td>\n",
       "      <td>СРЕДНЕЕ</td>\n",
       "      <td>1</td>\n",
       "      <td>женат / замужем</td>\n",
       "      <td>0</td>\n",
       "      <td>M</td>\n",
       "      <td>сотрудник</td>\n",
       "      <td>0</td>\n",
       "      <td>135823.934197</td>\n",
       "      <td>образование</td>\n",
       "    </tr>\n",
       "    <tr>\n",
       "      <th>8</th>\n",
       "      <td>2</td>\n",
       "      <td>-6929.865299</td>\n",
       "      <td>35</td>\n",
       "      <td>ВЫСШЕЕ</td>\n",
       "      <td>0</td>\n",
       "      <td>гражданский брак</td>\n",
       "      <td>1</td>\n",
       "      <td>F</td>\n",
       "      <td>сотрудник</td>\n",
       "      <td>0</td>\n",
       "      <td>95856.832424</td>\n",
       "      <td>на проведение свадьбы</td>\n",
       "    </tr>\n",
       "    <tr>\n",
       "      <th>9</th>\n",
       "      <td>0</td>\n",
       "      <td>-2188.756445</td>\n",
       "      <td>41</td>\n",
       "      <td>среднее</td>\n",
       "      <td>1</td>\n",
       "      <td>женат / замужем</td>\n",
       "      <td>0</td>\n",
       "      <td>M</td>\n",
       "      <td>сотрудник</td>\n",
       "      <td>0</td>\n",
       "      <td>144425.938277</td>\n",
       "      <td>покупка жилья для семьи</td>\n",
       "    </tr>\n",
       "  </tbody>\n",
       "</table>\n",
       "</div>"
      ],
      "text/plain": [
       "   children  days_employed  dob_years education  education_id  \\\n",
       "0         1   -8437.673028         42    высшее             0   \n",
       "1         1   -4024.803754         36   среднее             1   \n",
       "2         0   -5623.422610         33   Среднее             1   \n",
       "3         3   -4124.747207         32   среднее             1   \n",
       "4         0  340266.072047         53   среднее             1   \n",
       "5         0    -926.185831         27    высшее             0   \n",
       "6         0   -2879.202052         43    высшее             0   \n",
       "7         0    -152.779569         50   СРЕДНЕЕ             1   \n",
       "8         2   -6929.865299         35    ВЫСШЕЕ             0   \n",
       "9         0   -2188.756445         41   среднее             1   \n",
       "\n",
       "      family_status  family_status_id gender income_type  debt   total_income  \\\n",
       "0   женат / замужем                 0      F   сотрудник     0  253875.639453   \n",
       "1   женат / замужем                 0      F   сотрудник     0  112080.014102   \n",
       "2   женат / замужем                 0      M   сотрудник     0  145885.952297   \n",
       "3   женат / замужем                 0      M   сотрудник     0  267628.550329   \n",
       "4  гражданский брак                 1      F   пенсионер     0  158616.077870   \n",
       "5  гражданский брак                 1      M   компаньон     0  255763.565419   \n",
       "6   женат / замужем                 0      F   компаньон     0  240525.971920   \n",
       "7   женат / замужем                 0      M   сотрудник     0  135823.934197   \n",
       "8  гражданский брак                 1      F   сотрудник     0   95856.832424   \n",
       "9   женат / замужем                 0      M   сотрудник     0  144425.938277   \n",
       "\n",
       "                      purpose  \n",
       "0               покупка жилья  \n",
       "1     приобретение автомобиля  \n",
       "2               покупка жилья  \n",
       "3  дополнительное образование  \n",
       "4             сыграть свадьбу  \n",
       "5               покупка жилья  \n",
       "6           операции с жильем  \n",
       "7                 образование  \n",
       "8       на проведение свадьбы  \n",
       "9     покупка жилья для семьи  "
      ]
     },
     "metadata": {},
     "output_type": "display_data"
    },
    {
     "name": "stdout",
     "output_type": "stream",
     "text": [
      "-----------------------------------------------------------------\n",
      "<class 'pandas.core.frame.DataFrame'>\n",
      "RangeIndex: 21525 entries, 0 to 21524\n",
      "Data columns (total 12 columns):\n",
      " #   Column            Non-Null Count  Dtype  \n",
      "---  ------            --------------  -----  \n",
      " 0   children          21525 non-null  int64  \n",
      " 1   days_employed     19351 non-null  float64\n",
      " 2   dob_years         21525 non-null  int64  \n",
      " 3   education         21525 non-null  object \n",
      " 4   education_id      21525 non-null  int64  \n",
      " 5   family_status     21525 non-null  object \n",
      " 6   family_status_id  21525 non-null  int64  \n",
      " 7   gender            21525 non-null  object \n",
      " 8   income_type       21525 non-null  object \n",
      " 9   debt              21525 non-null  int64  \n",
      " 10  total_income      19351 non-null  float64\n",
      " 11  purpose           21525 non-null  object \n",
      "dtypes: float64(2), int64(5), object(5)\n",
      "memory usage: 2.0+ MB\n"
     ]
    }
   ],
   "source": [
    "df = pd.read_csv('C:/Users/erokh/Downloads/data.csv')\n",
    "display(df.head(10))\n",
    "print('-----------------------------------------------------------------')\n",
    "df.info()"
   ]
  },
  {
   "cell_type": "markdown",
   "metadata": {},
   "source": [
    "**Вывод**"
   ]
  },
  {
   "cell_type": "markdown",
   "metadata": {},
   "source": [
    "Изучено содержание столбцов, их типы и количество. Сразу заметны такие аномалии, как:\n",
    "1. Отрицательные значения в количестве проработанных дней\n",
    "2. Разные размеры строк в стобце education\n",
    "3. Пропуски в столбцах days_employed, total_income      "
   ]
  },
  {
   "cell_type": "code",
   "execution_count": 3,
   "metadata": {
    "scrolled": true
   },
   "outputs": [
    {
     "data": {
      "text/html": [
       "<div>\n",
       "<style scoped>\n",
       "    .dataframe tbody tr th:only-of-type {\n",
       "        vertical-align: middle;\n",
       "    }\n",
       "\n",
       "    .dataframe tbody tr th {\n",
       "        vertical-align: top;\n",
       "    }\n",
       "\n",
       "    .dataframe thead th {\n",
       "        text-align: right;\n",
       "    }\n",
       "</style>\n",
       "<table border=\"1\" class=\"dataframe\">\n",
       "  <thead>\n",
       "    <tr style=\"text-align: right;\">\n",
       "      <th></th>\n",
       "      <th>children</th>\n",
       "      <th>days_employed</th>\n",
       "      <th>dob_years</th>\n",
       "      <th>education_id</th>\n",
       "      <th>family_status_id</th>\n",
       "      <th>debt</th>\n",
       "      <th>total_income</th>\n",
       "    </tr>\n",
       "  </thead>\n",
       "  <tbody>\n",
       "    <tr>\n",
       "      <th>count</th>\n",
       "      <td>21525.000000</td>\n",
       "      <td>19351.000000</td>\n",
       "      <td>21525.000000</td>\n",
       "      <td>21525.000000</td>\n",
       "      <td>21525.000000</td>\n",
       "      <td>21525.000000</td>\n",
       "      <td>1.935100e+04</td>\n",
       "    </tr>\n",
       "    <tr>\n",
       "      <th>mean</th>\n",
       "      <td>0.538908</td>\n",
       "      <td>63046.497661</td>\n",
       "      <td>43.293380</td>\n",
       "      <td>0.817236</td>\n",
       "      <td>0.972544</td>\n",
       "      <td>0.080883</td>\n",
       "      <td>1.674223e+05</td>\n",
       "    </tr>\n",
       "    <tr>\n",
       "      <th>std</th>\n",
       "      <td>1.381587</td>\n",
       "      <td>140827.311974</td>\n",
       "      <td>12.574584</td>\n",
       "      <td>0.548138</td>\n",
       "      <td>1.420324</td>\n",
       "      <td>0.272661</td>\n",
       "      <td>1.029716e+05</td>\n",
       "    </tr>\n",
       "    <tr>\n",
       "      <th>min</th>\n",
       "      <td>-1.000000</td>\n",
       "      <td>-18388.949901</td>\n",
       "      <td>0.000000</td>\n",
       "      <td>0.000000</td>\n",
       "      <td>0.000000</td>\n",
       "      <td>0.000000</td>\n",
       "      <td>2.066726e+04</td>\n",
       "    </tr>\n",
       "    <tr>\n",
       "      <th>25%</th>\n",
       "      <td>0.000000</td>\n",
       "      <td>-2747.423625</td>\n",
       "      <td>33.000000</td>\n",
       "      <td>1.000000</td>\n",
       "      <td>0.000000</td>\n",
       "      <td>0.000000</td>\n",
       "      <td>1.030532e+05</td>\n",
       "    </tr>\n",
       "    <tr>\n",
       "      <th>50%</th>\n",
       "      <td>0.000000</td>\n",
       "      <td>-1203.369529</td>\n",
       "      <td>42.000000</td>\n",
       "      <td>1.000000</td>\n",
       "      <td>0.000000</td>\n",
       "      <td>0.000000</td>\n",
       "      <td>1.450179e+05</td>\n",
       "    </tr>\n",
       "    <tr>\n",
       "      <th>75%</th>\n",
       "      <td>1.000000</td>\n",
       "      <td>-291.095954</td>\n",
       "      <td>53.000000</td>\n",
       "      <td>1.000000</td>\n",
       "      <td>1.000000</td>\n",
       "      <td>0.000000</td>\n",
       "      <td>2.034351e+05</td>\n",
       "    </tr>\n",
       "    <tr>\n",
       "      <th>max</th>\n",
       "      <td>20.000000</td>\n",
       "      <td>401755.400475</td>\n",
       "      <td>75.000000</td>\n",
       "      <td>4.000000</td>\n",
       "      <td>4.000000</td>\n",
       "      <td>1.000000</td>\n",
       "      <td>2.265604e+06</td>\n",
       "    </tr>\n",
       "  </tbody>\n",
       "</table>\n",
       "</div>"
      ],
      "text/plain": [
       "           children  days_employed     dob_years  education_id  \\\n",
       "count  21525.000000   19351.000000  21525.000000  21525.000000   \n",
       "mean       0.538908   63046.497661     43.293380      0.817236   \n",
       "std        1.381587  140827.311974     12.574584      0.548138   \n",
       "min       -1.000000  -18388.949901      0.000000      0.000000   \n",
       "25%        0.000000   -2747.423625     33.000000      1.000000   \n",
       "50%        0.000000   -1203.369529     42.000000      1.000000   \n",
       "75%        1.000000    -291.095954     53.000000      1.000000   \n",
       "max       20.000000  401755.400475     75.000000      4.000000   \n",
       "\n",
       "       family_status_id          debt  total_income  \n",
       "count      21525.000000  21525.000000  1.935100e+04  \n",
       "mean           0.972544      0.080883  1.674223e+05  \n",
       "std            1.420324      0.272661  1.029716e+05  \n",
       "min            0.000000      0.000000  2.066726e+04  \n",
       "25%            0.000000      0.000000  1.030532e+05  \n",
       "50%            0.000000      0.000000  1.450179e+05  \n",
       "75%            1.000000      0.000000  2.034351e+05  \n",
       "max            4.000000      1.000000  2.265604e+06  "
      ]
     },
     "metadata": {},
     "output_type": "display_data"
    },
    {
     "name": "stdout",
     "output_type": "stream",
     "text": [
      "education\n",
      "['высшее' 'среднее' 'Среднее' 'СРЕДНЕЕ' 'ВЫСШЕЕ' 'неоконченное высшее'\n",
      " 'начальное' 'Высшее' 'НЕОКОНЧЕННОЕ ВЫСШЕЕ' 'Неоконченное высшее'\n",
      " 'НАЧАЛЬНОЕ' 'Начальное' 'Ученая степень' 'УЧЕНАЯ СТЕПЕНЬ'\n",
      " 'ученая степень']\n",
      "\n",
      "family_status\n",
      "['женат / замужем' 'гражданский брак' 'вдовец / вдова' 'в разводе'\n",
      " 'Не женат / не замужем']\n",
      "\n",
      "gender\n",
      "['F' 'M' 'XNA']\n",
      "\n",
      "income_type\n",
      "['сотрудник' 'пенсионер' 'компаньон' 'госслужащий' 'безработный'\n",
      " 'предприниматель' 'студент' 'в декрете']\n",
      "\n",
      "purpose\n",
      "['покупка жилья' 'приобретение автомобиля' 'дополнительное образование'\n",
      " 'сыграть свадьбу' 'операции с жильем' 'образование'\n",
      " 'на проведение свадьбы' 'покупка жилья для семьи' 'покупка недвижимости'\n",
      " 'покупка коммерческой недвижимости' 'покупка жилой недвижимости'\n",
      " 'строительство собственной недвижимости' 'недвижимость'\n",
      " 'строительство недвижимости' 'на покупку подержанного автомобиля'\n",
      " 'на покупку своего автомобиля' 'операции с коммерческой недвижимостью'\n",
      " 'строительство жилой недвижимости' 'жилье'\n",
      " 'операции со своей недвижимостью' 'автомобили' 'заняться образованием'\n",
      " 'сделка с подержанным автомобилем' 'получение образования' 'автомобиль'\n",
      " 'свадьба' 'получение дополнительного образования' 'покупка своего жилья'\n",
      " 'операции с недвижимостью' 'получение высшего образования'\n",
      " 'свой автомобиль' 'сделка с автомобилем' 'профильное образование'\n",
      " 'высшее образование' 'покупка жилья для сдачи' 'на покупку автомобиля'\n",
      " 'ремонт жилью' 'заняться высшим образованием']\n",
      "\n"
     ]
    }
   ],
   "source": [
    "#Рассмотрим столбцы с категориальными данными\n",
    "display(df.describe())\n",
    "\n",
    "for col in df.columns:\n",
    "    \n",
    "    if df[col].dtype == \"object\":\n",
    "    \n",
    "        print(col)\n",
    "        print(df[col].unique())\n",
    "        print()"
   ]
  },
  {
   "cell_type": "markdown",
   "metadata": {},
   "source": [
    "###### Вывод\n",
    "В категориальных данных видны некоторые аномилии:\n",
    "1. В столбце 'gender' присутствует значение 'XNA', чего быть не может;\n",
    "2. В столбце 'education' присутствует несколько переменных, которые обозначают одно и то же. Например, есть несколько вариаций написания слова 'среднее'.\n",
    "3. В столбце 'purpose' присутствует достаточно много уникальных значений, однако, при более внимательном изучении их все можно выделить в основные категории, например, 'жилье' или 'автомобиль'\n"
   ]
  },
  {
   "cell_type": "markdown",
   "metadata": {},
   "source": [
    "### Обработка пропусков"
   ]
  },
  {
   "cell_type": "markdown",
   "metadata": {},
   "source": [
    "Определяем столбцы с пропусками"
   ]
  },
  {
   "cell_type": "code",
   "execution_count": 4,
   "metadata": {},
   "outputs": [
    {
     "data": {
      "text/plain": [
       "children               0\n",
       "days_employed       2174\n",
       "dob_years              0\n",
       "education              0\n",
       "education_id           0\n",
       "family_status          0\n",
       "family_status_id       0\n",
       "gender                 0\n",
       "income_type            0\n",
       "debt                   0\n",
       "total_income        2174\n",
       "purpose                0\n",
       "dtype: int64"
      ]
     },
     "execution_count": 4,
     "metadata": {},
     "output_type": "execute_result"
    }
   ],
   "source": [
    "df.isna().sum()"
   ]
  },
  {
   "cell_type": "code",
   "execution_count": 5,
   "metadata": {
    "scrolled": false
   },
   "outputs": [
    {
     "name": "stdout",
     "output_type": "stream",
     "text": [
      "доля пропущенных значений от общего количества значений: 0.10099883855981417\n",
      "<class 'pandas.core.frame.DataFrame'>\n",
      "RangeIndex: 21525 entries, 0 to 21524\n",
      "Data columns (total 12 columns):\n",
      " #   Column            Non-Null Count  Dtype  \n",
      "---  ------            --------------  -----  \n",
      " 0   children          21525 non-null  int64  \n",
      " 1   days_employed     21525 non-null  float64\n",
      " 2   dob_years         21525 non-null  int64  \n",
      " 3   education         21525 non-null  object \n",
      " 4   education_id      21525 non-null  int64  \n",
      " 5   family_status     21525 non-null  object \n",
      " 6   family_status_id  21525 non-null  int64  \n",
      " 7   gender            21525 non-null  object \n",
      " 8   income_type       21525 non-null  object \n",
      " 9   debt              21525 non-null  int64  \n",
      " 10  total_income      21525 non-null  float64\n",
      " 11  purpose           21525 non-null  object \n",
      "dtypes: float64(2), int64(5), object(5)\n",
      "memory usage: 2.0+ MB\n"
     ]
    }
   ],
   "source": [
    "columns_with_na = df[['days_employed', 'total_income']] #столбцы, в которых присутствуют пропуски\n",
    "columns_with_na_drop_null = columns_with_na[columns_with_na[['days_employed', 'total_income']] != 0] #оставляем только ненулевые значения\n",
    "columns_with_na_drop_null['days_employed'] = columns_with_na_drop_null['days_employed'].abs() #убераем отрицательные значения количества проработанных дней\n",
    "columns_with_na_drop_null = round(columns_with_na_drop_null)\n",
    "\n",
    "#доля пропущенных значений от общего количества значений составляет 10%\n",
    "isnull_share = len(df[df['days_employed'].isna()])/len(df)\n",
    "print('доля пропущенных значений от общего количества значений:', isnull_share)\n",
    "\n",
    "#заменяем пропуски на нули, чтобы в дальнейшем подставить ни их место медиану\n",
    "df[['days_employed', 'total_income']] = df[['days_employed', 'total_income']].fillna(0)\n",
    "df.info() #пропуски отсутствуют, везде одинаковое количество строк"
   ]
  },
  {
   "cell_type": "code",
   "execution_count": 6,
   "metadata": {},
   "outputs": [
    {
     "data": {
      "text/plain": [
       " 0     14149\n",
       " 1      4818\n",
       " 2      2055\n",
       " 3       330\n",
       " 20       76\n",
       "-1        47\n",
       " 4        41\n",
       " 5         9\n",
       "Name: children, dtype: int64"
      ]
     },
     "execution_count": 6,
     "metadata": {},
     "output_type": "execute_result"
    }
   ],
   "source": [
    "df['children'].value_counts() #замечено аномальное значение в количестве детей (-1)"
   ]
  },
  {
   "cell_type": "markdown",
   "metadata": {},
   "source": [
    "### Описательные статистики"
   ]
  },
  {
   "cell_type": "markdown",
   "metadata": {},
   "source": [
    "#### Максимальные / минимальные значения"
   ]
  },
  {
   "cell_type": "code",
   "execution_count": 7,
   "metadata": {},
   "outputs": [
    {
     "name": "stdout",
     "output_type": "stream",
     "text": [
      "Максимальное значение общего трудового стажа: 401755.0\n",
      "Максимальное значение ежемесячного дохода: 2265604.0\n",
      "\n",
      "Минимальное значение общего трудового стажа: 24.0\n",
      "Минимальное значение ежемесячного дохода: 24.0\n"
     ]
    }
   ],
   "source": [
    "df['children'] = df['children'].abs() #убираем отрицательные значения\n",
    "\n",
    "max_value_days_employed = columns_with_na_drop_null['days_employed'].max()\n",
    "print('Максимальное значение общего трудового стажа:', max_value_days_employed)\n",
    "\n",
    "max_value_total_income = columns_with_na_drop_null['total_income'].max()\n",
    "print('Максимальное значение ежемесячного дохода:', max_value_total_income)\n",
    "print('')\n",
    "\n",
    "min_value_days_employed = columns_with_na_drop_null['days_employed'].min()\n",
    "print(f'Минимальное значение общего трудового стажа:', min_value_days_employed)\n",
    "\n",
    "min_value_total_income = columns_with_na_drop_null['total_income'].min()\n",
    "print('Минимальное значение ежемесячного дохода:', min_value_days_employed)"
   ]
  },
  {
   "cell_type": "markdown",
   "metadata": {},
   "source": [
    "**Можем заметить, что:**\n",
    "1. Огромная разница в максимальных и минимальных значениях\n",
    "2. Максимальное значение общего трудового стажа принимает неестественно большие значения (401755 дней - 1100 лет, столько люди не живут:))"
   ]
  },
  {
   "cell_type": "markdown",
   "metadata": {},
   "source": [
    "#### Медиана, среднее"
   ]
  },
  {
   "cell_type": "code",
   "execution_count": 8,
   "metadata": {},
   "outputs": [],
   "source": [
    "#Замена нулевых значений в столбце total_income\n",
    "med_salary = df.groupby('income_type')['total_income'].transform('median') #создаем переменные по медиане зарплаты для каждого типа занятости\n",
    "df.loc[df['total_income']==0, 'total_income']=med_salary #заменяем пропуски медианой по каждой группе"
   ]
  },
  {
   "cell_type": "code",
   "execution_count": 9,
   "metadata": {},
   "outputs": [
    {
     "data": {
      "image/png": "[encoded data removed]",
      "text/plain": [
       "<Figure size 432x288 with 1 Axes>"
      ]
     },
     "metadata": {
      "needs_background": "light"
     },
     "output_type": "display_data"
    },
    {
     "data": {
      "image/png": "[encoded data removed]",
      "text/plain": [
       "<Figure size 432x288 with 1 Axes>"
      ]
     },
     "metadata": {
      "needs_background": "light"
     },
     "output_type": "display_data"
    },
    {
     "data": {
      "image/png": "[encoded data removed]",
      "text/plain": [
       "<Figure size 432x288 with 1 Axes>"
      ]
     },
     "metadata": {
      "needs_background": "light"
     },
     "output_type": "display_data"
    }
   ],
   "source": [
    "#Замена нулевых значений в столбце days_employed\n",
    "df['days_employed'].hist(bins = 50)\n",
    "plt.title('Рисунок 1')\n",
    "plt.show()\n",
    "df['days_employed'].hist(bins = 50, range = (-20000, 5000))\n",
    "plt.title('Рисунок 2')\n",
    "plt.show()\n",
    "df['days_employed'].hist(bins = 50, range = (320000, 405000))\n",
    "plt.title('Рисунок 3')\n",
    "plt.show()"
   ]
  },
  {
   "cell_type": "markdown",
   "metadata": {},
   "source": [
    "**На основе данных гистограмм можно заметить, что данные по количеству проработанных дней разбросаны на 2 группы. Первая группа от -18388 до ~500, вторая группа от 315000 до 405000 часов. Вторая группа имеет аномально большое количество часов. Можно предположить, что:**\n",
    "1. Первая группы имеет отрицательные значения из за ошибки выгрузки и на самом деле это настоящие данные, но только со знаком минус.\n",
    "2. Вторая группа имеет столь высокие значения из за того, что указывали трудовой стаж не в днях, а в часах."
   ]
  },
  {
   "cell_type": "code",
   "execution_count": 10,
   "metadata": {},
   "outputs": [],
   "source": [
    "df['days_employed'] = df['days_employed'].apply(lambda x: x/24 if x>320000  else abs(x)) #все дни, где значение столбца больше \n",
    "#320000 происходит деление на 24"
   ]
  },
  {
   "cell_type": "code",
   "execution_count": 11,
   "metadata": {},
   "outputs": [
    {
     "data": {
      "image/png": "[encoded data removed]",
      "text/plain": [
       "<Figure size 432x288 with 1 Axes>"
      ]
     },
     "metadata": {
      "needs_background": "light"
     },
     "output_type": "display_data"
    }
   ],
   "source": [
    "df['days_employed'].hist(bins = 50)\n",
    "plt.show()"
   ]
  },
  {
   "cell_type": "markdown",
   "metadata": {},
   "source": [
    "После обработки аномальных значений график стал выглядеть более правдоподобно. Единственная аномалия, которая осталось - это большое количество значений в диапазоне от 13000 до 17000."
   ]
  },
  {
   "cell_type": "markdown",
   "metadata": {},
   "source": [
    "**Вывод**"
   ]
  },
  {
   "cell_type": "markdown",
   "metadata": {},
   "source": [
    "Были заменены отсутствующие значения в столбцах total_income и days_employed на нули, а затем на средние значения для каждого типа занятости. Вариант удаления строк с пропусками, поскольку подобные стоки составляют 10% от общего количества зачений. Потеря подобного количества строк могла существенно отразиться на конечных результатах."
   ]
  },
  {
   "cell_type": "markdown",
   "metadata": {},
   "source": [
    "### Замена типа данных"
   ]
  },
  {
   "cell_type": "code",
   "execution_count": 12,
   "metadata": {
    "scrolled": true
   },
   "outputs": [
    {
     "name": "stdout",
     "output_type": "stream",
     "text": [
      "<class 'pandas.core.frame.DataFrame'>\n",
      "RangeIndex: 21525 entries, 0 to 21524\n",
      "Data columns (total 12 columns):\n",
      " #   Column            Non-Null Count  Dtype \n",
      "---  ------            --------------  ----- \n",
      " 0   children          21525 non-null  int64 \n",
      " 1   days_employed     21525 non-null  int32 \n",
      " 2   dob_years         21525 non-null  int64 \n",
      " 3   education         21525 non-null  object\n",
      " 4   education_id      21525 non-null  int64 \n",
      " 5   family_status     21525 non-null  object\n",
      " 6   family_status_id  21525 non-null  int64 \n",
      " 7   gender            21525 non-null  object\n",
      " 8   income_type       21525 non-null  object\n",
      " 9   debt              21525 non-null  int64 \n",
      " 10  total_income      21525 non-null  int32 \n",
      " 11  purpose           21525 non-null  object\n",
      "dtypes: int32(2), int64(5), object(5)\n",
      "memory usage: 1.8+ MB\n"
     ]
    }
   ],
   "source": [
    "df['days_employed'] = df['days_employed'].astype('int')\n",
    "df['total_income'] = df['total_income'].astype('int')\n",
    "df.info()"
   ]
  },
  {
   "cell_type": "markdown",
   "metadata": {},
   "source": [
    "### Обработка дубликатов"
   ]
  },
  {
   "cell_type": "code",
   "execution_count": 13,
   "metadata": {},
   "outputs": [
    {
     "data": {
      "text/plain": [
       "среднее                13750\n",
       "высшее                  4718\n",
       "СРЕДНЕЕ                  772\n",
       "Среднее                  711\n",
       "неоконченное высшее      668\n",
       "ВЫСШЕЕ                   274\n",
       "Высшее                   268\n",
       "начальное                250\n",
       "Неоконченное высшее       47\n",
       "НЕОКОНЧЕННОЕ ВЫСШЕЕ       29\n",
       "НАЧАЛЬНОЕ                 17\n",
       "Начальное                 15\n",
       "ученая степень             4\n",
       "Ученая степень             1\n",
       "УЧЕНАЯ СТЕПЕНЬ             1\n",
       "Name: education, dtype: int64"
      ]
     },
     "execution_count": 13,
     "metadata": {},
     "output_type": "execute_result"
    }
   ],
   "source": [
    "df['education'].value_counts()"
   ]
  },
  {
   "cell_type": "code",
   "execution_count": 14,
   "metadata": {},
   "outputs": [
    {
     "name": "stdout",
     "output_type": "stream",
     "text": [
      "['f' 'm' 'xna']\n",
      "\n"
     ]
    },
    {
     "data": {
      "text/html": [
       "<div>\n",
       "<style scoped>\n",
       "    .dataframe tbody tr th:only-of-type {\n",
       "        vertical-align: middle;\n",
       "    }\n",
       "\n",
       "    .dataframe tbody tr th {\n",
       "        vertical-align: top;\n",
       "    }\n",
       "\n",
       "    .dataframe thead th {\n",
       "        text-align: right;\n",
       "    }\n",
       "</style>\n",
       "<table border=\"1\" class=\"dataframe\">\n",
       "  <thead>\n",
       "    <tr style=\"text-align: right;\">\n",
       "      <th></th>\n",
       "      <th>children</th>\n",
       "      <th>days_employed</th>\n",
       "      <th>dob_years</th>\n",
       "      <th>education</th>\n",
       "      <th>education_id</th>\n",
       "      <th>family_status</th>\n",
       "      <th>family_status_id</th>\n",
       "      <th>gender</th>\n",
       "      <th>income_type</th>\n",
       "      <th>debt</th>\n",
       "      <th>total_income</th>\n",
       "      <th>purpose</th>\n",
       "    </tr>\n",
       "  </thead>\n",
       "  <tbody>\n",
       "    <tr>\n",
       "      <th>10701</th>\n",
       "      <td>0</td>\n",
       "      <td>2358</td>\n",
       "      <td>24</td>\n",
       "      <td>неоконченное высшее</td>\n",
       "      <td>2</td>\n",
       "      <td>гражданский брак</td>\n",
       "      <td>1</td>\n",
       "      <td>xna</td>\n",
       "      <td>компаньон</td>\n",
       "      <td>0</td>\n",
       "      <td>203905</td>\n",
       "      <td>покупка недвижимости</td>\n",
       "    </tr>\n",
       "  </tbody>\n",
       "</table>\n",
       "</div>"
      ],
      "text/plain": [
       "       children  days_employed  dob_years            education  education_id  \\\n",
       "10701         0           2358         24  неоконченное высшее             2   \n",
       "\n",
       "          family_status  family_status_id gender income_type  debt  \\\n",
       "10701  гражданский брак                 1    xna   компаньон     0   \n",
       "\n",
       "       total_income               purpose  \n",
       "10701        203905  покупка недвижимости  "
      ]
     },
     "metadata": {},
     "output_type": "display_data"
    },
    {
     "name": "stdout",
     "output_type": "stream",
     "text": [
      "\n",
      "['f' 'm']\n"
     ]
    }
   ],
   "source": [
    "#Перед поиском дубликатов подводим все стобцы с текстовыми значениями к одному формату, затем ищем дубликаты и избавляемся от них\n",
    "for col in df.columns:\n",
    "    if df[col].dtype == 'object':\n",
    "        df[col] = df[col].str.lower()\n",
    "    \n",
    "\n",
    "print(df['gender'].unique()) #обнуружено значение 'xna'\n",
    "print('')\n",
    "\n",
    "display(df.loc[df['gender']=='xna'])\n",
    "print('')\n",
    "\n",
    "df = df.drop(df[df['gender']=='xna'].index) #избавляемся от строки с xna\n",
    "print(df['gender'].unique()) #проверка уникальных значений"
   ]
  },
  {
   "cell_type": "code",
   "execution_count": 15,
   "metadata": {},
   "outputs": [
    {
     "name": "stdout",
     "output_type": "stream",
     "text": [
      "Обнаружено дубликатов: 71\n",
      "\n",
      "Осталось дубликатов: 0\n"
     ]
    }
   ],
   "source": [
    "print('Обнаружено дубликатов:', df.duplicated().sum()) #обнаружен 71 дубликат\n",
    "print('')\n",
    "df = df.drop_duplicates().reset_index(drop=True) #избавляемся от дубликатов\n",
    "print('Осталось дубликатов:', df.duplicated().sum())"
   ]
  },
  {
   "cell_type": "markdown",
   "metadata": {},
   "source": [
    "**Вывод**"
   ]
  },
  {
   "cell_type": "markdown",
   "metadata": {},
   "source": [
    "Было обнаружено аномальное значение (XNA) в столбце gender и убрано. Для нахождения наибольшего колечества дубликатов строки были стандартизированы и убраны разные размеры шрифтов, после осуществлялся поиск дубликатов с последующим удалением."
   ]
  },
  {
   "cell_type": "markdown",
   "metadata": {},
   "source": [
    "### Лемматизация"
   ]
  },
  {
   "cell_type": "markdown",
   "metadata": {},
   "source": [
    "Для того, чтобы уменьшить количество уникальных причин для взятия кредита необходимо провести лемматизацию."
   ]
  },
  {
   "cell_type": "code",
   "execution_count": 16,
   "metadata": {},
   "outputs": [
    {
     "name": "stdout",
     "output_type": "stream",
     "text": [
      "свадьба                                   791\n",
      "на проведение свадьбы                     768\n",
      "сыграть свадьбу                           765\n",
      "операции с недвижимостью                  675\n",
      "покупка коммерческой недвижимости         661\n",
      "операции с жильем                         652\n",
      "покупка жилья для сдачи                   651\n",
      "операции с коммерческой недвижимостью     650\n",
      "жилье                                     646\n",
      "покупка жилья                             646\n",
      "покупка жилья для семьи                   638\n",
      "строительство собственной недвижимости    635\n",
      "недвижимость                              633\n",
      "операции со своей недвижимостью           627\n",
      "строительство жилой недвижимости          624\n",
      "покупка недвижимости                      620\n",
      "покупка своего жилья                      620\n",
      "строительство недвижимости                619\n",
      "ремонт жилью                              607\n",
      "покупка жилой недвижимости                606\n",
      "на покупку своего автомобиля              505\n",
      "заняться высшим образованием              496\n",
      "автомобиль                                494\n",
      "сделка с подержанным автомобилем          486\n",
      "свой автомобиль                           478\n",
      "автомобили                                478\n",
      "на покупку подержанного автомобиля        478\n",
      "на покупку автомобиля                     471\n",
      "приобретение автомобиля                   461\n",
      "дополнительное образование                460\n",
      "сделка с автомобилем                      455\n",
      "высшее образование                        452\n",
      "образование                               447\n",
      "получение дополнительного образования     446\n",
      "получение образования                     442\n",
      "профильное образование                    436\n",
      "получение высшего образования             426\n",
      "заняться образованием                     408\n",
      "Name: purpose, dtype: int64\n"
     ]
    }
   ],
   "source": [
    "list_of_purposes = df['purpose'].value_counts() #находим все цели получения кредита\n",
    "print(df['purpose'].value_counts()) #поскольку причин немного, то проще выделить основные цели зрительно"
   ]
  },
  {
   "cell_type": "code",
   "execution_count": 17,
   "metadata": {},
   "outputs": [],
   "source": [
    "#Функция для лемматизации столбца purpose\n",
    "morph = MorphAnalyzer()\n",
    "\n",
    "def create_category_purpose(row):\n",
    "    purpose = row['purpose']\n",
    "    tokens = nltk.word_tokenize(purpose)\n",
    "    lemms_list_of_lists = [morph.normal_forms(x) for x in tokens]\n",
    "    lemms_final = list(map(lambda x: x[0], lemms_list_of_lists))\n",
    "    if 'автомобиль' in lemms_final:\n",
    "        return 'автомобиль'\n",
    "    if 'образование' in lemms_final:\n",
    "        return 'образование'\n",
    "    if 'недвижимость' in lemms_final or 'жильё' in lemms_final:\n",
    "        return 'недвижимость'\n",
    "    if 'свадьба' in lemms_final:\n",
    "        return 'свадьба'"
   ]
  },
  {
   "cell_type": "code",
   "execution_count": 18,
   "metadata": {},
   "outputs": [
    {
     "name": "stdout",
     "output_type": "stream",
     "text": [
      "недвижимость    10810\n",
      "автомобиль       4306\n",
      "образование      4013\n",
      "свадьба          2324\n",
      "Name: lemmed_purpose, dtype: int64\n"
     ]
    }
   ],
   "source": [
    "df['lemmed_purpose'] = df.apply(create_category_purpose, axis=1) #создание столбца с основными целями получения кредита \n",
    "print(df['lemmed_purpose'].value_counts()) #данный вывод нужен для: \n",
    "# 1) Проверки того, что отсутствуют пропуски и какие то другие значени\n",
    "# 2) Из этого можно сделать вывод о том, на какие нужды люди берут кредиты чаще всего (с большим отрывом лидирует недвижимость)"
   ]
  },
  {
   "cell_type": "markdown",
   "metadata": {},
   "source": [
    "**Вывод**"
   ]
  },
  {
   "cell_type": "markdown",
   "metadata": {},
   "source": [
    "Для осуществления лемматизации были сначала найдены и выделены наиболее часто встречающиеся категории целей для получения кредита, далее были образованы леммы и создана функция для лемматзации всего списка. Из получившегося результата можно заметить, что \"недвижимость\" является наиболее частой причиной для взятия кредита, а свадьба ,наоборот, является наиболее редкой причиной для кредита."
   ]
  },
  {
   "cell_type": "markdown",
   "metadata": {},
   "source": [
    "### Категоризация данных"
   ]
  },
  {
   "cell_type": "code",
   "execution_count": 19,
   "metadata": {},
   "outputs": [
    {
     "name": "stdout",
     "output_type": "stream",
     "text": [
      "низкий заработок     5364\n",
      "средний заработок    5363\n",
      "выше среднего        5363\n",
      "высокий заработок    5363\n",
      "Name: total_income_category, dtype: int64\n"
     ]
    }
   ],
   "source": [
    "df['total_income'] = df['total_income'].astype('int')\n",
    "\n",
    "df['total_income_category'] = pd.qcut(df['total_income'], 4, labels=[\"низкий заработок\", \"средний заработок\", \"выше среднего\", \"высокий заработок\"])\n",
    "print(df['total_income_category'].value_counts())"
   ]
  },
  {
   "cell_type": "code",
   "execution_count": 20,
   "metadata": {
    "scrolled": true
   },
   "outputs": [
    {
     "name": "stdout",
     "output_type": "stream",
     "text": [
      "8.1% всех клиентов банка имеют задоженность\n"
     ]
    }
   ],
   "source": [
    "debt_data = df.loc[df['debt']==1] #создаем список клиентов с заделженностью\n",
    "\n",
    "debt_share = len(debt_data)/len(df['debt'])\n",
    "print('{:.1%} всех клиентов банка имеют задоженность'.format(debt_share))"
   ]
  },
  {
   "cell_type": "code",
   "execution_count": 21,
   "metadata": {},
   "outputs": [
    {
     "name": "stdout",
     "output_type": "stream",
     "text": [
      "Доля клиентов с задолженностью из категории низкий заработок составляет 8.0%\n",
      "Доля клиентов с задолженностью из категории средний заработок составляет 8.6%\n",
      "Доля клиентов с задолженностью из категории заработок выше среднего составляет 8.8%\n",
      "Доля клиентов с задолженностью из категории высокий заработок составляет 7.1%\n"
     ]
    }
   ],
   "source": [
    "low_earnings = df.loc[df['total_income_category']=='низкий заработок']\n",
    "low_earnings_debt = low_earnings.loc[low_earnings['debt']==1]\n",
    "low_earnings_debt_share = len(low_earnings_debt)/len(low_earnings)\n",
    "print('Доля клиентов с задолженностью из категории низкий заработок составляет {:.1%}'.format(low_earnings_debt_share))\n",
    "\n",
    "middle_earnings = df.loc[df['total_income_category']=='средний заработок']\n",
    "middle_earnings_debt = middle_earnings.loc[middle_earnings['debt']==1]\n",
    "middle_earnings_debt_share = len(middle_earnings_debt)/len(middle_earnings)\n",
    "print('Доля клиентов с задолженностью из категории средний заработок составляет {:.1%}'.format(middle_earnings_debt_share))\n",
    "\n",
    "more_than_avarage = df.loc[df['total_income_category']=='выше среднего']\n",
    "more_than_avarage_debt = more_than_avarage.loc[more_than_avarage['debt']==1]\n",
    "more_than_avarage_debt_share = len(more_than_avarage_debt)/len(more_than_avarage)\n",
    "print('Доля клиентов с задолженностью из категории заработок выше среднего составляет {:.1%}'.format(more_than_avarage_debt_share))\n",
    "\n",
    "high_earnings = df.loc[df['total_income_category']=='высокий заработок']\n",
    "high_earnings_debt = high_earnings.loc[high_earnings['debt']==1]\n",
    "high_earnings_debt_share = len(high_earnings_debt)/len(high_earnings)\n",
    "print('Доля клиентов с задолженностью из категории высокий заработок составляет {:.1%}'.format(high_earnings_debt_share))"
   ]
  },
  {
   "cell_type": "markdown",
   "metadata": {},
   "source": [
    "**Вывод**"
   ]
  },
  {
   "cell_type": "markdown",
   "metadata": {},
   "source": [
    "Категоризация осуществлялась по стобцу total_income. Были выделены такие категории, как: 'низкий заработок', 'средний заработок', 'выше среднего', 'высокий заработок'. После было подсчитано количество клиентов и долю задолженности в каждой категории и сделан вывод о том, что доход оказывает влияние на возврат кредита в срок, поскольку доля задолженности меняется в зависимости от группы. Можно сделать интересный вывод: процент задолженности растет с увеличением заработка, однако для тех, у кого высокий заработок процент невозврата наименьший и составляет 7.1%, в то время, как для категории клиентов с заработком выше среднего процент задолженности наибольший и составляет 8.8%."
   ]
  },
  {
   "cell_type": "markdown",
   "metadata": {},
   "source": [
    "## Ответы на вопросы"
   ]
  },
  {
   "cell_type": "markdown",
   "metadata": {},
   "source": [
    "**- Есть ли зависимость между наличием детей и возвратом кредита в срок?**"
   ]
  },
  {
   "cell_type": "code",
   "execution_count": 22,
   "metadata": {},
   "outputs": [
    {
     "name": "stdout",
     "output_type": "stream",
     "text": [
      "0     14090\n",
      "1      4855\n",
      "2      2052\n",
      "3       330\n",
      "20       76\n",
      "4        41\n",
      "5         9\n",
      "Name: children, dtype: int64\n",
      "\n",
      "0    14090\n",
      "1     4855\n",
      "2     2052\n",
      "3      330\n",
      "4       41\n",
      "5        9\n",
      "Name: children, dtype: int64\n"
     ]
    }
   ],
   "source": [
    "print(df['children'].value_counts()) #Полагаю, что 20 детей можно считать выбросом и удалить\n",
    "df=df.drop(df.loc[df['children']==20].index)\n",
    "print('')\n",
    "print(df['children'].value_counts())"
   ]
  },
  {
   "cell_type": "markdown",
   "metadata": {},
   "source": [
    "**Так как некоторые группы, например семьи с 4-5 детьми слишком маленькие по кол-ву и делать по ним суждения нельзя, то нужно провести категоризацию: без детей \\ малодетная (1-2) \\ многодетная (от 3х).**"
   ]
  },
  {
   "cell_type": "code",
   "execution_count": 23,
   "metadata": {},
   "outputs": [
    {
     "data": {
      "text/plain": [
       "family_type\n",
       "без детей      7.5\n",
       "малодетная     9.3\n",
       "многодетная    8.2\n",
       "Name: debt, dtype: float64"
      ]
     },
     "execution_count": 23,
     "metadata": {},
     "output_type": "execute_result"
    }
   ],
   "source": [
    "#Функция для категоризации семей\n",
    "\n",
    "def children_f(children):\n",
    "    if children==0:\n",
    "        return 'без детей'\n",
    "    if children == 1 or children == 2:\n",
    "        return 'малодетная'\n",
    "    else:\n",
    "        return 'многодетная'\n",
    "\n",
    "df['family_type'] = df['children'].apply(children_f)\n",
    "children_pivot = df.pivot_table(index='family_type', values='debt')\n",
    "round(children_pivot['debt'] * 100, 1)"
   ]
  },
  {
   "cell_type": "markdown",
   "metadata": {},
   "source": [
    "**Вывод**"
   ]
  },
  {
   "cell_type": "markdown",
   "metadata": {},
   "source": [
    "Зависимость между наличием детей и возвратом кредита в срок присутствует, поскольку доля должников в каждой из групп меняется. Так, меньше всего проблем с погашением кредита в срок имеют клиенты без детей, доля должников среди них составляет 7.5%. Больше всего сложностей с погашением кредита в срок имеют клиенты, у которых имеется 1 или 2 ребенка, доля должников среди них составляет 9.3%."
   ]
  },
  {
   "cell_type": "markdown",
   "metadata": {},
   "source": [
    "**- Есть ли зависимость между семейным положением и возвратом кредита в срок?**"
   ]
  },
  {
   "cell_type": "code",
   "execution_count": 24,
   "metadata": {},
   "outputs": [
    {
     "name": "stdout",
     "output_type": "stream",
     "text": [
      "family_status\n",
      "в разводе                 1193\n",
      "вдовец / вдова             955\n",
      "гражданский брак          4138\n",
      "женат / замужем          12290\n",
      "не женат / не замужем     2801\n",
      "Name: debt, dtype: int64\n",
      "\n",
      "Количество человек в каждой категории\n",
      "\n",
      "family_status\n",
      "в разводе                 84\n",
      "вдовец / вдова            63\n",
      "гражданский брак         385\n",
      "женат / замужем          928\n",
      "не женат / не замужем    273\n",
      "Name: debt, dtype: int64\n",
      "\n",
      "Количество невозвратов в каждой категории\n"
     ]
    },
    {
     "data": {
      "text/plain": [
       "family_status\n",
       "в разводе                7.0\n",
       "вдовец / вдова           6.6\n",
       "гражданский брак         9.3\n",
       "женат / замужем          7.6\n",
       "не женат / не замужем    9.7\n",
       "Name: debt, dtype: float64"
      ]
     },
     "metadata": {},
     "output_type": "display_data"
    },
    {
     "name": "stdout",
     "output_type": "stream",
     "text": [
      "Количество невозвратов в % по каждой категории\n"
     ]
    }
   ],
   "source": [
    "print(df.groupby('family_status')['debt'].count())\n",
    "print('')\n",
    "print('Количество человек в каждой категории')\n",
    "print('')\n",
    "\n",
    "print(df.groupby('family_status')['debt'].sum())\n",
    "print('')\n",
    "print('Количество невозвратов в каждой категории')\n",
    "\n",
    "display(round(df.pivot_table(index = ['family_status'],values=['debt'])['debt'] * 100, 1))\n",
    "print('Количество невозвратов в % по каждой категории')"
   ]
  },
  {
   "cell_type": "markdown",
   "metadata": {},
   "source": [
    "**Вывод**"
   ]
  },
  {
   "cell_type": "markdown",
   "metadata": {},
   "source": [
    "Зависимость между семейным положением и возвратом кредита в срок существует. Наиболее надежными заемщиками являются клиенты из категории вдовец/вдова с долей задолженности в 6.6%, а наименее надежными заемщиками являются клиенты из категории не женат / не замужем с долей задолженности в 9.7%."
   ]
  },
  {
   "cell_type": "markdown",
   "metadata": {},
   "source": [
    "**- Есть ли зависимость между уровнем дохода и возвратом кредита в срок?**"
   ]
  },
  {
   "cell_type": "code",
   "execution_count": 25,
   "metadata": {},
   "outputs": [
    {
     "data": {
      "text/plain": [
       "total_income_category\n",
       "низкий заработок     8.0\n",
       "средний заработок    8.6\n",
       "выше среднего        8.7\n",
       "высокий заработок    7.1\n",
       "Name: debt, dtype: float64"
      ]
     },
     "execution_count": 25,
     "metadata": {},
     "output_type": "execute_result"
    }
   ],
   "source": [
    "round(df.pivot_table(index = ['total_income_category'],values=['debt'])['debt'] * 100, 1)"
   ]
  },
  {
   "cell_type": "markdown",
   "metadata": {},
   "source": [
    "**Вывод**  \n",
    "\n",
    "Как можем заметить зависимость между уровнем дохода и возвратом кредита в срок присутствует, поскольку в каждой из групп процент задолженности разнится. Так, наименьший уровень задолженности,7.1%, у клиентов с высоким заработком, а наибольший, 8.7%, у клиентов с заработком выше среднего. Удивительно, но люди среднего дохода видимо хуже всех возвращают кредиты, даже хуже, чем люди с низким доходом. Возможно, люди низкого дохода более критически оценивают свои возможности, проходят куда более строгий скоринг, а людям с высоким доходом просто хватает стабильного заработка на погашение задолженностей. Средний класс вполне может слишком оптимистично относиться к своим финансовым возможностям."
   ]
  },
  {
   "cell_type": "markdown",
   "metadata": {},
   "source": [
    "**- Как разные цели кредита влияют на его возврат в срок?**"
   ]
  },
  {
   "cell_type": "code",
   "execution_count": 26,
   "metadata": {},
   "outputs": [
    {
     "data": {
      "text/plain": [
       "lemmed_purpose\n",
       "автомобиль      9.3\n",
       "недвижимость    7.2\n",
       "образование     9.2\n",
       "свадьба         7.9\n",
       "Name: debt, dtype: float64"
      ]
     },
     "execution_count": 26,
     "metadata": {},
     "output_type": "execute_result"
    }
   ],
   "source": [
    "round(df.pivot_table(index = ['lemmed_purpose'],values=['debt'])['debt'] * 100, 1)"
   ]
  },
  {
   "cell_type": "markdown",
   "metadata": {},
   "source": [
    "**Вывод**  \n",
    "\n",
    "Исходя из вывода кода, приходим к тому, что зависимость между целями кредита и возвратом кредита в срок присутствует. Так, наибольший процент задолженности приходится на людей, у которых целью получения кредита является машина (9.3%). Наименьший процент задолженности приходится на людей, у которых целью получения кредита является недвижимость (7.2%)."
   ]
  },
  {
   "cell_type": "markdown",
   "metadata": {},
   "source": [
    "## Шаг 4. Общий вывод"
   ]
  },
  {
   "cell_type": "markdown",
   "metadata": {},
   "source": [
    "Основной задачей проекта было исследование надежности заемщиков, а именно оценить влияние  семейного положения и количества детей клиента на факт погашения кредита в срок. На основе проведенного анализа можно сделать следующие выводы: \n",
    "1. Зависимость между наличием детей и возвратом кредита в срок присутствует. Меньше всего проблем у семей без детей, больше всего у малодетных семей (1 - 2 ребенка).\n",
    "2. Влияние семейного положения на погашение задолженности имеется. Наиболее надежными заемщиками являются клиенты из категории вдовец/вдова с долей задолженности в 6.5%, а наименьее надежными заемщиками являются клиенты из категории не женат / не замужем с долей задолженности в 9.7%.\n",
    "3. Зависимость между уровнем дохода и возвратом кредита в срок присутствует. Наименьший уровень задолженности,7.1%, у клиентов с высоким заработком, а наибольший, 8.9%, у клиентов с заработком выше среднего.\n",
    "4. Зависимость между целями кредита и возвратом кредита в срок присутствует. Так, наибольший процент задолженности приходится на людей, у которых целью получения кредита является машина (9.3%). Наименьший процент задолженности приходится на людей, у которых целью получения кредита является недвижимость (7.2%)."
   ]
  }
 ],
 "metadata": {
  "ExecuteTimeLog": [
   {
    "duration": 222,
    "start_time": "2021-09-29T18:00:19.801Z"
   },
   {
    "duration": 579,
    "start_time": "2021-09-29T18:00:28.728Z"
   },
   {
    "duration": 46,
    "start_time": "2021-09-29T18:00:29.309Z"
   },
   {
    "duration": 51,
    "start_time": "2021-09-29T18:00:29.357Z"
   },
   {
    "duration": 12,
    "start_time": "2021-09-29T18:00:29.410Z"
   },
   {
    "duration": 21,
    "start_time": "2021-09-29T18:00:29.424Z"
   },
   {
    "duration": 2,
    "start_time": "2021-09-29T18:00:29.447Z"
   },
   {
    "duration": 13,
    "start_time": "2021-09-29T18:00:29.451Z"
   },
   {
    "duration": 39,
    "start_time": "2021-09-29T18:00:29.467Z"
   },
   {
    "duration": 96,
    "start_time": "2021-09-29T18:00:29.508Z"
   },
   {
    "duration": 4071,
    "start_time": "2021-09-29T18:00:29.606Z"
   },
   {
    "duration": 21,
    "start_time": "2021-09-29T18:00:33.678Z"
   },
   {
    "duration": 40,
    "start_time": "2021-09-29T18:00:33.701Z"
   },
   {
    "duration": 6,
    "start_time": "2021-09-29T18:00:33.743Z"
   },
   {
    "duration": 16,
    "start_time": "2021-09-29T18:00:33.751Z"
   },
   {
    "duration": 52,
    "start_time": "2021-09-29T18:00:33.769Z"
   },
   {
    "duration": 2,
    "start_time": "2021-09-29T18:00:33.823Z"
   },
   {
    "duration": 34,
    "start_time": "2021-09-29T18:00:33.826Z"
   },
   {
    "duration": 41,
    "start_time": "2021-09-29T18:00:33.862Z"
   },
   {
    "duration": 13,
    "start_time": "2021-09-29T18:00:33.905Z"
   },
   {
    "duration": 3,
    "start_time": "2021-09-29T18:00:33.919Z"
   },
   {
    "duration": 5,
    "start_time": "2021-09-29T18:01:00.573Z"
   },
   {
    "duration": 298,
    "start_time": "2021-09-29T18:01:08.259Z"
   },
   {
    "duration": 5,
    "start_time": "2021-09-29T18:01:11.668Z"
   },
   {
    "duration": 8,
    "start_time": "2021-09-29T18:01:21.492Z"
   }
  ],
  "kernelspec": {
   "display_name": "Python 3 (ipykernel)",
   "language": "python",
   "name": "python3"
  },
  "language_info": {
   "codemirror_mode": {
    "name": "ipython",
    "version": 3
   },
   "file_extension": ".py",
   "mimetype": "text/x-python",
   "name": "python",
   "nbconvert_exporter": "python",
   "pygments_lexer": "ipython3",
   "version": "3.9.5"
  },
  "toc": {
   "base_numbering": 1,
   "nav_menu": {},
   "number_sections": true,
   "sideBar": true,
   "skip_h1_title": true,
   "title_cell": "Table of Contents",
   "title_sidebar": "Contents",
   "toc_cell": false,
   "toc_position": {},
   "toc_section_display": true,
   "toc_window_display": false
  }
 },
 "nbformat": 4,
 "nbformat_minor": 2
}
