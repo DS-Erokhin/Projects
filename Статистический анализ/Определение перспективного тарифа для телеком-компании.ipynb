{
 "cells": [
  {
   "cell_type": "markdown",
   "metadata": {},
   "source": [
    "# Описание проекта\n",
    "Необходимо скорректировать рекламный бюджет телекоммуникационной компании \"МГС\". Для этого коммерческий департамент хочет понять, какой тариф приносит больше денег. Клиентам предлагают два тарифных плана: «Смарт» и «Ультра».   \n",
    "\n",
    "**Дано**: данные 500 пользователей «МГС».     \n",
    "\n",
    "**Задачи**:\n",
    "- сделать предварительный анализ тарифов на небольшой выборке клиентов\n",
    "- кто является клиентами\n",
    "- откуда пользователи\n",
    "- каким тарифом пользуются\n",
    "- сколько звонков и сообщений каждый отправил за 2018 год"
   ]
  },
  {
   "cell_type": "markdown",
   "metadata": {},
   "source": [
    "**Таблица users (информация о пользователях):**\n",
    "- user_id — уникальный идентификатор пользователя\n",
    "- first_name — имя пользователя\n",
    "- last_name — фамилия пользователя\n",
    "- age — возраст пользователя (годы)\n",
    "- reg_date — дата подключения тарифа (день, месяц, год)\n",
    "- churn_date — дата прекращения пользования тарифом (если значение пропущено, то тариф ещё действовал на момент выгрузки данных)\n",
    "- city — город проживания пользователя\n",
    "- tarif — название тарифного плана\n",
    "\n",
    "**Таблица calls (информация о звонках):**\n",
    "- id — уникальный номер звонка\n",
    "- call_date — дата звонка\n",
    "- duration — длительность звонка в минутах\n",
    "- user_id — идентификатор пользователя, сделавшего звонок\n",
    "\n",
    "**Таблица messages (информация о сообщениях):**\n",
    "- id — уникальный номер сообщения\n",
    "- message_date — дата сообщения\n",
    "- user_id — идентификатор пользователя, отправившего сообщение\n",
    "\n",
    "**Таблица internet (информация об интернет-сессиях):**\n",
    "- id — уникальный номер сессии\n",
    "- mb_used — объём потраченного за сессию интернет-трафика (в мегабайтах)\n",
    "- session_date — дата интернет-сессии\n",
    "- user_id — идентификатор пользователя\n",
    "\n",
    "**Таблица tariffs (информация о тарифах):**\n",
    "- tariff_name — название тарифа\n",
    "- rub_monthly_fee — ежемесячная абонентская плата в рублях\n",
    "- minutes_included — количество минут разговора в месяц, включённых в абонентскую плату\n",
    "- messages_included — количество сообщений в месяц, включённых в абонентскую плату\n",
    "- mb_per_month_included — объём интернет-трафика, включённого в абонентскую плату (в мегабайтах)\n",
    "- rub_per_minute — стоимость минуты разговора сверх тарифного пакета (например, если в тарифе 100 минут разговора в месяц, то со 101 минуты будет взиматься плата)\n",
    "- rub_per_message — стоимость отправки сообщения сверх тарифного пакета\n",
    "- rub_per_gb — стоимость дополнительного гигабайта интернет-трафика сверх тарифного пакета (1 гигабайт = 1024 мегабайта)"
   ]
  },
  {
   "cell_type": "markdown",
   "metadata": {},
   "source": [
    "## Изучение данных из файла"
   ]
  },
  {
   "cell_type": "code",
   "execution_count": 1,
   "metadata": {},
   "outputs": [],
   "source": [
    "import pandas as pd\n",
    "import matplotlib.pyplot as plt\n",
    "from math import ceil\n",
    "import numpy as np\n",
    "from scipy import stats as st\n",
    "import warnings\n",
    "warnings.simplefilter('ignore')"
   ]
  },
  {
   "cell_type": "code",
   "execution_count": 2,
   "metadata": {},
   "outputs": [
    {
     "name": "stdout",
     "output_type": "stream",
     "text": [
      "ТАБЛИЦА CALLS\n",
      "<class 'pandas.core.frame.DataFrame'>\n",
      "RangeIndex: 202607 entries, 0 to 202606\n",
      "Data columns (total 4 columns):\n",
      " #   Column     Non-Null Count   Dtype  \n",
      "---  ------     --------------   -----  \n",
      " 0   id         202607 non-null  object \n",
      " 1   call_date  202607 non-null  object \n",
      " 2   duration   202607 non-null  float64\n",
      " 3   user_id    202607 non-null  int64  \n",
      "dtypes: float64(1), int64(1), object(2)\n",
      "memory usage: 6.2+ MB\n",
      "None\n"
     ]
    },
    {
     "data": {
      "text/html": [
       "<div>\n",
       "<style scoped>\n",
       "    .dataframe tbody tr th:only-of-type {\n",
       "        vertical-align: middle;\n",
       "    }\n",
       "\n",
       "    .dataframe tbody tr th {\n",
       "        vertical-align: top;\n",
       "    }\n",
       "\n",
       "    .dataframe thead th {\n",
       "        text-align: right;\n",
       "    }\n",
       "</style>\n",
       "<table border=\"1\" class=\"dataframe\">\n",
       "  <thead>\n",
       "    <tr style=\"text-align: right;\">\n",
       "      <th></th>\n",
       "      <th>id</th>\n",
       "      <th>call_date</th>\n",
       "      <th>duration</th>\n",
       "      <th>user_id</th>\n",
       "    </tr>\n",
       "  </thead>\n",
       "  <tbody>\n",
       "    <tr>\n",
       "      <th>0</th>\n",
       "      <td>1000_0</td>\n",
       "      <td>2018-07-25</td>\n",
       "      <td>0.00</td>\n",
       "      <td>1000</td>\n",
       "    </tr>\n",
       "    <tr>\n",
       "      <th>1</th>\n",
       "      <td>1000_1</td>\n",
       "      <td>2018-08-17</td>\n",
       "      <td>0.00</td>\n",
       "      <td>1000</td>\n",
       "    </tr>\n",
       "    <tr>\n",
       "      <th>2</th>\n",
       "      <td>1000_2</td>\n",
       "      <td>2018-06-11</td>\n",
       "      <td>2.85</td>\n",
       "      <td>1000</td>\n",
       "    </tr>\n",
       "    <tr>\n",
       "      <th>3</th>\n",
       "      <td>1000_3</td>\n",
       "      <td>2018-09-21</td>\n",
       "      <td>13.80</td>\n",
       "      <td>1000</td>\n",
       "    </tr>\n",
       "    <tr>\n",
       "      <th>4</th>\n",
       "      <td>1000_4</td>\n",
       "      <td>2018-12-15</td>\n",
       "      <td>5.18</td>\n",
       "      <td>1000</td>\n",
       "    </tr>\n",
       "  </tbody>\n",
       "</table>\n",
       "</div>"
      ],
      "text/plain": [
       "       id   call_date  duration  user_id\n",
       "0  1000_0  2018-07-25      0.00     1000\n",
       "1  1000_1  2018-08-17      0.00     1000\n",
       "2  1000_2  2018-06-11      2.85     1000\n",
       "3  1000_3  2018-09-21     13.80     1000\n",
       "4  1000_4  2018-12-15      5.18     1000"
      ]
     },
     "metadata": {},
     "output_type": "display_data"
    }
   ],
   "source": [
    "df_calls = pd.read_csv('C:/Users/erokh/Downloads/calls.csv')\n",
    "print('ТАБЛИЦА CALLS')\n",
    "print(df_calls.info())\n",
    "display(df_calls.head())"
   ]
  },
  {
   "cell_type": "markdown",
   "metadata": {},
   "source": [
    "Стоит заменить тип данных в столбце call_date на datetime. Пропусков нет."
   ]
  },
  {
   "cell_type": "code",
   "execution_count": 3,
   "metadata": {},
   "outputs": [
    {
     "name": "stdout",
     "output_type": "stream",
     "text": [
      "ТАБЛИЦА INTERNET\n",
      "<class 'pandas.core.frame.DataFrame'>\n",
      "RangeIndex: 149396 entries, 0 to 149395\n",
      "Data columns (total 5 columns):\n",
      " #   Column        Non-Null Count   Dtype  \n",
      "---  ------        --------------   -----  \n",
      " 0   Unnamed: 0    149396 non-null  int64  \n",
      " 1   id            149396 non-null  object \n",
      " 2   mb_used       149396 non-null  float64\n",
      " 3   session_date  149396 non-null  object \n",
      " 4   user_id       149396 non-null  int64  \n",
      "dtypes: float64(1), int64(2), object(2)\n",
      "memory usage: 5.7+ MB\n",
      "None\n"
     ]
    },
    {
     "data": {
      "text/html": [
       "<div>\n",
       "<style scoped>\n",
       "    .dataframe tbody tr th:only-of-type {\n",
       "        vertical-align: middle;\n",
       "    }\n",
       "\n",
       "    .dataframe tbody tr th {\n",
       "        vertical-align: top;\n",
       "    }\n",
       "\n",
       "    .dataframe thead th {\n",
       "        text-align: right;\n",
       "    }\n",
       "</style>\n",
       "<table border=\"1\" class=\"dataframe\">\n",
       "  <thead>\n",
       "    <tr style=\"text-align: right;\">\n",
       "      <th></th>\n",
       "      <th>Unnamed: 0</th>\n",
       "      <th>id</th>\n",
       "      <th>mb_used</th>\n",
       "      <th>session_date</th>\n",
       "      <th>user_id</th>\n",
       "    </tr>\n",
       "  </thead>\n",
       "  <tbody>\n",
       "    <tr>\n",
       "      <th>0</th>\n",
       "      <td>0</td>\n",
       "      <td>1000_0</td>\n",
       "      <td>112.95</td>\n",
       "      <td>2018-11-25</td>\n",
       "      <td>1000</td>\n",
       "    </tr>\n",
       "    <tr>\n",
       "      <th>1</th>\n",
       "      <td>1</td>\n",
       "      <td>1000_1</td>\n",
       "      <td>1052.81</td>\n",
       "      <td>2018-09-07</td>\n",
       "      <td>1000</td>\n",
       "    </tr>\n",
       "    <tr>\n",
       "      <th>2</th>\n",
       "      <td>2</td>\n",
       "      <td>1000_2</td>\n",
       "      <td>1197.26</td>\n",
       "      <td>2018-06-25</td>\n",
       "      <td>1000</td>\n",
       "    </tr>\n",
       "    <tr>\n",
       "      <th>3</th>\n",
       "      <td>3</td>\n",
       "      <td>1000_3</td>\n",
       "      <td>550.27</td>\n",
       "      <td>2018-08-22</td>\n",
       "      <td>1000</td>\n",
       "    </tr>\n",
       "    <tr>\n",
       "      <th>4</th>\n",
       "      <td>4</td>\n",
       "      <td>1000_4</td>\n",
       "      <td>302.56</td>\n",
       "      <td>2018-09-24</td>\n",
       "      <td>1000</td>\n",
       "    </tr>\n",
       "  </tbody>\n",
       "</table>\n",
       "</div>"
      ],
      "text/plain": [
       "   Unnamed: 0      id  mb_used session_date  user_id\n",
       "0           0  1000_0   112.95   2018-11-25     1000\n",
       "1           1  1000_1  1052.81   2018-09-07     1000\n",
       "2           2  1000_2  1197.26   2018-06-25     1000\n",
       "3           3  1000_3   550.27   2018-08-22     1000\n",
       "4           4  1000_4   302.56   2018-09-24     1000"
      ]
     },
     "metadata": {},
     "output_type": "display_data"
    }
   ],
   "source": [
    "df_internet = pd.read_csv('C:/Users/erokh/Downloads/internet.csv')\n",
    "print('ТАБЛИЦА INTERNET')\n",
    "print(df_internet.info()) #ЗАМЕЧЕН СТРАННЫЙ СТОЛБЦЕ Unnamed: 0\n",
    "display(df_internet.head())"
   ]
  },
  {
   "cell_type": "markdown",
   "metadata": {},
   "source": [
    "Столбец Unnamed: 0 стоит удалить, поскольку он полностью дуюблирует индек. Столбец session_date привезти к datetime."
   ]
  },
  {
   "cell_type": "code",
   "execution_count": 4,
   "metadata": {},
   "outputs": [
    {
     "name": "stdout",
     "output_type": "stream",
     "text": [
      "ТАБЛИЦА MESSAGES\n",
      "<class 'pandas.core.frame.DataFrame'>\n",
      "RangeIndex: 123036 entries, 0 to 123035\n",
      "Data columns (total 3 columns):\n",
      " #   Column        Non-Null Count   Dtype \n",
      "---  ------        --------------   ----- \n",
      " 0   id            123036 non-null  object\n",
      " 1   message_date  123036 non-null  object\n",
      " 2   user_id       123036 non-null  int64 \n",
      "dtypes: int64(1), object(2)\n",
      "memory usage: 2.8+ MB\n",
      "None\n"
     ]
    },
    {
     "data": {
      "text/html": [
       "<div>\n",
       "<style scoped>\n",
       "    .dataframe tbody tr th:only-of-type {\n",
       "        vertical-align: middle;\n",
       "    }\n",
       "\n",
       "    .dataframe tbody tr th {\n",
       "        vertical-align: top;\n",
       "    }\n",
       "\n",
       "    .dataframe thead th {\n",
       "        text-align: right;\n",
       "    }\n",
       "</style>\n",
       "<table border=\"1\" class=\"dataframe\">\n",
       "  <thead>\n",
       "    <tr style=\"text-align: right;\">\n",
       "      <th></th>\n",
       "      <th>id</th>\n",
       "      <th>message_date</th>\n",
       "      <th>user_id</th>\n",
       "    </tr>\n",
       "  </thead>\n",
       "  <tbody>\n",
       "    <tr>\n",
       "      <th>0</th>\n",
       "      <td>1000_0</td>\n",
       "      <td>2018-06-27</td>\n",
       "      <td>1000</td>\n",
       "    </tr>\n",
       "    <tr>\n",
       "      <th>1</th>\n",
       "      <td>1000_1</td>\n",
       "      <td>2018-10-08</td>\n",
       "      <td>1000</td>\n",
       "    </tr>\n",
       "    <tr>\n",
       "      <th>2</th>\n",
       "      <td>1000_2</td>\n",
       "      <td>2018-08-04</td>\n",
       "      <td>1000</td>\n",
       "    </tr>\n",
       "    <tr>\n",
       "      <th>3</th>\n",
       "      <td>1000_3</td>\n",
       "      <td>2018-06-16</td>\n",
       "      <td>1000</td>\n",
       "    </tr>\n",
       "    <tr>\n",
       "      <th>4</th>\n",
       "      <td>1000_4</td>\n",
       "      <td>2018-12-05</td>\n",
       "      <td>1000</td>\n",
       "    </tr>\n",
       "  </tbody>\n",
       "</table>\n",
       "</div>"
      ],
      "text/plain": [
       "       id message_date  user_id\n",
       "0  1000_0   2018-06-27     1000\n",
       "1  1000_1   2018-10-08     1000\n",
       "2  1000_2   2018-08-04     1000\n",
       "3  1000_3   2018-06-16     1000\n",
       "4  1000_4   2018-12-05     1000"
      ]
     },
     "metadata": {},
     "output_type": "display_data"
    }
   ],
   "source": [
    "df_messages = pd.read_csv('C:/Users/erokh/Downloads/messages.csv')\n",
    "print('ТАБЛИЦА MESSAGES')\n",
    "print(df_messages.info())\n",
    "display(df_messages.head())"
   ]
  },
  {
   "cell_type": "markdown",
   "metadata": {},
   "source": [
    "Столбец message_date привезти к datetime."
   ]
  },
  {
   "cell_type": "code",
   "execution_count": 5,
   "metadata": {},
   "outputs": [
    {
     "name": "stdout",
     "output_type": "stream",
     "text": [
      "ТАБЛИЦА TARIFFS\n",
      "<class 'pandas.core.frame.DataFrame'>\n",
      "RangeIndex: 2 entries, 0 to 1\n",
      "Data columns (total 8 columns):\n",
      " #   Column                 Non-Null Count  Dtype \n",
      "---  ------                 --------------  ----- \n",
      " 0   messages_included      2 non-null      int64 \n",
      " 1   mb_per_month_included  2 non-null      int64 \n",
      " 2   minutes_included       2 non-null      int64 \n",
      " 3   rub_monthly_fee        2 non-null      int64 \n",
      " 4   rub_per_gb             2 non-null      int64 \n",
      " 5   rub_per_message        2 non-null      int64 \n",
      " 6   rub_per_minute         2 non-null      int64 \n",
      " 7   tariff_name            2 non-null      object\n",
      "dtypes: int64(7), object(1)\n",
      "memory usage: 256.0+ bytes\n",
      "None\n"
     ]
    },
    {
     "data": {
      "text/html": [
       "<div>\n",
       "<style scoped>\n",
       "    .dataframe tbody tr th:only-of-type {\n",
       "        vertical-align: middle;\n",
       "    }\n",
       "\n",
       "    .dataframe tbody tr th {\n",
       "        vertical-align: top;\n",
       "    }\n",
       "\n",
       "    .dataframe thead th {\n",
       "        text-align: right;\n",
       "    }\n",
       "</style>\n",
       "<table border=\"1\" class=\"dataframe\">\n",
       "  <thead>\n",
       "    <tr style=\"text-align: right;\">\n",
       "      <th></th>\n",
       "      <th>messages_included</th>\n",
       "      <th>mb_per_month_included</th>\n",
       "      <th>minutes_included</th>\n",
       "      <th>rub_monthly_fee</th>\n",
       "      <th>rub_per_gb</th>\n",
       "      <th>rub_per_message</th>\n",
       "      <th>rub_per_minute</th>\n",
       "      <th>tariff_name</th>\n",
       "    </tr>\n",
       "  </thead>\n",
       "  <tbody>\n",
       "    <tr>\n",
       "      <th>0</th>\n",
       "      <td>50</td>\n",
       "      <td>15360</td>\n",
       "      <td>500</td>\n",
       "      <td>550</td>\n",
       "      <td>200</td>\n",
       "      <td>3</td>\n",
       "      <td>3</td>\n",
       "      <td>smart</td>\n",
       "    </tr>\n",
       "    <tr>\n",
       "      <th>1</th>\n",
       "      <td>1000</td>\n",
       "      <td>30720</td>\n",
       "      <td>3000</td>\n",
       "      <td>1950</td>\n",
       "      <td>150</td>\n",
       "      <td>1</td>\n",
       "      <td>1</td>\n",
       "      <td>ultra</td>\n",
       "    </tr>\n",
       "  </tbody>\n",
       "</table>\n",
       "</div>"
      ],
      "text/plain": [
       "   messages_included  mb_per_month_included  minutes_included  \\\n",
       "0                 50                  15360               500   \n",
       "1               1000                  30720              3000   \n",
       "\n",
       "   rub_monthly_fee  rub_per_gb  rub_per_message  rub_per_minute tariff_name  \n",
       "0              550         200                3               3       smart  \n",
       "1             1950         150                1               1       ultra  "
      ]
     },
     "metadata": {},
     "output_type": "display_data"
    }
   ],
   "source": [
    "df_tariffs = pd.read_csv('C:/Users/erokh/Downloads/tariffs.csv')\n",
    "print('ТАБЛИЦА TARIFFS')\n",
    "print(df_tariffs.info())\n",
    "display(df_tariffs.head())"
   ]
  },
  {
   "cell_type": "code",
   "execution_count": 6,
   "metadata": {},
   "outputs": [
    {
     "name": "stdout",
     "output_type": "stream",
     "text": [
      "ТАБЛИЦА USERS\n",
      "<class 'pandas.core.frame.DataFrame'>\n",
      "RangeIndex: 500 entries, 0 to 499\n",
      "Data columns (total 8 columns):\n",
      " #   Column      Non-Null Count  Dtype \n",
      "---  ------      --------------  ----- \n",
      " 0   user_id     500 non-null    int64 \n",
      " 1   age         500 non-null    int64 \n",
      " 2   churn_date  38 non-null     object\n",
      " 3   city        500 non-null    object\n",
      " 4   first_name  500 non-null    object\n",
      " 5   last_name   500 non-null    object\n",
      " 6   reg_date    500 non-null    object\n",
      " 7   tariff      500 non-null    object\n",
      "dtypes: int64(2), object(6)\n",
      "memory usage: 31.4+ KB\n",
      "None\n"
     ]
    },
    {
     "data": {
      "text/html": [
       "<div>\n",
       "<style scoped>\n",
       "    .dataframe tbody tr th:only-of-type {\n",
       "        vertical-align: middle;\n",
       "    }\n",
       "\n",
       "    .dataframe tbody tr th {\n",
       "        vertical-align: top;\n",
       "    }\n",
       "\n",
       "    .dataframe thead th {\n",
       "        text-align: right;\n",
       "    }\n",
       "</style>\n",
       "<table border=\"1\" class=\"dataframe\">\n",
       "  <thead>\n",
       "    <tr style=\"text-align: right;\">\n",
       "      <th></th>\n",
       "      <th>user_id</th>\n",
       "      <th>age</th>\n",
       "      <th>churn_date</th>\n",
       "      <th>city</th>\n",
       "      <th>first_name</th>\n",
       "      <th>last_name</th>\n",
       "      <th>reg_date</th>\n",
       "      <th>tariff</th>\n",
       "    </tr>\n",
       "  </thead>\n",
       "  <tbody>\n",
       "    <tr>\n",
       "      <th>0</th>\n",
       "      <td>1000</td>\n",
       "      <td>52</td>\n",
       "      <td>NaN</td>\n",
       "      <td>Краснодар</td>\n",
       "      <td>Рафаил</td>\n",
       "      <td>Верещагин</td>\n",
       "      <td>2018-05-25</td>\n",
       "      <td>ultra</td>\n",
       "    </tr>\n",
       "    <tr>\n",
       "      <th>1</th>\n",
       "      <td>1001</td>\n",
       "      <td>41</td>\n",
       "      <td>NaN</td>\n",
       "      <td>Москва</td>\n",
       "      <td>Иван</td>\n",
       "      <td>Ежов</td>\n",
       "      <td>2018-11-01</td>\n",
       "      <td>smart</td>\n",
       "    </tr>\n",
       "    <tr>\n",
       "      <th>2</th>\n",
       "      <td>1002</td>\n",
       "      <td>59</td>\n",
       "      <td>NaN</td>\n",
       "      <td>Стерлитамак</td>\n",
       "      <td>Евгений</td>\n",
       "      <td>Абрамович</td>\n",
       "      <td>2018-06-17</td>\n",
       "      <td>smart</td>\n",
       "    </tr>\n",
       "    <tr>\n",
       "      <th>3</th>\n",
       "      <td>1003</td>\n",
       "      <td>23</td>\n",
       "      <td>NaN</td>\n",
       "      <td>Москва</td>\n",
       "      <td>Белла</td>\n",
       "      <td>Белякова</td>\n",
       "      <td>2018-08-17</td>\n",
       "      <td>ultra</td>\n",
       "    </tr>\n",
       "    <tr>\n",
       "      <th>4</th>\n",
       "      <td>1004</td>\n",
       "      <td>68</td>\n",
       "      <td>NaN</td>\n",
       "      <td>Новокузнецк</td>\n",
       "      <td>Татьяна</td>\n",
       "      <td>Авдеенко</td>\n",
       "      <td>2018-05-14</td>\n",
       "      <td>ultra</td>\n",
       "    </tr>\n",
       "  </tbody>\n",
       "</table>\n",
       "</div>"
      ],
      "text/plain": [
       "   user_id  age churn_date         city first_name  last_name    reg_date  \\\n",
       "0     1000   52        NaN    Краснодар     Рафаил  Верещагин  2018-05-25   \n",
       "1     1001   41        NaN       Москва       Иван       Ежов  2018-11-01   \n",
       "2     1002   59        NaN  Стерлитамак    Евгений  Абрамович  2018-06-17   \n",
       "3     1003   23        NaN       Москва      Белла   Белякова  2018-08-17   \n",
       "4     1004   68        NaN  Новокузнецк    Татьяна   Авдеенко  2018-05-14   \n",
       "\n",
       "  tariff  \n",
       "0  ultra  \n",
       "1  smart  \n",
       "2  smart  \n",
       "3  ultra  \n",
       "4  ultra  "
      ]
     },
     "metadata": {},
     "output_type": "display_data"
    }
   ],
   "source": [
    "df_users = pd.read_csv('C:/Users/erokh/Downloads/users.csv')\n",
    "print('ТАБЛИЦА USERS')\n",
    "print(df_users.info())  #В СТОЛБЦЕ churn_date 462 ПРОПУСКА (38 ЗАПОЛНЕННЫХ ЗНАЧЕНИЙ ВСЕГО)\n",
    "display(df_users.head())"
   ]
  },
  {
   "cell_type": "code",
   "execution_count": 7,
   "metadata": {},
   "outputs": [
    {
     "data": {
      "text/plain": [
       "user_id         0\n",
       "age             0\n",
       "churn_date    462\n",
       "city            0\n",
       "first_name      0\n",
       "last_name       0\n",
       "reg_date        0\n",
       "tariff          0\n",
       "dtype: int64"
      ]
     },
     "execution_count": 7,
     "metadata": {},
     "output_type": "execute_result"
    }
   ],
   "source": [
    "df_users.isna().sum()"
   ]
  },
  {
   "cell_type": "markdown",
   "metadata": {},
   "source": [
    "В столбце churn_date присутствуют пропуски. Если значение пропущено, то тариф ещё действовал на момент выгрузки данных."
   ]
  },
  {
   "cell_type": "code",
   "execution_count": 8,
   "metadata": {},
   "outputs": [],
   "source": [
    "SMART_COST = df_tariffs['rub_monthly_fee'][0] #550\n",
    "SMART_MINUTES = df_tariffs['minutes_included'][0] #500\n",
    "SMART_MESSAGES = df_tariffs['messages_included'][0] #50\n",
    "SMART_INTERNET_MB = df_tariffs['mb_per_month_included'][0]#15360\n",
    "SMART_INTERNET_GB = np.ceil(df_tariffs['mb_per_month_included'][0] / 1000)#16\n",
    "SMART_MIN_COST = df_tariffs['rub_per_minute'][0]#3\n",
    "SMART_MESSAGE_COST = df_tariffs['rub_per_message'][0]#3\n",
    "SMART_1000MB = df_tariffs['rub_per_gb'][0]#200\n",
    "\n",
    "ULTRA_COST = df_tariffs['rub_monthly_fee'][1]#1950\n",
    "ULTRA_MINUTES = df_tariffs['minutes_included'][1]#3000\n",
    "ULTRA_MESSAGES = df_tariffs['messages_included'][1]#1000\n",
    "ULTRA_INTERNET_MB = df_tariffs['mb_per_month_included'][1]#30720\n",
    "ULTRA_INTERNET_GB = np.ceil(df_tariffs['mb_per_month_included'][0] / 1000)#31\n",
    "ULTRA_MIN_COST = df_tariffs['rub_per_minute'][1]#1\n",
    "ULTRA_MESSAGE_COST = df_tariffs['rub_per_message'][1]#1\n",
    "ULTRA_1000MB = df_tariffs['rub_per_gb'][1]#150"
   ]
  },
  {
   "cell_type": "markdown",
   "metadata": {},
   "source": [
    "## Предобработка данных"
   ]
  },
  {
   "cell_type": "markdown",
   "metadata": {},
   "source": [
    "### Замена типа данных, избавление от ненужных значений"
   ]
  },
  {
   "cell_type": "markdown",
   "metadata": {},
   "source": [
    "#### df_calls"
   ]
  },
  {
   "cell_type": "code",
   "execution_count": 9,
   "metadata": {
    "scrolled": false
   },
   "outputs": [
    {
     "data": {
      "text/plain": [
       "0.00     39613\n",
       "5.50       142\n",
       "4.49       142\n",
       "6.15       141\n",
       "6.38       141\n",
       "         ...  \n",
       "26.32        1\n",
       "24.51        1\n",
       "27.24        1\n",
       "29.89        1\n",
       "27.43        1\n",
       "Name: duration, Length: 2871, dtype: int64"
      ]
     },
     "execution_count": 9,
     "metadata": {},
     "output_type": "execute_result"
    },
    {
     "data": {
      "image/png": "[encoded data removed]",
      "text/plain": [
       "<Figure size 432x288 with 1 Axes>"
      ]
     },
     "metadata": {
      "needs_background": "light"
     },
     "output_type": "display_data"
    }
   ],
   "source": [
    "df_calls['duration'].hist(bins = 50);\n",
    "plt.title('Гистограмма распределения количества потраченных минут');\n",
    "df_calls['duration'].value_counts()"
   ]
  },
  {
   "cell_type": "markdown",
   "metadata": {},
   "source": [
    "Много нулевых значений в столбце 'duration', можно предположить, что звонок просто не состоялся."
   ]
  },
  {
   "cell_type": "code",
   "execution_count": 10,
   "metadata": {},
   "outputs": [
    {
     "data": {
      "text/html": [
       "<div>\n",
       "<style scoped>\n",
       "    .dataframe tbody tr th:only-of-type {\n",
       "        vertical-align: middle;\n",
       "    }\n",
       "\n",
       "    .dataframe tbody tr th {\n",
       "        vertical-align: top;\n",
       "    }\n",
       "\n",
       "    .dataframe thead th {\n",
       "        text-align: right;\n",
       "    }\n",
       "</style>\n",
       "<table border=\"1\" class=\"dataframe\">\n",
       "  <thead>\n",
       "    <tr style=\"text-align: right;\">\n",
       "      <th></th>\n",
       "      <th>id</th>\n",
       "      <th>call_date</th>\n",
       "      <th>duration</th>\n",
       "      <th>user_id</th>\n",
       "    </tr>\n",
       "  </thead>\n",
       "  <tbody>\n",
       "    <tr>\n",
       "      <th>0</th>\n",
       "      <td>1000_0</td>\n",
       "      <td>2018-07-25</td>\n",
       "      <td>NaN</td>\n",
       "      <td>1000</td>\n",
       "    </tr>\n",
       "    <tr>\n",
       "      <th>1</th>\n",
       "      <td>1000_1</td>\n",
       "      <td>2018-08-17</td>\n",
       "      <td>NaN</td>\n",
       "      <td>1000</td>\n",
       "    </tr>\n",
       "    <tr>\n",
       "      <th>2</th>\n",
       "      <td>1000_2</td>\n",
       "      <td>2018-06-11</td>\n",
       "      <td>3.0</td>\n",
       "      <td>1000</td>\n",
       "    </tr>\n",
       "    <tr>\n",
       "      <th>3</th>\n",
       "      <td>1000_3</td>\n",
       "      <td>2018-09-21</td>\n",
       "      <td>14.0</td>\n",
       "      <td>1000</td>\n",
       "    </tr>\n",
       "    <tr>\n",
       "      <th>4</th>\n",
       "      <td>1000_4</td>\n",
       "      <td>2018-12-15</td>\n",
       "      <td>6.0</td>\n",
       "      <td>1000</td>\n",
       "    </tr>\n",
       "    <tr>\n",
       "      <th>...</th>\n",
       "      <td>...</td>\n",
       "      <td>...</td>\n",
       "      <td>...</td>\n",
       "      <td>...</td>\n",
       "    </tr>\n",
       "    <tr>\n",
       "      <th>202602</th>\n",
       "      <td>1499_215</td>\n",
       "      <td>2018-12-26</td>\n",
       "      <td>1.0</td>\n",
       "      <td>1499</td>\n",
       "    </tr>\n",
       "    <tr>\n",
       "      <th>202603</th>\n",
       "      <td>1499_216</td>\n",
       "      <td>2018-10-18</td>\n",
       "      <td>19.0</td>\n",
       "      <td>1499</td>\n",
       "    </tr>\n",
       "    <tr>\n",
       "      <th>202604</th>\n",
       "      <td>1499_217</td>\n",
       "      <td>2018-11-10</td>\n",
       "      <td>11.0</td>\n",
       "      <td>1499</td>\n",
       "    </tr>\n",
       "    <tr>\n",
       "      <th>202605</th>\n",
       "      <td>1499_218</td>\n",
       "      <td>2018-10-06</td>\n",
       "      <td>5.0</td>\n",
       "      <td>1499</td>\n",
       "    </tr>\n",
       "    <tr>\n",
       "      <th>202606</th>\n",
       "      <td>1499_219</td>\n",
       "      <td>2018-12-14</td>\n",
       "      <td>20.0</td>\n",
       "      <td>1499</td>\n",
       "    </tr>\n",
       "  </tbody>\n",
       "</table>\n",
       "<p>202607 rows × 4 columns</p>\n",
       "</div>"
      ],
      "text/plain": [
       "              id  call_date  duration  user_id\n",
       "0         1000_0 2018-07-25       NaN     1000\n",
       "1         1000_1 2018-08-17       NaN     1000\n",
       "2         1000_2 2018-06-11       3.0     1000\n",
       "3         1000_3 2018-09-21      14.0     1000\n",
       "4         1000_4 2018-12-15       6.0     1000\n",
       "...          ...        ...       ...      ...\n",
       "202602  1499_215 2018-12-26       1.0     1499\n",
       "202603  1499_216 2018-10-18      19.0     1499\n",
       "202604  1499_217 2018-11-10      11.0     1499\n",
       "202605  1499_218 2018-10-06       5.0     1499\n",
       "202606  1499_219 2018-12-14      20.0     1499\n",
       "\n",
       "[202607 rows x 4 columns]"
      ]
     },
     "execution_count": 10,
     "metadata": {},
     "output_type": "execute_result"
    }
   ],
   "source": [
    "#Замена типа данных у столбца 'call_date' df_calls\n",
    "df_calls['call_date'] = pd.to_datetime(df_calls['call_date'], format = '%Y-%m-%dT%H:%M:%S')\n",
    "df_calls['duration'] = df_calls['duration'].apply(np.ceil) #ОКРУГЛЯЕМ ЗНАЧЕНИЯ ВВЕРХ\n",
    "df_calls['duration'] = df_calls[df_calls['duration'] != 0]['duration'] ##нельзя заполнять нулевые строки, поскольку может\n",
    "#измениться кол-во потраченных минут за месяц и, как следствие, доход с клиента\n",
    "df_calls"
   ]
  },
  {
   "cell_type": "markdown",
   "metadata": {},
   "source": [
    "#### df_internet"
   ]
  },
  {
   "cell_type": "code",
   "execution_count": 11,
   "metadata": {},
   "outputs": [
    {
     "name": "stdout",
     "output_type": "stream",
     "text": [
      "Количество строк с 0 потраченных мб: 19598\n"
     ]
    },
    {
     "data": {
      "image/png": "[encoded data removed]",
      "text/plain": [
       "<Figure size 432x288 with 1 Axes>"
      ]
     },
     "metadata": {
      "needs_background": "light"
     },
     "output_type": "display_data"
    }
   ],
   "source": [
    "df_internet['mb_used'].hist(bins = 50);\n",
    "plt.title('Гистограмма распределения количества потраченных мб');\n",
    "print('Количество строк с 0 потраченных мб:', len(df_internet[df_internet['mb_used']==0]))"
   ]
  },
  {
   "cell_type": "code",
   "execution_count": 12,
   "metadata": {},
   "outputs": [
    {
     "name": "stdout",
     "output_type": "stream",
     "text": [
      "<class 'pandas.core.frame.DataFrame'>\n",
      "RangeIndex: 149396 entries, 0 to 149395\n",
      "Data columns (total 4 columns):\n",
      " #   Column        Non-Null Count   Dtype         \n",
      "---  ------        --------------   -----         \n",
      " 0   id            149396 non-null  object        \n",
      " 1   mb_used       129798 non-null  float64       \n",
      " 2   session_date  149396 non-null  datetime64[ns]\n",
      " 3   user_id       149396 non-null  int64         \n",
      "dtypes: datetime64[ns](1), float64(1), int64(1), object(1)\n",
      "memory usage: 4.6+ MB\n"
     ]
    }
   ],
   "source": [
    "#Замена типа данных в df_internet\n",
    "df_internet['session_date'] = pd.to_datetime(df_internet['session_date'], format = '%Y-%m-%dT%H:%M:%S')\n",
    "df_internet = df_internet.drop('Unnamed: 0', 1) #удаляем столбец Unnamed: 0\n",
    "df_internet['mb_used'] = df_internet['mb_used'].apply(np.ceil) #ОКРУГЛЯЕМ ЗНАЧЕНИЯ ВВЕРХ\n",
    "df_internet['mb_used'] = df_internet[df_internet['mb_used']!=0]['mb_used'] \n",
    "df_internet.info()"
   ]
  },
  {
   "cell_type": "markdown",
   "metadata": {},
   "source": [
    "Заполнять строки с нулевыми значениями не будем, поскольку может измениться количество потраченных мб за месяц и, как следствие, доход с клиента."
   ]
  },
  {
   "cell_type": "markdown",
   "metadata": {},
   "source": [
    "#### df_messages"
   ]
  },
  {
   "cell_type": "code",
   "execution_count": 13,
   "metadata": {
    "scrolled": true
   },
   "outputs": [
    {
     "name": "stdout",
     "output_type": "stream",
     "text": [
      "<class 'pandas.core.frame.DataFrame'>\n",
      "RangeIndex: 123036 entries, 0 to 123035\n",
      "Data columns (total 3 columns):\n",
      " #   Column        Non-Null Count   Dtype \n",
      "---  ------        --------------   ----- \n",
      " 0   id            123036 non-null  object\n",
      " 1   message_date  123036 non-null  object\n",
      " 2   user_id       123036 non-null  int64 \n",
      "dtypes: int64(1), object(2)\n",
      "memory usage: 2.8+ MB\n",
      "<class 'pandas.core.frame.DataFrame'>\n",
      "RangeIndex: 123036 entries, 0 to 123035\n",
      "Data columns (total 3 columns):\n",
      " #   Column        Non-Null Count   Dtype         \n",
      "---  ------        --------------   -----         \n",
      " 0   id            123036 non-null  object        \n",
      " 1   message_date  123036 non-null  datetime64[ns]\n",
      " 2   user_id       123036 non-null  int64         \n",
      "dtypes: datetime64[ns](1), int64(1), object(1)\n",
      "memory usage: 2.8+ MB\n"
     ]
    }
   ],
   "source": [
    "df_messages.info()\n",
    "df_messages['message_date'] = pd.to_datetime(df_messages['message_date'], format = '%Y-%m-%dT%H:%M:%S')\n",
    "df_messages.info()"
   ]
  },
  {
   "cell_type": "markdown",
   "metadata": {},
   "source": [
    "#### df_users"
   ]
  },
  {
   "cell_type": "code",
   "execution_count": 14,
   "metadata": {},
   "outputs": [
    {
     "data": {
      "text/html": [
       "<div>\n",
       "<style scoped>\n",
       "    .dataframe tbody tr th:only-of-type {\n",
       "        vertical-align: middle;\n",
       "    }\n",
       "\n",
       "    .dataframe tbody tr th {\n",
       "        vertical-align: top;\n",
       "    }\n",
       "\n",
       "    .dataframe thead th {\n",
       "        text-align: right;\n",
       "    }\n",
       "</style>\n",
       "<table border=\"1\" class=\"dataframe\">\n",
       "  <thead>\n",
       "    <tr style=\"text-align: right;\">\n",
       "      <th></th>\n",
       "      <th>user_id</th>\n",
       "      <th>age</th>\n",
       "      <th>churn_date</th>\n",
       "      <th>city</th>\n",
       "      <th>first_name</th>\n",
       "      <th>last_name</th>\n",
       "      <th>reg_date</th>\n",
       "      <th>tariff</th>\n",
       "    </tr>\n",
       "  </thead>\n",
       "  <tbody>\n",
       "    <tr>\n",
       "      <th>0</th>\n",
       "      <td>1000</td>\n",
       "      <td>52</td>\n",
       "      <td>NaN</td>\n",
       "      <td>Краснодар</td>\n",
       "      <td>Рафаил</td>\n",
       "      <td>Верещагин</td>\n",
       "      <td>2018-05-25</td>\n",
       "      <td>ultra</td>\n",
       "    </tr>\n",
       "    <tr>\n",
       "      <th>1</th>\n",
       "      <td>1001</td>\n",
       "      <td>41</td>\n",
       "      <td>NaN</td>\n",
       "      <td>Москва</td>\n",
       "      <td>Иван</td>\n",
       "      <td>Ежов</td>\n",
       "      <td>2018-11-01</td>\n",
       "      <td>smart</td>\n",
       "    </tr>\n",
       "    <tr>\n",
       "      <th>2</th>\n",
       "      <td>1002</td>\n",
       "      <td>59</td>\n",
       "      <td>NaN</td>\n",
       "      <td>Стерлитамак</td>\n",
       "      <td>Евгений</td>\n",
       "      <td>Абрамович</td>\n",
       "      <td>2018-06-17</td>\n",
       "      <td>smart</td>\n",
       "    </tr>\n",
       "    <tr>\n",
       "      <th>3</th>\n",
       "      <td>1003</td>\n",
       "      <td>23</td>\n",
       "      <td>NaN</td>\n",
       "      <td>Москва</td>\n",
       "      <td>Белла</td>\n",
       "      <td>Белякова</td>\n",
       "      <td>2018-08-17</td>\n",
       "      <td>ultra</td>\n",
       "    </tr>\n",
       "    <tr>\n",
       "      <th>4</th>\n",
       "      <td>1004</td>\n",
       "      <td>68</td>\n",
       "      <td>NaN</td>\n",
       "      <td>Новокузнецк</td>\n",
       "      <td>Татьяна</td>\n",
       "      <td>Авдеенко</td>\n",
       "      <td>2018-05-14</td>\n",
       "      <td>ultra</td>\n",
       "    </tr>\n",
       "  </tbody>\n",
       "</table>\n",
       "</div>"
      ],
      "text/plain": [
       "   user_id  age churn_date         city first_name  last_name    reg_date  \\\n",
       "0     1000   52        NaN    Краснодар     Рафаил  Верещагин  2018-05-25   \n",
       "1     1001   41        NaN       Москва       Иван       Ежов  2018-11-01   \n",
       "2     1002   59        NaN  Стерлитамак    Евгений  Абрамович  2018-06-17   \n",
       "3     1003   23        NaN       Москва      Белла   Белякова  2018-08-17   \n",
       "4     1004   68        NaN  Новокузнецк    Татьяна   Авдеенко  2018-05-14   \n",
       "\n",
       "  tariff  \n",
       "0  ultra  \n",
       "1  smart  \n",
       "2  smart  \n",
       "3  ultra  \n",
       "4  ultra  "
      ]
     },
     "execution_count": 14,
     "metadata": {},
     "output_type": "execute_result"
    },
    {
     "data": {
      "image/png": "[encoded data removed]",
      "text/plain": [
       "<Figure size 648x432 with 1 Axes>"
      ]
     },
     "metadata": {
      "needs_background": "light"
     },
     "output_type": "display_data"
    }
   ],
   "source": [
    "df_users['age'].hist(bins = 70, figsize = (9, 6));\n",
    "plt.title('Гистограмма распределения возраста пользователей');\n",
    "df_users.head()"
   ]
  },
  {
   "cell_type": "markdown",
   "metadata": {},
   "source": [
    "### Проверка на дубликаты"
   ]
  },
  {
   "cell_type": "code",
   "execution_count": 15,
   "metadata": {},
   "outputs": [
    {
     "name": "stdout",
     "output_type": "stream",
     "text": [
      "Кол-во дубликатов в df_calls: 0\n",
      "Кол-во дубликатов в df_internet: 0\n",
      "Кол-во дубликатов в df_messages: 0\n",
      "Кол-во дубликатов в df_users: 0\n"
     ]
    }
   ],
   "source": [
    "print('Кол-во дубликатов в df_calls:', df_calls.duplicated().sum())\n",
    "print('Кол-во дубликатов в df_internet:', df_internet.duplicated().sum())\n",
    "print('Кол-во дубликатов в df_messages:', df_messages.duplicated().sum())\n",
    "print('Кол-во дубликатов в df_users:', df_users.duplicated().sum())\n",
    "#Полные повторы строк отсутствуют"
   ]
  },
  {
   "cell_type": "code",
   "execution_count": 16,
   "metadata": {},
   "outputs": [
    {
     "name": "stdout",
     "output_type": "stream",
     "text": [
      "Кол-во уникальных user_id в df_calls: 492\n",
      "Общее кол-во значений user_id в df_calls: 202607\n",
      "\n",
      "Кол-во уникальных user_id в df_internet: 497\n",
      "Общее кол-во значений user_id в df_internet: 149396\n",
      "\n",
      "Кол-во уникальных user_id в df_messages: 426\n",
      "Общее кол-во значений user_id в df_messages: 123036\n",
      "\n",
      "Кол-во уникальных user_id в df_users: 500\n",
      "Общее кол-во значений user_id в df_users: 500\n"
     ]
    }
   ],
   "source": [
    "print('Кол-во уникальных user_id в df_calls:', len(df_calls['user_id'].unique()))\n",
    "print('Общее кол-во значений user_id в df_calls:', len(df_calls['user_id']))\n",
    "print()\n",
    "\n",
    "print('Кол-во уникальных user_id в df_internet:', len(df_internet['user_id'].unique()))\n",
    "print('Общее кол-во значений user_id в df_internet:', len(df_internet['user_id']))\n",
    "print()\n",
    "\n",
    "print('Кол-во уникальных user_id в df_messages:', len(df_messages['user_id'].unique()))\n",
    "print('Общее кол-во значений user_id в df_messages:', len(df_messages['user_id']))\n",
    "print()\n",
    "\n",
    "print('Кол-во уникальных user_id в df_users:', len(df_users['user_id'].unique()))\n",
    "print('Общее кол-во значений user_id в df_users:', len(df_users['user_id']))"
   ]
  },
  {
   "cell_type": "markdown",
   "metadata": {},
   "source": [
    "Можем заметить, что у каждого фрейма разное кол-во уникальных user_id. Это говорит о том, что у нас есть пользователи, о которых нет информации: ни сколько потратили интернета, ни сколько минут проговорили, ни сколько смс отправили. Повторы по каждому user_id объясняются, как история операций. "
   ]
  },
  {
   "cell_type": "code",
   "execution_count": 17,
   "metadata": {},
   "outputs": [
    {
     "data": {
      "text/plain": [
       "1371    3\n",
       "1128    3\n",
       "1024    1\n",
       "1118    1\n",
       "1116    1\n",
       "dtype: int64"
      ]
     },
     "execution_count": 17,
     "metadata": {},
     "output_type": "execute_result"
    }
   ],
   "source": [
    "unique_user_id = pd.Series(df_users['user_id'].unique(), index = df_users['user_id'].unique())\n",
    "df_messages_missing_id = pd.Series(unique_user_id.isin(df_messages['user_id'])[unique_user_id.isin(df_messages['user_id']) == False].index)\n",
    "\n",
    "df_internet_missing_id = pd.Series(unique_user_id.isin(df_internet['user_id'])[unique_user_id.isin(df_internet['user_id']) == False].index)\n",
    "\n",
    "df_calls_missing_id = pd.Series(unique_user_id.isin(df_calls['user_id'])[unique_user_id.isin(df_calls['user_id']) == False].index)\n",
    "\n",
    "pd.concat([df_messages_missing_id, df_internet_missing_id, df_calls_missing_id], axis = 0).value_counts().head()"
   ]
  },
  {
   "cell_type": "markdown",
   "metadata": {},
   "source": [
    "Можем заметить, что имеется 2 пользователя, id которых нет ни в одном датафрейме, кроме df_users."
   ]
  },
  {
   "cell_type": "markdown",
   "metadata": {},
   "source": [
    "Далее проверим уникальность id в каждом датафрейме."
   ]
  },
  {
   "cell_type": "code",
   "execution_count": 18,
   "metadata": {},
   "outputs": [
    {
     "name": "stdout",
     "output_type": "stream",
     "text": [
      "Количество уникальных значений id в df_calls: 202607\n",
      "Количество строк в df_calls[id] 202607\n",
      "\n",
      "Количество уникальных значений id в df_internet: 149396\n",
      "Количество строк в df_internet[id] 149396\n",
      "\n",
      "Количество уникальных значений id в df_messages: 123036\n",
      "Количество строк в df_messages[id] 123036\n",
      "\n"
     ]
    }
   ],
   "source": [
    "print('Количество уникальных значений id в df_calls:', len(df_calls['id'].unique()))\n",
    "print('Количество строк в df_calls[''id'']', len(df_calls['id']))\n",
    "print('')\n",
    "\n",
    "print('Количество уникальных значений id в df_internet:', len(df_internet['id'].unique()))\n",
    "print('Количество строк в df_internet[''id'']', len(df_internet['id']))\n",
    "print('')\n",
    "\n",
    "print('Количество уникальных значений id в df_messages:', len(df_messages['id'].unique()))\n",
    "print('Количество строк в df_messages[''id'']', len(df_messages['id']))\n",
    "print('')"
   ]
  },
  {
   "cell_type": "markdown",
   "metadata": {},
   "source": [
    "Полные повторы строк по столбцу id в фреймах отсутствуют."
   ]
  },
  {
   "cell_type": "markdown",
   "metadata": {},
   "source": [
    "###  Поиск аномальных значений."
   ]
  },
  {
   "cell_type": "code",
   "execution_count": 19,
   "metadata": {},
   "outputs": [
    {
     "name": "stdout",
     "output_type": "stream",
     "text": [
      "7.0     11510\n",
      "6.0     11457\n",
      "5.0     11411\n",
      "8.0     11272\n",
      "9.0     10973\n",
      "4.0     10918\n",
      "3.0     10362\n",
      "10.0    10186\n",
      "11.0     9385\n",
      "2.0      9194\n",
      "Name: duration, dtype: int64\n"
     ]
    },
    {
     "data": {
      "image/png": "[encoded data removed]",
      "text/plain": [
       "<Figure size 432x288 with 1 Axes>"
      ]
     },
     "metadata": {
      "needs_background": "light"
     },
     "output_type": "display_data"
    }
   ],
   "source": [
    "df_calls['duration'].hist(bins = 40)\n",
    "print(df_calls['duration'].value_counts().head(10))"
   ]
  },
  {
   "cell_type": "markdown",
   "metadata": {},
   "source": [
    "Наиболее частая длительность звонков не превышает 11 секунд. Можно объяснить тем, что человек берет трубку, слышит, например рекламу или робота и сразу скидывает."
   ]
  },
  {
   "cell_type": "code",
   "execution_count": 20,
   "metadata": {},
   "outputs": [
    {
     "name": "stdout",
     "output_type": "stream",
     "text": [
      "2018-01-01 00:00:00\n",
      "2018-12-31 00:00:00\n"
     ]
    }
   ],
   "source": [
    "df_calls['month'] = df_calls['call_date'].dt.month\n",
    "print(df_calls['call_date'].min())\n",
    "print(df_calls['call_date'].max())"
   ]
  },
  {
   "cell_type": "markdown",
   "metadata": {},
   "source": [
    "Видим, что данные представлены за один год"
   ]
  },
  {
   "cell_type": "code",
   "execution_count": 21,
   "metadata": {},
   "outputs": [
    {
     "name": "stdout",
     "output_type": "stream",
     "text": [
      "12    33987\n",
      "11    29501\n",
      "10    27146\n",
      "9     24061\n",
      "8     21488\n",
      "7     18298\n",
      "6     14716\n",
      "5     12647\n",
      "4      9272\n",
      "3      6687\n",
      "2      3328\n",
      "1      1476\n",
      "Name: month, dtype: int64\n",
      "\n",
      "12     NaN\n",
      "11    0.13\n",
      "10    0.08\n",
      "9     0.11\n",
      "8     0.11\n",
      "7     0.15\n",
      "6     0.20\n",
      "5     0.14\n",
      "4     0.27\n",
      "3     0.28\n",
      "2     0.50\n",
      "1     0.56\n",
      "Name: month, dtype: float64\n"
     ]
    },
    {
     "data": {
      "image/png": "[encoded data removed]",
      "text/plain": [
       "<Figure size 432x288 with 1 Axes>"
      ]
     },
     "metadata": {
      "needs_background": "light"
     },
     "output_type": "display_data"
    }
   ],
   "source": [
    "print(df_calls['month'].value_counts())\n",
    "print()\n",
    "print(abs(round(df_calls['month'].value_counts().pct_change(), 2)))#прирост количества звонков по месяцам\n",
    "df_calls['month'].hist(bins = 12);\n",
    "plt.title('Гистограмма роста количества звонков по месяцам');"
   ]
  },
  {
   "cell_type": "markdown",
   "metadata": {},
   "source": [
    "Видим, что кол-во звоноков стабильно росло с каждым месяцем."
   ]
  },
  {
   "cell_type": "code",
   "execution_count": 22,
   "metadata": {},
   "outputs": [
    {
     "name": "stdout",
     "output_type": "stream",
     "text": [
      "2018-12-31    1057\n",
      "2018-12-30     903\n",
      "2018-12-25     859\n",
      "2018-12-26     844\n",
      "2018-12-22     834\n",
      "Name: session_date, dtype: int64\n",
      "\n",
      "Строк с 0 потраченных мб: 19598\n"
     ]
    },
    {
     "data": {
      "image/png": "[encoded data removed]",
      "text/plain": [
       "<Figure size 432x288 with 1 Axes>"
      ]
     },
     "metadata": {
      "needs_background": "light"
     },
     "output_type": "display_data"
    }
   ],
   "source": [
    "print(df_internet['session_date'].value_counts().head())\n",
    "df_internet['session_date'].hist()\n",
    "print()\n",
    "print('Строк с 0 потраченных мб:', df_internet['mb_used'].isnull().sum())#19598 строк с нулевым траффиком\n",
    "#Предположение: клиент пытался зайти в сеть, например, загрузить сайт, но сеть плохо ловила\n",
    "#и загрузить не получилось, но попытка входа зачлась"
   ]
  },
  {
   "cell_type": "markdown",
   "metadata": {},
   "source": [
    "Количество выходов в интернет росло также равномерно, как и количество звонков."
   ]
  },
  {
   "cell_type": "code",
   "execution_count": 23,
   "metadata": {},
   "outputs": [
    {
     "data": {
      "text/plain": [
       "2018-12-31    859\n",
       "2018-12-30    765\n",
       "2018-12-21    712\n",
       "2018-12-29    702\n",
       "2018-12-26    699\n",
       "2018-12-28    699\n",
       "2018-12-22    687\n",
       "2018-12-25    684\n",
       "2018-12-23    676\n",
       "2018-12-18    675\n",
       "2018-12-12    674\n",
       "2018-12-13    671\n",
       "2018-12-08    666\n",
       "2018-11-26    665\n",
       "2018-12-04    661\n",
       "Name: message_date, dtype: int64"
      ]
     },
     "execution_count": 23,
     "metadata": {},
     "output_type": "execute_result"
    },
    {
     "data": {
      "image/png": "[encoded data removed]",
      "text/plain": [
       "<Figure size 432x288 with 1 Axes>"
      ]
     },
     "metadata": {
      "needs_background": "light"
     },
     "output_type": "display_data"
    }
   ],
   "source": [
    "df_messages['message_date'].hist()\n",
    "df_messages['message_date'].value_counts().head(15)"
   ]
  },
  {
   "cell_type": "markdown",
   "metadata": {},
   "source": [
    "Больше всего смс также отправлялось в декабре, особенно под новый год."
   ]
  },
  {
   "cell_type": "markdown",
   "metadata": {},
   "source": [
    "#### Вывод"
   ]
  },
  {
   "cell_type": "markdown",
   "metadata": {},
   "source": [
    "На этапе предобработки были проделаны следующие шаги:\n",
    " - Изменены типы данных некоторых столбцов\n",
    " - Обнаружен и удален пустой столбец \"Unnamed: 0\" в фрейме df_internet\n",
    " - Проведена проверка на дубликаты, полных дубликтов не обнаружено\n",
    " - Замечены нулевые значения в столбце mb_used, сделано предположение о природе их происхождения\n",
    " - Анализ столбца duration показал, что наиболее частые продолжительности звонков - менее 10 секунд\n",
    " - Подсчитано количество звонков и их суммарная продолжительность. Данные показатели росли на протяжении всего года, это же касается и интернета с смс"
   ]
  },
  {
   "cell_type": "markdown",
   "metadata": {},
   "source": [
    "## Подсчет метрик для каждого пользователя"
   ]
  },
  {
   "cell_type": "markdown",
   "metadata": {},
   "source": [
    "### Кол-во звонков, смс и интернета"
   ]
  },
  {
   "cell_type": "code",
   "execution_count": 24,
   "metadata": {},
   "outputs": [
    {
     "data": {
      "text/html": [
       "<div>\n",
       "<style scoped>\n",
       "    .dataframe tbody tr th:only-of-type {\n",
       "        vertical-align: middle;\n",
       "    }\n",
       "\n",
       "    .dataframe tbody tr th {\n",
       "        vertical-align: top;\n",
       "    }\n",
       "\n",
       "    .dataframe thead th {\n",
       "        text-align: right;\n",
       "    }\n",
       "</style>\n",
       "<table border=\"1\" class=\"dataframe\">\n",
       "  <thead>\n",
       "    <tr style=\"text-align: right;\">\n",
       "      <th></th>\n",
       "      <th>user_id</th>\n",
       "      <th>month</th>\n",
       "      <th>duration</th>\n",
       "      <th>id</th>\n",
       "    </tr>\n",
       "  </thead>\n",
       "  <tbody>\n",
       "    <tr>\n",
       "      <th>0</th>\n",
       "      <td>1000</td>\n",
       "      <td>5</td>\n",
       "      <td>159.0</td>\n",
       "      <td>22</td>\n",
       "    </tr>\n",
       "    <tr>\n",
       "      <th>1</th>\n",
       "      <td>1000</td>\n",
       "      <td>6</td>\n",
       "      <td>172.0</td>\n",
       "      <td>43</td>\n",
       "    </tr>\n",
       "    <tr>\n",
       "      <th>2</th>\n",
       "      <td>1000</td>\n",
       "      <td>7</td>\n",
       "      <td>340.0</td>\n",
       "      <td>47</td>\n",
       "    </tr>\n",
       "    <tr>\n",
       "      <th>3</th>\n",
       "      <td>1000</td>\n",
       "      <td>8</td>\n",
       "      <td>408.0</td>\n",
       "      <td>52</td>\n",
       "    </tr>\n",
       "    <tr>\n",
       "      <th>4</th>\n",
       "      <td>1000</td>\n",
       "      <td>9</td>\n",
       "      <td>466.0</td>\n",
       "      <td>58</td>\n",
       "    </tr>\n",
       "    <tr>\n",
       "      <th>...</th>\n",
       "      <td>...</td>\n",
       "      <td>...</td>\n",
       "      <td>...</td>\n",
       "      <td>...</td>\n",
       "    </tr>\n",
       "    <tr>\n",
       "      <th>3169</th>\n",
       "      <td>1498</td>\n",
       "      <td>10</td>\n",
       "      <td>247.0</td>\n",
       "      <td>41</td>\n",
       "    </tr>\n",
       "    <tr>\n",
       "      <th>3170</th>\n",
       "      <td>1499</td>\n",
       "      <td>9</td>\n",
       "      <td>70.0</td>\n",
       "      <td>9</td>\n",
       "    </tr>\n",
       "    <tr>\n",
       "      <th>3171</th>\n",
       "      <td>1499</td>\n",
       "      <td>10</td>\n",
       "      <td>449.0</td>\n",
       "      <td>68</td>\n",
       "    </tr>\n",
       "    <tr>\n",
       "      <th>3172</th>\n",
       "      <td>1499</td>\n",
       "      <td>11</td>\n",
       "      <td>612.0</td>\n",
       "      <td>74</td>\n",
       "    </tr>\n",
       "    <tr>\n",
       "      <th>3173</th>\n",
       "      <td>1499</td>\n",
       "      <td>12</td>\n",
       "      <td>492.0</td>\n",
       "      <td>69</td>\n",
       "    </tr>\n",
       "  </tbody>\n",
       "</table>\n",
       "<p>3174 rows × 4 columns</p>\n",
       "</div>"
      ],
      "text/plain": [
       "      user_id  month  duration  id\n",
       "0        1000      5     159.0  22\n",
       "1        1000      6     172.0  43\n",
       "2        1000      7     340.0  47\n",
       "3        1000      8     408.0  52\n",
       "4        1000      9     466.0  58\n",
       "...       ...    ...       ...  ..\n",
       "3169     1498     10     247.0  41\n",
       "3170     1499      9      70.0   9\n",
       "3171     1499     10     449.0  68\n",
       "3172     1499     11     612.0  74\n",
       "3173     1499     12     492.0  69\n",
       "\n",
       "[3174 rows x 4 columns]"
      ]
     },
     "execution_count": 24,
     "metadata": {},
     "output_type": "execute_result"
    }
   ],
   "source": [
    "#количество сделанных звонков и израсходованных минут разговора по месяцам\n",
    "df_calls['month'] = df_calls['call_date'].dt.month\n",
    "user_calls = df_calls.groupby(['user_id', 'month']).agg({'duration':'sum', 'id':'count'}).reset_index()\n",
    "user_calls"
   ]
  },
  {
   "cell_type": "code",
   "execution_count": 25,
   "metadata": {},
   "outputs": [
    {
     "data": {
      "text/html": [
       "<div>\n",
       "<style scoped>\n",
       "    .dataframe tbody tr th:only-of-type {\n",
       "        vertical-align: middle;\n",
       "    }\n",
       "\n",
       "    .dataframe tbody tr th {\n",
       "        vertical-align: top;\n",
       "    }\n",
       "\n",
       "    .dataframe thead th {\n",
       "        text-align: right;\n",
       "    }\n",
       "</style>\n",
       "<table border=\"1\" class=\"dataframe\">\n",
       "  <thead>\n",
       "    <tr style=\"text-align: right;\">\n",
       "      <th></th>\n",
       "      <th>user_id</th>\n",
       "      <th>month</th>\n",
       "      <th>id</th>\n",
       "    </tr>\n",
       "  </thead>\n",
       "  <tbody>\n",
       "    <tr>\n",
       "      <th>0</th>\n",
       "      <td>1000</td>\n",
       "      <td>5</td>\n",
       "      <td>22</td>\n",
       "    </tr>\n",
       "    <tr>\n",
       "      <th>1</th>\n",
       "      <td>1000</td>\n",
       "      <td>6</td>\n",
       "      <td>60</td>\n",
       "    </tr>\n",
       "    <tr>\n",
       "      <th>2</th>\n",
       "      <td>1000</td>\n",
       "      <td>7</td>\n",
       "      <td>75</td>\n",
       "    </tr>\n",
       "    <tr>\n",
       "      <th>3</th>\n",
       "      <td>1000</td>\n",
       "      <td>8</td>\n",
       "      <td>81</td>\n",
       "    </tr>\n",
       "    <tr>\n",
       "      <th>4</th>\n",
       "      <td>1000</td>\n",
       "      <td>9</td>\n",
       "      <td>57</td>\n",
       "    </tr>\n",
       "    <tr>\n",
       "      <th>...</th>\n",
       "      <td>...</td>\n",
       "      <td>...</td>\n",
       "      <td>...</td>\n",
       "    </tr>\n",
       "    <tr>\n",
       "      <th>2712</th>\n",
       "      <td>1498</td>\n",
       "      <td>10</td>\n",
       "      <td>42</td>\n",
       "    </tr>\n",
       "    <tr>\n",
       "      <th>2713</th>\n",
       "      <td>1499</td>\n",
       "      <td>9</td>\n",
       "      <td>11</td>\n",
       "    </tr>\n",
       "    <tr>\n",
       "      <th>2714</th>\n",
       "      <td>1499</td>\n",
       "      <td>10</td>\n",
       "      <td>48</td>\n",
       "    </tr>\n",
       "    <tr>\n",
       "      <th>2715</th>\n",
       "      <td>1499</td>\n",
       "      <td>11</td>\n",
       "      <td>59</td>\n",
       "    </tr>\n",
       "    <tr>\n",
       "      <th>2716</th>\n",
       "      <td>1499</td>\n",
       "      <td>12</td>\n",
       "      <td>66</td>\n",
       "    </tr>\n",
       "  </tbody>\n",
       "</table>\n",
       "<p>2717 rows × 3 columns</p>\n",
       "</div>"
      ],
      "text/plain": [
       "      user_id  month  id\n",
       "0        1000      5  22\n",
       "1        1000      6  60\n",
       "2        1000      7  75\n",
       "3        1000      8  81\n",
       "4        1000      9  57\n",
       "...       ...    ...  ..\n",
       "2712     1498     10  42\n",
       "2713     1499      9  11\n",
       "2714     1499     10  48\n",
       "2715     1499     11  59\n",
       "2716     1499     12  66\n",
       "\n",
       "[2717 rows x 3 columns]"
      ]
     },
     "execution_count": 25,
     "metadata": {},
     "output_type": "execute_result"
    }
   ],
   "source": [
    "#количество отправленных сообщений по месяцам\n",
    "df_messages['month'] = df_messages['message_date'].dt.month\n",
    "user_messages = df_messages.groupby(['user_id', 'month']).agg({'id':'count'}).reset_index()\n",
    "user_messages"
   ]
  },
  {
   "cell_type": "code",
   "execution_count": 26,
   "metadata": {},
   "outputs": [
    {
     "data": {
      "text/html": [
       "<div>\n",
       "<style scoped>\n",
       "    .dataframe tbody tr th:only-of-type {\n",
       "        vertical-align: middle;\n",
       "    }\n",
       "\n",
       "    .dataframe tbody tr th {\n",
       "        vertical-align: top;\n",
       "    }\n",
       "\n",
       "    .dataframe thead th {\n",
       "        text-align: right;\n",
       "    }\n",
       "</style>\n",
       "<table border=\"1\" class=\"dataframe\">\n",
       "  <thead>\n",
       "    <tr style=\"text-align: right;\">\n",
       "      <th></th>\n",
       "      <th>user_id</th>\n",
       "      <th>month</th>\n",
       "      <th>mb_used</th>\n",
       "    </tr>\n",
       "  </thead>\n",
       "  <tbody>\n",
       "    <tr>\n",
       "      <th>0</th>\n",
       "      <td>1000</td>\n",
       "      <td>5</td>\n",
       "      <td>2256.0</td>\n",
       "    </tr>\n",
       "    <tr>\n",
       "      <th>1</th>\n",
       "      <td>1000</td>\n",
       "      <td>6</td>\n",
       "      <td>23257.0</td>\n",
       "    </tr>\n",
       "    <tr>\n",
       "      <th>2</th>\n",
       "      <td>1000</td>\n",
       "      <td>7</td>\n",
       "      <td>14016.0</td>\n",
       "    </tr>\n",
       "    <tr>\n",
       "      <th>3</th>\n",
       "      <td>1000</td>\n",
       "      <td>8</td>\n",
       "      <td>14070.0</td>\n",
       "    </tr>\n",
       "    <tr>\n",
       "      <th>4</th>\n",
       "      <td>1000</td>\n",
       "      <td>9</td>\n",
       "      <td>14581.0</td>\n",
       "    </tr>\n",
       "    <tr>\n",
       "      <th>...</th>\n",
       "      <td>...</td>\n",
       "      <td>...</td>\n",
       "      <td>...</td>\n",
       "    </tr>\n",
       "    <tr>\n",
       "      <th>3198</th>\n",
       "      <td>1498</td>\n",
       "      <td>10</td>\n",
       "      <td>20604.0</td>\n",
       "    </tr>\n",
       "    <tr>\n",
       "      <th>3199</th>\n",
       "      <td>1499</td>\n",
       "      <td>9</td>\n",
       "      <td>1848.0</td>\n",
       "    </tr>\n",
       "    <tr>\n",
       "      <th>3200</th>\n",
       "      <td>1499</td>\n",
       "      <td>10</td>\n",
       "      <td>17809.0</td>\n",
       "    </tr>\n",
       "    <tr>\n",
       "      <th>3201</th>\n",
       "      <td>1499</td>\n",
       "      <td>11</td>\n",
       "      <td>17984.0</td>\n",
       "    </tr>\n",
       "    <tr>\n",
       "      <th>3202</th>\n",
       "      <td>1499</td>\n",
       "      <td>12</td>\n",
       "      <td>13077.0</td>\n",
       "    </tr>\n",
       "  </tbody>\n",
       "</table>\n",
       "<p>3203 rows × 3 columns</p>\n",
       "</div>"
      ],
      "text/plain": [
       "      user_id  month  mb_used\n",
       "0        1000      5   2256.0\n",
       "1        1000      6  23257.0\n",
       "2        1000      7  14016.0\n",
       "3        1000      8  14070.0\n",
       "4        1000      9  14581.0\n",
       "...       ...    ...      ...\n",
       "3198     1498     10  20604.0\n",
       "3199     1499      9   1848.0\n",
       "3200     1499     10  17809.0\n",
       "3201     1499     11  17984.0\n",
       "3202     1499     12  13077.0\n",
       "\n",
       "[3203 rows x 3 columns]"
      ]
     },
     "execution_count": 26,
     "metadata": {},
     "output_type": "execute_result"
    }
   ],
   "source": [
    "#объем израсходованного интернет-трафика по месяцам\n",
    "df_internet['month'] = df_internet['session_date'].dt.month\n",
    "user_internet = df_internet.groupby(['user_id', 'month']).agg({'mb_used':'sum'}).reset_index()\n",
    "user_internet"
   ]
  },
  {
   "cell_type": "code",
   "execution_count": 27,
   "metadata": {
    "scrolled": false
   },
   "outputs": [
    {
     "data": {
      "text/html": [
       "<div>\n",
       "<style scoped>\n",
       "    .dataframe tbody tr th:only-of-type {\n",
       "        vertical-align: middle;\n",
       "    }\n",
       "\n",
       "    .dataframe tbody tr th {\n",
       "        vertical-align: top;\n",
       "    }\n",
       "\n",
       "    .dataframe thead th {\n",
       "        text-align: right;\n",
       "    }\n",
       "</style>\n",
       "<table border=\"1\" class=\"dataframe\">\n",
       "  <thead>\n",
       "    <tr style=\"text-align: right;\">\n",
       "      <th></th>\n",
       "      <th>user_id</th>\n",
       "      <th>month</th>\n",
       "      <th>duration</th>\n",
       "      <th>calls_id</th>\n",
       "      <th>messages_id</th>\n",
       "      <th>mb_used</th>\n",
       "      <th>age</th>\n",
       "      <th>churn_date</th>\n",
       "      <th>city</th>\n",
       "      <th>first_name</th>\n",
       "      <th>last_name</th>\n",
       "      <th>reg_date</th>\n",
       "      <th>tariff</th>\n",
       "    </tr>\n",
       "  </thead>\n",
       "  <tbody>\n",
       "    <tr>\n",
       "      <th>0</th>\n",
       "      <td>1000</td>\n",
       "      <td>5.0</td>\n",
       "      <td>159.0</td>\n",
       "      <td>22.0</td>\n",
       "      <td>22.0</td>\n",
       "      <td>2256.0</td>\n",
       "      <td>52</td>\n",
       "      <td>NaN</td>\n",
       "      <td>Краснодар</td>\n",
       "      <td>Рафаил</td>\n",
       "      <td>Верещагин</td>\n",
       "      <td>2018-05-25</td>\n",
       "      <td>ultra</td>\n",
       "    </tr>\n",
       "    <tr>\n",
       "      <th>1</th>\n",
       "      <td>1000</td>\n",
       "      <td>6.0</td>\n",
       "      <td>172.0</td>\n",
       "      <td>43.0</td>\n",
       "      <td>60.0</td>\n",
       "      <td>23257.0</td>\n",
       "      <td>52</td>\n",
       "      <td>NaN</td>\n",
       "      <td>Краснодар</td>\n",
       "      <td>Рафаил</td>\n",
       "      <td>Верещагин</td>\n",
       "      <td>2018-05-25</td>\n",
       "      <td>ultra</td>\n",
       "    </tr>\n",
       "    <tr>\n",
       "      <th>2</th>\n",
       "      <td>1000</td>\n",
       "      <td>7.0</td>\n",
       "      <td>340.0</td>\n",
       "      <td>47.0</td>\n",
       "      <td>75.0</td>\n",
       "      <td>14016.0</td>\n",
       "      <td>52</td>\n",
       "      <td>NaN</td>\n",
       "      <td>Краснодар</td>\n",
       "      <td>Рафаил</td>\n",
       "      <td>Верещагин</td>\n",
       "      <td>2018-05-25</td>\n",
       "      <td>ultra</td>\n",
       "    </tr>\n",
       "    <tr>\n",
       "      <th>3</th>\n",
       "      <td>1000</td>\n",
       "      <td>8.0</td>\n",
       "      <td>408.0</td>\n",
       "      <td>52.0</td>\n",
       "      <td>81.0</td>\n",
       "      <td>14070.0</td>\n",
       "      <td>52</td>\n",
       "      <td>NaN</td>\n",
       "      <td>Краснодар</td>\n",
       "      <td>Рафаил</td>\n",
       "      <td>Верещагин</td>\n",
       "      <td>2018-05-25</td>\n",
       "      <td>ultra</td>\n",
       "    </tr>\n",
       "    <tr>\n",
       "      <th>4</th>\n",
       "      <td>1000</td>\n",
       "      <td>9.0</td>\n",
       "      <td>466.0</td>\n",
       "      <td>58.0</td>\n",
       "      <td>57.0</td>\n",
       "      <td>14581.0</td>\n",
       "      <td>52</td>\n",
       "      <td>NaN</td>\n",
       "      <td>Краснодар</td>\n",
       "      <td>Рафаил</td>\n",
       "      <td>Верещагин</td>\n",
       "      <td>2018-05-25</td>\n",
       "      <td>ultra</td>\n",
       "    </tr>\n",
       "    <tr>\n",
       "      <th>...</th>\n",
       "      <td>...</td>\n",
       "      <td>...</td>\n",
       "      <td>...</td>\n",
       "      <td>...</td>\n",
       "      <td>...</td>\n",
       "      <td>...</td>\n",
       "      <td>...</td>\n",
       "      <td>...</td>\n",
       "      <td>...</td>\n",
       "      <td>...</td>\n",
       "      <td>...</td>\n",
       "      <td>...</td>\n",
       "      <td>...</td>\n",
       "    </tr>\n",
       "    <tr>\n",
       "      <th>3211</th>\n",
       "      <td>1489</td>\n",
       "      <td>10.0</td>\n",
       "      <td>NaN</td>\n",
       "      <td>NaN</td>\n",
       "      <td>21.0</td>\n",
       "      <td>19588.0</td>\n",
       "      <td>35</td>\n",
       "      <td>NaN</td>\n",
       "      <td>Санкт-Петербург</td>\n",
       "      <td>Павел</td>\n",
       "      <td>Гончаров</td>\n",
       "      <td>2018-08-15</td>\n",
       "      <td>smart</td>\n",
       "    </tr>\n",
       "    <tr>\n",
       "      <th>3212</th>\n",
       "      <td>1489</td>\n",
       "      <td>11.0</td>\n",
       "      <td>NaN</td>\n",
       "      <td>NaN</td>\n",
       "      <td>20.0</td>\n",
       "      <td>17516.0</td>\n",
       "      <td>35</td>\n",
       "      <td>NaN</td>\n",
       "      <td>Санкт-Петербург</td>\n",
       "      <td>Павел</td>\n",
       "      <td>Гончаров</td>\n",
       "      <td>2018-08-15</td>\n",
       "      <td>smart</td>\n",
       "    </tr>\n",
       "    <tr>\n",
       "      <th>3213</th>\n",
       "      <td>1489</td>\n",
       "      <td>12.0</td>\n",
       "      <td>NaN</td>\n",
       "      <td>NaN</td>\n",
       "      <td>35.0</td>\n",
       "      <td>17341.0</td>\n",
       "      <td>35</td>\n",
       "      <td>NaN</td>\n",
       "      <td>Санкт-Петербург</td>\n",
       "      <td>Павел</td>\n",
       "      <td>Гончаров</td>\n",
       "      <td>2018-08-15</td>\n",
       "      <td>smart</td>\n",
       "    </tr>\n",
       "    <tr>\n",
       "      <th>3214</th>\n",
       "      <td>1128</td>\n",
       "      <td>NaN</td>\n",
       "      <td>NaN</td>\n",
       "      <td>NaN</td>\n",
       "      <td>NaN</td>\n",
       "      <td>NaN</td>\n",
       "      <td>51</td>\n",
       "      <td>2018-12-23</td>\n",
       "      <td>Волжский</td>\n",
       "      <td>Ксения</td>\n",
       "      <td>Агаева</td>\n",
       "      <td>2018-12-15</td>\n",
       "      <td>ultra</td>\n",
       "    </tr>\n",
       "    <tr>\n",
       "      <th>3215</th>\n",
       "      <td>1371</td>\n",
       "      <td>NaN</td>\n",
       "      <td>NaN</td>\n",
       "      <td>NaN</td>\n",
       "      <td>NaN</td>\n",
       "      <td>NaN</td>\n",
       "      <td>50</td>\n",
       "      <td>2018-12-30</td>\n",
       "      <td>Омск</td>\n",
       "      <td>Ириней</td>\n",
       "      <td>Трофимов</td>\n",
       "      <td>2018-12-25</td>\n",
       "      <td>smart</td>\n",
       "    </tr>\n",
       "  </tbody>\n",
       "</table>\n",
       "<p>3216 rows × 13 columns</p>\n",
       "</div>"
      ],
      "text/plain": [
       "      user_id  month  duration  calls_id  messages_id  mb_used  age  \\\n",
       "0        1000    5.0     159.0      22.0         22.0   2256.0   52   \n",
       "1        1000    6.0     172.0      43.0         60.0  23257.0   52   \n",
       "2        1000    7.0     340.0      47.0         75.0  14016.0   52   \n",
       "3        1000    8.0     408.0      52.0         81.0  14070.0   52   \n",
       "4        1000    9.0     466.0      58.0         57.0  14581.0   52   \n",
       "...       ...    ...       ...       ...          ...      ...  ...   \n",
       "3211     1489   10.0       NaN       NaN         21.0  19588.0   35   \n",
       "3212     1489   11.0       NaN       NaN         20.0  17516.0   35   \n",
       "3213     1489   12.0       NaN       NaN         35.0  17341.0   35   \n",
       "3214     1128    NaN       NaN       NaN          NaN      NaN   51   \n",
       "3215     1371    NaN       NaN       NaN          NaN      NaN   50   \n",
       "\n",
       "      churn_date             city first_name  last_name    reg_date tariff  \n",
       "0            NaN        Краснодар     Рафаил  Верещагин  2018-05-25  ultra  \n",
       "1            NaN        Краснодар     Рафаил  Верещагин  2018-05-25  ultra  \n",
       "2            NaN        Краснодар     Рафаил  Верещагин  2018-05-25  ultra  \n",
       "3            NaN        Краснодар     Рафаил  Верещагин  2018-05-25  ultra  \n",
       "4            NaN        Краснодар     Рафаил  Верещагин  2018-05-25  ultra  \n",
       "...          ...              ...        ...        ...         ...    ...  \n",
       "3211         NaN  Санкт-Петербург      Павел   Гончаров  2018-08-15  smart  \n",
       "3212         NaN  Санкт-Петербург      Павел   Гончаров  2018-08-15  smart  \n",
       "3213         NaN  Санкт-Петербург      Павел   Гончаров  2018-08-15  smart  \n",
       "3214  2018-12-23         Волжский     Ксения     Агаева  2018-12-15  ultra  \n",
       "3215  2018-12-30             Омск     Ириней   Трофимов  2018-12-25  smart  \n",
       "\n",
       "[3216 rows x 13 columns]"
      ]
     },
     "execution_count": 27,
     "metadata": {},
     "output_type": "execute_result"
    }
   ],
   "source": [
    "#новый dataframe\n",
    "df_new = user_calls.merge(user_messages, on=['user_id', 'month'], how='outer')\n",
    "df_new = df_new.merge(user_internet, on=['user_id', 'month'], how='outer')\n",
    "df_new = df_new.merge(df_users, on=['user_id'], how = 'outer')\n",
    "df_new = df_new.rename(columns={'id_x':'calls_id', 'id_y':'messages_id', 'id':'internet_id'})\n",
    "df_new"
   ]
  },
  {
   "cell_type": "code",
   "execution_count": 28,
   "metadata": {},
   "outputs": [
    {
     "data": {
      "text/plain": [
       "user_id           0\n",
       "month             2\n",
       "duration         42\n",
       "calls_id         42\n",
       "messages_id     499\n",
       "mb_used          13\n",
       "age               0\n",
       "churn_date     3027\n",
       "city              0\n",
       "first_name        0\n",
       "last_name         0\n",
       "reg_date          0\n",
       "tariff            0\n",
       "dtype: int64"
      ]
     },
     "execution_count": 28,
     "metadata": {},
     "output_type": "execute_result"
    }
   ],
   "source": [
    "df_new.isna().sum()"
   ]
  },
  {
   "cell_type": "markdown",
   "metadata": {},
   "source": [
    "Созданный датафрейм имеет пропуски в столбцах. Данные пропуски означают, что клиент просто не использовал смс, звонки или интернет в данном месяце"
   ]
  },
  {
   "cell_type": "markdown",
   "metadata": {},
   "source": [
    "### Подсчет выручки с каждого клиента"
   ]
  },
  {
   "cell_type": "markdown",
   "metadata": {},
   "source": [
    "Округлим МБ до ГБ и создадим новый столбец с количеством использованных гигабайт, это упростит последующие расчеты. Логика следующая: при превышении своего тарифа по интернету, клиент платит не за МБ, которые он использовал сверх тарифа, а покупает целый пакет на 1Гб. Из этого пакета он может использовать хоть один МБ, но платить будет все равно за весь 1Гб. Это метрика больше всего полезна при определении кол-ва дополнительных Гб, которые клиент купил."
   ]
  },
  {
   "cell_type": "code",
   "execution_count": 29,
   "metadata": {},
   "outputs": [],
   "source": [
    "df_new['gb_used'] = (df_new['mb_used']/1024).apply(np.ceil)"
   ]
  },
  {
   "cell_type": "code",
   "execution_count": 30,
   "metadata": {},
   "outputs": [],
   "source": [
    "def profit_per_sub(row):\n",
    "    minutes_profit_ultra = 0\n",
    "    messages_profit_ultra = 0\n",
    "    internet_profit_ultra = 0\n",
    "    minutes_profit_smart = 0\n",
    "    messages_profit_smart = 0\n",
    "    internet_profit_smart = 0\n",
    "    if row['tariff'] == 'ultra':\n",
    "        if row['duration']>ULTRA_MINUTES:\n",
    "            minutes_overused = row['duration']-ULTRA_MINUTES\n",
    "            minutes_profit_ultra = minutes_overused*ULTRA_MIN_COST\n",
    "        if row['messages_id'] > ULTRA_MESSAGES:\n",
    "            messages_overused = row['messages_id']-ULTRA_MESSAGES\n",
    "            messages_profit_ultra = messages_overused*ULTRA_MESSAGE_COST\n",
    "        if row['gb_used'] > ULTRA_INTERNET_GB:\n",
    "            gb_overused = row['gb_used'] - ULTRA_INTERNET_GB\n",
    "            internet_profit_ultra = gb_overused*ULTRA_1000MB\n",
    "        return minutes_profit_ultra + messages_profit_ultra + internet_profit_ultra + ULTRA_COST\n",
    "    if row['tariff'] == 'smart':\n",
    "        if row['duration']>SMART_MINUTES:\n",
    "            minutes_overused = row['duration']-SMART_MINUTES\n",
    "            minutes_profit_smart = minutes_overused*SMART_MIN_COST\n",
    "        if row['messages_id'] > SMART_MESSAGES:\n",
    "            messages_overused = row['messages_id']-SMART_MESSAGES\n",
    "            messages_profit_smart = messages_overused*SMART_MESSAGE_COST\n",
    "        if row['gb_used'] > SMART_INTERNET_GB:\n",
    "            gb_overused = row['gb_used'] - SMART_INTERNET_GB\n",
    "            internet_profit_smart = gb_overused*SMART_1000MB\n",
    "        return minutes_profit_smart + messages_profit_smart + internet_profit_smart + SMART_COST\n",
    "    \n",
    "df_new['profit_per_sub'] = df_new.apply(profit_per_sub, axis = 1)"
   ]
  },
  {
   "cell_type": "markdown",
   "metadata": {},
   "source": [
    "Создана функция для подсчета выручки с каждого пользователя. Принцип работы функции: profit_per_sub - функция для одной строки, которая принимает на вход данные и возвращает доход, который получила компания с данного клиента в заданном месяце. Доход с клиента склыдывается из следующего: \n",
    "- количество смс, интернета и минут, которые клиент приобрел сверх своего подключенного пакета\n",
    "- абонентская плата по подключенному тарифу\n",
    "\n",
    "Если месячный доход с клиента равен его абонентской плате по тарифу, то это означает, что клиент не докупал никаких мб, минут или смс сверх своего тарифного плана."
   ]
  },
  {
   "cell_type": "code",
   "execution_count": 31,
   "metadata": {},
   "outputs": [
    {
     "data": {
      "text/html": [
       "<div>\n",
       "<style scoped>\n",
       "    .dataframe tbody tr th:only-of-type {\n",
       "        vertical-align: middle;\n",
       "    }\n",
       "\n",
       "    .dataframe tbody tr th {\n",
       "        vertical-align: top;\n",
       "    }\n",
       "\n",
       "    .dataframe thead th {\n",
       "        text-align: right;\n",
       "    }\n",
       "</style>\n",
       "<table border=\"1\" class=\"dataframe\">\n",
       "  <thead>\n",
       "    <tr style=\"text-align: right;\">\n",
       "      <th></th>\n",
       "      <th>user_id</th>\n",
       "      <th>month</th>\n",
       "      <th>duration</th>\n",
       "      <th>calls_id</th>\n",
       "      <th>messages_id</th>\n",
       "      <th>mb_used</th>\n",
       "      <th>age</th>\n",
       "      <th>churn_date</th>\n",
       "      <th>city</th>\n",
       "      <th>first_name</th>\n",
       "      <th>last_name</th>\n",
       "      <th>reg_date</th>\n",
       "      <th>tariff</th>\n",
       "      <th>gb_used</th>\n",
       "      <th>profit_per_sub</th>\n",
       "    </tr>\n",
       "  </thead>\n",
       "  <tbody>\n",
       "    <tr>\n",
       "      <th>0</th>\n",
       "      <td>1000</td>\n",
       "      <td>5.0</td>\n",
       "      <td>159.0</td>\n",
       "      <td>22.0</td>\n",
       "      <td>22.0</td>\n",
       "      <td>2256.0</td>\n",
       "      <td>52</td>\n",
       "      <td>NaN</td>\n",
       "      <td>Краснодар</td>\n",
       "      <td>Рафаил</td>\n",
       "      <td>Верещагин</td>\n",
       "      <td>2018-05-25</td>\n",
       "      <td>ultra</td>\n",
       "      <td>3.0</td>\n",
       "      <td>1950.0</td>\n",
       "    </tr>\n",
       "    <tr>\n",
       "      <th>1</th>\n",
       "      <td>1000</td>\n",
       "      <td>6.0</td>\n",
       "      <td>172.0</td>\n",
       "      <td>43.0</td>\n",
       "      <td>60.0</td>\n",
       "      <td>23257.0</td>\n",
       "      <td>52</td>\n",
       "      <td>NaN</td>\n",
       "      <td>Краснодар</td>\n",
       "      <td>Рафаил</td>\n",
       "      <td>Верещагин</td>\n",
       "      <td>2018-05-25</td>\n",
       "      <td>ultra</td>\n",
       "      <td>23.0</td>\n",
       "      <td>3000.0</td>\n",
       "    </tr>\n",
       "    <tr>\n",
       "      <th>2</th>\n",
       "      <td>1000</td>\n",
       "      <td>7.0</td>\n",
       "      <td>340.0</td>\n",
       "      <td>47.0</td>\n",
       "      <td>75.0</td>\n",
       "      <td>14016.0</td>\n",
       "      <td>52</td>\n",
       "      <td>NaN</td>\n",
       "      <td>Краснодар</td>\n",
       "      <td>Рафаил</td>\n",
       "      <td>Верещагин</td>\n",
       "      <td>2018-05-25</td>\n",
       "      <td>ultra</td>\n",
       "      <td>14.0</td>\n",
       "      <td>1950.0</td>\n",
       "    </tr>\n",
       "    <tr>\n",
       "      <th>3</th>\n",
       "      <td>1000</td>\n",
       "      <td>8.0</td>\n",
       "      <td>408.0</td>\n",
       "      <td>52.0</td>\n",
       "      <td>81.0</td>\n",
       "      <td>14070.0</td>\n",
       "      <td>52</td>\n",
       "      <td>NaN</td>\n",
       "      <td>Краснодар</td>\n",
       "      <td>Рафаил</td>\n",
       "      <td>Верещагин</td>\n",
       "      <td>2018-05-25</td>\n",
       "      <td>ultra</td>\n",
       "      <td>14.0</td>\n",
       "      <td>1950.0</td>\n",
       "    </tr>\n",
       "    <tr>\n",
       "      <th>4</th>\n",
       "      <td>1000</td>\n",
       "      <td>9.0</td>\n",
       "      <td>466.0</td>\n",
       "      <td>58.0</td>\n",
       "      <td>57.0</td>\n",
       "      <td>14581.0</td>\n",
       "      <td>52</td>\n",
       "      <td>NaN</td>\n",
       "      <td>Краснодар</td>\n",
       "      <td>Рафаил</td>\n",
       "      <td>Верещагин</td>\n",
       "      <td>2018-05-25</td>\n",
       "      <td>ultra</td>\n",
       "      <td>15.0</td>\n",
       "      <td>1950.0</td>\n",
       "    </tr>\n",
       "  </tbody>\n",
       "</table>\n",
       "</div>"
      ],
      "text/plain": [
       "   user_id  month  duration  calls_id  messages_id  mb_used  age churn_date  \\\n",
       "0     1000    5.0     159.0      22.0         22.0   2256.0   52        NaN   \n",
       "1     1000    6.0     172.0      43.0         60.0  23257.0   52        NaN   \n",
       "2     1000    7.0     340.0      47.0         75.0  14016.0   52        NaN   \n",
       "3     1000    8.0     408.0      52.0         81.0  14070.0   52        NaN   \n",
       "4     1000    9.0     466.0      58.0         57.0  14581.0   52        NaN   \n",
       "\n",
       "        city first_name  last_name    reg_date tariff  gb_used  profit_per_sub  \n",
       "0  Краснодар     Рафаил  Верещагин  2018-05-25  ultra      3.0          1950.0  \n",
       "1  Краснодар     Рафаил  Верещагин  2018-05-25  ultra     23.0          3000.0  \n",
       "2  Краснодар     Рафаил  Верещагин  2018-05-25  ultra     14.0          1950.0  \n",
       "3  Краснодар     Рафаил  Верещагин  2018-05-25  ultra     14.0          1950.0  \n",
       "4  Краснодар     Рафаил  Верещагин  2018-05-25  ultra     15.0          1950.0  "
      ]
     },
     "execution_count": 31,
     "metadata": {},
     "output_type": "execute_result"
    }
   ],
   "source": [
    "df_new.head()"
   ]
  },
  {
   "cell_type": "code",
   "execution_count": 32,
   "metadata": {},
   "outputs": [
    {
     "data": {
      "text/plain": [
       "550.0     638\n",
       "1950.0    426\n",
       "750.0      87\n",
       "1150.0     83\n",
       "950.0      74\n",
       "Name: profit_per_sub, dtype: int64"
      ]
     },
     "execution_count": 32,
     "metadata": {},
     "output_type": "execute_result"
    },
    {
     "data": {
      "image/png": "[encoded data removed]",
      "text/plain": [
       "<Figure size 648x432 with 1 Axes>"
      ]
     },
     "metadata": {
      "needs_background": "light"
     },
     "output_type": "display_data"
    }
   ],
   "source": [
    "df_new['profit_per_sub'].hist(bins = 50, figsize = (9, 6));\n",
    "plt.title('График распределения абонентских платежей');\n",
    "df_new['profit_per_sub'].value_counts().head(5)"
   ]
  },
  {
   "cell_type": "markdown",
   "metadata": {},
   "source": [
    "Как видим, наиболее часто встречающиеся платежи - это размеры абонентской платы по тарифам (1950 и 550 рублей)."
   ]
  },
  {
   "cell_type": "markdown",
   "metadata": {},
   "source": [
    "## ОПИСАНИЕ ПОВЕДЕНИЯ КЛИЕНТОВ"
   ]
  },
  {
   "cell_type": "markdown",
   "metadata": {},
   "source": [
    "### Анализ данных клиентов с тарифом Ultra"
   ]
  },
  {
   "cell_type": "code",
   "execution_count": 33,
   "metadata": {},
   "outputs": [
    {
     "data": {
      "text/plain": [
       "user_id           149\n",
       "month              12\n",
       "duration          641\n",
       "calls_id          181\n",
       "messages_id       177\n",
       "mb_used           965\n",
       "age                55\n",
       "churn_date         14\n",
       "city               57\n",
       "first_name        117\n",
       "last_name         141\n",
       "reg_date          120\n",
       "tariff              1\n",
       "gb_used            48\n",
       "profit_per_sub     32\n",
       "dtype: int64"
      ]
     },
     "execution_count": 33,
     "metadata": {},
     "output_type": "execute_result"
    }
   ],
   "source": [
    "df_new_ultra = df_new[df_new['tariff'] == 'ultra']\n",
    "df_new_ultra.nunique()"
   ]
  },
  {
   "cell_type": "markdown",
   "metadata": {},
   "source": [
    "Тарифом ultra из нашей выборки пользуется 149 клиент или 29,8%."
   ]
  },
  {
   "cell_type": "markdown",
   "metadata": {},
   "source": [
    "#### Анализ необходимого количества минут для пользоваталей тарифа ultra"
   ]
  },
  {
   "cell_type": "code",
   "execution_count": 34,
   "metadata": {
    "scrolled": false
   },
   "outputs": [
    {
     "data": {
      "image/png": "[encoded data removed]",
      "text/plain": [
       "<Figure size 648x432 with 1 Axes>"
      ]
     },
     "metadata": {
      "needs_background": "light"
     },
     "output_type": "display_data"
    }
   ],
   "source": [
    "df_new_ultra['duration'].hist(bins = 100, figsize = (9, 6));\n",
    "plt.title('Распределение количества потраченных минут пользователями с тарифом ultra');"
   ]
  },
  {
   "cell_type": "code",
   "execution_count": 35,
   "metadata": {},
   "outputs": [
    {
     "data": {
      "text/plain": [
       "count     938.000000\n",
       "mean      539.443497\n",
       "std       294.625927\n",
       "min         1.000000\n",
       "25%       310.250000\n",
       "50%       525.000000\n",
       "75%       752.000000\n",
       "max      1297.000000\n",
       "Name: duration, dtype: float64"
      ]
     },
     "metadata": {},
     "output_type": "display_data"
    },
    {
     "name": "stdout",
     "output_type": "stream",
     "text": [
      "Дисперсия количества потраченных минут пользователями с тарифом ultra после удаления выбросов: 86804\n"
     ]
    },
    {
     "data": {
      "image/png": "[encoded data removed]",
      "text/plain": [
       "<Figure size 648x432 with 1 Axes>"
      ]
     },
     "metadata": {
      "needs_background": "light"
     },
     "output_type": "display_data"
    }
   ],
   "source": [
    "df_new_ultra_nonull_DURATION = df_new_ultra[(df_new_ultra['duration'] != 0)&(df_new_ultra['duration'] < 1300)] #больше 1300 всего 9 значений, данные\n",
    "#значения существенно отличаются, поэтому можно считать их выбросами и исключить для дальнейшего анализа\n",
    "df_new_ultra_nonull_DURATION['duration'].hist(bins = 50, figsize = (9, 6)); #присутствует скошенность вправо\n",
    "plt.title('Распределение количества потраченных минут пользователями с тарифом ultra после удаления выбросов')\n",
    "display(df_new_ultra_nonull_DURATION['duration'].describe())\n",
    "print('Дисперсия количества потраченных минут пользователями с тарифом ultra после удаления выбросов:' , round(np.var(df_new_ultra_nonull_DURATION['duration'], ddof=1)))"
   ]
  },
  {
   "cell_type": "markdown",
   "metadata": {},
   "source": [
    "Выделив данную группу можем получить ее описательные статистики:\n",
    "- 540 минут в среднем ипроговаривают пользователи тарифа ultra\n",
    "- 525 минут - медианное время разоговоров в месяц\n",
    "- 295 - стандартное отклонение\n",
    "\n",
    "Из всех пользователей нашей выборки никому не удалось потратить хотя бы половину доступного количества минут за месяц. Максимум, который наговорили некоторые пользователи составил 1297 минут, а половина пользователей вообще тратит не более 525 минут за месяц."
   ]
  },
  {
   "cell_type": "markdown",
   "metadata": {},
   "source": [
    "#### Анализ необходимого количества СМС для пользоваталей тарифа ultra"
   ]
  },
  {
   "cell_type": "code",
   "execution_count": 36,
   "metadata": {},
   "outputs": [
    {
     "data": {
      "text/plain": [
       "count    795.000000\n",
       "mean      61.161006\n",
       "std       45.931026\n",
       "min        1.000000\n",
       "25%       24.000000\n",
       "50%       51.000000\n",
       "75%       87.500000\n",
       "max      224.000000\n",
       "Name: messages_id, dtype: float64"
      ]
     },
     "metadata": {},
     "output_type": "display_data"
    },
    {
     "name": "stdout",
     "output_type": "stream",
     "text": [
      "Дисперсия количества потраченных смс пользователями с тарифом ultra после удаления выбросов: 1967\n"
     ]
    },
    {
     "data": {
      "image/png": "[encoded data removed]",
      "text/plain": [
       "<Figure size 648x432 with 1 Axes>"
      ]
     },
     "metadata": {
      "needs_background": "light"
     },
     "output_type": "display_data"
    }
   ],
   "source": [
    "df_new_ultra['messages_id'].hist(bins = 100, figsize = (9, 6));\n",
    "plt.title('Распределение потраченных смс пользователями тарифа ultra');\n",
    "display(df_new_ultra['messages_id'].describe())\n",
    "var_ultra_MESSAGES = np.var(df_new_ultra_nonull_DURATION['messages_id'], ddof=1)\n",
    "print('Дисперсия количества потраченных смс пользователями с тарифом ultra после удаления выбросов:' , round(var_ultra_MESSAGES))"
   ]
  },
  {
   "cell_type": "markdown",
   "metadata": {},
   "source": [
    "Для пользователей тарифа ultra доступно 1000 смс в месяц, но как можем увидеть из графика, такого количества смс не отправил ни один клиент ни в одном месяце. Максимальное количество смс, которое отправио клиент было 224 смс, а половина клиентов отправляет вообще не более 51 смс в месяц. Можем сделать вывод, что смс особым спросом не пользуются и у пользователей остается неиспользованной львиная доля того, за что они платят."
   ]
  },
  {
   "cell_type": "code",
   "execution_count": 37,
   "metadata": {
    "scrolled": true
   },
   "outputs": [
    {
     "data": {
      "text/html": [
       "<div>\n",
       "<style scoped>\n",
       "    .dataframe tbody tr th:only-of-type {\n",
       "        vertical-align: middle;\n",
       "    }\n",
       "\n",
       "    .dataframe tbody tr th {\n",
       "        vertical-align: top;\n",
       "    }\n",
       "\n",
       "    .dataframe thead th {\n",
       "        text-align: right;\n",
       "    }\n",
       "</style>\n",
       "<table border=\"1\" class=\"dataframe\">\n",
       "  <thead>\n",
       "    <tr style=\"text-align: right;\">\n",
       "      <th></th>\n",
       "      <th>messages_included</th>\n",
       "      <th>mb_per_month_included</th>\n",
       "      <th>minutes_included</th>\n",
       "      <th>rub_monthly_fee</th>\n",
       "      <th>rub_per_gb</th>\n",
       "      <th>rub_per_message</th>\n",
       "      <th>rub_per_minute</th>\n",
       "      <th>tariff_name</th>\n",
       "    </tr>\n",
       "  </thead>\n",
       "  <tbody>\n",
       "    <tr>\n",
       "      <th>0</th>\n",
       "      <td>50</td>\n",
       "      <td>15360</td>\n",
       "      <td>500</td>\n",
       "      <td>550</td>\n",
       "      <td>200</td>\n",
       "      <td>3</td>\n",
       "      <td>3</td>\n",
       "      <td>smart</td>\n",
       "    </tr>\n",
       "    <tr>\n",
       "      <th>1</th>\n",
       "      <td>1000</td>\n",
       "      <td>30720</td>\n",
       "      <td>3000</td>\n",
       "      <td>1950</td>\n",
       "      <td>150</td>\n",
       "      <td>1</td>\n",
       "      <td>1</td>\n",
       "      <td>ultra</td>\n",
       "    </tr>\n",
       "  </tbody>\n",
       "</table>\n",
       "</div>"
      ],
      "text/plain": [
       "   messages_included  mb_per_month_included  minutes_included  \\\n",
       "0                 50                  15360               500   \n",
       "1               1000                  30720              3000   \n",
       "\n",
       "   rub_monthly_fee  rub_per_gb  rub_per_message  rub_per_minute tariff_name  \n",
       "0              550         200                3               3       smart  \n",
       "1             1950         150                1               1       ultra  "
      ]
     },
     "execution_count": 37,
     "metadata": {},
     "output_type": "execute_result"
    }
   ],
   "source": [
    "df_tariffs"
   ]
  },
  {
   "cell_type": "markdown",
   "metadata": {},
   "source": [
    "#### Анализ необходимого количества мегабайт для пользоваталей тарифа ultra"
   ]
  },
  {
   "cell_type": "code",
   "execution_count": 38,
   "metadata": {},
   "outputs": [
    {
     "data": {
      "image/png": "[encoded data removed]",
      "text/plain": [
       "<Figure size 648x432 with 1 Axes>"
      ]
     },
     "metadata": {
      "needs_background": "light"
     },
     "output_type": "display_data"
    },
    {
     "name": "stdout",
     "output_type": "stream",
     "text": [
      "Количество значений больше 45000: 3\n"
     ]
    }
   ],
   "source": [
    "df_new_ultra['mb_used'].hist(bins = 100, figsize = (9, 6));\n",
    "plt.title('Распределение потраченных мб за месяц пользователями тарифа ultra');\n",
    "plt.show()\n",
    "print('Количество значений больше 45000:', len(df_new_ultra['mb_used'][df_new_ultra['mb_used'] >= 45000]))"
   ]
  },
  {
   "cell_type": "code",
   "execution_count": 39,
   "metadata": {},
   "outputs": [
    {
     "name": "stdout",
     "output_type": "stream",
     "text": [
      "Дисперсия потраченных мб: 96591836\n"
     ]
    },
    {
     "data": {
      "text/plain": [
       "count      971.000000\n",
       "mean     19620.177137\n",
       "std       9828.114551\n",
       "min        366.000000\n",
       "25%      12020.500000\n",
       "50%      19401.000000\n",
       "75%      26867.000000\n",
       "max      44341.000000\n",
       "Name: mb_used, dtype: float64"
      ]
     },
     "metadata": {},
     "output_type": "display_data"
    },
    {
     "data": {
      "image/png": "[encoded data removed]",
      "text/plain": [
       "<Figure size 648x432 with 1 Axes>"
      ]
     },
     "metadata": {
      "needs_background": "light"
     },
     "output_type": "display_data"
    }
   ],
   "source": [
    "df_new_ultra_nonull_MB = df_new_ultra[(df_new_ultra['mb_used'] != 0)&(df_new_ultra['mb_used'] < 45000)]\n",
    "var_ultra_MB = round(np.var(df_new_ultra_nonull_MB['mb_used'], ddof=1))\n",
    "print('Дисперсия потраченных мб:', var_ultra_MB)\n",
    "\n",
    "df_new_ultra_nonull_MB['mb_used'].hist(bins = 70, figsize = (9, 6));\n",
    "plt.title('Распределение потраченных мб за месяц пользователями тарифа ultra после удалени выбросов');\n",
    "\n",
    "display(df_new_ultra_nonull_MB['mb_used'].describe())"
   ]
  },
  {
   "cell_type": "markdown",
   "metadata": {},
   "source": [
    "Посмотрим, сколько объектов, в которых потраченных мб в месяц больше, чем включено в тариф ultra (30720 мб)."
   ]
  },
  {
   "cell_type": "code",
   "execution_count": 40,
   "metadata": {},
   "outputs": [
    {
     "data": {
      "text/html": [
       "<div>\n",
       "<style scoped>\n",
       "    .dataframe tbody tr th:only-of-type {\n",
       "        vertical-align: middle;\n",
       "    }\n",
       "\n",
       "    .dataframe tbody tr th {\n",
       "        vertical-align: top;\n",
       "    }\n",
       "\n",
       "    .dataframe thead th {\n",
       "        text-align: right;\n",
       "    }\n",
       "</style>\n",
       "<table border=\"1\" class=\"dataframe\">\n",
       "  <thead>\n",
       "    <tr style=\"text-align: right;\">\n",
       "      <th></th>\n",
       "      <th>user_id</th>\n",
       "      <th>month</th>\n",
       "      <th>duration</th>\n",
       "      <th>calls_id</th>\n",
       "      <th>messages_id</th>\n",
       "      <th>mb_used</th>\n",
       "      <th>age</th>\n",
       "      <th>churn_date</th>\n",
       "      <th>city</th>\n",
       "      <th>first_name</th>\n",
       "      <th>last_name</th>\n",
       "      <th>reg_date</th>\n",
       "      <th>tariff</th>\n",
       "      <th>gb_used</th>\n",
       "      <th>profit_per_sub</th>\n",
       "    </tr>\n",
       "  </thead>\n",
       "  <tbody>\n",
       "    <tr>\n",
       "      <th>159</th>\n",
       "      <td>1024</td>\n",
       "      <td>11.0</td>\n",
       "      <td>1146.0</td>\n",
       "      <td>157.0</td>\n",
       "      <td>NaN</td>\n",
       "      <td>43146.0</td>\n",
       "      <td>73</td>\n",
       "      <td>NaN</td>\n",
       "      <td>Санкт-Петербург</td>\n",
       "      <td>Иулиан</td>\n",
       "      <td>Антипов</td>\n",
       "      <td>2018-10-31</td>\n",
       "      <td>ultra</td>\n",
       "      <td>43.0</td>\n",
       "      <td>6000.0</td>\n",
       "    </tr>\n",
       "    <tr>\n",
       "      <th>160</th>\n",
       "      <td>1024</td>\n",
       "      <td>12.0</td>\n",
       "      <td>949.0</td>\n",
       "      <td>136.0</td>\n",
       "      <td>NaN</td>\n",
       "      <td>35985.0</td>\n",
       "      <td>73</td>\n",
       "      <td>NaN</td>\n",
       "      <td>Санкт-Петербург</td>\n",
       "      <td>Иулиан</td>\n",
       "      <td>Антипов</td>\n",
       "      <td>2018-10-31</td>\n",
       "      <td>ultra</td>\n",
       "      <td>36.0</td>\n",
       "      <td>4950.0</td>\n",
       "    </tr>\n",
       "    <tr>\n",
       "      <th>311</th>\n",
       "      <td>1050</td>\n",
       "      <td>7.0</td>\n",
       "      <td>209.0</td>\n",
       "      <td>35.0</td>\n",
       "      <td>52.0</td>\n",
       "      <td>35205.0</td>\n",
       "      <td>44</td>\n",
       "      <td>2018-10-03</td>\n",
       "      <td>Тюмень</td>\n",
       "      <td>Рузана</td>\n",
       "      <td>Аничкина</td>\n",
       "      <td>2018-06-16</td>\n",
       "      <td>ultra</td>\n",
       "      <td>35.0</td>\n",
       "      <td>4800.0</td>\n",
       "    </tr>\n",
       "    <tr>\n",
       "      <th>383</th>\n",
       "      <td>1060</td>\n",
       "      <td>12.0</td>\n",
       "      <td>1233.0</td>\n",
       "      <td>184.0</td>\n",
       "      <td>52.0</td>\n",
       "      <td>43973.0</td>\n",
       "      <td>46</td>\n",
       "      <td>NaN</td>\n",
       "      <td>Калуга</td>\n",
       "      <td>Яков</td>\n",
       "      <td>Рудаков</td>\n",
       "      <td>2018-11-24</td>\n",
       "      <td>ultra</td>\n",
       "      <td>43.0</td>\n",
       "      <td>6000.0</td>\n",
       "    </tr>\n",
       "    <tr>\n",
       "      <th>783</th>\n",
       "      <td>1124</td>\n",
       "      <td>11.0</td>\n",
       "      <td>1127.0</td>\n",
       "      <td>160.0</td>\n",
       "      <td>95.0</td>\n",
       "      <td>36871.0</td>\n",
       "      <td>54</td>\n",
       "      <td>NaN</td>\n",
       "      <td>Махачкала</td>\n",
       "      <td>Альбин</td>\n",
       "      <td>Андрианов</td>\n",
       "      <td>2018-09-24</td>\n",
       "      <td>ultra</td>\n",
       "      <td>37.0</td>\n",
       "      <td>5100.0</td>\n",
       "    </tr>\n",
       "  </tbody>\n",
       "</table>\n",
       "</div>"
      ],
      "text/plain": [
       "     user_id  month  duration  calls_id  messages_id  mb_used  age  \\\n",
       "159     1024   11.0    1146.0     157.0          NaN  43146.0   73   \n",
       "160     1024   12.0     949.0     136.0          NaN  35985.0   73   \n",
       "311     1050    7.0     209.0      35.0         52.0  35205.0   44   \n",
       "383     1060   12.0    1233.0     184.0         52.0  43973.0   46   \n",
       "783     1124   11.0    1127.0     160.0         95.0  36871.0   54   \n",
       "\n",
       "     churn_date             city first_name  last_name    reg_date tariff  \\\n",
       "159         NaN  Санкт-Петербург     Иулиан    Антипов  2018-10-31  ultra   \n",
       "160         NaN  Санкт-Петербург     Иулиан    Антипов  2018-10-31  ultra   \n",
       "311  2018-10-03           Тюмень     Рузана   Аничкина  2018-06-16  ultra   \n",
       "383         NaN           Калуга       Яков    Рудаков  2018-11-24  ultra   \n",
       "783         NaN        Махачкала     Альбин  Андрианов  2018-09-24  ultra   \n",
       "\n",
       "     gb_used  profit_per_sub  \n",
       "159     43.0          6000.0  \n",
       "160     36.0          4950.0  \n",
       "311     35.0          4800.0  \n",
       "383     43.0          6000.0  \n",
       "783     37.0          5100.0  "
      ]
     },
     "metadata": {},
     "output_type": "display_data"
    },
    {
     "name": "stdout",
     "output_type": "stream",
     "text": [
      "Количество объектов, в которых превышен месячный лимит по интернету: 131\n"
     ]
    }
   ],
   "source": [
    "display(df_new_ultra_nonull_MB[df_new_ultra_nonull_MB['mb_used'] > df_tariffs['mb_per_month_included'][1]].head())\n",
    "print('Количество объектов, в которых превышен месячный лимит по интернету:', \\\n",
    "     (len(df_new_ultra_nonull_MB[df_new_ultra_nonull_MB['mb_used'] > df_tariffs['mb_per_month_included'][1]])))"
   ]
  },
  {
   "cell_type": "markdown",
   "metadata": {},
   "source": [
    "### Вывод\n",
    "Что мы можем сказать проанализировав поведение наших пользователей за выбранный период:\n",
    "1. Пользователи тарифа ультра стабильно не используют даже половины доступных смс и минут за месяц.\n",
    "2. Очень активно используется интернет. "
   ]
  },
  {
   "cell_type": "markdown",
   "metadata": {},
   "source": [
    "Поскольку для бизнеса важно предлагать продукт, который будет максимально соответствовать требованиям клиента, то может встать вопрос: сколько требуется звонков, сообщений, интернета для клиентов тарифа, чтобы его пользование было выгодным для них?"
   ]
  },
  {
   "cell_type": "markdown",
   "metadata": {},
   "source": [
    "Я бы определил выгодность тарифа для клиента, как цена которую клиент уплачивает за услугу данной телеком компании. Если клиент с тарифом смарт платит за месяц больше, чем мог бы платить за тариф ультра, то стоит сменить тариф. Если же клиент, находясь на тарифе ультра, в среднем использует кол-во минут, мб или смс, которое соответствует или чуть больше того, что предоставляет тариф смарт, то выгоднее перейти на него. "
   ]
  },
  {
   "cell_type": "markdown",
   "metadata": {},
   "source": [
    "Создадим функцию, которая будет определять, выгоден ли тариф, который в данный момент использует клиент или же ему стоит задуматься о смене тарифа."
   ]
  },
  {
   "cell_type": "code",
   "execution_count": 41,
   "metadata": {},
   "outputs": [
    {
     "data": {
      "text/html": [
       "<div>\n",
       "<style scoped>\n",
       "    .dataframe tbody tr th:only-of-type {\n",
       "        vertical-align: middle;\n",
       "    }\n",
       "\n",
       "    .dataframe tbody tr th {\n",
       "        vertical-align: top;\n",
       "    }\n",
       "\n",
       "    .dataframe thead th {\n",
       "        text-align: right;\n",
       "    }\n",
       "</style>\n",
       "<table border=\"1\" class=\"dataframe\">\n",
       "  <thead>\n",
       "    <tr style=\"text-align: right;\">\n",
       "      <th></th>\n",
       "      <th>user_id</th>\n",
       "      <th>month</th>\n",
       "      <th>duration</th>\n",
       "      <th>calls_id</th>\n",
       "      <th>messages_id</th>\n",
       "      <th>mb_used</th>\n",
       "      <th>age</th>\n",
       "      <th>churn_date</th>\n",
       "      <th>city</th>\n",
       "      <th>first_name</th>\n",
       "      <th>last_name</th>\n",
       "      <th>reg_date</th>\n",
       "      <th>tariff</th>\n",
       "      <th>gb_used</th>\n",
       "      <th>profit_per_sub</th>\n",
       "      <th>benefit</th>\n",
       "    </tr>\n",
       "  </thead>\n",
       "  <tbody>\n",
       "    <tr>\n",
       "      <th>0</th>\n",
       "      <td>1000</td>\n",
       "      <td>5.0</td>\n",
       "      <td>159.0</td>\n",
       "      <td>22.0</td>\n",
       "      <td>22.0</td>\n",
       "      <td>2256.0</td>\n",
       "      <td>52</td>\n",
       "      <td>NaN</td>\n",
       "      <td>Краснодар</td>\n",
       "      <td>Рафаил</td>\n",
       "      <td>Верещагин</td>\n",
       "      <td>2018-05-25</td>\n",
       "      <td>ultra</td>\n",
       "      <td>3.0</td>\n",
       "      <td>1950.0</td>\n",
       "      <td>None</td>\n",
       "    </tr>\n",
       "    <tr>\n",
       "      <th>1</th>\n",
       "      <td>1000</td>\n",
       "      <td>6.0</td>\n",
       "      <td>172.0</td>\n",
       "      <td>43.0</td>\n",
       "      <td>60.0</td>\n",
       "      <td>23257.0</td>\n",
       "      <td>52</td>\n",
       "      <td>NaN</td>\n",
       "      <td>Краснодар</td>\n",
       "      <td>Рафаил</td>\n",
       "      <td>Верещагин</td>\n",
       "      <td>2018-05-25</td>\n",
       "      <td>ultra</td>\n",
       "      <td>23.0</td>\n",
       "      <td>3000.0</td>\n",
       "      <td>Стоит рассмотреть тариф ultra</td>\n",
       "    </tr>\n",
       "    <tr>\n",
       "      <th>2</th>\n",
       "      <td>1000</td>\n",
       "      <td>7.0</td>\n",
       "      <td>340.0</td>\n",
       "      <td>47.0</td>\n",
       "      <td>75.0</td>\n",
       "      <td>14016.0</td>\n",
       "      <td>52</td>\n",
       "      <td>NaN</td>\n",
       "      <td>Краснодар</td>\n",
       "      <td>Рафаил</td>\n",
       "      <td>Верещагин</td>\n",
       "      <td>2018-05-25</td>\n",
       "      <td>ultra</td>\n",
       "      <td>14.0</td>\n",
       "      <td>1950.0</td>\n",
       "      <td>Стоит рассмотреть тариф ultra</td>\n",
       "    </tr>\n",
       "    <tr>\n",
       "      <th>3</th>\n",
       "      <td>1000</td>\n",
       "      <td>8.0</td>\n",
       "      <td>408.0</td>\n",
       "      <td>52.0</td>\n",
       "      <td>81.0</td>\n",
       "      <td>14070.0</td>\n",
       "      <td>52</td>\n",
       "      <td>NaN</td>\n",
       "      <td>Краснодар</td>\n",
       "      <td>Рафаил</td>\n",
       "      <td>Верещагин</td>\n",
       "      <td>2018-05-25</td>\n",
       "      <td>ultra</td>\n",
       "      <td>14.0</td>\n",
       "      <td>1950.0</td>\n",
       "      <td>Стоит рассмотреть тариф ultra</td>\n",
       "    </tr>\n",
       "    <tr>\n",
       "      <th>4</th>\n",
       "      <td>1000</td>\n",
       "      <td>9.0</td>\n",
       "      <td>466.0</td>\n",
       "      <td>58.0</td>\n",
       "      <td>57.0</td>\n",
       "      <td>14581.0</td>\n",
       "      <td>52</td>\n",
       "      <td>NaN</td>\n",
       "      <td>Краснодар</td>\n",
       "      <td>Рафаил</td>\n",
       "      <td>Верещагин</td>\n",
       "      <td>2018-05-25</td>\n",
       "      <td>ultra</td>\n",
       "      <td>15.0</td>\n",
       "      <td>1950.0</td>\n",
       "      <td>Стоит рассмотреть тариф ultra</td>\n",
       "    </tr>\n",
       "  </tbody>\n",
       "</table>\n",
       "</div>"
      ],
      "text/plain": [
       "   user_id  month  duration  calls_id  messages_id  mb_used  age churn_date  \\\n",
       "0     1000    5.0     159.0      22.0         22.0   2256.0   52        NaN   \n",
       "1     1000    6.0     172.0      43.0         60.0  23257.0   52        NaN   \n",
       "2     1000    7.0     340.0      47.0         75.0  14016.0   52        NaN   \n",
       "3     1000    8.0     408.0      52.0         81.0  14070.0   52        NaN   \n",
       "4     1000    9.0     466.0      58.0         57.0  14581.0   52        NaN   \n",
       "\n",
       "        city first_name  last_name    reg_date tariff  gb_used  \\\n",
       "0  Краснодар     Рафаил  Верещагин  2018-05-25  ultra      3.0   \n",
       "1  Краснодар     Рафаил  Верещагин  2018-05-25  ultra     23.0   \n",
       "2  Краснодар     Рафаил  Верещагин  2018-05-25  ultra     14.0   \n",
       "3  Краснодар     Рафаил  Верещагин  2018-05-25  ultra     14.0   \n",
       "4  Краснодар     Рафаил  Верещагин  2018-05-25  ultra     15.0   \n",
       "\n",
       "   profit_per_sub                        benefit  \n",
       "0          1950.0                           None  \n",
       "1          3000.0  Стоит рассмотреть тариф ultra  \n",
       "2          1950.0  Стоит рассмотреть тариф ultra  \n",
       "3          1950.0  Стоит рассмотреть тариф ultra  \n",
       "4          1950.0  Стоит рассмотреть тариф ultra  "
      ]
     },
     "execution_count": 41,
     "metadata": {},
     "output_type": "execute_result"
    }
   ],
   "source": [
    "def benefit(row):\n",
    "    if row['tariff'] == 'smart':\n",
    "        if row['profit_per_sub'] < ULTRA_COST:\n",
    "            return 'Тариф выгоден'\n",
    "        else:\n",
    "            return 'Лучше сменить на ultra'\n",
    "    if row['tariff'] == 'ultra':\n",
    "        if row['duration'] > SMART_MINUTES or row['messages_id'] > SMART_MESSAGES or row['mb_used'] > SMART_INTERNET_MB:\n",
    "            return 'Стоит рассмотреть тариф ultra'\n",
    "        else:\n",
    "            'Тариф выгоден'\n",
    "\n",
    "            \n",
    "df_new['benefit'] = df_new.apply(benefit, axis = 1)\n",
    "df_new.head()"
   ]
  },
  {
   "cell_type": "markdown",
   "metadata": {},
   "source": [
    "Функция довольно простая по своей сути,  но тем не менее неплохо справляется с поставленной задачей: определить, выгоден ли тариф клиенту или нет. Также, функцию можно улучшить, поскольку делает вывод по основанию всего одного месяца. В идеале, такой совет должен даваться на основе дольшего периода (как минимум несколько месяцев) и большего количества информации."
   ]
  },
  {
   "cell_type": "markdown",
   "metadata": {},
   "source": [
    "### Анализ данных клиентов с тарифом Smart"
   ]
  },
  {
   "cell_type": "code",
   "execution_count": 42,
   "metadata": {},
   "outputs": [
    {
     "data": {
      "text/plain": [
       "user_id            351\n",
       "month               12\n",
       "duration           732\n",
       "calls_id           132\n",
       "messages_id        123\n",
       "mb_used           2104\n",
       "age                 58\n",
       "churn_date          20\n",
       "city                72\n",
       "first_name         212\n",
       "last_name          313\n",
       "reg_date           223\n",
       "tariff               1\n",
       "gb_used             39\n",
       "profit_per_sub     709\n",
       "benefit              2\n",
       "dtype: int64"
      ]
     },
     "execution_count": 42,
     "metadata": {},
     "output_type": "execute_result"
    }
   ],
   "source": [
    "df_new_SMART = df_new[df_new['tariff'] == 'smart']\n",
    "df_new_SMART.nunique()"
   ]
  },
  {
   "cell_type": "markdown",
   "metadata": {},
   "source": [
    "Тарифом smart из нашей выборки пользуется 351 клиент или 70,2%."
   ]
  },
  {
   "cell_type": "markdown",
   "metadata": {},
   "source": [
    "#### Анализ необходимого количества минут для пользоваталей тарифа smart"
   ]
  },
  {
   "cell_type": "code",
   "execution_count": 43,
   "metadata": {},
   "outputs": [
    {
     "data": {
      "image/png": "[encoded data removed]",
      "text/plain": [
       "<Figure size 648x432 with 1 Axes>"
      ]
     },
     "metadata": {
      "needs_background": "light"
     },
     "output_type": "display_data"
    }
   ],
   "source": [
    "df_new_SMART['duration'].hist(bins = 100, figsize = (9, 6));\n",
    "plt.title('Распределение количества потраченных минут пользователями с тарифом smart');"
   ]
  },
  {
   "cell_type": "markdown",
   "metadata": {},
   "source": [
    "Основная масса звонков длится не более 1000 минут. Поэтому, все, что больше 1000 будем считать выбросами и не учитывать при анализе. Для начала посчтитаем, сколько у нас таких значений."
   ]
  },
  {
   "cell_type": "code",
   "execution_count": 44,
   "metadata": {},
   "outputs": [
    {
     "data": {
      "text/html": [
       "<div>\n",
       "<style scoped>\n",
       "    .dataframe tbody tr th:only-of-type {\n",
       "        vertical-align: middle;\n",
       "    }\n",
       "\n",
       "    .dataframe tbody tr th {\n",
       "        vertical-align: top;\n",
       "    }\n",
       "\n",
       "    .dataframe thead th {\n",
       "        text-align: right;\n",
       "    }\n",
       "</style>\n",
       "<table border=\"1\" class=\"dataframe\">\n",
       "  <thead>\n",
       "    <tr style=\"text-align: right;\">\n",
       "      <th></th>\n",
       "      <th>user_id</th>\n",
       "      <th>month</th>\n",
       "      <th>duration</th>\n",
       "      <th>calls_id</th>\n",
       "      <th>messages_id</th>\n",
       "      <th>mb_used</th>\n",
       "      <th>age</th>\n",
       "      <th>churn_date</th>\n",
       "      <th>city</th>\n",
       "      <th>first_name</th>\n",
       "      <th>last_name</th>\n",
       "      <th>reg_date</th>\n",
       "      <th>tariff</th>\n",
       "      <th>gb_used</th>\n",
       "      <th>profit_per_sub</th>\n",
       "      <th>benefit</th>\n",
       "    </tr>\n",
       "  </thead>\n",
       "  <tbody>\n",
       "    <tr>\n",
       "      <th>1359</th>\n",
       "      <td>1216</td>\n",
       "      <td>12.0</td>\n",
       "      <td>1435.0</td>\n",
       "      <td>198.0</td>\n",
       "      <td>64.0</td>\n",
       "      <td>20095.0</td>\n",
       "      <td>74</td>\n",
       "      <td>NaN</td>\n",
       "      <td>Волгоград</td>\n",
       "      <td>Рустам</td>\n",
       "      <td>Малинин</td>\n",
       "      <td>2018-11-23</td>\n",
       "      <td>smart</td>\n",
       "      <td>20.0</td>\n",
       "      <td>4197.0</td>\n",
       "      <td>Лучше сменить на ultra</td>\n",
       "    </tr>\n",
       "    <tr>\n",
       "      <th>1452</th>\n",
       "      <td>1229</td>\n",
       "      <td>12.0</td>\n",
       "      <td>1022.0</td>\n",
       "      <td>128.0</td>\n",
       "      <td>6.0</td>\n",
       "      <td>25033.0</td>\n",
       "      <td>24</td>\n",
       "      <td>NaN</td>\n",
       "      <td>Москва</td>\n",
       "      <td>Нелли</td>\n",
       "      <td>Зубкова</td>\n",
       "      <td>2018-10-29</td>\n",
       "      <td>smart</td>\n",
       "      <td>25.0</td>\n",
       "      <td>3916.0</td>\n",
       "      <td>Лучше сменить на ultra</td>\n",
       "    </tr>\n",
       "    <tr>\n",
       "      <th>1622</th>\n",
       "      <td>1261</td>\n",
       "      <td>12.0</td>\n",
       "      <td>1074.0</td>\n",
       "      <td>141.0</td>\n",
       "      <td>22.0</td>\n",
       "      <td>32697.0</td>\n",
       "      <td>46</td>\n",
       "      <td>NaN</td>\n",
       "      <td>Казань</td>\n",
       "      <td>Мадина</td>\n",
       "      <td>Пантелеева</td>\n",
       "      <td>2018-10-30</td>\n",
       "      <td>smart</td>\n",
       "      <td>32.0</td>\n",
       "      <td>5472.0</td>\n",
       "      <td>Лучше сменить на ultra</td>\n",
       "    </tr>\n",
       "    <tr>\n",
       "      <th>1998</th>\n",
       "      <td>1319</td>\n",
       "      <td>10.0</td>\n",
       "      <td>1005.0</td>\n",
       "      <td>127.0</td>\n",
       "      <td>48.0</td>\n",
       "      <td>18011.0</td>\n",
       "      <td>70</td>\n",
       "      <td>NaN</td>\n",
       "      <td>Санкт-Петербург</td>\n",
       "      <td>Харитон</td>\n",
       "      <td>Парфенов</td>\n",
       "      <td>2018-08-24</td>\n",
       "      <td>smart</td>\n",
       "      <td>18.0</td>\n",
       "      <td>2465.0</td>\n",
       "      <td>Лучше сменить на ultra</td>\n",
       "    </tr>\n",
       "    <tr>\n",
       "      <th>2856</th>\n",
       "      <td>1451</td>\n",
       "      <td>12.0</td>\n",
       "      <td>1144.0</td>\n",
       "      <td>141.0</td>\n",
       "      <td>50.0</td>\n",
       "      <td>16971.0</td>\n",
       "      <td>58</td>\n",
       "      <td>NaN</td>\n",
       "      <td>Набережные Челны</td>\n",
       "      <td>Виктория</td>\n",
       "      <td>Завьялова</td>\n",
       "      <td>2018-08-27</td>\n",
       "      <td>smart</td>\n",
       "      <td>17.0</td>\n",
       "      <td>2682.0</td>\n",
       "      <td>Лучше сменить на ultra</td>\n",
       "    </tr>\n",
       "  </tbody>\n",
       "</table>\n",
       "</div>"
      ],
      "text/plain": [
       "      user_id  month  duration  calls_id  messages_id  mb_used  age  \\\n",
       "1359     1216   12.0    1435.0     198.0         64.0  20095.0   74   \n",
       "1452     1229   12.0    1022.0     128.0          6.0  25033.0   24   \n",
       "1622     1261   12.0    1074.0     141.0         22.0  32697.0   46   \n",
       "1998     1319   10.0    1005.0     127.0         48.0  18011.0   70   \n",
       "2856     1451   12.0    1144.0     141.0         50.0  16971.0   58   \n",
       "\n",
       "     churn_date              city first_name   last_name    reg_date tariff  \\\n",
       "1359        NaN         Волгоград     Рустам     Малинин  2018-11-23  smart   \n",
       "1452        NaN            Москва      Нелли     Зубкова  2018-10-29  smart   \n",
       "1622        NaN            Казань     Мадина  Пантелеева  2018-10-30  smart   \n",
       "1998        NaN   Санкт-Петербург    Харитон    Парфенов  2018-08-24  smart   \n",
       "2856        NaN  Набережные Челны   Виктория   Завьялова  2018-08-27  smart   \n",
       "\n",
       "      gb_used  profit_per_sub                 benefit  \n",
       "1359     20.0          4197.0  Лучше сменить на ultra  \n",
       "1452     25.0          3916.0  Лучше сменить на ultra  \n",
       "1622     32.0          5472.0  Лучше сменить на ultra  \n",
       "1998     18.0          2465.0  Лучше сменить на ultra  \n",
       "2856     17.0          2682.0  Лучше сменить на ultra  "
      ]
     },
     "metadata": {},
     "output_type": "display_data"
    },
    {
     "name": "stdout",
     "output_type": "stream",
     "text": [
      "Количество значений больше 1000: 6\n"
     ]
    }
   ],
   "source": [
    "display(df_new_SMART[df_new_SMART['duration'] > 1000].head())\n",
    "print('Количество значений больше 1000:', len(df_new_SMART[df_new_SMART['duration'] > 1000]))"
   ]
  },
  {
   "cell_type": "code",
   "execution_count": 45,
   "metadata": {},
   "outputs": [
    {
     "data": {
      "text/plain": [
       "count    2215.000000\n",
       "mean      417.557562\n",
       "std       185.580479\n",
       "min         2.000000\n",
       "25%       285.000000\n",
       "50%       422.000000\n",
       "75%       544.500000\n",
       "max      1000.000000\n",
       "Name: duration, dtype: float64"
      ]
     },
     "metadata": {},
     "output_type": "display_data"
    },
    {
     "name": "stdout",
     "output_type": "stream",
     "text": [
      "Дисперсия количества потраченных минут пользователями с тарифом smart после удаления выбросов: 34440\n"
     ]
    },
    {
     "data": {
      "image/png": "[encoded data removed]",
      "text/plain": [
       "<Figure size 648x432 with 1 Axes>"
      ]
     },
     "metadata": {
      "needs_background": "light"
     },
     "output_type": "display_data"
    }
   ],
   "source": [
    "df_new_smart_nonull_DURATION = df_new_SMART[(df_new_SMART['duration'] != 0)&(df_new_SMART['duration'] <= 1000)]\n",
    "df_new_smart_nonull_DURATION['duration'].hist(bins = 100, figsize = (9, 6));\n",
    "plt.title('Распределение количества потраченных минут пользователями с тарифом smart после удаления выбросов');\n",
    "\n",
    "display(df_new_smart_nonull_DURATION['duration'].describe())\n",
    "\n",
    "print('Дисперсия количества потраченных минут пользователями с тарифом smart после удаления выбросов:' , round(np.var(df_new_smart_nonull_DURATION['duration'], ddof=1)))"
   ]
  },
  {
   "cell_type": "markdown",
   "metadata": {},
   "source": [
    "На тарифе smart люди разговаривают в среднем 417 минут, медианное время 422 минуты."
   ]
  },
  {
   "cell_type": "markdown",
   "metadata": {},
   "source": [
    " "
   ]
  },
  {
   "cell_type": "markdown",
   "metadata": {},
   "source": [
    "#### Анализ необходимого количества СМС для пользоваталей тарифа smart"
   ]
  },
  {
   "cell_type": "code",
   "execution_count": 46,
   "metadata": {
    "scrolled": false
   },
   "outputs": [
    {
     "data": {
      "text/plain": [
       "count    1922.000000\n",
       "mean       38.716441\n",
       "std        26.787949\n",
       "min         1.000000\n",
       "25%        17.000000\n",
       "50%        34.000000\n",
       "75%        55.000000\n",
       "max       143.000000\n",
       "Name: messages_id, dtype: float64"
      ]
     },
     "metadata": {},
     "output_type": "display_data"
    },
    {
     "name": "stdout",
     "output_type": "stream",
     "text": [
      "Дисперсия количества потраченных смс пользователями с тарифом ultra после удаления выбросов: 720\n"
     ]
    },
    {
     "data": {
      "image/png": "[encoded data removed]",
      "text/plain": [
       "<Figure size 648x432 with 1 Axes>"
      ]
     },
     "metadata": {
      "needs_background": "light"
     },
     "output_type": "display_data"
    }
   ],
   "source": [
    "df_new_SMART['messages_id'].hist(bins = 70, figsize = (9, 6));\n",
    "plt.title('Распределение потраченных смс пользователями тарифа smart');\n",
    "display(df_new_SMART['messages_id'].describe())\n",
    "\n",
    "var_smart_MESSAGES = np.var(df_new_smart_nonull_DURATION['messages_id'], ddof=1)\n",
    "\n",
    "print('Дисперсия количества потраченных смс пользователями с тарифом ultra после удаления выбросов:' , round(var_smart_MESSAGES))"
   ]
  },
  {
   "cell_type": "markdown",
   "metadata": {},
   "source": [
    " "
   ]
  },
  {
   "cell_type": "markdown",
   "metadata": {},
   "source": [
    "#### Анализ необходимого количества мегабайт для пользоваталей тарифа smart"
   ]
  },
  {
   "cell_type": "code",
   "execution_count": 47,
   "metadata": {},
   "outputs": [
    {
     "data": {
      "image/png": "[encoded data removed]",
      "text/plain": [
       "<Figure size 648x432 with 1 Axes>"
      ]
     },
     "metadata": {
      "needs_background": "light"
     },
     "output_type": "display_data"
    },
    {
     "data": {
      "image/png": "[encoded data removed]",
      "text/plain": [
       "<Figure size 432x648 with 1 Axes>"
      ]
     },
     "metadata": {
      "needs_background": "light"
     },
     "output_type": "display_data"
    }
   ],
   "source": [
    "df_new_SMART['mb_used'].hist(bins = 100, figsize = (9, 6));\n",
    "plt.title('Распределение потраченных мб за месяц пользователями тарифа smart');\n",
    "plt.show()\n",
    "\n",
    "no_na = df_new_SMART['mb_used'].dropna()\n",
    "plt.figure(figsize = (6, 9))\n",
    "box = plt.boxplot(x = no_na);"
   ]
  },
  {
   "cell_type": "markdown",
   "metadata": {},
   "source": [
    "На глаз определить выбросы сложно, поэтому воспользуемся диаграммой размаха и посмотри на границы усов."
   ]
  },
  {
   "cell_type": "code",
   "execution_count": 48,
   "metadata": {},
   "outputs": [
    {
     "data": {
      "text/plain": [
       "31115.0"
      ]
     },
     "execution_count": 48,
     "metadata": {},
     "output_type": "execute_result"
    }
   ],
   "source": [
    "upper_whisker = [el.get_ydata()[1] for el in box['whiskers']][1]\n",
    "upper_whisker"
   ]
  },
  {
   "cell_type": "markdown",
   "metadata": {},
   "source": [
    "Получили такую верхнюю границу. Отныне будем считать, что все, что лежит за пределами данной границы будет считаться выбросом."
   ]
  },
  {
   "cell_type": "code",
   "execution_count": 49,
   "metadata": {},
   "outputs": [
    {
     "data": {
      "text/plain": [
       "15"
      ]
     },
     "execution_count": 49,
     "metadata": {},
     "output_type": "execute_result"
    }
   ],
   "source": [
    "df_new_SMART_no_fliers = df_new_SMART[df_new_SMART['mb_used'] >= 31115]\n",
    "len(df_new_SMART[df_new_SMART['mb_used'] >= 31115])"
   ]
  },
  {
   "cell_type": "markdown",
   "metadata": {},
   "source": [
    "Всего получилось 15 выбросов. Немного."
   ]
  },
  {
   "cell_type": "code",
   "execution_count": 50,
   "metadata": {},
   "outputs": [],
   "source": [
    "df_new_SMART_no_fliers = df_new_SMART[df_new_SMART['mb_used'] < 31115]"
   ]
  },
  {
   "cell_type": "code",
   "execution_count": 51,
   "metadata": {
    "scrolled": true
   },
   "outputs": [
    {
     "data": {
      "text/plain": [
       "count     2213.000000\n",
       "mean     16115.305016\n",
       "std       5697.305673\n",
       "min          0.000000\n",
       "25%      12633.000000\n",
       "50%      16484.000000\n",
       "75%      20000.000000\n",
       "max      31054.000000\n",
       "Name: mb_used, dtype: float64"
      ]
     },
     "execution_count": 51,
     "metadata": {},
     "output_type": "execute_result"
    }
   ],
   "source": [
    "df_new_SMART_no_fliers['mb_used'].describe()"
   ]
  },
  {
   "cell_type": "code",
   "execution_count": 52,
   "metadata": {},
   "outputs": [
    {
     "data": {
      "image/png": "[encoded data removed]",
      "text/plain": [
       "<Figure size 648x432 with 1 Axes>"
      ]
     },
     "metadata": {
      "needs_background": "light"
     },
     "output_type": "display_data"
    }
   ],
   "source": [
    "df_new_SMART_no_fliers['mb_used'].hist(bins = 100, figsize = (9, 6));\n",
    "plt.title('Гистограмма распределения потраченных мб за месяц');"
   ]
  },
  {
   "cell_type": "markdown",
   "metadata": {},
   "source": [
    "### Вывод\n",
    "Исходя из проведенного анализа можно сделать следующие выводы:\n",
    "\n",
    "1.Клиенты с тарифом ультра в среднем используют больше минут, 540 против 419 у smart\n",
    "\n",
    "2.Клиенты с тарифом ультра в среднем используют больше смс, 62 против 39 у smart\n",
    "\n",
    "3.Клиенты с тарифом ультра в среднем используют больше мб интернета, 19707 против 16244 у smart"
   ]
  },
  {
   "cell_type": "markdown",
   "metadata": {},
   "source": [
    "## Проверка гипотез"
   ]
  },
  {
   "cell_type": "markdown",
   "metadata": {},
   "source": [
    "### Средняя выручка пользователей тарифов «Ультра» и «Смарт» различается"
   ]
  },
  {
   "cell_type": "code",
   "execution_count": 53,
   "metadata": {},
   "outputs": [
    {
     "name": "stdout",
     "output_type": "stream",
     "text": [
      "Средний размер ежемесячного платежа у клиента с тарифом ultra составил: 2845 руб.\n",
      "Средний размер ежемесячного платежа у клиента с тарифом ultra составил: 1177 руб.\n",
      "\n",
      "p-значение: 0.0\n",
      "Отвергаем нулевую гипотезу\n"
     ]
    }
   ],
   "source": [
    "df_new_ultra_PROFIT_mean = df_new_ultra['profit_per_sub'].mean()\n",
    "print('Средний размер ежемесячного платежа у клиента с тарифом ultra составил:', round(df_new_ultra_PROFIT_mean), 'руб.')\n",
    "\n",
    "df_new_smart_PROFIT_mean = df_new_SMART['profit_per_sub'].mean()\n",
    "print('Средний размер ежемесячного платежа у клиента с тарифом ultra составил:', round(df_new_smart_PROFIT_mean), 'руб.')\n",
    "print()\n",
    "\n",
    "alpha = .05\n",
    "\n",
    "results = st.ttest_ind(df_new_ultra['profit_per_sub'], df_new_SMART['profit_per_sub'])\n",
    "\n",
    "print('p-значение:', results.pvalue)\n",
    "\n",
    "if results.pvalue < alpha:\n",
    "    print(\"Отвергаем нулевую гипотезу\")\n",
    "else:\n",
    "    print(\"Не получилось отвергнуть нулевую гипотезу\")"
   ]
  },
  {
   "cell_type": "markdown",
   "metadata": {},
   "source": [
    "#### Вывод\n",
    "Был проведен тест на проверку гипотезы о равенстве средних двух генеральных совокупностей, то есть равенство средней доходности между пользователями тарифа ultra и smart. P-критерий практически равен 0, что означает, что нулевая гипотеза (о равенстве средних двух генеральных совокупностей) отклоняется и средние не равны."
   ]
  },
  {
   "cell_type": "markdown",
   "metadata": {},
   "source": [
    "### Средняя выручка пользователей из Москвы отличается от выручки пользователей из других регионов"
   ]
  },
  {
   "cell_type": "code",
   "execution_count": 54,
   "metadata": {},
   "outputs": [
    {
     "name": "stdout",
     "output_type": "stream",
     "text": [
      "p-значение: 0.0005700353414778723\n",
      "Отвергаем нулевую гипотезу\n"
     ]
    },
    {
     "data": {
      "text/plain": [
       "(1833.620294599018, 1654.3604606525912)"
      ]
     },
     "execution_count": 54,
     "metadata": {},
     "output_type": "execute_result"
    }
   ],
   "source": [
    "moscow_data = df_new[df_new['city'] == 'Москва']['profit_per_sub']\n",
    "moscow_data_mean = df_new[df_new['city'] == 'Москва']['profit_per_sub'].mean() #1593\n",
    "not_moscow_data = df_new[df_new['city'] != 'Москва']['profit_per_sub']\n",
    "not_moscow_data_mean = df_new[df_new['city'] != 'Москва']['profit_per_sub'].mean() #1573\n",
    "\n",
    "alpha = .05\n",
    "\n",
    "results = st.ttest_ind(moscow_data, not_moscow_data)\n",
    "\n",
    "print('p-значение:', results.pvalue)\n",
    "\n",
    "if results.pvalue < alpha:\n",
    "    print(\"Отвергаем нулевую гипотезу\")\n",
    "else:\n",
    "    print(\"Не получилось отвергнуть нулевую гипотезу\")\n",
    "    \n",
    "moscow_data_mean, not_moscow_data_mean"
   ]
  },
  {
   "cell_type": "markdown",
   "metadata": {},
   "source": [
    "#### Вывод\n",
    "Был проведен тест на проверку гипотезы о равенстве средней выручки между пользователями из Москвы и из других регионов(гипотеза о равенстве средних двух генеральных совокупностей). P-значение равно 0.59, что о говорит о том, что с вероятностью почти 60% можно получить данное или большее различие в средних случайно. Поэтому говорить о том, что данная разница значима не можем."
   ]
  },
  {
   "cell_type": "markdown",
   "metadata": {},
   "source": [
    "## Вывод\n"
   ]
  },
  {
   "cell_type": "code",
   "execution_count": 55,
   "metadata": {},
   "outputs": [
    {
     "name": "stdout",
     "output_type": "stream",
     "text": [
      "Совокупный доход с клиентов с тарифом ultra составил: 2805450.0 руб.\n",
      "Совокупный доход с клиентов с тарифом smart составил: 2624501.0 руб.\n",
      "\n",
      "Уникальных пользователей с тарифом ultra: 149\n",
      "Уникальных пользователей с тарифом smart: 351\n"
     ]
    }
   ],
   "source": [
    "total_income_ultra = df_new_ultra['profit_per_sub'].sum()\n",
    "print('Совокупный доход с клиентов с тарифом ultra составил:', total_income_ultra, 'руб.')\n",
    "\n",
    "total_income_smart = df_new_SMART['profit_per_sub'].sum()\n",
    "print('Совокупный доход с клиентов с тарифом smart составил:', total_income_smart, 'руб.')\n",
    "print('')\n",
    "\n",
    "df_new_ultra_clients = len(df_new_ultra['user_id'].unique()) #149 уникальных пользователей с тарифом ultra\n",
    "print('Уникальных пользователей с тарифом ultra:', df_new_ultra_clients)\n",
    "\n",
    "df_new_smart_clients = len(df_new_SMART['user_id'].unique()) #351 уникальный пользователь с тарифом smart\n",
    "print('Уникальных пользователей с тарифом smart:', df_new_smart_clients)"
   ]
  },
  {
   "cell_type": "markdown",
   "metadata": {},
   "source": [
    "- Клиенты с тарифом ультра в среднем используют больше минут, 539 против 417 у smart\n",
    "- Клиенты с тарифом ультра в среднем используют больше смс, 61 против 39 у smart\n",
    "- Клиенты с тарифом ультра в среднем используют больше мб интернета, 19620 против 16115 у smart\n",
    "- Средняя выручка с клиентов с тарифом ultra 2845 рублей в меясяц\n",
    "- Средняя выручка с клиентов с тарифом smart 1177 рублей в меясяц"
   ]
  },
  {
   "cell_type": "markdown",
   "metadata": {},
   "source": [
    "Главной задачей ставилось проведение анализа поведения клиентов с различными тарифами с дальнейшим определением того, какой тариф лучше. Из проведенного анализа можно сделать следующие выводы:\n",
    "1. Клиенты с тарифом ultra потребляют больше интернета, отправляют больше смс и дольше разговаривают по телефону, но при этом и средняя плата с таких клиентов выше. Клиентов с тарифом ultra меньше, чем клиентов с тарифом smart более, чем в 2 раза.\n",
    "2. На основе проведенного тестировния гипотез можно утверждать, что:\n",
    "    А) Средняя выручка пользователей из Москвы не отличается от выручки пользователей из других регионов\n",
    "    Б) Средняя выручка пользователей тарифов «Ультра» и «Смарт» различается\n",
    "3. Сложно выделить какой - либо тариф, который был бы намного выгоднее другого. Предполагаю, что оба тарифа являются незаменимыми, поскольку рассчитаны на разные потребности людей. Те, кто активнее пользуются телефоном предпочитают платить больше и выбирают тариф ultra, те, кто телефоном пользуются меньше, выбирают smart, чтобы не переплачивать."
   ]
  }
 ],
 "metadata": {
  "kernelspec": {
   "display_name": "Python 3 (ipykernel)",
   "language": "python",
   "name": "python3"
  },
  "language_info": {
   "codemirror_mode": {
    "name": "ipython",
    "version": 3
   },
   "file_extension": ".py",
   "mimetype": "text/x-python",
   "name": "python",
   "nbconvert_exporter": "python",
   "pygments_lexer": "ipython3",
   "version": "3.9.5"
  },
  "toc": {
   "base_numbering": 1,
   "nav_menu": {},
   "number_sections": true,
   "sideBar": true,
   "skip_h1_title": true,
   "title_cell": "Table of Contents",
   "title_sidebar": "Contents",
   "toc_cell": false,
   "toc_position": {},
   "toc_section_display": true,
   "toc_window_display": false
  }
 },
 "nbformat": 4,
 "nbformat_minor": 2
}
