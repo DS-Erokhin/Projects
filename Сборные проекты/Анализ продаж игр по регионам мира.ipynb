{
 "cells": [
  {
   "cell_type": "markdown",
   "metadata": {},
   "source": [
    "<div class=\"alert alert-success\">\n",
    "<font size=\"5\"><b>Комментарий ревьюера 2</b></font>\n",
    "\n",
    "Привет еще раз. Спасибо, что доделал работу. Оформление комментариев по работе сохраняется. Только обозначим, что это вторая итерация. \n",
    "\n",
    "</div>"
   ]
  },
  {
   "cell_type": "markdown",
   "metadata": {},
   "source": [
    "<div class=\"alert alert-success\">\n",
    "<font size=\"5\"><b>Комментарий ревьюера</b></font>\n",
    "\n",
    "Привет! Спасибо, что исправил задание:) Ты проделал большую работу над проектом. Он выполнен уже на хорошем уровне. Однако есть моменты, которые еще можно улучшить. Будет здорово, если ты, надеюсь, не против, если я буду на ты, будешь отвечать на комментарии и участвовать в диалоге. Если обращение на ты неприемлемо, то прошу сообщить. \n",
    "\n",
    "Мои комментарии обозначены пометкой **Комментарий ревьюера**. Далее в файле ты сможешь найти их в похожих ячейках:\n",
    "    \n",
    "<div class=\"alert alert-success\">Если фон комментария зелёный - всё сделано правильно. Рекомендации укажу таким же цветом;</div>\n",
    "        \n",
    "<div class=\"alert alert-warning\">Оранжевый - некритичные замечания. Если таких замечаний меньше трех - проект может быть принят без их отработки;</div>\n",
    "        \n",
    "<div class=\"alert alert-danger\">Красный - нужно переделать. </div>\n",
    "        \n",
    "Не удаляй эти комментарии и постарайся учесть их в ходе выполнения данного проекта. Свои же комментарии ты можешь обозначать любым заметным способом. \n",
    "\n",
    "</div>"
   ]
  },
  {
   "cell_type": "markdown",
   "metadata": {},
   "source": [
    "<div class=\"alert alert-success\">\n",
    "<font size=\"5\"><b>Комментарий ревьюера 0</b></font>\n",
    "\n",
    "Привет, Егор! Спасибо, что прислал задание:) Поздравляю с приближением к концу первого модуля. Меня зовут Слепцов Артем и я буду проверять твой проект) К сожалению, я не могу запустить твой проект полностью из-за ошибки в коде. По правилам я должен вернуть тебе работу. Как исправишь помарку, проверь работоспособность кода. Если он отработает без нареканий, присылай работу снова. Буду ждать :)\n",
    "</div>"
   ]
  },
  {
   "cell_type": "markdown",
   "metadata": {},
   "source": [
    "<div class=\"alert alert-danger\">\n",
    "<font size=\"5\"><b>Комментарий ревьюера</b></font>\n",
    "\n",
    "Стоит делать краткое вступление в работу, описание того, что надо делать. В работе необходимо приводить информацию о входных данных: какие столбцы есть в таблице, их названия и какую информацию они несут. Также название работы лучше отображать в отдельной ячейке и делать крупный шрифт (заголовок). Так работа выглядит презентабельно. Подробнее смотри методичку по оформлению проектов. Она располагается в Notion в разделе \"Как оформлять проект\".\n",
    "    \n",
    "</div>"
   ]
  },
  {
   "cell_type": "markdown",
   "metadata": {},
   "source": [
    "<div class=\"alert alert-info\"> <b>Комментарий студента:</b> Добавление описания.</div>\n",
    "Перед вами данные до 2016 года по продажам игр на разных платформах. Необходимо выявить определяющие успешность игры закономерности. Это позволит сделать ставку на потенциально популярный продукт и спланировать рекламные кампании.\n",
    "\n",
    "В наборе данных попадается аббревиатура ESRB (Entertainment Software Rating Board) — это ассоциация, определяющая возрастной рейтинг компьютерных игр. ESRB оценивает игровой контент и присваивает ему подходящую возрастную категорию, например, «Для взрослых», «Для детей младшего возраста» или «Для подростков»."
   ]
  },
  {
   "cell_type": "markdown",
   "metadata": {},
   "source": [
    "<div class=\"alert alert-success\">\n",
    "<font size=\"5\"><b>Комментарий ревьюера 2</b></font>\n",
    "\n",
    "Вступление в работу очень важно. Так ты поясняешь то, чему она посвящена. Цель работы также хорошо бы вынести в отдельный блок вступления. Еще лучше будет, если ты сделаешь план работы с гиперссылками. Да, есть плагин ToC. Но хорошо бы уметь реализовывать интерактивный план проекта вручную. Как это реализовать - смотри по [ссылке](https://stackoverflow.com/questions/49535664/how-to-hyperlink-in-a-jupyter-notebook/49717704).\n",
    "\n",
    "</div>"
   ]
  },
  {
   "cell_type": "markdown",
   "metadata": {},
   "source": [
    "## Ознакомление с данными"
   ]
  },
  {
   "cell_type": "markdown",
   "metadata": {},
   "source": [
    "<div class=\"alert alert-warning\">\n",
    "<font size=\"5\"><b>Комментарий ревьюера 0</b></font>\n",
    "\n",
    "Я заметил, что ячейки в твоей тетрадке начинаются не с 1. Перед отправкой работы рекомендую перезапускать ноутбук, чтобы убедиться, что все ячейки выполняются корректно.\n",
    "\n",
    "</div>"
   ]
  },
  {
   "cell_type": "markdown",
   "metadata": {},
   "source": [
    "<div class=\"alert alert-warning\">\n",
    "<font size=\"5\"><b>Комментарий ревьюера</b></font>\n",
    "\n",
    "В полном перезапуске проекта тебе поможет Kernel => Restart & Run All.\n",
    "\n",
    "</div>"
   ]
  },
  {
   "cell_type": "code",
   "execution_count": 1,
   "metadata": {},
   "outputs": [
    {
     "name": "stdout",
     "output_type": "stream",
     "text": [
      "<class 'pandas.core.frame.DataFrame'>\n",
      "RangeIndex: 16715 entries, 0 to 16714\n",
      "Data columns (total 11 columns):\n",
      "Name               16713 non-null object\n",
      "Platform           16715 non-null object\n",
      "Year_of_Release    16446 non-null float64\n",
      "Genre              16713 non-null object\n",
      "NA_sales           16715 non-null float64\n",
      "EU_sales           16715 non-null float64\n",
      "JP_sales           16715 non-null float64\n",
      "Other_sales        16715 non-null float64\n",
      "Critic_Score       8137 non-null float64\n",
      "User_Score         10014 non-null object\n",
      "Rating             9949 non-null object\n",
      "dtypes: float64(6), object(5)\n",
      "memory usage: 1.4+ MB\n"
     ]
    },
    {
     "data": {
      "text/html": [
       "<div>\n",
       "<style scoped>\n",
       "    .dataframe tbody tr th:only-of-type {\n",
       "        vertical-align: middle;\n",
       "    }\n",
       "\n",
       "    .dataframe tbody tr th {\n",
       "        vertical-align: top;\n",
       "    }\n",
       "\n",
       "    .dataframe thead th {\n",
       "        text-align: right;\n",
       "    }\n",
       "</style>\n",
       "<table border=\"1\" class=\"dataframe\">\n",
       "  <thead>\n",
       "    <tr style=\"text-align: right;\">\n",
       "      <th></th>\n",
       "      <th>Name</th>\n",
       "      <th>Platform</th>\n",
       "      <th>Year_of_Release</th>\n",
       "      <th>Genre</th>\n",
       "      <th>NA_sales</th>\n",
       "      <th>EU_sales</th>\n",
       "      <th>JP_sales</th>\n",
       "      <th>Other_sales</th>\n",
       "      <th>Critic_Score</th>\n",
       "      <th>User_Score</th>\n",
       "      <th>Rating</th>\n",
       "    </tr>\n",
       "  </thead>\n",
       "  <tbody>\n",
       "    <tr>\n",
       "      <td>0</td>\n",
       "      <td>Wii Sports</td>\n",
       "      <td>Wii</td>\n",
       "      <td>2006.0</td>\n",
       "      <td>Sports</td>\n",
       "      <td>41.36</td>\n",
       "      <td>28.96</td>\n",
       "      <td>3.77</td>\n",
       "      <td>8.45</td>\n",
       "      <td>76.0</td>\n",
       "      <td>8</td>\n",
       "      <td>E</td>\n",
       "    </tr>\n",
       "    <tr>\n",
       "      <td>1</td>\n",
       "      <td>Super Mario Bros.</td>\n",
       "      <td>NES</td>\n",
       "      <td>1985.0</td>\n",
       "      <td>Platform</td>\n",
       "      <td>29.08</td>\n",
       "      <td>3.58</td>\n",
       "      <td>6.81</td>\n",
       "      <td>0.77</td>\n",
       "      <td>NaN</td>\n",
       "      <td>NaN</td>\n",
       "      <td>NaN</td>\n",
       "    </tr>\n",
       "    <tr>\n",
       "      <td>2</td>\n",
       "      <td>Mario Kart Wii</td>\n",
       "      <td>Wii</td>\n",
       "      <td>2008.0</td>\n",
       "      <td>Racing</td>\n",
       "      <td>15.68</td>\n",
       "      <td>12.76</td>\n",
       "      <td>3.79</td>\n",
       "      <td>3.29</td>\n",
       "      <td>82.0</td>\n",
       "      <td>8.3</td>\n",
       "      <td>E</td>\n",
       "    </tr>\n",
       "    <tr>\n",
       "      <td>3</td>\n",
       "      <td>Wii Sports Resort</td>\n",
       "      <td>Wii</td>\n",
       "      <td>2009.0</td>\n",
       "      <td>Sports</td>\n",
       "      <td>15.61</td>\n",
       "      <td>10.93</td>\n",
       "      <td>3.28</td>\n",
       "      <td>2.95</td>\n",
       "      <td>80.0</td>\n",
       "      <td>8</td>\n",
       "      <td>E</td>\n",
       "    </tr>\n",
       "    <tr>\n",
       "      <td>4</td>\n",
       "      <td>Pokemon Red/Pokemon Blue</td>\n",
       "      <td>GB</td>\n",
       "      <td>1996.0</td>\n",
       "      <td>Role-Playing</td>\n",
       "      <td>11.27</td>\n",
       "      <td>8.89</td>\n",
       "      <td>10.22</td>\n",
       "      <td>1.00</td>\n",
       "      <td>NaN</td>\n",
       "      <td>NaN</td>\n",
       "      <td>NaN</td>\n",
       "    </tr>\n",
       "    <tr>\n",
       "      <td>...</td>\n",
       "      <td>...</td>\n",
       "      <td>...</td>\n",
       "      <td>...</td>\n",
       "      <td>...</td>\n",
       "      <td>...</td>\n",
       "      <td>...</td>\n",
       "      <td>...</td>\n",
       "      <td>...</td>\n",
       "      <td>...</td>\n",
       "      <td>...</td>\n",
       "      <td>...</td>\n",
       "    </tr>\n",
       "    <tr>\n",
       "      <td>16710</td>\n",
       "      <td>Samurai Warriors: Sanada Maru</td>\n",
       "      <td>PS3</td>\n",
       "      <td>2016.0</td>\n",
       "      <td>Action</td>\n",
       "      <td>0.00</td>\n",
       "      <td>0.00</td>\n",
       "      <td>0.01</td>\n",
       "      <td>0.00</td>\n",
       "      <td>NaN</td>\n",
       "      <td>NaN</td>\n",
       "      <td>NaN</td>\n",
       "    </tr>\n",
       "    <tr>\n",
       "      <td>16711</td>\n",
       "      <td>LMA Manager 2007</td>\n",
       "      <td>X360</td>\n",
       "      <td>2006.0</td>\n",
       "      <td>Sports</td>\n",
       "      <td>0.00</td>\n",
       "      <td>0.01</td>\n",
       "      <td>0.00</td>\n",
       "      <td>0.00</td>\n",
       "      <td>NaN</td>\n",
       "      <td>NaN</td>\n",
       "      <td>NaN</td>\n",
       "    </tr>\n",
       "    <tr>\n",
       "      <td>16712</td>\n",
       "      <td>Haitaka no Psychedelica</td>\n",
       "      <td>PSV</td>\n",
       "      <td>2016.0</td>\n",
       "      <td>Adventure</td>\n",
       "      <td>0.00</td>\n",
       "      <td>0.00</td>\n",
       "      <td>0.01</td>\n",
       "      <td>0.00</td>\n",
       "      <td>NaN</td>\n",
       "      <td>NaN</td>\n",
       "      <td>NaN</td>\n",
       "    </tr>\n",
       "    <tr>\n",
       "      <td>16713</td>\n",
       "      <td>Spirits &amp; Spells</td>\n",
       "      <td>GBA</td>\n",
       "      <td>2003.0</td>\n",
       "      <td>Platform</td>\n",
       "      <td>0.01</td>\n",
       "      <td>0.00</td>\n",
       "      <td>0.00</td>\n",
       "      <td>0.00</td>\n",
       "      <td>NaN</td>\n",
       "      <td>NaN</td>\n",
       "      <td>NaN</td>\n",
       "    </tr>\n",
       "    <tr>\n",
       "      <td>16714</td>\n",
       "      <td>Winning Post 8 2016</td>\n",
       "      <td>PSV</td>\n",
       "      <td>2016.0</td>\n",
       "      <td>Simulation</td>\n",
       "      <td>0.00</td>\n",
       "      <td>0.00</td>\n",
       "      <td>0.01</td>\n",
       "      <td>0.00</td>\n",
       "      <td>NaN</td>\n",
       "      <td>NaN</td>\n",
       "      <td>NaN</td>\n",
       "    </tr>\n",
       "  </tbody>\n",
       "</table>\n",
       "<p>16715 rows × 11 columns</p>\n",
       "</div>"
      ],
      "text/plain": [
       "                                Name Platform  Year_of_Release         Genre  \\\n",
       "0                         Wii Sports      Wii           2006.0        Sports   \n",
       "1                  Super Mario Bros.      NES           1985.0      Platform   \n",
       "2                     Mario Kart Wii      Wii           2008.0        Racing   \n",
       "3                  Wii Sports Resort      Wii           2009.0        Sports   \n",
       "4           Pokemon Red/Pokemon Blue       GB           1996.0  Role-Playing   \n",
       "...                              ...      ...              ...           ...   \n",
       "16710  Samurai Warriors: Sanada Maru      PS3           2016.0        Action   \n",
       "16711               LMA Manager 2007     X360           2006.0        Sports   \n",
       "16712        Haitaka no Psychedelica      PSV           2016.0     Adventure   \n",
       "16713               Spirits & Spells      GBA           2003.0      Platform   \n",
       "16714            Winning Post 8 2016      PSV           2016.0    Simulation   \n",
       "\n",
       "       NA_sales  EU_sales  JP_sales  Other_sales  Critic_Score User_Score  \\\n",
       "0         41.36     28.96      3.77         8.45          76.0          8   \n",
       "1         29.08      3.58      6.81         0.77           NaN        NaN   \n",
       "2         15.68     12.76      3.79         3.29          82.0        8.3   \n",
       "3         15.61     10.93      3.28         2.95          80.0          8   \n",
       "4         11.27      8.89     10.22         1.00           NaN        NaN   \n",
       "...         ...       ...       ...          ...           ...        ...   \n",
       "16710      0.00      0.00      0.01         0.00           NaN        NaN   \n",
       "16711      0.00      0.01      0.00         0.00           NaN        NaN   \n",
       "16712      0.00      0.00      0.01         0.00           NaN        NaN   \n",
       "16713      0.01      0.00      0.00         0.00           NaN        NaN   \n",
       "16714      0.00      0.00      0.01         0.00           NaN        NaN   \n",
       "\n",
       "      Rating  \n",
       "0          E  \n",
       "1        NaN  \n",
       "2          E  \n",
       "3          E  \n",
       "4        NaN  \n",
       "...      ...  \n",
       "16710    NaN  \n",
       "16711    NaN  \n",
       "16712    NaN  \n",
       "16713    NaN  \n",
       "16714    NaN  \n",
       "\n",
       "[16715 rows x 11 columns]"
      ]
     },
     "execution_count": 1,
     "metadata": {},
     "output_type": "execute_result"
    }
   ],
   "source": [
    "import pandas as pd\n",
    "import matplotlib.pyplot as plt\n",
    "import math\n",
    "import numpy as np\n",
    "from scipy import stats as st\n",
    "import seaborn as sns\n",
    "import warnings\n",
    "\n",
    "warnings.simplefilter('ignore')\n",
    "df = pd.read_csv('/datasets/games.csv')\n",
    "df.info()\n",
    "df"
   ]
  },
  {
   "cell_type": "markdown",
   "metadata": {},
   "source": [
    "<div class=\"alert alert-warning\">\n",
    "<font size=\"5\"><b>Комментарий ревьюера</b></font>\n",
    "\n",
    "Подумай также о возможных причинах появления пропусков, а также о том, являются ли они случайными или нет. Можно высказать предварительные варианты их обработки. \n",
    "\n",
    "Первый взгляд на таблицу выполнен. Не забывай делать выводы по каждому пункту анализа. \n",
    "\n",
    "</div>"
   ]
  },
  {
   "cell_type": "markdown",
   "metadata": {},
   "source": [
    "<div class=\"alert alert-info\"> <b>Комментарий студента:</b> Причины появления пропусков.</div>\n",
    "Ниже будет приведен список столбцов с пропусками и указаны возможные причины их появления.\n",
    "\n",
    "1. Name - в столбце отсутствуют 2 значения. Предположить причины пропусков довольно сложно, но учитывая, что оба пропуска  относятся к самые первым играм (1980 г), можно предположить, что точное название игры просто неизвестно.  \n",
    "\n",
    "2. Year_of_Release - неизвестен год выхода игры  \n",
    "\n",
    "3. Genre - те же 2 пропуска, что и в Name. Причина - данные по этой игре не сохранились или сложно описать жанр.  \n",
    "\n",
    "4. Critic_Score - банальное отсутствие оценки критиков  \n",
    "\n",
    "5. User_Score - отсутствие оценки пользователей  \n",
    "\n",
    "6. Rating - не каждая игры обзаводится рейтингом ESRB. Полагаю, что для получения оценки игры должна быть достаточно крупный проектом."
   ]
  },
  {
   "cell_type": "markdown",
   "metadata": {},
   "source": [
    "<div class=\"alert alert-success\">\n",
    "<font size=\"5\"><b>Комментарий ревьюера 2</b></font>\n",
    "\n",
    "Отлично!\n",
    "\n",
    "</div>"
   ]
  },
  {
   "cell_type": "markdown",
   "metadata": {},
   "source": [
    "## Предобработка данных"
   ]
  },
  {
   "cell_type": "markdown",
   "metadata": {},
   "source": [
    "<div class=\"alert alert-success\">\n",
    "<font size=\"5\"><b>Комментарий ревьюера</b></font>\n",
    "\n",
    "Метод ниже позволяет нам автоматизировать процесс приведения названий столбцов к нижнему регистру. Так исключается вероятность опечаток. \n",
    "\n",
    "</div>"
   ]
  },
  {
   "cell_type": "code",
   "execution_count": 2,
   "metadata": {},
   "outputs": [],
   "source": [
    "#Замена названия столбцов\n",
    "df.columns = df.columns.str.lower()\n",
    "\n",
    "#Преобразование типов данных\n",
    "df[['critic_score', 'year_of_release']] = df[['critic_score', 'year_of_release']].astype('Int64')\n",
    "df['user_score'] = df['user_score'].replace('tbd', np.nan)\n",
    "#Обнаружены значения 'tbd' из-за которых не получилось перевести столбец в числовой. 'tbd' расшифровывается, \n",
    "#как 'to be determed', то есть значения еще не определены. Считаю целесообразным их не заполнять.\n",
    "df['user_score'] = pd.to_numeric(df['user_score']).astype('Float64')"
   ]
  },
  {
   "cell_type": "markdown",
   "metadata": {},
   "source": [
    "<div class=\"alert alert-success\">\n",
    "<font size=\"5\"><b>Комментарий ревьюера</b></font>\n",
    "\n",
    "Верно, по своей сути tbd и является Nan. Отлично, что определяешь неявные пропущенные значения.\n",
    "\n",
    "</div>"
   ]
  },
  {
   "cell_type": "markdown",
   "metadata": {},
   "source": [
    "### Обработка пропусков"
   ]
  },
  {
   "cell_type": "code",
   "execution_count": 3,
   "metadata": {
    "scrolled": true
   },
   "outputs": [
    {
     "name": "stdout",
     "output_type": "stream",
     "text": [
      "name                  2\n",
      "platform              0\n",
      "year_of_release     269\n",
      "genre                 2\n",
      "na_sales              0\n",
      "eu_sales              0\n",
      "jp_sales              0\n",
      "other_sales           0\n",
      "critic_score       8578\n",
      "user_score         9125\n",
      "rating             6766\n",
      "dtype: int64\n"
     ]
    }
   ],
   "source": [
    "print(df.isna().sum())\n",
    "#Обнаружены пропуски в столбцах 'name', 'year_of_release', 'critic_score', 'user_score', 'rating'\n",
    "df = df.drop(df[df['name'].isna()].index)#от данных строк следует избавиться, поскольку\n",
    "#смысловая нагрузка в них минимальна. Игры крайне старые (1993г), отсутсвует жанр, продажи\n",
    "#в некоторых регионах, а также рейтинги.\n",
    "\n",
    "df['total_sales'] = df['na_sales'] + df['eu_sales'] + df['jp_sales'] + df['other_sales']\n",
    "platforms_grouped = df.groupby('platform')['year_of_release'].agg('mean').astype('int')"
   ]
  },
  {
   "cell_type": "markdown",
   "metadata": {},
   "source": [
    "<div class=\"alert alert-danger\">\n",
    "<font size=\"5\"><b>Комментарий ревьюера</b></font>\n",
    "\n",
    "Данные подготовлены к дальнейшему анализу. Пропуски ты не стал обрабатывать. Это правильное решение. Но почему ты решил поступить именно так. Очень мало комментариев по работе. Делай их, ведь именно твои выводы  и являются основным результатом при выполнении исследования. \n",
    "\n",
    "</div>"
   ]
  },
  {
   "cell_type": "markdown",
   "metadata": {},
   "source": [
    "<div class=\"alert alert-info\"> <b>Комментарий студента:</b> Пояснение решения не обрабатывать пропуски.</div>"
   ]
  },
  {
   "cell_type": "markdown",
   "metadata": {},
   "source": [
    "year_of_release - обрабатывать не стоит, потому что, если заменять год выхода игры на средние значения или медианные, то получится довольное сильное упрощение, что существенно может исказить дальнейшие результаты. Той же логикой руководствовался и для столбцов critic_score, user_score, rating."
   ]
  },
  {
   "cell_type": "markdown",
   "metadata": {},
   "source": [
    "<div class=\"alert alert-success\">\n",
    "<font size=\"5\"><b>Комментарий ревьюера 2</b></font>\n",
    "\n",
    "Да, восстановить пропущенные значения мы не можем. Данных для этого недостаточно. Лучше работать с меньшим количеством данных хорошего качества. Тем более причины пропусков непонятны, они вполне могут быть и не случайными. \n",
    "</div>"
   ]
  },
  {
   "cell_type": "markdown",
   "metadata": {},
   "source": [
    "## Исследовательский анализ данных"
   ]
  },
  {
   "cell_type": "markdown",
   "metadata": {},
   "source": [
    "### Количество ежегодно выпускаемых игр"
   ]
  },
  {
   "cell_type": "code",
   "execution_count": 4,
   "metadata": {},
   "outputs": [
    {
     "data": {
      "text/plain": [
       "year_of_release\n",
       "1980       9\n",
       "1981      46\n",
       "1982      36\n",
       "1983      17\n",
       "1984      14\n",
       "1985      14\n",
       "1986      21\n",
       "1987      16\n",
       "1988      15\n",
       "1989      17\n",
       "1990      16\n",
       "1991      41\n",
       "1992      43\n",
       "1993      60\n",
       "1994     121\n",
       "1995     219\n",
       "1996     263\n",
       "1997     289\n",
       "1998     379\n",
       "1999     338\n",
       "2000     350\n",
       "2001     482\n",
       "2002     829\n",
       "2003     775\n",
       "2004     762\n",
       "2005     939\n",
       "2006    1006\n",
       "2007    1197\n",
       "2008    1427\n",
       "2009    1426\n",
       "2010    1255\n",
       "2011    1136\n",
       "2012     653\n",
       "2013     544\n",
       "2014     581\n",
       "2015     606\n",
       "2016     502\n",
       "Name: year_of_release, dtype: int64"
      ]
     },
     "execution_count": 4,
     "metadata": {},
     "output_type": "execute_result"
    }
   ],
   "source": [
    "games_per_year = df.groupby('year_of_release')['year_of_release'].count()\n",
    "games_per_year"
   ]
  },
  {
   "cell_type": "markdown",
   "metadata": {},
   "source": [
    "Кол-во выпускаемых игр росло вплоть до 2008 года, после чего пошло на спад. С 2011 по 2012 обнаружена просадка почти в два раза, в 2011 - 1136 выпущенных игр, в 2012 - всего 653."
   ]
  },
  {
   "cell_type": "markdown",
   "metadata": {},
   "source": [
    "<div class=\"alert alert-success\">\n",
    "<font size=\"5\"><b>Комментарий ревьюера</b></font>\n",
    "\n",
    "Как думаешь, с чем связан спад в индустрии последних лет?\n",
    "\n",
    "</div>"
   ]
  },
  {
   "cell_type": "markdown",
   "metadata": {},
   "source": [
    "### Изменение продаж по платформам"
   ]
  },
  {
   "cell_type": "code",
   "execution_count": 5,
   "metadata": {},
   "outputs": [
    {
     "data": {
      "text/html": [
       "<div>\n",
       "<style scoped>\n",
       "    .dataframe tbody tr th:only-of-type {\n",
       "        vertical-align: middle;\n",
       "    }\n",
       "\n",
       "    .dataframe tbody tr th {\n",
       "        vertical-align: top;\n",
       "    }\n",
       "\n",
       "    .dataframe thead th {\n",
       "        text-align: right;\n",
       "    }\n",
       "</style>\n",
       "<table border=\"1\" class=\"dataframe\">\n",
       "  <thead>\n",
       "    <tr style=\"text-align: right;\">\n",
       "      <th></th>\n",
       "      <th>total_sales</th>\n",
       "    </tr>\n",
       "    <tr>\n",
       "      <th>platform</th>\n",
       "      <th></th>\n",
       "    </tr>\n",
       "  </thead>\n",
       "  <tbody>\n",
       "    <tr>\n",
       "      <td>PS2</td>\n",
       "      <td>1255.77</td>\n",
       "    </tr>\n",
       "    <tr>\n",
       "      <td>X360</td>\n",
       "      <td>971.42</td>\n",
       "    </tr>\n",
       "    <tr>\n",
       "      <td>PS3</td>\n",
       "      <td>939.65</td>\n",
       "    </tr>\n",
       "    <tr>\n",
       "      <td>Wii</td>\n",
       "      <td>907.51</td>\n",
       "    </tr>\n",
       "    <tr>\n",
       "      <td>DS</td>\n",
       "      <td>806.12</td>\n",
       "    </tr>\n",
       "    <tr>\n",
       "      <td>PS</td>\n",
       "      <td>730.86</td>\n",
       "    </tr>\n",
       "    <tr>\n",
       "      <td>GBA</td>\n",
       "      <td>317.85</td>\n",
       "    </tr>\n",
       "    <tr>\n",
       "      <td>PS4</td>\n",
       "      <td>314.14</td>\n",
       "    </tr>\n",
       "    <tr>\n",
       "      <td>PSP</td>\n",
       "      <td>294.05</td>\n",
       "    </tr>\n",
       "    <tr>\n",
       "      <td>PC</td>\n",
       "      <td>259.52</td>\n",
       "    </tr>\n",
       "    <tr>\n",
       "      <td>3DS</td>\n",
       "      <td>259.00</td>\n",
       "    </tr>\n",
       "    <tr>\n",
       "      <td>XB</td>\n",
       "      <td>257.74</td>\n",
       "    </tr>\n",
       "    <tr>\n",
       "      <td>GB</td>\n",
       "      <td>255.46</td>\n",
       "    </tr>\n",
       "    <tr>\n",
       "      <td>NES</td>\n",
       "      <td>251.05</td>\n",
       "    </tr>\n",
       "    <tr>\n",
       "      <td>N64</td>\n",
       "      <td>218.68</td>\n",
       "    </tr>\n",
       "    <tr>\n",
       "      <td>SNES</td>\n",
       "      <td>200.04</td>\n",
       "    </tr>\n",
       "    <tr>\n",
       "      <td>GC</td>\n",
       "      <td>198.93</td>\n",
       "    </tr>\n",
       "    <tr>\n",
       "      <td>XOne</td>\n",
       "      <td>159.32</td>\n",
       "    </tr>\n",
       "    <tr>\n",
       "      <td>2600</td>\n",
       "      <td>96.98</td>\n",
       "    </tr>\n",
       "    <tr>\n",
       "      <td>WiiU</td>\n",
       "      <td>82.19</td>\n",
       "    </tr>\n",
       "    <tr>\n",
       "      <td>PSV</td>\n",
       "      <td>54.07</td>\n",
       "    </tr>\n",
       "    <tr>\n",
       "      <td>SAT</td>\n",
       "      <td>33.59</td>\n",
       "    </tr>\n",
       "    <tr>\n",
       "      <td>GEN</td>\n",
       "      <td>28.35</td>\n",
       "    </tr>\n",
       "    <tr>\n",
       "      <td>DC</td>\n",
       "      <td>15.95</td>\n",
       "    </tr>\n",
       "    <tr>\n",
       "      <td>SCD</td>\n",
       "      <td>1.86</td>\n",
       "    </tr>\n",
       "    <tr>\n",
       "      <td>NG</td>\n",
       "      <td>1.44</td>\n",
       "    </tr>\n",
       "    <tr>\n",
       "      <td>WS</td>\n",
       "      <td>1.42</td>\n",
       "    </tr>\n",
       "    <tr>\n",
       "      <td>TG16</td>\n",
       "      <td>0.16</td>\n",
       "    </tr>\n",
       "    <tr>\n",
       "      <td>3DO</td>\n",
       "      <td>0.10</td>\n",
       "    </tr>\n",
       "    <tr>\n",
       "      <td>GG</td>\n",
       "      <td>0.04</td>\n",
       "    </tr>\n",
       "    <tr>\n",
       "      <td>PCFX</td>\n",
       "      <td>0.03</td>\n",
       "    </tr>\n",
       "  </tbody>\n",
       "</table>\n",
       "</div>"
      ],
      "text/plain": [
       "          total_sales\n",
       "platform             \n",
       "PS2           1255.77\n",
       "X360           971.42\n",
       "PS3            939.65\n",
       "Wii            907.51\n",
       "DS             806.12\n",
       "PS             730.86\n",
       "GBA            317.85\n",
       "PS4            314.14\n",
       "PSP            294.05\n",
       "PC             259.52\n",
       "3DS            259.00\n",
       "XB             257.74\n",
       "GB             255.46\n",
       "NES            251.05\n",
       "N64            218.68\n",
       "SNES           200.04\n",
       "GC             198.93\n",
       "XOne           159.32\n",
       "2600            96.98\n",
       "WiiU            82.19\n",
       "PSV             54.07\n",
       "SAT             33.59\n",
       "GEN             28.35\n",
       "DC              15.95\n",
       "SCD              1.86\n",
       "NG               1.44\n",
       "WS               1.42\n",
       "TG16             0.16\n",
       "3DO              0.10\n",
       "GG               0.04\n",
       "PCFX             0.03"
      ]
     },
     "metadata": {},
     "output_type": "display_data"
    },
    {
     "data": {
      "image/png": "[encoded data removed]",
      "text/plain": [
       "<Figure size 1440x720 with 1 Axes>"
      ]
     },
     "metadata": {
      "needs_background": "light"
     },
     "output_type": "display_data"
    }
   ],
   "source": [
    "platforms_pivot = df.pivot_table(index = ['platform', 'year_of_release'], values = 'total_sales', aggfunc = 'sum').reset_index()\n",
    "\n",
    "#Изменения продаж каждой платформы по годам\n",
    "platforms_pivot_gross = df.pivot_table(index = 'platform', values = 'total_sales', aggfunc = 'sum')\n",
    "platforms_pivot_gross = platforms_pivot_gross.sort_values(by = 'total_sales', ascending = False)\n",
    "#Вывод: самые коммерчески успешные платфоррмы - PS2, X360, PS3, Wii, DS и PS.\n",
    "\n",
    "top_platforms = ['PS2', 'X360', 'PS3', 'Wii', 'DS', 'PS']\n",
    "best = platforms_pivot.loc[platforms_pivot['platform'].isin(top_platforms)]\n",
    "best_plot = sns.barplot(x = 'year_of_release', y = 'total_sales', hue = 'platform', data = best)#из графика видно, что \n",
    "#Наиболее успешные платформы в среднем живут около 10 лет\n",
    "best_plot.figure.set_figheight(10)\n",
    "best_plot.figure.set_figwidth(20)\n",
    "display(platforms_pivot_gross)"
   ]
  },
  {
   "cell_type": "code",
   "execution_count": 30,
   "metadata": {},
   "outputs": [
    {
     "data": {
      "text/plain": [
       "platform\n",
       "DS      11\n",
       "PS      10\n",
       "PS2     12\n",
       "PS3     11\n",
       "Wii     11\n",
       "X360    12\n",
       "Name: year_of_release, dtype: int64"
      ]
     },
     "execution_count": 30,
     "metadata": {},
     "output_type": "execute_result"
    }
   ],
   "source": [
    "best.groupby(['platform'])['year_of_release'].count()"
   ]
  },
  {
   "cell_type": "markdown",
   "metadata": {},
   "source": [
    "#### Вывод\n",
    "На основе проведенного анализа продаж по годам на различных платформах можно сделать следующие выводы:\n",
    "1. Самые коммерчески успешные платфоррмы - PS2, X360, PS3, Wii, DS и PS\n",
    "2. Наиболее успешные платформы в среднем живут около 10 лет"
   ]
  },
  {
   "cell_type": "markdown",
   "metadata": {},
   "source": [
    "<div class=\"alert alert-warning\">\n",
    "<font size=\"5\"><b>Комментарий ревьюера</b></font>\n",
    "\n",
    "Значение средней продолжительности существования платформы приведено. Однако выводы ты делаешь по графику. Стоит также привести расчет данного значения. Подумай, стоит ли включать в расчет все платформы. Будут ли выбросы по продолжительности существования платформ?\n",
    "\n",
    "</div>"
   ]
  },
  {
   "cell_type": "markdown",
   "metadata": {},
   "source": [
    "### Определение актуального периода\n",
    "В качестве актуального периода берем отрезок с 2012 по 2016 год. Данный отрезок выбран, поскольку кол-во ежегодно выпускаемых игр вышло на плато после бума в конце нулевых и составляет в среднем 577 игр в год."
   ]
  },
  {
   "cell_type": "markdown",
   "metadata": {},
   "source": [
    "<div class=\"alert alert-success\">\n",
    "<font size=\"5\"><b>Комментарий ревьюера</b></font>\n",
    "\n",
    "Актуальный период назван. Так в рассмотрение попадут только последние поколения платформ, а также будем рассматривать только конечный на данный момент интервал развития игровой индустрии. \n",
    "\n",
    "</div>"
   ]
  },
  {
   "cell_type": "code",
   "execution_count": 49,
   "metadata": {},
   "outputs": [
    {
     "data": {
      "image/png": "[encoded data removed]",
      "text/plain": [
       "<Figure size 1086.5x504 with 1 Axes>"
      ]
     },
     "metadata": {
      "needs_background": "light"
     },
     "output_type": "display_data"
    }
   ],
   "source": [
    "actual_data = df[df['year_of_release'] >= 2012].sort_values(by = 'total_sales', ascending=False)\n",
    "actual_data_grouped = actual_data.groupby(['platform', 'year_of_release'])['total_sales'].agg('sum').reset_index()\n",
    "actual_data_plot = sns.relplot(kind = 'line', data = actual_data_grouped, x = 'year_of_release', y = 'total_sales', hue = 'platform', height = 7, aspect = 2, palette = 'Dark2', linewidth = 2)\n",
    "#actual_data_plot.fig.set_size_inches(20, 7)"
   ]
  },
  {
   "cell_type": "markdown",
   "metadata": {},
   "source": [
    "Из предыдущего пункта мы выяснили, что средняя продолжительность жизни консоли составляет примерно 10 лет, поэтому на основе графика я бы выделил следующее: две консоли (PS4 и XOne) находятся лишь в начале своего жизненного цикла, обе\n",
    "появились в 2013 году, и, не смотря на то, что обе показывает уменьшение кол-ва проданных игр по сравнению с прошлым годом,\n",
    "на них определенно стоит обратить внимание."
   ]
  },
  {
   "cell_type": "markdown",
   "metadata": {},
   "source": [
    "<div class=\"alert alert-success\">\n",
    "<font size=\"5\"><b>Комментарий ревьюера</b></font>\n",
    "\n",
    "Да, именно эти платформы мы и можем назвать перспективными на 2017 год. \n",
    "\n",
    "</div>"
   ]
  },
  {
   "cell_type": "markdown",
   "metadata": {},
   "source": [
    "### Построение графика «ящик с усами» по глобальным продажам игр в разбивке по платформам."
   ]
  },
  {
   "cell_type": "code",
   "execution_count": 7,
   "metadata": {},
   "outputs": [
    {
     "data": {
      "text/html": [
       "<div>\n",
       "<style scoped>\n",
       "    .dataframe tbody tr th:only-of-type {\n",
       "        vertical-align: middle;\n",
       "    }\n",
       "\n",
       "    .dataframe tbody tr th {\n",
       "        vertical-align: top;\n",
       "    }\n",
       "\n",
       "    .dataframe thead th {\n",
       "        text-align: right;\n",
       "    }\n",
       "</style>\n",
       "<table border=\"1\" class=\"dataframe\">\n",
       "  <thead>\n",
       "    <tr style=\"text-align: right;\">\n",
       "      <th></th>\n",
       "      <th>sum</th>\n",
       "      <th>median</th>\n",
       "      <th>mean</th>\n",
       "    </tr>\n",
       "    <tr>\n",
       "      <th>platform</th>\n",
       "      <th></th>\n",
       "      <th></th>\n",
       "      <th></th>\n",
       "    </tr>\n",
       "  </thead>\n",
       "  <tbody>\n",
       "    <tr>\n",
       "      <td>3DS</td>\n",
       "      <td>194.61</td>\n",
       "      <td>0.11</td>\n",
       "      <td>0.491439</td>\n",
       "    </tr>\n",
       "    <tr>\n",
       "      <td>DS</td>\n",
       "      <td>12.55</td>\n",
       "      <td>0.05</td>\n",
       "      <td>0.404839</td>\n",
       "    </tr>\n",
       "    <tr>\n",
       "      <td>PC</td>\n",
       "      <td>62.65</td>\n",
       "      <td>0.08</td>\n",
       "      <td>0.250600</td>\n",
       "    </tr>\n",
       "    <tr>\n",
       "      <td>PS3</td>\n",
       "      <td>288.79</td>\n",
       "      <td>0.20</td>\n",
       "      <td>0.585781</td>\n",
       "    </tr>\n",
       "    <tr>\n",
       "      <td>PS4</td>\n",
       "      <td>314.14</td>\n",
       "      <td>0.20</td>\n",
       "      <td>0.801378</td>\n",
       "    </tr>\n",
       "    <tr>\n",
       "      <td>PSP</td>\n",
       "      <td>11.19</td>\n",
       "      <td>0.03</td>\n",
       "      <td>0.064682</td>\n",
       "    </tr>\n",
       "    <tr>\n",
       "      <td>PSV</td>\n",
       "      <td>49.18</td>\n",
       "      <td>0.05</td>\n",
       "      <td>0.119659</td>\n",
       "    </tr>\n",
       "    <tr>\n",
       "      <td>Wii</td>\n",
       "      <td>35.37</td>\n",
       "      <td>0.18</td>\n",
       "      <td>0.655000</td>\n",
       "    </tr>\n",
       "    <tr>\n",
       "      <td>WiiU</td>\n",
       "      <td>82.19</td>\n",
       "      <td>0.22</td>\n",
       "      <td>0.559116</td>\n",
       "    </tr>\n",
       "    <tr>\n",
       "      <td>X360</td>\n",
       "      <td>236.54</td>\n",
       "      <td>0.31</td>\n",
       "      <td>0.810068</td>\n",
       "    </tr>\n",
       "    <tr>\n",
       "      <td>XOne</td>\n",
       "      <td>159.32</td>\n",
       "      <td>0.22</td>\n",
       "      <td>0.645020</td>\n",
       "    </tr>\n",
       "  </tbody>\n",
       "</table>\n",
       "</div>"
      ],
      "text/plain": [
       "             sum  median      mean\n",
       "platform                          \n",
       "3DS       194.61    0.11  0.491439\n",
       "DS         12.55    0.05  0.404839\n",
       "PC         62.65    0.08  0.250600\n",
       "PS3       288.79    0.20  0.585781\n",
       "PS4       314.14    0.20  0.801378\n",
       "PSP        11.19    0.03  0.064682\n",
       "PSV        49.18    0.05  0.119659\n",
       "Wii        35.37    0.18  0.655000\n",
       "WiiU       82.19    0.22  0.559116\n",
       "X360      236.54    0.31  0.810068\n",
       "XOne      159.32    0.22  0.645020"
      ]
     },
     "metadata": {},
     "output_type": "display_data"
    },
    {
     "name": "stdout",
     "output_type": "stream",
     "text": [
      "-------------------------------------\n"
     ]
    },
    {
     "data": {
      "image/png": "[encoded data removed]",
      "text/plain": [
       "<Figure size 432x288 with 1 Axes>"
      ]
     },
     "metadata": {
      "needs_background": "light"
     },
     "output_type": "display_data"
    }
   ],
   "source": [
    "platforms_describe = actual_data.groupby('platform')['total_sales'].agg(['sum', 'median', 'mean'])\n",
    "actual_data.boxplot(\"total_sales\", by=\"platform\")\n",
    "platforms_describe.sort_values(by = 'median', ascending = False)\n",
    "display(platforms_describe)\n",
    "print('-------------------------------------')"
   ]
  },
  {
   "cell_type": "markdown",
   "metadata": {},
   "source": [
    "#### Вывод\n",
    "У каждой платформы график имеет схожее распределение со скошенностью вправо. В данном случае это означает то, что приставки больше всего продавались в начале своего жизненного цикла, иными словами, приставки больше всего продается в момент выхода на рынок, далее с каждым годом спрос снижается. Наибольший выброс у PS3 (21млн продаж игр в год), за ней на примерно одном уровне выбросов находятся сразу четыре платформы (3DS, PS3, PS4, X360) с выбросом в +-15 млн проданных копий за год. Наибольшая медиана по кол-ву проданных игр у X360, затем XONE и WiiU c медианой 0.22млн."
   ]
  },
  {
   "cell_type": "markdown",
   "metadata": {},
   "source": [
    "<div class=\"alert alert-warning\">\n",
    "<font size=\"5\"><b>Комментарий ревьюера</b></font>\n",
    " \n",
    "Подумай, из-за чего формируется разница между платформами. Старайся не только описывать результат, но и трактовать его. \n",
    "\n",
    "</div>"
   ]
  },
  {
   "cell_type": "markdown",
   "metadata": {},
   "source": [
    "### Диаграмма рассеяния и корреляция между отзывами и продажами"
   ]
  },
  {
   "cell_type": "markdown",
   "metadata": {},
   "source": [
    "#### Корреляция по всем платформам"
   ]
  },
  {
   "cell_type": "code",
   "execution_count": 8,
   "metadata": {},
   "outputs": [
    {
     "data": {
      "image/png": "[encoded data removed]",
      "text/plain": [
       "<Figure size 540x540 with 12 Axes>"
      ]
     },
     "metadata": {
      "needs_background": "light"
     },
     "output_type": "display_data"
    },
    {
     "name": "stdout",
     "output_type": "stream",
     "text": [
      "Корреляция по всем платформам:\n",
      "               critic_score  user_score  total_sales\n",
      "critic_score      1.000000    0.517727     0.308197\n",
      "user_score        0.517727    1.000000     0.004429\n",
      "total_sales       0.308197    0.004429     1.000000\n"
     ]
    }
   ],
   "source": [
    "corr_data = actual_data[['critic_score', 'user_score', 'total_sales']]\n",
    "sns.pairplot(corr_data)\n",
    "plt.suptitle('Корреляция по всем платформам:')\n",
    "plt.show()\n",
    "print('Корреляция по всем платформам:\\n', corr_data.corr())"
   ]
  },
  {
   "cell_type": "markdown",
   "metadata": {},
   "source": [
    "#### Корреляция между отзывами и продажами игр на PS4"
   ]
  },
  {
   "cell_type": "code",
   "execution_count": 9,
   "metadata": {
    "scrolled": false
   },
   "outputs": [
    {
     "data": {
      "image/png": "[encoded data removed]",
      "text/plain": [
       "<Figure size 540x540 with 12 Axes>"
      ]
     },
     "metadata": {
      "needs_background": "light"
     },
     "output_type": "display_data"
    },
    {
     "name": "stdout",
     "output_type": "stream",
     "text": [
      "Корреляция между отзывами и продажами игр на PS4:\n",
      "               critic_score  user_score  total_sales\n",
      "critic_score      1.000000    0.557654     0.406568\n",
      "user_score        0.557654    1.000000    -0.031957\n",
      "total_sales       0.406568   -0.031957     1.000000\n"
     ]
    }
   ],
   "source": [
    "ps4_corr_data = actual_data.loc[actual_data['platform'] == 'PS4'][['critic_score', 'user_score', 'total_sales']]\n",
    "sns.pairplot(ps4_corr_data)\n",
    "plt.suptitle('Корреляция между отзывами и продажами игр на PS4:')\n",
    "plt.show()\n",
    "print('Корреляция между отзывами и продажами игр на PS4:\\n', ps4_corr_data.corr())"
   ]
  },
  {
   "cell_type": "markdown",
   "metadata": {},
   "source": [
    "##### Корреляция по всем платформам\n",
    "Корреляция между отзывами критиков и продажами составляет 0.3, в то время как корреляция между отзывами пользователей и продажами можно сказать отсутствует, составляет всего 0.004. Таким образом можно сделать вывод, что большее влияние на кол-во проданных игр оказывают отзывы критиков. При этом, замечена корреляция между отзывами критиков и отзывами пользователей (0.51). Это можно объяснить тем, что довольно нередки случаи, когда и критики, и пользователи оценивают игру примерно одинаково. \n",
    "\n",
    "##### Корреляция между отзывами и продажами игр на PS4\n",
    "В случае с PS4 можно сказать, что ситуация схожа с общим положением дел по всем платформам. Корреляция между продажами и оценками экспертов чуть выше, чем по всем платформам и составляет 0.4. Корреляция между продажами и оценками пользователей принимает такие околонулевые значения, как и в целом по платформам, однако имеет уже отрицательное значение -0.03"
   ]
  },
  {
   "cell_type": "markdown",
   "metadata": {},
   "source": [
    "<div class=\"alert alert-success\">\n",
    "<font size=\"5\"><b>Комментарий ревьюера</b></font>\n",
    "\n",
    "Результат получен. Подумай, чем он вызван. Здорово, что рассмотрены несколько платформ. \n",
    "\n",
    "</div>"
   ]
  },
  {
   "cell_type": "markdown",
   "metadata": {},
   "source": [
    "### Распределение игр по жанрам"
   ]
  },
  {
   "cell_type": "code",
   "execution_count": 10,
   "metadata": {},
   "outputs": [
    {
     "data": {
      "text/html": [
       "<div>\n",
       "<style scoped>\n",
       "    .dataframe tbody tr th:only-of-type {\n",
       "        vertical-align: middle;\n",
       "    }\n",
       "\n",
       "    .dataframe tbody tr th {\n",
       "        vertical-align: top;\n",
       "    }\n",
       "\n",
       "    .dataframe thead th {\n",
       "        text-align: right;\n",
       "    }\n",
       "</style>\n",
       "<table border=\"1\" class=\"dataframe\">\n",
       "  <thead>\n",
       "    <tr style=\"text-align: right;\">\n",
       "      <th></th>\n",
       "      <th>total_sales</th>\n",
       "    </tr>\n",
       "    <tr>\n",
       "      <th>genre</th>\n",
       "      <th></th>\n",
       "    </tr>\n",
       "  </thead>\n",
       "  <tbody>\n",
       "    <tr>\n",
       "      <td>Action</td>\n",
       "      <td>441.12</td>\n",
       "    </tr>\n",
       "    <tr>\n",
       "      <td>Shooter</td>\n",
       "      <td>304.73</td>\n",
       "    </tr>\n",
       "    <tr>\n",
       "      <td>Role-Playing</td>\n",
       "      <td>192.80</td>\n",
       "    </tr>\n",
       "    <tr>\n",
       "      <td>Sports</td>\n",
       "      <td>181.07</td>\n",
       "    </tr>\n",
       "    <tr>\n",
       "      <td>Misc</td>\n",
       "      <td>85.04</td>\n",
       "    </tr>\n",
       "    <tr>\n",
       "      <td>Platform</td>\n",
       "      <td>61.00</td>\n",
       "    </tr>\n",
       "    <tr>\n",
       "      <td>Racing</td>\n",
       "      <td>53.50</td>\n",
       "    </tr>\n",
       "    <tr>\n",
       "      <td>Fighting</td>\n",
       "      <td>44.49</td>\n",
       "    </tr>\n",
       "    <tr>\n",
       "      <td>Simulation</td>\n",
       "      <td>35.12</td>\n",
       "    </tr>\n",
       "    <tr>\n",
       "      <td>Adventure</td>\n",
       "      <td>29.43</td>\n",
       "    </tr>\n",
       "    <tr>\n",
       "      <td>Strategy</td>\n",
       "      <td>13.34</td>\n",
       "    </tr>\n",
       "    <tr>\n",
       "      <td>Puzzle</td>\n",
       "      <td>4.89</td>\n",
       "    </tr>\n",
       "  </tbody>\n",
       "</table>\n",
       "</div>"
      ],
      "text/plain": [
       "              total_sales\n",
       "genre                    \n",
       "Action             441.12\n",
       "Shooter            304.73\n",
       "Role-Playing       192.80\n",
       "Sports             181.07\n",
       "Misc                85.04\n",
       "Platform            61.00\n",
       "Racing              53.50\n",
       "Fighting            44.49\n",
       "Simulation          35.12\n",
       "Adventure           29.43\n",
       "Strategy            13.34\n",
       "Puzzle               4.89"
      ]
     },
     "execution_count": 10,
     "metadata": {},
     "output_type": "execute_result"
    },
    {
     "data": {
      "image/png": "[encoded data removed]",
      "text/plain": [
       "<Figure size 432x288 with 1 Axes>"
      ]
     },
     "metadata": {
      "needs_background": "light"
     },
     "output_type": "display_data"
    }
   ],
   "source": [
    "genres_grouped = actual_data.pivot_table(index = 'genre', values = 'total_sales', aggfunc = 'sum')\\\n",
    "    .sort_values(by = 'total_sales', ascending = False)\n",
    "genres_grouped.plot(kind = 'bar', title = 'Распределение игр по жанрам')\n",
    "genres_grouped"
   ]
  },
  {
   "cell_type": "markdown",
   "metadata": {},
   "source": [
    "С большим отрывом по кол-ву проданных игр лидируют игры в жанре 'Action', затем 'Shooter', далее расположились практически на одном уровне игры в жанре 'Role-Playing' и 'Sports'. Из этого можно сделать вывод, что пользователям больше всего нравятся игры с большим кол-вом экшена и стрельбы. Меньше всего продаются игры в жанре 'Puzzle'."
   ]
  },
  {
   "cell_type": "markdown",
   "metadata": {},
   "source": [
    "<div class=\"alert alert-success\">\n",
    "<font size=\"5\"><b>Комментарий ревьюера</b></font>\n",
    "\n",
    "Анализ популярности жанров проведен. Однако не стоит забывать, что производство игр в жанрах Action или Shooter обходится сильно дороже, чем производство Puzzle-игр. \n",
    "\n",
    "</div>"
   ]
  },
  {
   "cell_type": "markdown",
   "metadata": {},
   "source": [
    "## Составление портрета пользователя каждого региона"
   ]
  },
  {
   "cell_type": "code",
   "execution_count": 11,
   "metadata": {},
   "outputs": [
    {
     "data": {
      "text/html": [
       "<div>\n",
       "<style scoped>\n",
       "    .dataframe tbody tr th:only-of-type {\n",
       "        vertical-align: middle;\n",
       "    }\n",
       "\n",
       "    .dataframe tbody tr th {\n",
       "        vertical-align: top;\n",
       "    }\n",
       "\n",
       "    .dataframe thead th {\n",
       "        text-align: right;\n",
       "    }\n",
       "</style>\n",
       "<table border=\"1\" class=\"dataframe\">\n",
       "  <thead>\n",
       "    <tr style=\"text-align: right;\">\n",
       "      <th></th>\n",
       "      <th>name</th>\n",
       "      <th>platform</th>\n",
       "      <th>year_of_release</th>\n",
       "      <th>genre</th>\n",
       "      <th>na_sales</th>\n",
       "      <th>eu_sales</th>\n",
       "      <th>jp_sales</th>\n",
       "      <th>other_sales</th>\n",
       "      <th>critic_score</th>\n",
       "      <th>user_score</th>\n",
       "      <th>rating</th>\n",
       "      <th>total_sales</th>\n",
       "    </tr>\n",
       "  </thead>\n",
       "  <tbody>\n",
       "    <tr>\n",
       "      <td>16</td>\n",
       "      <td>Grand Theft Auto V</td>\n",
       "      <td>PS3</td>\n",
       "      <td>2013</td>\n",
       "      <td>Action</td>\n",
       "      <td>7.02</td>\n",
       "      <td>9.09</td>\n",
       "      <td>0.98</td>\n",
       "      <td>3.96</td>\n",
       "      <td>97</td>\n",
       "      <td>8.2</td>\n",
       "      <td>M</td>\n",
       "      <td>21.05</td>\n",
       "    </tr>\n",
       "    <tr>\n",
       "      <td>23</td>\n",
       "      <td>Grand Theft Auto V</td>\n",
       "      <td>X360</td>\n",
       "      <td>2013</td>\n",
       "      <td>Action</td>\n",
       "      <td>9.66</td>\n",
       "      <td>5.14</td>\n",
       "      <td>0.06</td>\n",
       "      <td>1.41</td>\n",
       "      <td>97</td>\n",
       "      <td>8.1</td>\n",
       "      <td>M</td>\n",
       "      <td>16.27</td>\n",
       "    </tr>\n",
       "    <tr>\n",
       "      <td>31</td>\n",
       "      <td>Call of Duty: Black Ops 3</td>\n",
       "      <td>PS4</td>\n",
       "      <td>2015</td>\n",
       "      <td>Shooter</td>\n",
       "      <td>6.03</td>\n",
       "      <td>5.86</td>\n",
       "      <td>0.36</td>\n",
       "      <td>2.38</td>\n",
       "      <td>NaN</td>\n",
       "      <td>NaN</td>\n",
       "      <td>No rating</td>\n",
       "      <td>14.63</td>\n",
       "    </tr>\n",
       "    <tr>\n",
       "      <td>33</td>\n",
       "      <td>Pokemon X/Pokemon Y</td>\n",
       "      <td>3DS</td>\n",
       "      <td>2013</td>\n",
       "      <td>Role-Playing</td>\n",
       "      <td>5.28</td>\n",
       "      <td>4.19</td>\n",
       "      <td>4.35</td>\n",
       "      <td>0.78</td>\n",
       "      <td>NaN</td>\n",
       "      <td>NaN</td>\n",
       "      <td>No rating</td>\n",
       "      <td>14.60</td>\n",
       "    </tr>\n",
       "    <tr>\n",
       "      <td>34</td>\n",
       "      <td>Call of Duty: Black Ops II</td>\n",
       "      <td>PS3</td>\n",
       "      <td>2012</td>\n",
       "      <td>Shooter</td>\n",
       "      <td>4.99</td>\n",
       "      <td>5.73</td>\n",
       "      <td>0.65</td>\n",
       "      <td>2.42</td>\n",
       "      <td>83</td>\n",
       "      <td>5.3</td>\n",
       "      <td>M</td>\n",
       "      <td>13.79</td>\n",
       "    </tr>\n",
       "    <tr>\n",
       "      <td>...</td>\n",
       "      <td>...</td>\n",
       "      <td>...</td>\n",
       "      <td>...</td>\n",
       "      <td>...</td>\n",
       "      <td>...</td>\n",
       "      <td>...</td>\n",
       "      <td>...</td>\n",
       "      <td>...</td>\n",
       "      <td>...</td>\n",
       "      <td>...</td>\n",
       "      <td>...</td>\n",
       "      <td>...</td>\n",
       "    </tr>\n",
       "    <tr>\n",
       "      <td>16270</td>\n",
       "      <td>Hyakka Yakou</td>\n",
       "      <td>PSV</td>\n",
       "      <td>2015</td>\n",
       "      <td>Action</td>\n",
       "      <td>0.00</td>\n",
       "      <td>0.00</td>\n",
       "      <td>0.01</td>\n",
       "      <td>0.00</td>\n",
       "      <td>NaN</td>\n",
       "      <td>NaN</td>\n",
       "      <td>No rating</td>\n",
       "      <td>0.01</td>\n",
       "    </tr>\n",
       "    <tr>\n",
       "      <td>16273</td>\n",
       "      <td>Doki-Doki Universe</td>\n",
       "      <td>PSV</td>\n",
       "      <td>2013</td>\n",
       "      <td>Adventure</td>\n",
       "      <td>0.00</td>\n",
       "      <td>0.01</td>\n",
       "      <td>0.00</td>\n",
       "      <td>0.00</td>\n",
       "      <td>66</td>\n",
       "      <td>5.7</td>\n",
       "      <td>E10+</td>\n",
       "      <td>0.01</td>\n",
       "    </tr>\n",
       "    <tr>\n",
       "      <td>16276</td>\n",
       "      <td>Sangoku Koi Senki: Omoide Gaeshi - CS Edition</td>\n",
       "      <td>PSV</td>\n",
       "      <td>2016</td>\n",
       "      <td>Adventure</td>\n",
       "      <td>0.00</td>\n",
       "      <td>0.00</td>\n",
       "      <td>0.01</td>\n",
       "      <td>0.00</td>\n",
       "      <td>NaN</td>\n",
       "      <td>NaN</td>\n",
       "      <td>No rating</td>\n",
       "      <td>0.01</td>\n",
       "    </tr>\n",
       "    <tr>\n",
       "      <td>16278</td>\n",
       "      <td>Princess Arthur</td>\n",
       "      <td>PSP</td>\n",
       "      <td>2013</td>\n",
       "      <td>Misc</td>\n",
       "      <td>0.00</td>\n",
       "      <td>0.00</td>\n",
       "      <td>0.01</td>\n",
       "      <td>0.00</td>\n",
       "      <td>NaN</td>\n",
       "      <td>NaN</td>\n",
       "      <td>No rating</td>\n",
       "      <td>0.01</td>\n",
       "    </tr>\n",
       "    <tr>\n",
       "      <td>16714</td>\n",
       "      <td>Winning Post 8 2016</td>\n",
       "      <td>PSV</td>\n",
       "      <td>2016</td>\n",
       "      <td>Simulation</td>\n",
       "      <td>0.00</td>\n",
       "      <td>0.00</td>\n",
       "      <td>0.01</td>\n",
       "      <td>0.00</td>\n",
       "      <td>NaN</td>\n",
       "      <td>NaN</td>\n",
       "      <td>No rating</td>\n",
       "      <td>0.01</td>\n",
       "    </tr>\n",
       "  </tbody>\n",
       "</table>\n",
       "<p>2886 rows × 12 columns</p>\n",
       "</div>"
      ],
      "text/plain": [
       "                                                name platform  \\\n",
       "16                                Grand Theft Auto V      PS3   \n",
       "23                                Grand Theft Auto V     X360   \n",
       "31                         Call of Duty: Black Ops 3      PS4   \n",
       "33                               Pokemon X/Pokemon Y      3DS   \n",
       "34                        Call of Duty: Black Ops II      PS3   \n",
       "...                                              ...      ...   \n",
       "16270                                   Hyakka Yakou      PSV   \n",
       "16273                             Doki-Doki Universe      PSV   \n",
       "16276  Sangoku Koi Senki: Omoide Gaeshi - CS Edition      PSV   \n",
       "16278                                Princess Arthur      PSP   \n",
       "16714                            Winning Post 8 2016      PSV   \n",
       "\n",
       "       year_of_release         genre  na_sales  eu_sales  jp_sales  \\\n",
       "16                2013        Action      7.02      9.09      0.98   \n",
       "23                2013        Action      9.66      5.14      0.06   \n",
       "31                2015       Shooter      6.03      5.86      0.36   \n",
       "33                2013  Role-Playing      5.28      4.19      4.35   \n",
       "34                2012       Shooter      4.99      5.73      0.65   \n",
       "...                ...           ...       ...       ...       ...   \n",
       "16270             2015        Action      0.00      0.00      0.01   \n",
       "16273             2013     Adventure      0.00      0.01      0.00   \n",
       "16276             2016     Adventure      0.00      0.00      0.01   \n",
       "16278             2013          Misc      0.00      0.00      0.01   \n",
       "16714             2016    Simulation      0.00      0.00      0.01   \n",
       "\n",
       "       other_sales  critic_score  user_score     rating  total_sales  \n",
       "16            3.96            97         8.2          M        21.05  \n",
       "23            1.41            97         8.1          M        16.27  \n",
       "31            2.38           NaN         NaN  No rating        14.63  \n",
       "33            0.78           NaN         NaN  No rating        14.60  \n",
       "34            2.42            83         5.3          M        13.79  \n",
       "...            ...           ...         ...        ...          ...  \n",
       "16270         0.00           NaN         NaN  No rating         0.01  \n",
       "16273         0.00            66         5.7       E10+         0.01  \n",
       "16276         0.00           NaN         NaN  No rating         0.01  \n",
       "16278         0.00           NaN         NaN  No rating         0.01  \n",
       "16714         0.00           NaN         NaN  No rating         0.01  \n",
       "\n",
       "[2886 rows x 12 columns]"
      ]
     },
     "execution_count": 11,
     "metadata": {},
     "output_type": "execute_result"
    }
   ],
   "source": [
    "actual_data['rating'] = actual_data['rating'].fillna(value = 'No rating')\n",
    "actual_data"
   ]
  },
  {
   "cell_type": "markdown",
   "metadata": {},
   "source": [
    "### North America (NA)"
   ]
  },
  {
   "cell_type": "code",
   "execution_count": 12,
   "metadata": {
    "scrolled": false
   },
   "outputs": [
    {
     "data": {
      "image/png": "[encoded data removed]",
      "text/plain": [
       "<Figure size 504x504 with 1 Axes>"
      ]
     },
     "metadata": {
      "needs_background": "light"
     },
     "output_type": "display_data"
    },
    {
     "name": "stdout",
     "output_type": "stream",
     "text": [
      "Топ-5 самых популярных платформ в Северной Америке:\n",
      "           na_sales\n",
      "platform          \n",
      "X360        140.05\n",
      "PS4         108.74\n",
      "PS3         103.38\n",
      "XOne         93.12\n",
      "3DS          55.31\n",
      "\n",
      "-----------------------------------------------\n",
      "\n"
     ]
    },
    {
     "data": {
      "image/png": "[encoded data removed]",
      "text/plain": [
       "<Figure size 576x576 with 1 Axes>"
      ]
     },
     "metadata": {
      "needs_background": "light"
     },
     "output_type": "display_data"
    },
    {
     "name": "stdout",
     "output_type": "stream",
     "text": [
      "Топ-5 самых популярных жанров в Северной Америке:\n",
      "               na_sales\n",
      "genre                 \n",
      "Action          177.84\n",
      "Shooter         144.77\n",
      "Sports           81.53\n",
      "Role-Playing     64.00\n",
      "Misc             38.19\n",
      "\n",
      "-----------------------------------------------\n",
      "\n"
     ]
    },
    {
     "data": {
      "image/png": "[encoded data removed]",
      "text/plain": [
       "<Figure size 504x504 with 1 Axes>"
      ]
     },
     "metadata": {
      "needs_background": "light"
     },
     "output_type": "display_data"
    },
    {
     "name": "stdout",
     "output_type": "stream",
     "text": [
      "Распространенность игр по рейтингам:\n",
      "            na_sales_sum  na_sales_count\n",
      "rating                                 \n",
      "M                231.57             454\n",
      "E                114.37             297\n",
      "No rating        103.31             354\n",
      "E10+              75.70             266\n",
      "T                 66.02             306\n"
     ]
    },
    {
     "data": {
      "text/plain": [
       "M            454\n",
       "No rating    354\n",
       "T            306\n",
       "E            297\n",
       "E10+         266\n",
       "Name: rating, dtype: int64"
      ]
     },
     "execution_count": 12,
     "metadata": {},
     "output_type": "execute_result"
    }
   ],
   "source": [
    "#Самые популярные платформы (топ-5)\n",
    "na_data = actual_data.loc[actual_data['na_sales'] > 0] #выделяем строки с ненулевыми продажами в Северной Америке\n",
    "na_data_top5_platforms = na_data.pivot_table(index = 'platform', values = 'na_sales' ,aggfunc = 'sum')\\\n",
    "    .sort_values(by = 'na_sales', ascending = False)\\\n",
    "    .head(5)\n",
    "na_data_top5_platforms.plot(kind = 'bar', y = 'na_sales', figsize = (7, 7), title = 'Популярность платформ')\n",
    "plt.show()\n",
    "print('Топ-5 самых популярных платформ в Северной Америке:\\n', na_data_top5_platforms)\n",
    "\n",
    "print()\n",
    "print('-----------------------------------------------')\n",
    "print()\n",
    "\n",
    "#Самые популярные жанры (топ-5)\n",
    "na_data_top5_genres = na_data.pivot_table(index = 'genre', values = 'na_sales' ,aggfunc = 'sum')\\\n",
    "    .sort_values(by = 'na_sales', ascending = False)\\\n",
    "    .head(5)\n",
    "na_data_top5_genres.plot(kind = 'bar', y = 'na_sales', figsize = (8, 8), title = 'Популярность жанров')\n",
    "plt.show()\n",
    "print('Топ-5 самых популярных жанров в Северной Америке:\\n', na_data_top5_genres)\n",
    "\n",
    "print()\n",
    "print('-----------------------------------------------')\n",
    "print()\n",
    "\n",
    "#Влияет ли рейтинг ESRB на продажи в данном регионе?\n",
    "#na_data_drop_NA = na_data.drop(na_data[na_data['rating'].isna()].index)\n",
    "na_data_pivot = na_data.pivot_table(index = 'rating', values = 'na_sales', aggfunc = ['sum', 'count'])\n",
    "na_data_pivot.columns = ['na_sales_sum', 'na_sales_count'] \n",
    "na_data_pivot.plot(kind = 'bar', y = 'na_sales_sum', figsize = (7, 7), title = 'Кол-во игр с различными рейтингами')\n",
    "plt.show()\n",
    "print('Распространенность игр по рейтингам:\\n', na_data_pivot.sort_values(ascending = False, by = 'na_sales_sum'))\n",
    "na_data['rating'].value_counts()"
   ]
  },
  {
   "cell_type": "markdown",
   "metadata": {},
   "source": [
    "#### Вывод\n",
    "На основе проведенного анализа можно составить следующий портрет пользователя из Северной Америки:  \n",
    "1. Больше всего нравятся приставки X360, PS4, PS3 и Xbox One\n",
    "2. Любимый жанр экшен или шутер\n",
    "3. Интересуется играми с оценкой M («Mature» — «От 17 лет»)"
   ]
  },
  {
   "cell_type": "markdown",
   "metadata": {},
   "source": [
    "<div class=\"alert alert-warning\">\n",
    "<font size=\"5\"><b>Комментарий ревьюера</b></font>\n",
    " \n",
    "Не советую использовать пироговые диаграммы (pie-charts). Такая диаграмма затрудняет понимание, особенно если сегментов будет больше 4х. Также, на этом типе диаграмм сложно визуально увидеть разницу между сегментами. Рекомендую использовать обычные столбчатые диаграммы вместо пироговых диаграмм. \n",
    "\n",
    "</div>"
   ]
  },
  {
   "cell_type": "markdown",
   "metadata": {},
   "source": [
    "### Europe (EU)"
   ]
  },
  {
   "cell_type": "code",
   "execution_count": 13,
   "metadata": {
    "scrolled": false
   },
   "outputs": [
    {
     "data": {
      "image/png": "[encoded data removed]",
      "text/plain": [
       "<Figure size 504x504 with 1 Axes>"
      ]
     },
     "metadata": {
      "needs_background": "light"
     },
     "output_type": "display_data"
    },
    {
     "name": "stdout",
     "output_type": "stream",
     "text": [
      "Топ-5 самых популярных платформ в Европе:\n",
      "           eu_sales\n",
      "platform          \n",
      "PS4         138.66\n",
      "PS3         106.04\n",
      "X360         74.02\n",
      "XOne         51.28\n",
      "3DS          40.81\n",
      "\n",
      "-----------------------------------------------\n",
      "\n"
     ]
    },
    {
     "data": {
      "image/png": "[encoded data removed]",
      "text/plain": [
       "<Figure size 576x576 with 1 Axes>"
      ]
     },
     "metadata": {
      "needs_background": "light"
     },
     "output_type": "display_data"
    },
    {
     "name": "stdout",
     "output_type": "stream",
     "text": [
      "Топ-5 самых популярных жанров в Европе:\n",
      "               eu_sales\n",
      "genre                 \n",
      "Action          159.34\n",
      "Shooter         113.47\n",
      "Sports           69.09\n",
      "Role-Playing     48.53\n",
      "Racing           27.29\n",
      "\n",
      "-----------------------------------------------\n",
      "\n"
     ]
    },
    {
     "data": {
      "image/png": "[encoded data removed]",
      "text/plain": [
       "<Figure size 504x504 with 1 Axes>"
      ]
     },
     "metadata": {
      "needs_background": "light"
     },
     "output_type": "display_data"
    },
    {
     "name": "stdout",
     "output_type": "stream",
     "text": [
      "Распространенность игр по рейтингам:\n",
      "            eu_sales_sum  eu_sales_count\n",
      "rating                                 \n",
      "M                193.96             459\n",
      "E                113.03             336\n",
      "No rating         91.50             417\n",
      "E10+              55.37             281\n",
      "T                 52.96             318\n"
     ]
    }
   ],
   "source": [
    "#Самые популярные платформы (топ-5)\n",
    "eu_data = actual_data.loc[actual_data['eu_sales'] > 0] #выделяем строки с ненулевыми продажами в Европе\n",
    "eu_data_top5_platforms = na_data.pivot_table(index = 'platform', values = 'eu_sales' ,aggfunc = 'sum')\\\n",
    "    .sort_values(by = 'eu_sales', ascending = False)\\\n",
    "    .head(5)\n",
    "eu_data_top5_platforms.plot(kind = 'bar', y = 'eu_sales', figsize = (7, 7), title = 'Популярность платформ')\n",
    "plt.show()\n",
    "print('Топ-5 самых популярных платформ в Европе:\\n', eu_data_top5_platforms)\n",
    "\n",
    "print()\n",
    "print('-----------------------------------------------')\n",
    "print()\n",
    "\n",
    "#Самые популярные жанры (топ-5)\n",
    "eu_data_top5_genres = eu_data.pivot_table(index = 'genre', values = 'eu_sales' ,aggfunc = 'sum')\\\n",
    "    .sort_values(by = 'eu_sales', ascending = False)\\\n",
    "    .head(5)\n",
    "eu_data_top5_genres.plot(kind = 'bar', y = 'eu_sales', figsize = (8, 8), title = 'Популярность жанров')\n",
    "plt.show()\n",
    "print('Топ-5 самых популярных жанров в Европе:\\n', eu_data_top5_genres)\n",
    "\n",
    "print()\n",
    "print('-----------------------------------------------')\n",
    "print()\n",
    "\n",
    "#Влияет ли рейтинг ESRB на продажи в данном регионе?\n",
    "#eu_data_drop_NA = eu_data.drop(eu_data[eu_data['rating'].isna()].index)\n",
    "eu_data_pivot = eu_data.pivot_table(index = 'rating', values = 'eu_sales', aggfunc = ['sum', 'count'])\n",
    "eu_data_pivot.columns = ['eu_sales_sum', 'eu_sales_count'] \n",
    "eu_data_pivot.plot(kind = 'bar', y = 'eu_sales_sum', figsize = (7, 7), title = 'Кол-во игр с различными рейтингами')\n",
    "plt.show()\n",
    "print('Распространенность игр по рейтингам:\\n', eu_data_pivot.sort_values(ascending = False, by = 'eu_sales_sum'))"
   ]
  },
  {
   "cell_type": "markdown",
   "metadata": {},
   "source": [
    "#### Вывод\n",
    "На основе проведенного анализа можно составить следующий портрет пользователя из Европы:\n",
    "\n",
    "1. В Европе пользователю больше нравятся приставки от компании Sony. Так, наиболее популярными среди пользователей являются PS4, PS3\n",
    "2. Любимый жанр экшен или шутер\n",
    "3. Интересуется играми с оценкой M («Mature» — «От 17 лет»)"
   ]
  },
  {
   "cell_type": "markdown",
   "metadata": {},
   "source": [
    "### Japan (JP)"
   ]
  },
  {
   "cell_type": "code",
   "execution_count": 14,
   "metadata": {
    "scrolled": false
   },
   "outputs": [
    {
     "data": {
      "image/png": "[encoded data removed]",
      "text/plain": [
       "<Figure size 504x504 with 1 Axes>"
      ]
     },
     "metadata": {
      "needs_background": "light"
     },
     "output_type": "display_data"
    },
    {
     "name": "stdout",
     "output_type": "stream",
     "text": [
      "Топ-5 самых популярных платформ в Японии:\n",
      "           jp_sales\n",
      "platform          \n",
      "3DS          87.79\n",
      "PS3          35.29\n",
      "PSV          21.04\n",
      "PS4          15.96\n",
      "WiiU         13.01\n",
      "\n",
      "-----------------------------------------------\n",
      "\n"
     ]
    },
    {
     "data": {
      "image/png": "[encoded data removed]",
      "text/plain": [
       "<Figure size 576x576 with 1 Axes>"
      ]
     },
     "metadata": {
      "needs_background": "light"
     },
     "output_type": "display_data"
    },
    {
     "name": "stdout",
     "output_type": "stream",
     "text": [
      "Топ-5 самых популярных жанров в Японии:\n",
      "               jp_sales\n",
      "genre                 \n",
      "Role-Playing     65.44\n",
      "Action           52.80\n",
      "Misc             12.86\n",
      "Simulation       10.41\n",
      "Fighting          9.44\n",
      "\n",
      "-----------------------------------------------\n",
      "\n"
     ]
    },
    {
     "data": {
      "image/png": "[encoded data removed]",
      "text/plain": [
       "<Figure size 504x504 with 1 Axes>"
      ]
     },
     "metadata": {
      "needs_background": "light"
     },
     "output_type": "display_data"
    },
    {
     "name": "stdout",
     "output_type": "stream",
     "text": [
      "Распространенность игр по рейтингам:\n",
      "            jp_sales_sum  jp_sales_count\n",
      "rating                                 \n",
      "No rating        108.84             942\n",
      "E                 28.33             105\n",
      "T                 26.02             228\n",
      "M                 21.20             227\n",
      "E10+               8.19              67\n"
     ]
    }
   ],
   "source": [
    "#Самые популярные платформы (топ-5)\n",
    "jp_data = actual_data.loc[actual_data['jp_sales'] > 0] #выделяем строки с ненулевыми продажами в Европе\n",
    "jp_data_top5_platforms = jp_data.pivot_table(index = 'platform', values = 'jp_sales' ,aggfunc = 'sum')\\\n",
    "    .sort_values(by = 'jp_sales', ascending = False)\\\n",
    "    .head(5)\n",
    "jp_data_top5_platforms.plot(kind = 'bar', y = 'jp_sales', figsize = (7, 7), title = 'Популярность платформ')\n",
    "plt.show()\n",
    "print('Топ-5 самых популярных платформ в Японии:\\n', jp_data_top5_platforms)\n",
    "\n",
    "print()\n",
    "print('-----------------------------------------------')\n",
    "print()\n",
    "\n",
    "#Самые популярные жанры (топ-5)\n",
    "jp_data_top5_genres = jp_data.pivot_table(index = 'genre', values = 'jp_sales' ,aggfunc = 'sum')\\\n",
    "    .sort_values(by = 'jp_sales', ascending = False)\\\n",
    "    .head(5)\n",
    "jp_data_top5_genres.plot(kind = 'bar', y = 'jp_sales', figsize = (8, 8), title = 'Популярность жанров')\n",
    "plt.show()\n",
    "print('Топ-5 самых популярных жанров в Японии:\\n', jp_data_top5_genres)\n",
    "\n",
    "print()\n",
    "print('-----------------------------------------------')\n",
    "print()\n",
    "\n",
    "#Влияет ли рейтинг ESRB на продажи в данном регионе?\n",
    "#jp_data_drop_NA = jp_data.drop(jp_data[jp_data['rating'].isna()].index)\n",
    "jp_data_pivot = jp_data.pivot_table(index = 'rating', values = 'jp_sales', aggfunc = ['sum', 'count'])\n",
    "jp_data_pivot.columns = ['jp_sales_sum', 'jp_sales_count'] \n",
    "jp_data_pivot.plot(kind = 'bar', y = 'jp_sales_sum', figsize = (7, 7), title = 'Кол-во игр с различными рейтингами')\n",
    "plt.show()\n",
    "print('Распространенность игр по рейтингам:\\n', jp_data_pivot.sort_values(ascending = False, by = 'jp_sales_sum'))"
   ]
  },
  {
   "cell_type": "markdown",
   "metadata": {},
   "source": [
    "<div class=\"alert alert-success\">\n",
    "<font size=\"5\"><b>Комментарий ревьюера</b></font>\n",
    " \n",
    "Из-за чего японский рынок игр так сильно отличается от других? \n",
    "\n",
    "</div>"
   ]
  },
  {
   "cell_type": "markdown",
   "metadata": {},
   "source": [
    "<div class=\"alert alert-danger\">\n",
    "<font size=\"5\"><b>Комментарий ревьюера</b></font>\n",
    "\n",
    "Обрати внимание - ты не учитываешь игры без рейтинга. В результате огромная часть игр просто выпадает из анализа. Найди способ учесть их при группировке значений по рейтингу.\n",
    "    \n",
    "</div>"
   ]
  },
  {
   "cell_type": "markdown",
   "metadata": {},
   "source": [
    "<div class=\"alert alert-info\"> <b>Комментарий студента:</b> Добавил категорию 'No rating'.</div>\n",
    "Япония еще больше подтвердила свою уникальность, у нее большую часть всех проданных игр составляют игры без рейтинга. Для данного региона рейтинг ESRB необязателен. В Японии действует своя рейтинговая система CERO. Причиной этого может быть, что вкус японцев и их игровая культура сильно отличаются от западных. "
   ]
  },
  {
   "cell_type": "markdown",
   "metadata": {},
   "source": [
    "<div class=\"alert alert-success\">\n",
    "<font size=\"5\"><b>Комментарий ревьюера 2</b></font>\n",
    "\n",
    "Круто, ты заметил важную особенность японского рынка игр. Для данного региона рейтинг ESRB необязателен. В Японии действует своя рейтинговая система CERO. \n",
    "\n",
    "</div>"
   ]
  },
  {
   "cell_type": "markdown",
   "metadata": {},
   "source": [
    "#### Вывод\n",
    "На основе проведенного анализа можно составить следующий портрет пользователя из Японии:\n",
    "\n",
    "1. Нибольшим спросом пользуются приставки 3DS от местного производителя, компании Nintendo. Игровые приставки от Microsoft наоборот, практически не представлены.\n",
    "2. Любимый жанр - ролевые игры и экшен\n",
    "3. Имеются три наиболее распространенных рейтинга: E(«Everyone») — «Для всех», T(«Teen») — «Подросткам 13—19 лет» и M(«Mature») — «От 17 лет»"
   ]
  },
  {
   "cell_type": "markdown",
   "metadata": {},
   "source": [
    "<div class=\"alert alert-success\">\n",
    "<font size=\"5\"><b>Комментарий ревьюера</b></font>\n",
    "\n",
    "Портрет типичного пользователя каждого из регионов получен. Приведены все необходимые графики. Здорово, что отмечены индивидуальные особенности каждого региона. Исправь обозначенную выше помарку, тогда все будет совсем хорошо. \n",
    "\n",
    "</div>"
   ]
  },
  {
   "cell_type": "markdown",
   "metadata": {},
   "source": [
    "### Общий вывод\n",
    "Пользователи из Северной Америки и Европы в основном схожи: полбзуются одними и теми же приставками, любят одни и те же жанры в играх. А вот пользователи из Японии, наоборот, имеют довольно сильную индивидуальность."
   ]
  },
  {
   "cell_type": "markdown",
   "metadata": {},
   "source": [
    "## Проверка гипотез"
   ]
  },
  {
   "cell_type": "markdown",
   "metadata": {},
   "source": [
    "### Средние пользовательские рейтинги платформ Xbox One и PC одинаковые\n",
    "Гипотеза формулируется следующим образом:  \n",
    "H0 - средние пользовательские рейтинги платформ Xbox One и PC равны  \n",
    "H1 - средние пользовательские рейтинги платформ Xbox One и PC неравны"
   ]
  },
  {
   "cell_type": "code",
   "execution_count": 15,
   "metadata": {},
   "outputs": [
    {
     "name": "stdout",
     "output_type": "stream",
     "text": [
      "Среднее значение пользовательских оценок на PC =  6.428640776699029\n",
      "Среднее значение пользовательских оценок на Xbox One =  6.521428571428572\n",
      "Разница между средними =  0.093\n",
      "p-значение: 0.5535080500643738\n",
      "Не получилось отвергнуть нулевую гипотезу\n"
     ]
    }
   ],
   "source": [
    "xboxone_data = actual_data.loc[actual_data['platform'] == 'XOne'] #создаем фрейм данных по данным xbox\n",
    "xboxone_data = xboxone_data.drop(xboxone_data[xboxone_data['user_score'].isna()].index) #избавляемся от пропущенных значений\n",
    "xboxone_data = xboxone_data['user_score'] #оставляем один столбец\n",
    "pc_data = actual_data.loc[actual_data['platform'] == 'PC'] #создаем фрейм данных по данным pc\n",
    "pc_data = pc_data.drop(pc_data[pc_data['user_score'].isna()].index) #избавляемся от пропущенных значений\n",
    "pc_data = pc_data['user_score'] #оставляем один столбец\n",
    "\n",
    "print('Среднее значение пользовательских оценок на PC = ' ,pc_data.mean())\n",
    "print('Среднее значение пользовательских оценок на Xbox One = ' ,xboxone_data.mean())\n",
    "print('Разница между средними = ', round(abs(pc_data.mean() - xboxone_data.mean()), 3))\n",
    "\n",
    "alpha = .05\n",
    "\n",
    "results = st.ttest_ind(xboxone_data, pc_data)\n",
    "\n",
    "print('p-значение:', results.pvalue)\n",
    "\n",
    "if results.pvalue < alpha:\n",
    "    print(\"Отвергаем нулевую гипотезу\")\n",
    "else:\n",
    "    print(\"Не получилось отвергнуть нулевую гипотезу\")"
   ]
  },
  {
   "cell_type": "markdown",
   "metadata": {},
   "source": [
    "#### Вывод\n",
    "Полученное P-значение говорит о том, что мы принимаем альтернативную гипотезу и считаем, что в среднем пользователи оценивают игры на PC и на Xbox One одинаково. Разница между сердними могла быть получена случайно с вероятностью 55%, поэтому статистически значимой признать ее нельзя."
   ]
  },
  {
   "cell_type": "markdown",
   "metadata": {},
   "source": [
    "<div class=\"alert alert-danger\">\n",
    "<font size=\"5\"><b>Комментарий ревьюера</b></font>\n",
    "\n",
    "Вывод не соответствует результату. \"мы принимаем альтернативную гипотезу и считаем, что в среднем пользователи оценивают игры на PC и на Xbox One одинаково\", - альтернативная гипотеза говорит нам о различиях. Мы же не можем отклонить нулевую гипотезу, поэтому различий между средними выборок может и не быть. \n",
    "\n",
    "</div>"
   ]
  },
  {
   "cell_type": "markdown",
   "metadata": {},
   "source": [
    "<div class=\"alert alert-warning\">\n",
    "<font size=\"5\"><b>Комментарий ревьюера</b></font>\n",
    "\n",
    "Ты верно проводишь статистические тесты. Однако важно понимать, что p-value нельзя интерпретировать как вероятность того, что наблюдения получены случайно. Если ты помотришь логику расчета результатов t-теста, то увидишь, что p-value это, в сущности, уровень статистической значимости, который нужен для того, чтобы нулевая гипотеза выполнялась для полученного наблюдения. Внутри стат. теста p-value расчитывается в предположении, что Н0 верна - это не мера случайности полученного результата, а мера того, насколько нужно раздвинуть доверительный интервал, чтобы в него попало полученное наблюдение.\n",
    "\n",
    "</div>"
   ]
  },
  {
   "cell_type": "markdown",
   "metadata": {},
   "source": [
    "<div class=\"alert alert-info\"> <b>Комментарий студента:</b> Переформулировка вывода.</div>\n",
    "Полученное значение p = 0.55 является больше установленного уровня значимости, поэтому делаем вывод о том, что нулевая гипотеза не отвергается, и, следовательно, средние пользовательские рейтинги платформ Xbox One и PC равны."
   ]
  },
  {
   "cell_type": "markdown",
   "metadata": {},
   "source": [
    "<div class=\"alert alert-success\">\n",
    "<font size=\"5\"><b>Комментарий ревьюера 2</b></font>\n",
    "\n",
    "Да, теперь формулировка точна.  \n",
    "\n",
    "</div>"
   ]
  },
  {
   "cell_type": "markdown",
   "metadata": {},
   "source": [
    "### Средние пользовательские рейтинги жанров Action  и Sports разные\n",
    "Гипотеза формулируется следующим образом:  \n",
    "H0 - средние пользовательские рейтинги жанров Action  и Sports равны  \n",
    "H1 - средние пользовательские рейтинги жанров Action  и Sports неравны"
   ]
  },
  {
   "cell_type": "code",
   "execution_count": 16,
   "metadata": {},
   "outputs": [
    {
     "name": "stdout",
     "output_type": "stream",
     "text": [
      "Среднее значение пользовательских оценок по жанру Action =  6.825047801147227\n",
      "Среднее значение пользовательских оценок по жанру Sports =  5.455897435897437\n",
      "Разница между средними =  1.369\n",
      "p-значение: 3.7163089460934874e-26\n",
      "Отвергаем нулевую гипотезу\n"
     ]
    }
   ],
   "source": [
    "action_data = actual_data.loc[actual_data['genre'] == 'Action'] #создаем фрейм данных по жанру Action\n",
    "action_data = action_data.drop(action_data[action_data['user_score'].isna()].index) #избавляемся от пропущенных значений\n",
    "action_data = action_data['user_score'] #оставляем один столбец\n",
    "sports_data = actual_data.loc[actual_data['genre'] == 'Sports'] #создаем фрейм данных по жанру Sports\n",
    "sports_data = sports_data.drop(sports_data[sports_data['user_score'].isna()].index) #избавляемся от пропущенных значений\n",
    "sports_data = sports_data['user_score'] #оставляем один столбец\n",
    "\n",
    "print('Среднее значение пользовательских оценок по жанру Action = ' ,action_data.mean())\n",
    "print('Среднее значение пользовательских оценок по жанру Sports = ' ,sports_data.mean())\n",
    "print('Разница между средними = ', round(abs(action_data.mean() - sports_data.mean()), 3))\n",
    "\n",
    "alpha = .05\n",
    "\n",
    "results = st.ttest_ind(action_data, sports_data)\n",
    "\n",
    "print('p-значение:', results.pvalue)\n",
    "\n",
    "if results.pvalue < alpha:\n",
    "    print(\"Отвергаем нулевую гипотезу\")\n",
    "else:\n",
    "    print(\"Не получилось отвергнуть нулевую гипотезу\")"
   ]
  },
  {
   "cell_type": "markdown",
   "metadata": {},
   "source": [
    "#### Вывод\n",
    "Полученное P-значение является крайне малым и говорит о том, что мы отвергаем нулевую гипотезу о том, что средние пользовательские рейтинги жанров Action и Sports равны и считаем, что средние пользовательские рейтинги жанров Action и Sports разные. Разницу между средними оценками пользователей признаем статистически значимой, поскольку получение такой разницы случайно крайне маловерятно."
   ]
  },
  {
   "cell_type": "markdown",
   "metadata": {},
   "source": [
    "<div class=\"alert alert-success\">\n",
    "<font size=\"5\"><b>Комментарий ревьюера</b></font>\n",
    "\n",
    "А вот проверка второй гипотезы выполнена корректно. \n",
    "\n",
    "</div>"
   ]
  },
  {
   "cell_type": "markdown",
   "metadata": {},
   "source": [
    "# Вывод"
   ]
  },
  {
   "cell_type": "markdown",
   "metadata": {},
   "source": [
    "##### В ходе работы с данными были проделаны следующие действия:\n",
    "1. Выполнена предобработка данных (изменены названия столбцов, изменены типы данных некоторых столбцов). Также, были замечены пропуски в столбцах 'name', 'year_of_release', 'critic_score', 'user_score', 'rating', в 'user_score' были заменены значения 'tbd' на пропуски.\n",
    "2. Посчитано количество игр, которые выходили в каждый год с 1980 по 2016 год. Кол-во выпускаемых игр росло вплоть до 2008 года, после чего пошло на спад. С 2011 по 2012 обнаружена просадка почти в два раза, в 2011 - 1136 выпущенных игр, в 2012 - всего 653.\n",
    "3. Выделены наиболее коммерчески успешные платформы: PS2, X360, PS3, Wii, DS и PS\n",
    "4. Определен жизненный цикл платформы ~ 10 лет\n",
    "5. Определен актуальный период. Это период с 2012 года по 2016.\n",
    "6. Посчитана и сравнена корреляция между отзывами критиков и игроков на продажи игр на PS4, а также в целом по всем платформам. Корреляция между отзывами критиков и продажи игр имеется и составляет 0.3 по всем платформам и 0.4 на PS4, а вот корреляция между отзывами игркоов и продажами отсутствует и там, и там.\n",
    "7. Выделены наиболее популярные жанры - экшен и шутер\n",
    "8. Составлены портреты пользователей из каждого региона. Пользователи из Северной Америки и Европы в основном схожи, а вот пользователи из Японии, наоборот, имеют довольно сильную индивидуальность.\n",
    "9. Проверена гипотеза о равенстве среднего пользовательского рейтинга платформ Xbox One и PC. Гипотезу принимаем и считаем средний пользовательский рейтинга платформ Xbox One и PC равным.\n",
    "10. Проверена гипотеза о равенстве среднего пользовательского рейтинга в жанрах Action и Sports. Гипотезу отвергаем и признаем пользовательские рейтинги жанров Action и Sports отличными. \n",
    "\n",
    "##### Также, задачей проекта ставилось выявление закономерностей, определяющих успешность игры. Были выделены следующие факторы:\n",
    "1. Регион\n",
    "2. Платформа\n",
    "3. Отзывы экспертов\n",
    "4. Жанр игры\n",
    "5. Рейтинг ESRB"
   ]
  },
  {
   "cell_type": "markdown",
   "metadata": {},
   "source": [
    "<div class=\"alert alert-success\">\n",
    "<font size=\"5\"><b>Комментарий ревьюера</b></font>\n",
    "\n",
    "Выводы описаны грамотно. Приведены ответы на главные вопросы проекта. В выводах можно приводить полученные ранее значения, правильно. Здорово, что по каждому пункту работы приведен вывод. Еще лучше будет, если приведешь рекомендации для компании по дальнейшим действиям. \n",
    "\n",
    "</div>"
   ]
  },
  {
   "cell_type": "markdown",
   "metadata": {},
   "source": [
    "<div class=\"alert alert-warning\">\n",
    "<font size=\"5\"><b>Комментарий ревьюера</b></font>\n",
    "\n",
    "Если тебе нравится тема визуализации, то можешь изучить другие методы библиотеки seaborn. Она позволяет строить довольно презентабельные графики.\n",
    "\n",
    "Ты выполнил все пункты работы, молодец! Критических замечаний немного. Однако с ними важно поработать и их исправить. Также есть достаточное число желтых комментариев, которые стоит исправить. Думаю, ты справишься с этим быстро. Жду твою работу :)\n",
    "\n",
    "</div>"
   ]
  },
  {
   "cell_type": "markdown",
   "metadata": {},
   "source": [
    "<div class=\"alert alert-success\">\n",
    "<font size=\"5\"><b>Комментарий ревьюера 2</b></font>\n",
    "\n",
    "Все помарки исправлены, и теперь работа выполнена хорошо. Ты здорово поработал, молодец. Поздравляю со сданным проектом. Надеюсь, он был интересен и познавателен. Спасибо за оставленные комментарии по исправлениям. Успехов в дальнейшем пути :)\n",
    "\n",
    "</div>"
   ]
  }
 ],
 "metadata": {
  "ExecuteTimeLog": [
   {
    "duration": 2354,
    "start_time": "2021-06-10T19:09:34.718Z"
   },
   {
    "duration": -100,
    "start_time": "2021-06-10T19:09:37.174Z"
   },
   {
    "duration": -101,
    "start_time": "2021-06-10T19:09:37.176Z"
   },
   {
    "duration": -101,
    "start_time": "2021-06-10T19:09:37.177Z"
   },
   {
    "duration": -102,
    "start_time": "2021-06-10T19:09:37.179Z"
   },
   {
    "duration": -103,
    "start_time": "2021-06-10T19:09:37.181Z"
   },
   {
    "duration": -103,
    "start_time": "2021-06-10T19:09:37.182Z"
   },
   {
    "duration": -104,
    "start_time": "2021-06-10T19:09:37.184Z"
   },
   {
    "duration": -105,
    "start_time": "2021-06-10T19:09:37.186Z"
   },
   {
    "duration": -105,
    "start_time": "2021-06-10T19:09:37.187Z"
   },
   {
    "duration": -106,
    "start_time": "2021-06-10T19:09:37.189Z"
   },
   {
    "duration": -107,
    "start_time": "2021-06-10T19:09:37.191Z"
   },
   {
    "duration": -108,
    "start_time": "2021-06-10T19:09:37.193Z"
   },
   {
    "duration": -107,
    "start_time": "2021-06-10T19:09:37.194Z"
   },
   {
    "duration": -108,
    "start_time": "2021-06-10T19:09:37.196Z"
   },
   {
    "duration": 1550,
    "start_time": "2021-06-11T07:07:14.950Z"
   },
   {
    "duration": 18,
    "start_time": "2021-06-11T07:07:16.502Z"
   },
   {
    "duration": 49,
    "start_time": "2021-06-11T07:07:16.522Z"
   },
   {
    "duration": 16,
    "start_time": "2021-06-11T07:07:16.574Z"
   },
   {
    "duration": 1686,
    "start_time": "2021-06-11T07:07:16.592Z"
   },
   {
    "duration": 1063,
    "start_time": "2021-06-11T07:07:18.280Z"
   },
   {
    "duration": 418,
    "start_time": "2021-06-11T07:07:19.345Z"
   },
   {
    "duration": -51,
    "start_time": "2021-06-11T07:07:19.885Z"
   },
   {
    "duration": -52,
    "start_time": "2021-06-11T07:07:19.888Z"
   },
   {
    "duration": -53,
    "start_time": "2021-06-11T07:07:19.890Z"
   },
   {
    "duration": -55,
    "start_time": "2021-06-11T07:07:19.893Z"
   },
   {
    "duration": -56,
    "start_time": "2021-06-11T07:07:19.896Z"
   },
   {
    "duration": -58,
    "start_time": "2021-06-11T07:07:19.899Z"
   },
   {
    "duration": -46,
    "start_time": "2021-06-11T07:07:19.901Z"
   },
   {
    "duration": -47,
    "start_time": "2021-06-11T07:07:19.904Z"
   },
   {
    "duration": 117,
    "start_time": "2021-06-11T07:08:00.708Z"
   },
   {
    "duration": 37,
    "start_time": "2021-06-11T07:08:00.829Z"
   },
   {
    "duration": 39,
    "start_time": "2021-06-11T07:08:00.870Z"
   },
   {
    "duration": 45,
    "start_time": "2021-06-11T07:08:00.912Z"
   },
   {
    "duration": 2803,
    "start_time": "2021-06-11T07:08:00.961Z"
   },
   {
    "duration": 1580,
    "start_time": "2021-06-11T07:08:03.767Z"
   },
   {
    "duration": 298,
    "start_time": "2021-06-11T07:08:09.464Z"
   },
   {
    "duration": 283,
    "start_time": "2021-06-11T07:08:32.245Z"
   },
   {
    "duration": -55,
    "start_time": "2021-06-11T07:08:32.587Z"
   },
   {
    "duration": -57,
    "start_time": "2021-06-11T07:08:32.592Z"
   },
   {
    "duration": -59,
    "start_time": "2021-06-11T07:08:32.596Z"
   },
   {
    "duration": -60,
    "start_time": "2021-06-11T07:08:32.599Z"
   },
   {
    "duration": -61,
    "start_time": "2021-06-11T07:08:32.603Z"
   },
   {
    "duration": -62,
    "start_time": "2021-06-11T07:08:32.606Z"
   },
   {
    "duration": -64,
    "start_time": "2021-06-11T07:08:32.611Z"
   },
   {
    "duration": -65,
    "start_time": "2021-06-11T07:08:32.614Z"
   },
   {
    "duration": 130,
    "start_time": "2021-06-11T07:09:06.139Z"
   },
   {
    "duration": 26,
    "start_time": "2021-06-11T07:09:06.272Z"
   },
   {
    "duration": 55,
    "start_time": "2021-06-11T07:09:06.303Z"
   },
   {
    "duration": 19,
    "start_time": "2021-06-11T07:09:06.362Z"
   },
   {
    "duration": 2100,
    "start_time": "2021-06-11T07:09:06.384Z"
   },
   {
    "duration": 1182,
    "start_time": "2021-06-11T07:09:08.487Z"
   },
   {
    "duration": 785,
    "start_time": "2021-06-11T07:09:09.671Z"
   },
   {
    "duration": -113,
    "start_time": "2021-06-11T07:09:10.572Z"
   },
   {
    "duration": -114,
    "start_time": "2021-06-11T07:09:10.575Z"
   },
   {
    "duration": -116,
    "start_time": "2021-06-11T07:09:10.579Z"
   },
   {
    "duration": -117,
    "start_time": "2021-06-11T07:09:10.582Z"
   },
   {
    "duration": -119,
    "start_time": "2021-06-11T07:09:10.586Z"
   },
   {
    "duration": -120,
    "start_time": "2021-06-11T07:09:10.589Z"
   },
   {
    "duration": -120,
    "start_time": "2021-06-11T07:09:10.591Z"
   },
   {
    "duration": -120,
    "start_time": "2021-06-11T07:09:10.593Z"
   },
   {
    "duration": 818,
    "start_time": "2021-06-11T07:09:47.147Z"
   },
   {
    "duration": 82,
    "start_time": "2021-06-11T07:09:53.705Z"
   },
   {
    "duration": 18,
    "start_time": "2021-06-11T07:09:53.790Z"
   },
   {
    "duration": 24,
    "start_time": "2021-06-11T07:09:53.811Z"
   },
   {
    "duration": 29,
    "start_time": "2021-06-11T07:09:53.837Z"
   },
   {
    "duration": 1664,
    "start_time": "2021-06-11T07:09:53.868Z"
   },
   {
    "duration": 1021,
    "start_time": "2021-06-11T07:09:55.535Z"
   },
   {
    "duration": 647,
    "start_time": "2021-06-11T07:09:56.559Z"
   },
   {
    "duration": 2839,
    "start_time": "2021-06-11T07:09:57.211Z"
   },
   {
    "duration": -82,
    "start_time": "2021-06-11T07:10:00.139Z"
   },
   {
    "duration": -84,
    "start_time": "2021-06-11T07:10:00.143Z"
   },
   {
    "duration": -83,
    "start_time": "2021-06-11T07:10:00.145Z"
   },
   {
    "duration": -84,
    "start_time": "2021-06-11T07:10:00.148Z"
   },
   {
    "duration": -85,
    "start_time": "2021-06-11T07:10:00.151Z"
   },
   {
    "duration": -97,
    "start_time": "2021-06-11T07:10:00.165Z"
   },
   {
    "duration": -97,
    "start_time": "2021-06-11T07:10:00.168Z"
   },
   {
    "duration": 282,
    "start_time": "2021-06-11T07:16:08.318Z"
   },
   {
    "duration": 275,
    "start_time": "2021-06-11T07:16:13.539Z"
   },
   {
    "duration": 508,
    "start_time": "2021-06-11T07:17:11.162Z"
   },
   {
    "duration": 506,
    "start_time": "2021-06-11T07:17:50.169Z"
   },
   {
    "duration": 615,
    "start_time": "2021-06-11T07:18:00.098Z"
   },
   {
    "duration": 514,
    "start_time": "2021-06-11T07:18:12.779Z"
   },
   {
    "duration": 504,
    "start_time": "2021-06-11T07:19:44.835Z"
   },
   {
    "duration": 494,
    "start_time": "2021-06-11T07:23:20.642Z"
   },
   {
    "duration": 498,
    "start_time": "2021-06-11T07:23:24.961Z"
   },
   {
    "duration": 77,
    "start_time": "2021-06-11T07:23:32.592Z"
   },
   {
    "duration": 18,
    "start_time": "2021-06-11T07:23:32.672Z"
   },
   {
    "duration": 24,
    "start_time": "2021-06-11T07:23:32.693Z"
   },
   {
    "duration": 42,
    "start_time": "2021-06-11T07:23:32.720Z"
   },
   {
    "duration": 1967,
    "start_time": "2021-06-11T07:23:32.764Z"
   },
   {
    "duration": 1064,
    "start_time": "2021-06-11T07:23:34.733Z"
   },
   {
    "duration": 508,
    "start_time": "2021-06-11T07:23:35.800Z"
   },
   {
    "duration": 4,
    "start_time": "2021-06-11T07:27:18.692Z"
   },
   {
    "duration": 6,
    "start_time": "2021-06-11T07:27:26.507Z"
   },
   {
    "duration": 7,
    "start_time": "2021-06-11T07:27:44.444Z"
   },
   {
    "duration": 34,
    "start_time": "2021-06-11T07:27:56.515Z"
   },
   {
    "duration": 1509,
    "start_time": "2021-06-11T07:28:36.183Z"
   },
   {
    "duration": 22,
    "start_time": "2021-06-11T07:28:37.695Z"
   },
   {
    "duration": 55,
    "start_time": "2021-06-11T07:28:37.720Z"
   },
   {
    "duration": 15,
    "start_time": "2021-06-11T07:28:37.778Z"
   },
   {
    "duration": 1692,
    "start_time": "2021-06-11T07:28:37.796Z"
   },
   {
    "duration": 1073,
    "start_time": "2021-06-11T07:28:39.491Z"
   },
   {
    "duration": 77,
    "start_time": "2021-06-11T07:30:33.674Z"
   },
   {
    "duration": 17,
    "start_time": "2021-06-11T07:30:33.754Z"
   },
   {
    "duration": 24,
    "start_time": "2021-06-11T07:30:33.780Z"
   },
   {
    "duration": 12,
    "start_time": "2021-06-11T07:30:33.829Z"
   },
   {
    "duration": 1667,
    "start_time": "2021-06-11T07:30:33.858Z"
   },
   {
    "duration": 1048,
    "start_time": "2021-06-11T07:30:35.528Z"
   },
   {
    "duration": 34,
    "start_time": "2021-06-11T07:30:36.580Z"
   },
   {
    "duration": 518,
    "start_time": "2021-06-11T07:30:36.617Z"
   },
   {
    "duration": 2094,
    "start_time": "2021-06-11T07:30:37.137Z"
   },
   {
    "duration": 51,
    "start_time": "2021-06-11T07:30:39.182Z"
   },
   {
    "duration": 49,
    "start_time": "2021-06-11T07:30:39.186Z"
   },
   {
    "duration": 46,
    "start_time": "2021-06-11T07:30:39.190Z"
   },
   {
    "duration": 38,
    "start_time": "2021-06-11T07:30:39.199Z"
   },
   {
    "duration": 38,
    "start_time": "2021-06-11T07:30:39.201Z"
   },
   {
    "duration": 52,
    "start_time": "2021-06-11T07:30:39.203Z"
   },
   {
    "duration": 52,
    "start_time": "2021-06-11T07:30:39.205Z"
   },
   {
    "duration": 7,
    "start_time": "2021-06-11T07:31:25.313Z"
   },
   {
    "duration": 17,
    "start_time": "2021-06-11T07:33:39.306Z"
   },
   {
    "duration": 6,
    "start_time": "2021-06-11T07:33:48.962Z"
   },
   {
    "duration": 4,
    "start_time": "2021-06-11T07:39:28.314Z"
   },
   {
    "duration": 283,
    "start_time": "2021-06-11T07:39:40.123Z"
   },
   {
    "duration": 266,
    "start_time": "2021-06-11T07:51:44.424Z"
   },
   {
    "duration": 84,
    "start_time": "2021-06-11T07:55:33.178Z"
   },
   {
    "duration": 988,
    "start_time": "2021-06-11T07:55:52.926Z"
   },
   {
    "duration": 478,
    "start_time": "2021-06-11T08:02:23.253Z"
   },
   {
    "duration": 500,
    "start_time": "2021-06-11T08:02:39.296Z"
   },
   {
    "duration": 1899,
    "start_time": "2021-06-11T08:04:01.662Z"
   },
   {
    "duration": 2675,
    "start_time": "2021-06-11T08:04:09.639Z"
   },
   {
    "duration": 2113,
    "start_time": "2021-06-11T08:05:53.366Z"
   },
   {
    "duration": 317,
    "start_time": "2021-06-11T08:06:00.494Z"
   },
   {
    "duration": 666,
    "start_time": "2021-06-11T08:06:03.637Z"
   },
   {
    "duration": 648,
    "start_time": "2021-06-11T08:06:07.022Z"
   },
   {
    "duration": 644,
    "start_time": "2021-06-11T08:06:10.333Z"
   },
   {
    "duration": 146,
    "start_time": "2021-06-11T08:06:14.366Z"
   },
   {
    "duration": 22,
    "start_time": "2021-06-11T08:06:18.125Z"
   },
   {
    "duration": 1884,
    "start_time": "2021-06-11T08:10:55.127Z"
   },
   {
    "duration": 15,
    "start_time": "2021-06-11T08:13:14.710Z"
   },
   {
    "duration": 11,
    "start_time": "2021-06-11T08:13:24.625Z"
   },
   {
    "duration": 1918,
    "start_time": "2021-06-11T08:13:44.927Z"
   },
   {
    "duration": 8,
    "start_time": "2021-06-11T08:13:51.023Z"
   },
   {
    "duration": 6371,
    "start_time": "2021-06-11T08:14:06.103Z"
   },
   {
    "duration": 19,
    "start_time": "2021-06-11T08:15:27.590Z"
   },
   {
    "duration": 3595,
    "start_time": "2021-06-11T08:16:29.664Z"
   },
   {
    "duration": 3356,
    "start_time": "2021-06-11T08:16:34.608Z"
   },
   {
    "duration": 3446,
    "start_time": "2021-06-11T08:17:23.586Z"
   },
   {
    "duration": 3444,
    "start_time": "2021-06-11T08:17:36.080Z"
   },
   {
    "duration": 611,
    "start_time": "2021-06-11T08:19:18.480Z"
   },
   {
    "duration": 77,
    "start_time": "2021-06-11T08:19:41.819Z"
   },
   {
    "duration": 77,
    "start_time": "2021-06-11T08:20:03.854Z"
   },
   {
    "duration": 30,
    "start_time": "2021-06-11T08:20:03.934Z"
   },
   {
    "duration": 24,
    "start_time": "2021-06-11T08:20:03.967Z"
   },
   {
    "duration": 12,
    "start_time": "2021-06-11T08:20:03.994Z"
   },
   {
    "duration": 1656,
    "start_time": "2021-06-11T08:20:04.009Z"
   },
   {
    "duration": 1078,
    "start_time": "2021-06-11T08:20:05.667Z"
   },
   {
    "duration": 483,
    "start_time": "2021-06-11T08:20:06.748Z"
   },
   {
    "duration": 3663,
    "start_time": "2021-06-11T08:20:07.234Z"
   },
   {
    "duration": 3438,
    "start_time": "2021-06-11T08:20:10.900Z"
   },
   {
    "duration": 345,
    "start_time": "2021-06-11T08:20:14.341Z"
   },
   {
    "duration": 669,
    "start_time": "2021-06-11T08:20:14.689Z"
   },
   {
    "duration": 677,
    "start_time": "2021-06-11T08:20:15.360Z"
   },
   {
    "duration": 685,
    "start_time": "2021-06-11T08:20:16.040Z"
   },
   {
    "duration": 39,
    "start_time": "2021-06-11T08:20:16.727Z"
   },
   {
    "duration": 22,
    "start_time": "2021-06-11T08:20:16.768Z"
   },
   {
    "duration": 79,
    "start_time": "2021-06-11T08:21:11.501Z"
   },
   {
    "duration": 19,
    "start_time": "2021-06-11T08:21:11.582Z"
   },
   {
    "duration": 24,
    "start_time": "2021-06-11T08:21:11.604Z"
   },
   {
    "duration": 14,
    "start_time": "2021-06-11T08:21:11.656Z"
   },
   {
    "duration": 1806,
    "start_time": "2021-06-11T08:21:11.672Z"
   },
   {
    "duration": 1035,
    "start_time": "2021-06-11T08:21:13.480Z"
   },
   {
    "duration": 495,
    "start_time": "2021-06-11T08:21:14.518Z"
   },
   {
    "duration": 3687,
    "start_time": "2021-06-11T08:21:15.018Z"
   },
   {
    "duration": 3425,
    "start_time": "2021-06-11T08:21:18.709Z"
   },
   {
    "duration": 364,
    "start_time": "2021-06-11T08:21:22.137Z"
   },
   {
    "duration": 659,
    "start_time": "2021-06-11T08:21:22.503Z"
   },
   {
    "duration": 790,
    "start_time": "2021-06-11T08:21:23.165Z"
   },
   {
    "duration": 682,
    "start_time": "2021-06-11T08:21:23.959Z"
   },
   {
    "duration": 33,
    "start_time": "2021-06-11T08:21:24.643Z"
   },
   {
    "duration": 23,
    "start_time": "2021-06-11T08:21:24.679Z"
   },
   {
    "duration": 2135,
    "start_time": "2021-06-11T10:22:40.103Z"
   },
   {
    "duration": 27,
    "start_time": "2021-06-11T10:22:42.241Z"
   },
   {
    "duration": 40,
    "start_time": "2021-06-11T10:22:42.289Z"
   },
   {
    "duration": 14,
    "start_time": "2021-06-11T10:22:42.331Z"
   },
   {
    "duration": 1954,
    "start_time": "2021-06-11T10:22:42.348Z"
   },
   {
    "duration": 1230,
    "start_time": "2021-06-11T10:22:44.304Z"
   },
   {
    "duration": 653,
    "start_time": "2021-06-11T10:22:45.537Z"
   },
   {
    "duration": 4827,
    "start_time": "2021-06-11T10:22:46.195Z"
   },
   {
    "duration": 5852,
    "start_time": "2021-06-11T10:22:51.025Z"
   },
   {
    "duration": 386,
    "start_time": "2021-06-11T10:22:56.886Z"
   },
   {
    "duration": 760,
    "start_time": "2021-06-11T10:22:57.275Z"
   },
   {
    "duration": 769,
    "start_time": "2021-06-11T10:22:58.038Z"
   },
   {
    "duration": 822,
    "start_time": "2021-06-11T10:22:58.810Z"
   },
   {
    "duration": 157,
    "start_time": "2021-06-11T10:22:59.635Z"
   },
   {
    "duration": 28,
    "start_time": "2021-06-11T10:22:59.795Z"
   },
   {
    "duration": 890,
    "start_time": "2021-06-11T11:43:17.842Z"
   },
   {
    "duration": 920,
    "start_time": "2021-06-11T11:43:22.080Z"
   },
   {
    "duration": 873,
    "start_time": "2021-06-11T11:43:33.715Z"
   },
   {
    "duration": 265,
    "start_time": "2021-06-11T12:01:08.807Z"
   },
   {
    "duration": 252,
    "start_time": "2021-06-11T12:03:31.327Z"
   },
   {
    "duration": 5932,
    "start_time": "2021-06-11T12:03:44.975Z"
   },
   {
    "duration": 465,
    "start_time": "2021-06-11T12:04:23.043Z"
   },
   {
    "duration": 6,
    "start_time": "2021-06-11T12:04:28.999Z"
   },
   {
    "duration": 10,
    "start_time": "2021-06-11T12:04:33.695Z"
   },
   {
    "duration": 1033,
    "start_time": "2021-06-11T12:06:25.447Z"
   },
   {
    "duration": 77,
    "start_time": "2021-06-11T12:06:38.820Z"
   },
   {
    "duration": 19,
    "start_time": "2021-06-11T12:06:38.899Z"
   },
   {
    "duration": 62,
    "start_time": "2021-06-11T12:06:38.920Z"
   },
   {
    "duration": 12,
    "start_time": "2021-06-11T12:06:38.984Z"
   },
   {
    "duration": 1721,
    "start_time": "2021-06-11T12:06:38.999Z"
   },
   {
    "duration": 1042,
    "start_time": "2021-06-11T12:06:40.722Z"
   },
   {
    "duration": 577,
    "start_time": "2021-06-11T12:06:41.767Z"
   },
   {
    "duration": 3850,
    "start_time": "2021-06-11T12:06:42.355Z"
   },
   {
    "duration": 3658,
    "start_time": "2021-06-11T12:06:46.209Z"
   },
   {
    "duration": 339,
    "start_time": "2021-06-11T12:06:49.870Z"
   },
   {
    "duration": 13,
    "start_time": "2021-06-11T12:06:50.212Z"
   },
   {
    "duration": 958,
    "start_time": "2021-06-11T12:06:52.265Z"
   },
   {
    "duration": 36,
    "start_time": "2021-06-11T12:07:30.695Z"
   },
   {
    "duration": 1047,
    "start_time": "2021-06-11T12:07:36.855Z"
   },
   {
    "duration": 900,
    "start_time": "2021-06-11T12:08:31.327Z"
   },
   {
    "duration": 35,
    "start_time": "2021-06-11T12:08:43.440Z"
   },
   {
    "duration": 1014,
    "start_time": "2021-06-11T12:08:45.520Z"
   },
   {
    "duration": 906,
    "start_time": "2021-06-11T12:17:19.430Z"
   },
   {
    "duration": 911,
    "start_time": "2021-06-11T12:18:10.566Z"
   },
   {
    "duration": 1209,
    "start_time": "2021-06-11T12:18:58.672Z"
   },
   {
    "duration": 972,
    "start_time": "2021-06-11T12:19:42.440Z"
   },
   {
    "duration": 1030,
    "start_time": "2021-06-11T12:20:13.305Z"
   },
   {
    "duration": 79,
    "start_time": "2021-06-11T12:21:46.470Z"
   },
   {
    "duration": 1557,
    "start_time": "2021-06-11T16:50:27.280Z"
   },
   {
    "duration": 19,
    "start_time": "2021-06-11T16:50:28.839Z"
   },
   {
    "duration": 46,
    "start_time": "2021-06-11T16:50:28.861Z"
   },
   {
    "duration": 12,
    "start_time": "2021-06-11T16:50:28.910Z"
   },
   {
    "duration": 1865,
    "start_time": "2021-06-11T16:50:28.924Z"
   },
   {
    "duration": 1303,
    "start_time": "2021-06-11T16:50:30.793Z"
   },
   {
    "duration": 594,
    "start_time": "2021-06-11T16:50:32.099Z"
   },
   {
    "duration": 4115,
    "start_time": "2021-06-11T16:50:32.698Z"
   },
   {
    "duration": 3878,
    "start_time": "2021-06-11T16:50:36.815Z"
   },
   {
    "duration": 397,
    "start_time": "2021-06-11T16:50:40.696Z"
   },
   {
    "duration": 41,
    "start_time": "2021-06-11T16:50:41.096Z"
   },
   {
    "duration": 1036,
    "start_time": "2021-06-11T16:50:41.140Z"
   },
   {
    "duration": 1034,
    "start_time": "2021-06-11T16:50:42.183Z"
   },
   {
    "duration": 1061,
    "start_time": "2021-06-11T16:50:43.219Z"
   },
   {
    "duration": 29,
    "start_time": "2021-06-11T16:50:44.287Z"
   },
   {
    "duration": 26,
    "start_time": "2021-06-11T16:50:44.319Z"
   },
   {
    "duration": 1510,
    "start_time": "2022-01-09T13:33:37.866Z"
   },
   {
    "duration": 18,
    "start_time": "2022-01-09T13:33:39.379Z"
   },
   {
    "duration": 35,
    "start_time": "2022-01-09T13:33:39.400Z"
   },
   {
    "duration": 12,
    "start_time": "2022-01-09T13:33:39.437Z"
   },
   {
    "duration": 1900,
    "start_time": "2022-01-09T13:33:39.451Z"
   },
   {
    "duration": 1276,
    "start_time": "2022-01-09T13:33:41.353Z"
   },
   {
    "duration": 603,
    "start_time": "2022-01-09T13:33:42.631Z"
   },
   {
    "duration": 4109,
    "start_time": "2022-01-09T13:33:43.237Z"
   },
   {
    "duration": 3969,
    "start_time": "2022-01-09T13:33:47.348Z"
   },
   {
    "duration": 348,
    "start_time": "2022-01-09T13:33:51.320Z"
   },
   {
    "duration": 51,
    "start_time": "2022-01-09T13:33:51.670Z"
   },
   {
    "duration": 1022,
    "start_time": "2022-01-09T13:33:51.723Z"
   },
   {
    "duration": 1008,
    "start_time": "2022-01-09T13:33:52.747Z"
   },
   {
    "duration": 1088,
    "start_time": "2022-01-09T13:33:53.757Z"
   },
   {
    "duration": 24,
    "start_time": "2022-01-09T13:33:54.848Z"
   },
   {
    "duration": 54,
    "start_time": "2022-01-09T13:33:54.875Z"
   },
   {
    "duration": 15,
    "start_time": "2022-01-09T13:34:48.659Z"
   },
   {
    "duration": 14,
    "start_time": "2022-01-09T13:35:22.625Z"
   },
   {
    "duration": 11,
    "start_time": "2022-01-09T13:35:55.267Z"
   },
   {
    "duration": 14,
    "start_time": "2022-01-09T13:37:34.388Z"
   },
   {
    "duration": 6,
    "start_time": "2022-01-09T13:38:19.715Z"
   },
   {
    "duration": 20,
    "start_time": "2022-01-09T13:38:28.267Z"
   },
   {
    "duration": 23,
    "start_time": "2022-01-09T13:38:37.690Z"
   },
   {
    "duration": 12,
    "start_time": "2022-01-09T13:39:05.882Z"
   },
   {
    "duration": 24,
    "start_time": "2022-01-09T13:39:10.162Z"
   },
   {
    "duration": 23,
    "start_time": "2022-01-09T13:39:17.187Z"
   },
   {
    "duration": 16,
    "start_time": "2022-01-09T13:39:27.498Z"
   },
   {
    "duration": 12,
    "start_time": "2022-01-09T13:39:54.099Z"
   },
   {
    "duration": 9,
    "start_time": "2022-01-09T13:40:08.507Z"
   },
   {
    "duration": 8,
    "start_time": "2022-01-09T13:40:44.907Z"
   },
   {
    "duration": 504,
    "start_time": "2022-01-09T13:45:40.609Z"
   },
   {
    "duration": 1193,
    "start_time": "2022-01-09T13:49:24.924Z"
   },
   {
    "duration": 329,
    "start_time": "2022-01-09T13:50:37.677Z"
   },
   {
    "duration": 316,
    "start_time": "2022-01-09T13:50:43.412Z"
   },
   {
    "duration": 1147,
    "start_time": "2022-01-09T13:50:48.036Z"
   },
   {
    "duration": 1100,
    "start_time": "2022-01-09T13:52:51.292Z"
   },
   {
    "duration": 1222,
    "start_time": "2022-01-09T13:52:56.781Z"
   },
   {
    "duration": 1163,
    "start_time": "2022-01-09T13:53:02.212Z"
   },
   {
    "duration": 1148,
    "start_time": "2022-01-09T13:53:05.740Z"
   },
   {
    "duration": 1223,
    "start_time": "2022-01-09T13:53:38.764Z"
   },
   {
    "duration": 1180,
    "start_time": "2022-01-09T13:54:10.437Z"
   },
   {
    "duration": 1159,
    "start_time": "2022-01-09T13:55:49.957Z"
   },
   {
    "duration": 1151,
    "start_time": "2022-01-09T13:56:02.733Z"
   },
   {
    "duration": 1157,
    "start_time": "2022-01-09T13:56:10.158Z"
   },
   {
    "duration": 349,
    "start_time": "2022-01-09T13:58:57.811Z"
   },
   {
    "duration": 1167,
    "start_time": "2022-01-09T13:59:00.322Z"
   },
   {
    "duration": 1163,
    "start_time": "2022-01-09T13:59:25.019Z"
   },
   {
    "duration": 313,
    "start_time": "2022-01-09T13:59:54.413Z"
   },
   {
    "duration": 1218,
    "start_time": "2022-01-09T14:00:03.702Z"
   }
  ],
  "kernelspec": {
   "display_name": "Python 3",
   "language": "python",
   "name": "python3"
  },
  "language_info": {
   "codemirror_mode": {
    "name": "ipython",
    "version": 3
   },
   "file_extension": ".py",
   "mimetype": "text/x-python",
   "name": "python",
   "nbconvert_exporter": "python",
   "pygments_lexer": "ipython3",
   "version": "3.7.8"
  },
  "toc": {
   "base_numbering": 1,
   "nav_menu": {},
   "number_sections": true,
   "sideBar": true,
   "skip_h1_title": true,
   "title_cell": "Table of Contents",
   "title_sidebar": "Contents",
   "toc_cell": false,
   "toc_position": {},
   "toc_section_display": true,
   "toc_window_display": false
  }
 },
 "nbformat": 4,
 "nbformat_minor": 2
}
