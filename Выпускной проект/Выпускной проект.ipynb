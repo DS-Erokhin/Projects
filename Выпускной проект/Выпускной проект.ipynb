{
 "cells": [
  {
   "cell_type": "markdown",
   "metadata": {},
   "source": [
    "# Описание проекта\n",
    "Оператор связи «Минифон» хочет научиться прогнозировать отток клиентов. Если выяснится, что пользователь планирует уйти, ему будут предложены промокоды и специальные условия. Команда оператора собрала персональные данные о некоторых клиентах, информацию об их тарифах и договорах.\n",
    "\n",
    "### Описание услуг\n",
    "\n",
    "Оператор предоставляет два основных типа услуг: \n",
    "\n",
    "1. Стационарную телефонную связь. Возможно подключение телефонного аппарата к нескольким линиям одновременно.\n",
    "2. Интернет. Подключение может быть двух типов: через телефонную линию (DSL) или оптоволоконный кабель (Fiber optic).  \n",
    "\n",
    "Также доступны такие услуги:\n",
    "\n",
    "- Интернет-безопасность: антивирус (*DeviceProtection*) и блокировка небезопасных сайтов (*OnlineSecurity*);\n",
    "- Выделенная линия технической поддержки (*TechSupport*);\n",
    "- Облачное хранилище файлов для резервного копирования данных (*OnlineBackup*);\n",
    "- Стриминговое телевидение (*StreamingTV*) и каталог фильмов (*StreamingMovies*).\n",
    "\n",
    "За услуги клиенты могут платить каждый месяц или заключить договор на 1–2 года. Доступны различные способы расчёта и возможность получения электронного чека.\n",
    "\n",
    "### Описание данных\n",
    "\n",
    "Данные состоят из файлов, полученных из разных источников:\n",
    "\n",
    "- `contract.csv` — информация о договоре;\n",
    "- `personal.csv` — персональные данные клиента;\n",
    "- `internet.csv` — информация об интернет-услугах;\n",
    "- `phone.csv` — информация об услугах телефонии.\n",
    "\n",
    "Во всех файлах столбец `customerID` содержит код клиента.\n",
    "\n",
    "Информация о договорах актуальна на 1 февраля 2020."
   ]
  },
  {
   "cell_type": "code",
   "execution_count": 1,
   "metadata": {},
   "outputs": [],
   "source": [
    "import pandas as pd\n",
    "import matplotlib.pyplot as plt\n",
    "from datetime import timedelta, datetime\n",
    "import numpy as np\n",
    "\n",
    "from sklearn.ensemble import RandomForestClassifier\n",
    "from sklearn.tree import DecisionTreeClassifier\n",
    "from sklearn.linear_model import LogisticRegression\n",
    "\n",
    "from sklearn.model_selection import GridSearchCV\n",
    "from sklearn.metrics import f1_score\n",
    "from sklearn.metrics import confusion_matrix\n",
    "from sklearn.model_selection import train_test_split\n",
    "from sklearn.preprocessing import StandardScaler\n",
    "from sklearn.metrics import confusion_matrix\n",
    "from sklearn.metrics import accuracy_score\n",
    "from sklearn.metrics import recall_score\n",
    "from sklearn.metrics import precision_score\n",
    "from sklearn.utils import shuffle\n",
    "from sklearn.metrics import roc_auc_score\n",
    "from sklearn.metrics import roc_curve\n",
    "from sklearn.preprocessing import OrdinalEncoder\n",
    "\n",
    "import lightgbm as lgb\n",
    "from xgboost import XGBClassifier\n",
    "from catboost import CatBoostClassifier\n",
    "\n",
    "import warnings\n",
    "warnings.simplefilter('ignore')"
   ]
  },
  {
   "cell_type": "code",
   "execution_count": 2,
   "metadata": {},
   "outputs": [],
   "source": [
    "contract = pd.read_csv('/datasets/final_provider/contract.csv')\n",
    "personal = pd.read_csv('/datasets/final_provider/personal.csv')\n",
    "internet = pd.read_csv('/datasets/final_provider/internet.csv')\n",
    "phone = pd.read_csv('/datasets/final_provider/phone.csv')"
   ]
  },
  {
   "cell_type": "markdown",
   "metadata": {},
   "source": [
    "## Исследовательский анализ данных"
   ]
  },
  {
   "cell_type": "markdown",
   "metadata": {},
   "source": [
    "Для определения дальнейшего плана действий изучим каждый датасет."
   ]
  },
  {
   "cell_type": "markdown",
   "metadata": {},
   "source": [
    "### Contract"
   ]
  },
  {
   "cell_type": "code",
   "execution_count": 3,
   "metadata": {},
   "outputs": [
    {
     "name": "stdout",
     "output_type": "stream",
     "text": [
      "<class 'pandas.core.frame.DataFrame'>\n",
      "RangeIndex: 7043 entries, 0 to 7042\n",
      "Data columns (total 8 columns):\n",
      "customerID          7043 non-null object\n",
      "BeginDate           7043 non-null object\n",
      "EndDate             7043 non-null object\n",
      "Type                7043 non-null object\n",
      "PaperlessBilling    7043 non-null object\n",
      "PaymentMethod       7043 non-null object\n",
      "MonthlyCharges      7043 non-null float64\n",
      "TotalCharges        7043 non-null object\n",
      "dtypes: float64(1), object(7)\n",
      "memory usage: 440.3+ KB\n"
     ]
    },
    {
     "data": {
      "text/html": [
       "<div>\n",
       "<style scoped>\n",
       "    .dataframe tbody tr th:only-of-type {\n",
       "        vertical-align: middle;\n",
       "    }\n",
       "\n",
       "    .dataframe tbody tr th {\n",
       "        vertical-align: top;\n",
       "    }\n",
       "\n",
       "    .dataframe thead th {\n",
       "        text-align: right;\n",
       "    }\n",
       "</style>\n",
       "<table border=\"1\" class=\"dataframe\">\n",
       "  <thead>\n",
       "    <tr style=\"text-align: right;\">\n",
       "      <th></th>\n",
       "      <th>customerID</th>\n",
       "      <th>BeginDate</th>\n",
       "      <th>EndDate</th>\n",
       "      <th>Type</th>\n",
       "      <th>PaperlessBilling</th>\n",
       "      <th>PaymentMethod</th>\n",
       "      <th>MonthlyCharges</th>\n",
       "      <th>TotalCharges</th>\n",
       "    </tr>\n",
       "  </thead>\n",
       "  <tbody>\n",
       "    <tr>\n",
       "      <td>0</td>\n",
       "      <td>7590-VHVEG</td>\n",
       "      <td>2020-01-01</td>\n",
       "      <td>No</td>\n",
       "      <td>Month-to-month</td>\n",
       "      <td>Yes</td>\n",
       "      <td>Electronic check</td>\n",
       "      <td>29.85</td>\n",
       "      <td>29.85</td>\n",
       "    </tr>\n",
       "    <tr>\n",
       "      <td>1</td>\n",
       "      <td>5575-GNVDE</td>\n",
       "      <td>2017-04-01</td>\n",
       "      <td>No</td>\n",
       "      <td>One year</td>\n",
       "      <td>No</td>\n",
       "      <td>Mailed check</td>\n",
       "      <td>56.95</td>\n",
       "      <td>1889.5</td>\n",
       "    </tr>\n",
       "    <tr>\n",
       "      <td>2</td>\n",
       "      <td>3668-QPYBK</td>\n",
       "      <td>2019-10-01</td>\n",
       "      <td>2019-12-01 00:00:00</td>\n",
       "      <td>Month-to-month</td>\n",
       "      <td>Yes</td>\n",
       "      <td>Mailed check</td>\n",
       "      <td>53.85</td>\n",
       "      <td>108.15</td>\n",
       "    </tr>\n",
       "    <tr>\n",
       "      <td>3</td>\n",
       "      <td>7795-CFOCW</td>\n",
       "      <td>2016-05-01</td>\n",
       "      <td>No</td>\n",
       "      <td>One year</td>\n",
       "      <td>No</td>\n",
       "      <td>Bank transfer (automatic)</td>\n",
       "      <td>42.30</td>\n",
       "      <td>1840.75</td>\n",
       "    </tr>\n",
       "    <tr>\n",
       "      <td>4</td>\n",
       "      <td>9237-HQITU</td>\n",
       "      <td>2019-09-01</td>\n",
       "      <td>2019-11-01 00:00:00</td>\n",
       "      <td>Month-to-month</td>\n",
       "      <td>Yes</td>\n",
       "      <td>Electronic check</td>\n",
       "      <td>70.70</td>\n",
       "      <td>151.65</td>\n",
       "    </tr>\n",
       "    <tr>\n",
       "      <td>...</td>\n",
       "      <td>...</td>\n",
       "      <td>...</td>\n",
       "      <td>...</td>\n",
       "      <td>...</td>\n",
       "      <td>...</td>\n",
       "      <td>...</td>\n",
       "      <td>...</td>\n",
       "      <td>...</td>\n",
       "    </tr>\n",
       "    <tr>\n",
       "      <td>7038</td>\n",
       "      <td>6840-RESVB</td>\n",
       "      <td>2018-02-01</td>\n",
       "      <td>No</td>\n",
       "      <td>One year</td>\n",
       "      <td>Yes</td>\n",
       "      <td>Mailed check</td>\n",
       "      <td>84.80</td>\n",
       "      <td>1990.5</td>\n",
       "    </tr>\n",
       "    <tr>\n",
       "      <td>7039</td>\n",
       "      <td>2234-XADUH</td>\n",
       "      <td>2014-02-01</td>\n",
       "      <td>No</td>\n",
       "      <td>One year</td>\n",
       "      <td>Yes</td>\n",
       "      <td>Credit card (automatic)</td>\n",
       "      <td>103.20</td>\n",
       "      <td>7362.9</td>\n",
       "    </tr>\n",
       "    <tr>\n",
       "      <td>7040</td>\n",
       "      <td>4801-JZAZL</td>\n",
       "      <td>2019-03-01</td>\n",
       "      <td>No</td>\n",
       "      <td>Month-to-month</td>\n",
       "      <td>Yes</td>\n",
       "      <td>Electronic check</td>\n",
       "      <td>29.60</td>\n",
       "      <td>346.45</td>\n",
       "    </tr>\n",
       "    <tr>\n",
       "      <td>7041</td>\n",
       "      <td>8361-LTMKD</td>\n",
       "      <td>2019-07-01</td>\n",
       "      <td>2019-11-01 00:00:00</td>\n",
       "      <td>Month-to-month</td>\n",
       "      <td>Yes</td>\n",
       "      <td>Mailed check</td>\n",
       "      <td>74.40</td>\n",
       "      <td>306.6</td>\n",
       "    </tr>\n",
       "    <tr>\n",
       "      <td>7042</td>\n",
       "      <td>3186-AJIEK</td>\n",
       "      <td>2014-08-01</td>\n",
       "      <td>No</td>\n",
       "      <td>Two year</td>\n",
       "      <td>Yes</td>\n",
       "      <td>Bank transfer (automatic)</td>\n",
       "      <td>105.65</td>\n",
       "      <td>6844.5</td>\n",
       "    </tr>\n",
       "  </tbody>\n",
       "</table>\n",
       "<p>7043 rows × 8 columns</p>\n",
       "</div>"
      ],
      "text/plain": [
       "      customerID   BeginDate              EndDate            Type  \\\n",
       "0     7590-VHVEG  2020-01-01                   No  Month-to-month   \n",
       "1     5575-GNVDE  2017-04-01                   No        One year   \n",
       "2     3668-QPYBK  2019-10-01  2019-12-01 00:00:00  Month-to-month   \n",
       "3     7795-CFOCW  2016-05-01                   No        One year   \n",
       "4     9237-HQITU  2019-09-01  2019-11-01 00:00:00  Month-to-month   \n",
       "...          ...         ...                  ...             ...   \n",
       "7038  6840-RESVB  2018-02-01                   No        One year   \n",
       "7039  2234-XADUH  2014-02-01                   No        One year   \n",
       "7040  4801-JZAZL  2019-03-01                   No  Month-to-month   \n",
       "7041  8361-LTMKD  2019-07-01  2019-11-01 00:00:00  Month-to-month   \n",
       "7042  3186-AJIEK  2014-08-01                   No        Two year   \n",
       "\n",
       "     PaperlessBilling              PaymentMethod  MonthlyCharges TotalCharges  \n",
       "0                 Yes           Electronic check           29.85        29.85  \n",
       "1                  No               Mailed check           56.95       1889.5  \n",
       "2                 Yes               Mailed check           53.85       108.15  \n",
       "3                  No  Bank transfer (automatic)           42.30      1840.75  \n",
       "4                 Yes           Electronic check           70.70       151.65  \n",
       "...               ...                        ...             ...          ...  \n",
       "7038              Yes               Mailed check           84.80       1990.5  \n",
       "7039              Yes    Credit card (automatic)          103.20       7362.9  \n",
       "7040              Yes           Electronic check           29.60       346.45  \n",
       "7041              Yes               Mailed check           74.40        306.6  \n",
       "7042              Yes  Bank transfer (automatic)          105.65       6844.5  \n",
       "\n",
       "[7043 rows x 8 columns]"
      ]
     },
     "metadata": {},
     "output_type": "display_data"
    }
   ],
   "source": [
    "contract.info()\n",
    "display(contract)"
   ]
  },
  {
   "cell_type": "markdown",
   "metadata": {},
   "source": [
    "Из первичной информации можно сделать следующие выводы:\n",
    "1. Тип данных некоторых столбцов не соответствует ожидаемым (например, у столбца BeginDate тип данных \"object\", хотя должен быть datetime; столбцы MonthlyCharges и TotalCharges должны быть типа float). Также, вызывает вопросы столбец EndDate, где сочетаются категориальные данные и временные. Возможен перевод временных данных в категориальную и, как следствие, перевод столбца в бинарную переменную с типом данных int, где 0 - действующий клиент, 1 - клиент ушел.\n",
    "2. Пропусков не замечено"
   ]
  },
  {
   "cell_type": "code",
   "execution_count": 4,
   "metadata": {},
   "outputs": [
    {
     "name": "stdout",
     "output_type": "stream",
     "text": [
      "<class 'pandas.core.frame.DataFrame'>\n",
      "RangeIndex: 7043 entries, 0 to 7042\n",
      "Data columns (total 8 columns):\n",
      "customerID          7043 non-null object\n",
      "BeginDate           7043 non-null datetime64[ns]\n",
      "EndDate             7043 non-null object\n",
      "Type                7043 non-null object\n",
      "PaperlessBilling    7043 non-null object\n",
      "PaymentMethod       7043 non-null object\n",
      "MonthlyCharges      7043 non-null float64\n",
      "TotalCharges        7032 non-null float64\n",
      "dtypes: datetime64[ns](1), float64(2), object(5)\n",
      "memory usage: 440.3+ KB\n"
     ]
    }
   ],
   "source": [
    "contract['BeginDate'] = pd.to_datetime(contract['BeginDate'], format = '%Y-%m-%d')\n",
    "#столбец BeginDate перевед в тип данных datetime64\n",
    "\n",
    "contract['MonthlyCharges'] = pd.to_numeric(contract['MonthlyCharges'], errors = 'coerce')\n",
    "contract['TotalCharges'] = pd.to_numeric(contract['TotalCharges'], errors = 'coerce')\n",
    "\n",
    "contract.info()"
   ]
  },
  {
   "cell_type": "markdown",
   "metadata": {},
   "source": [
    "После изменения типа данных появились пропуски в TotalCharges"
   ]
  },
  {
   "cell_type": "code",
   "execution_count": 5,
   "metadata": {},
   "outputs": [
    {
     "data": {
      "text/html": [
       "<div>\n",
       "<style scoped>\n",
       "    .dataframe tbody tr th:only-of-type {\n",
       "        vertical-align: middle;\n",
       "    }\n",
       "\n",
       "    .dataframe tbody tr th {\n",
       "        vertical-align: top;\n",
       "    }\n",
       "\n",
       "    .dataframe thead th {\n",
       "        text-align: right;\n",
       "    }\n",
       "</style>\n",
       "<table border=\"1\" class=\"dataframe\">\n",
       "  <thead>\n",
       "    <tr style=\"text-align: right;\">\n",
       "      <th></th>\n",
       "      <th>customerID</th>\n",
       "      <th>BeginDate</th>\n",
       "      <th>EndDate</th>\n",
       "      <th>Type</th>\n",
       "      <th>PaperlessBilling</th>\n",
       "      <th>PaymentMethod</th>\n",
       "      <th>MonthlyCharges</th>\n",
       "      <th>TotalCharges</th>\n",
       "    </tr>\n",
       "  </thead>\n",
       "  <tbody>\n",
       "    <tr>\n",
       "      <td>488</td>\n",
       "      <td>4472-LVYGI</td>\n",
       "      <td>2020-02-01</td>\n",
       "      <td>No</td>\n",
       "      <td>Two year</td>\n",
       "      <td>Yes</td>\n",
       "      <td>Bank transfer (automatic)</td>\n",
       "      <td>52.55</td>\n",
       "      <td>NaN</td>\n",
       "    </tr>\n",
       "    <tr>\n",
       "      <td>753</td>\n",
       "      <td>3115-CZMZD</td>\n",
       "      <td>2020-02-01</td>\n",
       "      <td>No</td>\n",
       "      <td>Two year</td>\n",
       "      <td>No</td>\n",
       "      <td>Mailed check</td>\n",
       "      <td>20.25</td>\n",
       "      <td>NaN</td>\n",
       "    </tr>\n",
       "    <tr>\n",
       "      <td>936</td>\n",
       "      <td>5709-LVOEQ</td>\n",
       "      <td>2020-02-01</td>\n",
       "      <td>No</td>\n",
       "      <td>Two year</td>\n",
       "      <td>No</td>\n",
       "      <td>Mailed check</td>\n",
       "      <td>80.85</td>\n",
       "      <td>NaN</td>\n",
       "    </tr>\n",
       "    <tr>\n",
       "      <td>1082</td>\n",
       "      <td>4367-NUYAO</td>\n",
       "      <td>2020-02-01</td>\n",
       "      <td>No</td>\n",
       "      <td>Two year</td>\n",
       "      <td>No</td>\n",
       "      <td>Mailed check</td>\n",
       "      <td>25.75</td>\n",
       "      <td>NaN</td>\n",
       "    </tr>\n",
       "    <tr>\n",
       "      <td>1340</td>\n",
       "      <td>1371-DWPAZ</td>\n",
       "      <td>2020-02-01</td>\n",
       "      <td>No</td>\n",
       "      <td>Two year</td>\n",
       "      <td>No</td>\n",
       "      <td>Credit card (automatic)</td>\n",
       "      <td>56.05</td>\n",
       "      <td>NaN</td>\n",
       "    </tr>\n",
       "    <tr>\n",
       "      <td>3331</td>\n",
       "      <td>7644-OMVMY</td>\n",
       "      <td>2020-02-01</td>\n",
       "      <td>No</td>\n",
       "      <td>Two year</td>\n",
       "      <td>No</td>\n",
       "      <td>Mailed check</td>\n",
       "      <td>19.85</td>\n",
       "      <td>NaN</td>\n",
       "    </tr>\n",
       "    <tr>\n",
       "      <td>3826</td>\n",
       "      <td>3213-VVOLG</td>\n",
       "      <td>2020-02-01</td>\n",
       "      <td>No</td>\n",
       "      <td>Two year</td>\n",
       "      <td>No</td>\n",
       "      <td>Mailed check</td>\n",
       "      <td>25.35</td>\n",
       "      <td>NaN</td>\n",
       "    </tr>\n",
       "    <tr>\n",
       "      <td>4380</td>\n",
       "      <td>2520-SGTTA</td>\n",
       "      <td>2020-02-01</td>\n",
       "      <td>No</td>\n",
       "      <td>Two year</td>\n",
       "      <td>No</td>\n",
       "      <td>Mailed check</td>\n",
       "      <td>20.00</td>\n",
       "      <td>NaN</td>\n",
       "    </tr>\n",
       "    <tr>\n",
       "      <td>5218</td>\n",
       "      <td>2923-ARZLG</td>\n",
       "      <td>2020-02-01</td>\n",
       "      <td>No</td>\n",
       "      <td>One year</td>\n",
       "      <td>Yes</td>\n",
       "      <td>Mailed check</td>\n",
       "      <td>19.70</td>\n",
       "      <td>NaN</td>\n",
       "    </tr>\n",
       "    <tr>\n",
       "      <td>6670</td>\n",
       "      <td>4075-WKNIU</td>\n",
       "      <td>2020-02-01</td>\n",
       "      <td>No</td>\n",
       "      <td>Two year</td>\n",
       "      <td>No</td>\n",
       "      <td>Mailed check</td>\n",
       "      <td>73.35</td>\n",
       "      <td>NaN</td>\n",
       "    </tr>\n",
       "    <tr>\n",
       "      <td>6754</td>\n",
       "      <td>2775-SEFEE</td>\n",
       "      <td>2020-02-01</td>\n",
       "      <td>No</td>\n",
       "      <td>Two year</td>\n",
       "      <td>Yes</td>\n",
       "      <td>Bank transfer (automatic)</td>\n",
       "      <td>61.90</td>\n",
       "      <td>NaN</td>\n",
       "    </tr>\n",
       "  </tbody>\n",
       "</table>\n",
       "</div>"
      ],
      "text/plain": [
       "      customerID  BeginDate EndDate      Type PaperlessBilling  \\\n",
       "488   4472-LVYGI 2020-02-01      No  Two year              Yes   \n",
       "753   3115-CZMZD 2020-02-01      No  Two year               No   \n",
       "936   5709-LVOEQ 2020-02-01      No  Two year               No   \n",
       "1082  4367-NUYAO 2020-02-01      No  Two year               No   \n",
       "1340  1371-DWPAZ 2020-02-01      No  Two year               No   \n",
       "3331  7644-OMVMY 2020-02-01      No  Two year               No   \n",
       "3826  3213-VVOLG 2020-02-01      No  Two year               No   \n",
       "4380  2520-SGTTA 2020-02-01      No  Two year               No   \n",
       "5218  2923-ARZLG 2020-02-01      No  One year              Yes   \n",
       "6670  4075-WKNIU 2020-02-01      No  Two year               No   \n",
       "6754  2775-SEFEE 2020-02-01      No  Two year              Yes   \n",
       "\n",
       "                  PaymentMethod  MonthlyCharges  TotalCharges  \n",
       "488   Bank transfer (automatic)           52.55           NaN  \n",
       "753                Mailed check           20.25           NaN  \n",
       "936                Mailed check           80.85           NaN  \n",
       "1082               Mailed check           25.75           NaN  \n",
       "1340    Credit card (automatic)           56.05           NaN  \n",
       "3331               Mailed check           19.85           NaN  \n",
       "3826               Mailed check           25.35           NaN  \n",
       "4380               Mailed check           20.00           NaN  \n",
       "5218               Mailed check           19.70           NaN  \n",
       "6670               Mailed check           73.35           NaN  \n",
       "6754  Bank transfer (automatic)           61.90           NaN  "
      ]
     },
     "execution_count": 5,
     "metadata": {},
     "output_type": "execute_result"
    }
   ],
   "source": [
    "contract[contract['TotalCharges'].isna()]"
   ]
  },
  {
   "cell_type": "code",
   "execution_count": 6,
   "metadata": {},
   "outputs": [],
   "source": [
    "contract.loc[contract['TotalCharges'].isna(), 'TotalCharges'] = contract[contract['TotalCharges'].isna()]['MonthlyCharges']"
   ]
  },
  {
   "cell_type": "markdown",
   "metadata": {},
   "source": [
    "Все клиенты, у кого присутствуют пропуски в столбце TotalCharges стали пользоваться услугами данной телеком компании в одно и то же время 2020-02-01. Можно предположить, что поскольку датой выгрузки как раз и является 1 февраля 2020 года, то информация о данных клиентах просто не успела обработаться. Поскольу договор уже заключен и оплата за первый месяц была совершена, то можно предположить, что общий доход с каждого клиента равен его месячному платежу."
   ]
  },
  {
   "cell_type": "code",
   "execution_count": 7,
   "metadata": {},
   "outputs": [
    {
     "data": {
      "image/png": "[encoded data removed]",
      "text/plain": [
       "<Figure size 720x504 with 1 Axes>"
      ]
     },
     "metadata": {
      "needs_background": "light"
     },
     "output_type": "display_data"
    }
   ],
   "source": [
    "contract['MonthlyCharges'].hist(bins = 150, figsize = (10, 7))\n",
    "plt.title('Гистограмма размера ежемесячных платежей')\n",
    "plt.show()"
   ]
  },
  {
   "cell_type": "code",
   "execution_count": 8,
   "metadata": {
    "scrolled": true
   },
   "outputs": [
    {
     "data": {
      "text/plain": [
       "20.05    61\n",
       "19.85    45\n",
       "19.95    44\n",
       "19.90    44\n",
       "20.00    43\n",
       "19.70    43\n",
       "19.65    43\n",
       "19.55    40\n",
       "20.15    40\n",
       "19.75    39\n",
       "20.25    39\n",
       "20.35    38\n",
       "19.80    38\n",
       "19.60    37\n",
       "20.10    37\n",
       "20.20    35\n",
       "19.50    32\n",
       "19.40    31\n",
       "20.45    31\n",
       "20.40    30\n",
       "19.45    28\n",
       "20.50    28\n",
       "20.30    28\n",
       "20.55    27\n",
       "19.35    25\n",
       "19.30    24\n",
       "20.65    23\n",
       "25.25    20\n",
       "25.10    19\n",
       "19.25    18\n",
       "25.00    17\n",
       "19.20    17\n",
       "20.75    17\n",
       "84.80    17\n",
       "74.40    16\n",
       "81.00    15\n",
       "20.85    15\n",
       "24.45    15\n",
       "24.80    15\n",
       "20.60    15\n",
       "79.85    14\n",
       "70.15    14\n",
       "80.45    14\n",
       "79.20    14\n",
       "25.05    14\n",
       "25.15    14\n",
       "89.85    13\n",
       "20.70    13\n",
       "80.85    13\n",
       "95.00    13\n",
       "Name: MonthlyCharges, dtype: int64"
      ]
     },
     "execution_count": 8,
     "metadata": {},
     "output_type": "execute_result"
    }
   ],
   "source": [
    "contract['MonthlyCharges'].value_counts().head(50)"
   ]
  },
  {
   "cell_type": "markdown",
   "metadata": {},
   "source": [
    "При изучении гистограммы размера ежемесячных платежей можно заметить следующее:\n",
    "1. Наиболее распространенный ежемесячный платже составляет приблизительно 20 у.е.\n",
    "2. Заметны явные пики на кадом \"круглой цифре\". 20, 25, 30, 35, 40 и т.д. При этом в окрестностях каждого такого \"круглого\" размеры платежей распределены нормально. Можно сказать, что мы имеем множество нормальных распределений на каждом числе, которое заканчивается на 5 или 0."
   ]
  },
  {
   "cell_type": "code",
   "execution_count": 9,
   "metadata": {},
   "outputs": [
    {
     "data": {
      "image/png": "[encoded data removed]",
      "text/plain": [
       "<Figure size 720x504 with 1 Axes>"
      ]
     },
     "metadata": {
      "needs_background": "light"
     },
     "output_type": "display_data"
    }
   ],
   "source": [
    "contract['TotalCharges'].hist(bins = 150, figsize = (10, 7))\n",
    "plt.title('Гистограмма общей суммы платежа')\n",
    "plt.show()"
   ]
  },
  {
   "cell_type": "markdown",
   "metadata": {},
   "source": [
    "Большая часть клиентов имеют суммарный платеж не более 100 у.е. Причиной такого может быть большое количество новых клиентов, например. Исследуем далее время прихода клиентов для дачи более точной причины."
   ]
  },
  {
   "cell_type": "code",
   "execution_count": 10,
   "metadata": {},
   "outputs": [
    {
     "data": {
      "image/png": "[encoded data removed]",
      "text/plain": [
       "<Figure size 720x504 with 1 Axes>"
      ]
     },
     "metadata": {
      "needs_background": "light"
     },
     "output_type": "display_data"
    }
   ],
   "source": [
    "contract['BeginDate'].hist(bins = 100, figsize = (10, 7))\n",
    "plt.title('Гистограмма прихода новых клиентов')\n",
    "plt.show()"
   ]
  },
  {
   "cell_type": "markdown",
   "metadata": {},
   "source": [
    "Исходя из гистограммы времени прихода клиентов в компанию, можем заметить, что:\n",
    "1. Был огромный всплеск в 2014, но это может быть похоже на то, что компания только открылась, например.\n",
    "2. С 2015 по 2019 было плато\n",
    "3. С 2019 заметен возрастающий тренд. Компания начинает привлекать все больше клиентов.\n",
    "\n",
    "Наше предположение о том, что большая часть клиентов платит не более 100 у.е. можно считать правдоподобным."
   ]
  },
  {
   "cell_type": "code",
   "execution_count": 11,
   "metadata": {},
   "outputs": [
    {
     "data": {
      "text/plain": [
       "No                     5174\n",
       "2019-11-01 00:00:00     485\n",
       "2019-12-01 00:00:00     466\n",
       "2020-01-01 00:00:00     460\n",
       "2019-10-01 00:00:00     458\n",
       "Name: EndDate, dtype: int64"
      ]
     },
     "execution_count": 11,
     "metadata": {},
     "output_type": "execute_result"
    }
   ],
   "source": [
    "contract['EndDate'].value_counts()"
   ]
  },
  {
   "cell_type": "markdown",
   "metadata": {},
   "source": [
    "В столбце EndDate обнаружено всего 5 уникальных значений. Из того, что имеется можно сделать следующие выводы:\n",
    "1. Компания имеет значительно больше активных клиентов, чем ушедших. 5174 активных против 1869 ушедших.\n",
    "2. Клиенты начали уходить только в последние 4 месяца"
   ]
  },
  {
   "cell_type": "code",
   "execution_count": 12,
   "metadata": {},
   "outputs": [
    {
     "data": {
      "text/plain": [
       "Text(0.5, 1.0, 'Анализ ушедших клиентов. Гистограмма \"старости\" ушедшего клиента.')"
      ]
     },
     "execution_count": 12,
     "metadata": {},
     "output_type": "execute_result"
    },
    {
     "data": {
      "image/png": "[encoded data removed]",
      "text/plain": [
       "<Figure size 720x504 with 1 Axes>"
      ]
     },
     "metadata": {
      "needs_background": "light"
     },
     "output_type": "display_data"
    }
   ],
   "source": [
    "contract[contract['EndDate'] != 'No']['BeginDate'].hist(bins = 100, figsize = (10, 7))\n",
    "plt.title('Анализ ушедших клиентов. Гистограмма \"старости\" ушедшего клиента.')"
   ]
  },
  {
   "cell_type": "markdown",
   "metadata": {},
   "source": [
    "Для компании очень важно понимать портрет тех клиентов, которые уходят. Особенно важно, чтобы те, клиенты, которые с компанией уже давно продолжали оставаться с ней. На этой гистограмме можно посмотреть на распределение клиентов по времени, когда они стали клиентами данной компании. Как видим, больше всего из числа тех, кто перестал быть клиентом, новых клиентов, которые начали пользоваться услугами недавно."
   ]
  },
  {
   "cell_type": "code",
   "execution_count": 13,
   "metadata": {},
   "outputs": [
    {
     "data": {
      "text/plain": [
       "Month-to-month    3875\n",
       "Two year          1695\n",
       "One year          1473\n",
       "Name: Type, dtype: int64"
      ]
     },
     "execution_count": 13,
     "metadata": {},
     "output_type": "execute_result"
    }
   ],
   "source": [
    "contract['Type'].value_counts()"
   ]
  },
  {
   "cell_type": "markdown",
   "metadata": {},
   "source": [
    "У компании присутствует 3 типа договора. Ежемесячный платеж, годовой и двухгодичный контракт. Наиболее распространен помесячный."
   ]
  },
  {
   "cell_type": "code",
   "execution_count": 14,
   "metadata": {},
   "outputs": [
    {
     "data": {
      "text/plain": [
       "Electronic check             2365\n",
       "Mailed check                 1612\n",
       "Bank transfer (automatic)    1544\n",
       "Credit card (automatic)      1522\n",
       "Name: PaymentMethod, dtype: int64"
      ]
     },
     "execution_count": 14,
     "metadata": {},
     "output_type": "execute_result"
    }
   ],
   "source": [
    "contract['PaymentMethod'].value_counts()"
   ]
  },
  {
   "cell_type": "markdown",
   "metadata": {},
   "source": [
    "Компания принимает 4 вида платежа. Наиболее распространен электронный чек. Меньше всего востребована автоматическая оплата кредитной картой."
   ]
  },
  {
   "cell_type": "markdown",
   "metadata": {},
   "source": [
    " "
   ]
  },
  {
   "cell_type": "markdown",
   "metadata": {},
   "source": [
    "Посчитаем, сколько месяцев каждый человек являлся клиентом данной компании. Заодно создадим новый признак для будущей модели."
   ]
  },
  {
   "cell_type": "code",
   "execution_count": 15,
   "metadata": {},
   "outputs": [
    {
     "name": "stdout",
     "output_type": "stream",
     "text": [
      "2020-02-01 00:00:00    5174\n",
      "2019-11-01 00:00:00     485\n",
      "2019-12-01 00:00:00     466\n",
      "2020-01-01 00:00:00     460\n",
      "2019-10-01 00:00:00     458\n",
      "Name: New_EndDate, dtype: int64\n"
     ]
    }
   ],
   "source": [
    "contract['New_EndDate'] = contract['EndDate']\n",
    "#Продублируем столбец, чтобы не менять исходные данные\n",
    "\n",
    "contract.loc[contract['New_EndDate'] == 'No', 'New_EndDate'] = pd.to_datetime('2020-02-01', format = '%Y-%m-%d')\n",
    "#заменяем в новом столбце все значения, которые == 'No' на дату выгрузк данных\n",
    "\n",
    "print(contract['New_EndDate'].value_counts()) #проверка\n",
    "\n",
    "contract['New_EndDate'] = pd.to_datetime(contract['New_EndDate'], format = '%Y-%m-%d')\n",
    "#меняем тип данных столбца\n",
    "\n",
    "contract['Days_being_client'] =  ((contract['New_EndDate'] - contract['BeginDate'])/np.timedelta64(1, 'D')).astype('int')\n",
    "#Считаем разницу в днях между датой, когда человек стал клиентом и датой, когда перестал им быть или же датой выгрузки, если он все еще явлется им"
   ]
  },
  {
   "cell_type": "markdown",
   "metadata": {},
   "source": [
    "После того, как получили столбец с количеством месяцев, можно удалить столбец New_EndDate."
   ]
  },
  {
   "cell_type": "code",
   "execution_count": 16,
   "metadata": {},
   "outputs": [],
   "source": [
    "contract = contract.drop('New_EndDate', axis = 1)"
   ]
  },
  {
   "cell_type": "markdown",
   "metadata": {},
   "source": [
    "### Personal"
   ]
  },
  {
   "cell_type": "code",
   "execution_count": 17,
   "metadata": {},
   "outputs": [
    {
     "name": "stdout",
     "output_type": "stream",
     "text": [
      "<class 'pandas.core.frame.DataFrame'>\n",
      "RangeIndex: 7043 entries, 0 to 7042\n",
      "Data columns (total 5 columns):\n",
      "customerID       7043 non-null object\n",
      "gender           7043 non-null object\n",
      "SeniorCitizen    7043 non-null int64\n",
      "Partner          7043 non-null object\n",
      "Dependents       7043 non-null object\n",
      "dtypes: int64(1), object(4)\n",
      "memory usage: 275.2+ KB\n"
     ]
    },
    {
     "data": {
      "text/html": [
       "<div>\n",
       "<style scoped>\n",
       "    .dataframe tbody tr th:only-of-type {\n",
       "        vertical-align: middle;\n",
       "    }\n",
       "\n",
       "    .dataframe tbody tr th {\n",
       "        vertical-align: top;\n",
       "    }\n",
       "\n",
       "    .dataframe thead th {\n",
       "        text-align: right;\n",
       "    }\n",
       "</style>\n",
       "<table border=\"1\" class=\"dataframe\">\n",
       "  <thead>\n",
       "    <tr style=\"text-align: right;\">\n",
       "      <th></th>\n",
       "      <th>customerID</th>\n",
       "      <th>gender</th>\n",
       "      <th>SeniorCitizen</th>\n",
       "      <th>Partner</th>\n",
       "      <th>Dependents</th>\n",
       "    </tr>\n",
       "  </thead>\n",
       "  <tbody>\n",
       "    <tr>\n",
       "      <td>0</td>\n",
       "      <td>7590-VHVEG</td>\n",
       "      <td>Female</td>\n",
       "      <td>0</td>\n",
       "      <td>Yes</td>\n",
       "      <td>No</td>\n",
       "    </tr>\n",
       "    <tr>\n",
       "      <td>1</td>\n",
       "      <td>5575-GNVDE</td>\n",
       "      <td>Male</td>\n",
       "      <td>0</td>\n",
       "      <td>No</td>\n",
       "      <td>No</td>\n",
       "    </tr>\n",
       "    <tr>\n",
       "      <td>2</td>\n",
       "      <td>3668-QPYBK</td>\n",
       "      <td>Male</td>\n",
       "      <td>0</td>\n",
       "      <td>No</td>\n",
       "      <td>No</td>\n",
       "    </tr>\n",
       "    <tr>\n",
       "      <td>3</td>\n",
       "      <td>7795-CFOCW</td>\n",
       "      <td>Male</td>\n",
       "      <td>0</td>\n",
       "      <td>No</td>\n",
       "      <td>No</td>\n",
       "    </tr>\n",
       "    <tr>\n",
       "      <td>4</td>\n",
       "      <td>9237-HQITU</td>\n",
       "      <td>Female</td>\n",
       "      <td>0</td>\n",
       "      <td>No</td>\n",
       "      <td>No</td>\n",
       "    </tr>\n",
       "    <tr>\n",
       "      <td>...</td>\n",
       "      <td>...</td>\n",
       "      <td>...</td>\n",
       "      <td>...</td>\n",
       "      <td>...</td>\n",
       "      <td>...</td>\n",
       "    </tr>\n",
       "    <tr>\n",
       "      <td>7038</td>\n",
       "      <td>6840-RESVB</td>\n",
       "      <td>Male</td>\n",
       "      <td>0</td>\n",
       "      <td>Yes</td>\n",
       "      <td>Yes</td>\n",
       "    </tr>\n",
       "    <tr>\n",
       "      <td>7039</td>\n",
       "      <td>2234-XADUH</td>\n",
       "      <td>Female</td>\n",
       "      <td>0</td>\n",
       "      <td>Yes</td>\n",
       "      <td>Yes</td>\n",
       "    </tr>\n",
       "    <tr>\n",
       "      <td>7040</td>\n",
       "      <td>4801-JZAZL</td>\n",
       "      <td>Female</td>\n",
       "      <td>0</td>\n",
       "      <td>Yes</td>\n",
       "      <td>Yes</td>\n",
       "    </tr>\n",
       "    <tr>\n",
       "      <td>7041</td>\n",
       "      <td>8361-LTMKD</td>\n",
       "      <td>Male</td>\n",
       "      <td>1</td>\n",
       "      <td>Yes</td>\n",
       "      <td>No</td>\n",
       "    </tr>\n",
       "    <tr>\n",
       "      <td>7042</td>\n",
       "      <td>3186-AJIEK</td>\n",
       "      <td>Male</td>\n",
       "      <td>0</td>\n",
       "      <td>No</td>\n",
       "      <td>No</td>\n",
       "    </tr>\n",
       "  </tbody>\n",
       "</table>\n",
       "<p>7043 rows × 5 columns</p>\n",
       "</div>"
      ],
      "text/plain": [
       "      customerID  gender  SeniorCitizen Partner Dependents\n",
       "0     7590-VHVEG  Female              0     Yes         No\n",
       "1     5575-GNVDE    Male              0      No         No\n",
       "2     3668-QPYBK    Male              0      No         No\n",
       "3     7795-CFOCW    Male              0      No         No\n",
       "4     9237-HQITU  Female              0      No         No\n",
       "...          ...     ...            ...     ...        ...\n",
       "7038  6840-RESVB    Male              0     Yes        Yes\n",
       "7039  2234-XADUH  Female              0     Yes        Yes\n",
       "7040  4801-JZAZL  Female              0     Yes        Yes\n",
       "7041  8361-LTMKD    Male              1     Yes         No\n",
       "7042  3186-AJIEK    Male              0      No         No\n",
       "\n",
       "[7043 rows x 5 columns]"
      ]
     },
     "execution_count": 17,
     "metadata": {},
     "output_type": "execute_result"
    }
   ],
   "source": [
    "personal.info()\n",
    "personal"
   ]
  },
  {
   "cell_type": "code",
   "execution_count": 18,
   "metadata": {},
   "outputs": [
    {
     "name": "stdout",
     "output_type": "stream",
     "text": [
      "6609-MXJHJ    1\n",
      "9095-HFAFX    1\n",
      "8111-RKSPX    1\n",
      "6890-PFRQX    1\n",
      "7096-ZNBZI    1\n",
      "             ..\n",
      "0030-FNXPP    1\n",
      "2037-SGXHH    1\n",
      "2150-OEGBV    1\n",
      "4825-XJGDM    1\n",
      "3744-ZRRDZ    1\n",
      "Name: customerID, Length: 7043, dtype: int64\n",
      "------------------------------------\n",
      "Male      3555\n",
      "Female    3488\n",
      "Name: gender, dtype: int64\n",
      "------------------------------------\n",
      "0    5901\n",
      "1    1142\n",
      "Name: SeniorCitizen, dtype: int64\n",
      "------------------------------------\n",
      "No     3641\n",
      "Yes    3402\n",
      "Name: Partner, dtype: int64\n",
      "------------------------------------\n",
      "No     4933\n",
      "Yes    2110\n",
      "Name: Dependents, dtype: int64\n",
      "------------------------------------\n"
     ]
    }
   ],
   "source": [
    "for el in personal.columns:\n",
    "    print(personal[el].value_counts())\n",
    "    print('------------------------------------')"
   ]
  },
  {
   "cell_type": "markdown",
   "metadata": {},
   "source": [
    "Количество клиентов мужского пола и женского практически равно. Пенсионеры составляют 1/7 часть всех клиентов. Половина всех клиентов имеют партнера. 2/7 клиентов имеют кого то на иждивении. Аномалий не обнаружено."
   ]
  },
  {
   "cell_type": "code",
   "execution_count": 19,
   "metadata": {},
   "outputs": [],
   "source": [
    "personal_copy = personal.copy()\n",
    "\n",
    "personal_copy.loc[personal['gender'] == 'Male', 'gender'] = 0\n",
    "personal_copy.loc[personal['gender'] == 'Female', 'gender'] = 1\n",
    "\n",
    "personal_copy.loc[personal['Partner'] == 'No', 'Partner'] = 0\n",
    "personal_copy.loc[personal['Partner'] == 'Yes', 'Partner'] = 1\n",
    "\n",
    "personal_copy.loc[personal['Dependents'] == 'No', 'Dependents'] = 0\n",
    "personal_copy.loc[personal['Dependents'] == 'Yes', 'Dependents'] = 1"
   ]
  },
  {
   "cell_type": "code",
   "execution_count": 20,
   "metadata": {},
   "outputs": [
    {
     "name": "stdout",
     "output_type": "stream",
     "text": [
      "0.0018080796617891204\n",
      "0.4526762829294644\n",
      "-0.010516611922734096\n"
     ]
    }
   ],
   "source": [
    "print(personal_copy['Partner'].corr(personal_copy['gender']))\n",
    "print(personal_copy['Partner'].corr(personal_copy['Dependents']))\n",
    "print(personal_copy['gender'].corr(personal_copy['Dependents']))"
   ]
  },
  {
   "cell_type": "markdown",
   "metadata": {},
   "source": [
    "Для оценки корреляции перевели категориальные столбцы в численные. Есть средняя корреляция между наличием у человека партнера и наличием у них кого то на иждивении. Можно предположить, что эти клиенты, например, родители."
   ]
  },
  {
   "cell_type": "markdown",
   "metadata": {},
   "source": [
    "### Internet"
   ]
  },
  {
   "cell_type": "code",
   "execution_count": 21,
   "metadata": {},
   "outputs": [
    {
     "name": "stdout",
     "output_type": "stream",
     "text": [
      "<class 'pandas.core.frame.DataFrame'>\n",
      "RangeIndex: 5517 entries, 0 to 5516\n",
      "Data columns (total 8 columns):\n",
      "customerID          5517 non-null object\n",
      "InternetService     5517 non-null object\n",
      "OnlineSecurity      5517 non-null object\n",
      "OnlineBackup        5517 non-null object\n",
      "DeviceProtection    5517 non-null object\n",
      "TechSupport         5517 non-null object\n",
      "StreamingTV         5517 non-null object\n",
      "StreamingMovies     5517 non-null object\n",
      "dtypes: object(8)\n",
      "memory usage: 344.9+ KB\n"
     ]
    },
    {
     "data": {
      "text/html": [
       "<div>\n",
       "<style scoped>\n",
       "    .dataframe tbody tr th:only-of-type {\n",
       "        vertical-align: middle;\n",
       "    }\n",
       "\n",
       "    .dataframe tbody tr th {\n",
       "        vertical-align: top;\n",
       "    }\n",
       "\n",
       "    .dataframe thead th {\n",
       "        text-align: right;\n",
       "    }\n",
       "</style>\n",
       "<table border=\"1\" class=\"dataframe\">\n",
       "  <thead>\n",
       "    <tr style=\"text-align: right;\">\n",
       "      <th></th>\n",
       "      <th>customerID</th>\n",
       "      <th>InternetService</th>\n",
       "      <th>OnlineSecurity</th>\n",
       "      <th>OnlineBackup</th>\n",
       "      <th>DeviceProtection</th>\n",
       "      <th>TechSupport</th>\n",
       "      <th>StreamingTV</th>\n",
       "      <th>StreamingMovies</th>\n",
       "    </tr>\n",
       "  </thead>\n",
       "  <tbody>\n",
       "    <tr>\n",
       "      <td>0</td>\n",
       "      <td>7590-VHVEG</td>\n",
       "      <td>DSL</td>\n",
       "      <td>No</td>\n",
       "      <td>Yes</td>\n",
       "      <td>No</td>\n",
       "      <td>No</td>\n",
       "      <td>No</td>\n",
       "      <td>No</td>\n",
       "    </tr>\n",
       "    <tr>\n",
       "      <td>1</td>\n",
       "      <td>5575-GNVDE</td>\n",
       "      <td>DSL</td>\n",
       "      <td>Yes</td>\n",
       "      <td>No</td>\n",
       "      <td>Yes</td>\n",
       "      <td>No</td>\n",
       "      <td>No</td>\n",
       "      <td>No</td>\n",
       "    </tr>\n",
       "    <tr>\n",
       "      <td>2</td>\n",
       "      <td>3668-QPYBK</td>\n",
       "      <td>DSL</td>\n",
       "      <td>Yes</td>\n",
       "      <td>Yes</td>\n",
       "      <td>No</td>\n",
       "      <td>No</td>\n",
       "      <td>No</td>\n",
       "      <td>No</td>\n",
       "    </tr>\n",
       "    <tr>\n",
       "      <td>3</td>\n",
       "      <td>7795-CFOCW</td>\n",
       "      <td>DSL</td>\n",
       "      <td>Yes</td>\n",
       "      <td>No</td>\n",
       "      <td>Yes</td>\n",
       "      <td>Yes</td>\n",
       "      <td>No</td>\n",
       "      <td>No</td>\n",
       "    </tr>\n",
       "    <tr>\n",
       "      <td>4</td>\n",
       "      <td>9237-HQITU</td>\n",
       "      <td>Fiber optic</td>\n",
       "      <td>No</td>\n",
       "      <td>No</td>\n",
       "      <td>No</td>\n",
       "      <td>No</td>\n",
       "      <td>No</td>\n",
       "      <td>No</td>\n",
       "    </tr>\n",
       "    <tr>\n",
       "      <td>...</td>\n",
       "      <td>...</td>\n",
       "      <td>...</td>\n",
       "      <td>...</td>\n",
       "      <td>...</td>\n",
       "      <td>...</td>\n",
       "      <td>...</td>\n",
       "      <td>...</td>\n",
       "      <td>...</td>\n",
       "    </tr>\n",
       "    <tr>\n",
       "      <td>5512</td>\n",
       "      <td>6840-RESVB</td>\n",
       "      <td>DSL</td>\n",
       "      <td>Yes</td>\n",
       "      <td>No</td>\n",
       "      <td>Yes</td>\n",
       "      <td>Yes</td>\n",
       "      <td>Yes</td>\n",
       "      <td>Yes</td>\n",
       "    </tr>\n",
       "    <tr>\n",
       "      <td>5513</td>\n",
       "      <td>2234-XADUH</td>\n",
       "      <td>Fiber optic</td>\n",
       "      <td>No</td>\n",
       "      <td>Yes</td>\n",
       "      <td>Yes</td>\n",
       "      <td>No</td>\n",
       "      <td>Yes</td>\n",
       "      <td>Yes</td>\n",
       "    </tr>\n",
       "    <tr>\n",
       "      <td>5514</td>\n",
       "      <td>4801-JZAZL</td>\n",
       "      <td>DSL</td>\n",
       "      <td>Yes</td>\n",
       "      <td>No</td>\n",
       "      <td>No</td>\n",
       "      <td>No</td>\n",
       "      <td>No</td>\n",
       "      <td>No</td>\n",
       "    </tr>\n",
       "    <tr>\n",
       "      <td>5515</td>\n",
       "      <td>8361-LTMKD</td>\n",
       "      <td>Fiber optic</td>\n",
       "      <td>No</td>\n",
       "      <td>No</td>\n",
       "      <td>No</td>\n",
       "      <td>No</td>\n",
       "      <td>No</td>\n",
       "      <td>No</td>\n",
       "    </tr>\n",
       "    <tr>\n",
       "      <td>5516</td>\n",
       "      <td>3186-AJIEK</td>\n",
       "      <td>Fiber optic</td>\n",
       "      <td>Yes</td>\n",
       "      <td>No</td>\n",
       "      <td>Yes</td>\n",
       "      <td>Yes</td>\n",
       "      <td>Yes</td>\n",
       "      <td>Yes</td>\n",
       "    </tr>\n",
       "  </tbody>\n",
       "</table>\n",
       "<p>5517 rows × 8 columns</p>\n",
       "</div>"
      ],
      "text/plain": [
       "      customerID InternetService OnlineSecurity OnlineBackup DeviceProtection  \\\n",
       "0     7590-VHVEG             DSL             No          Yes               No   \n",
       "1     5575-GNVDE             DSL            Yes           No              Yes   \n",
       "2     3668-QPYBK             DSL            Yes          Yes               No   \n",
       "3     7795-CFOCW             DSL            Yes           No              Yes   \n",
       "4     9237-HQITU     Fiber optic             No           No               No   \n",
       "...          ...             ...            ...          ...              ...   \n",
       "5512  6840-RESVB             DSL            Yes           No              Yes   \n",
       "5513  2234-XADUH     Fiber optic             No          Yes              Yes   \n",
       "5514  4801-JZAZL             DSL            Yes           No               No   \n",
       "5515  8361-LTMKD     Fiber optic             No           No               No   \n",
       "5516  3186-AJIEK     Fiber optic            Yes           No              Yes   \n",
       "\n",
       "     TechSupport StreamingTV StreamingMovies  \n",
       "0             No          No              No  \n",
       "1             No          No              No  \n",
       "2             No          No              No  \n",
       "3            Yes          No              No  \n",
       "4             No          No              No  \n",
       "...          ...         ...             ...  \n",
       "5512         Yes         Yes             Yes  \n",
       "5513          No         Yes             Yes  \n",
       "5514          No          No              No  \n",
       "5515          No          No              No  \n",
       "5516         Yes         Yes             Yes  \n",
       "\n",
       "[5517 rows x 8 columns]"
      ]
     },
     "execution_count": 21,
     "metadata": {},
     "output_type": "execute_result"
    }
   ],
   "source": [
    "internet.info()\n",
    "internet"
   ]
  },
  {
   "cell_type": "code",
   "execution_count": 22,
   "metadata": {},
   "outputs": [
    {
     "name": "stdout",
     "output_type": "stream",
     "text": [
      "0237-YFUTL    1\n",
      "2219-MVUSO    1\n",
      "7421-ZLUPA    1\n",
      "3508-VLHCZ    1\n",
      "7576-ASEJU    1\n",
      "             ..\n",
      "4981-FLTMF    1\n",
      "1623-NLDOT    1\n",
      "3914-FDRHP    1\n",
      "2162-FRZAA    1\n",
      "7493-TPUWZ    1\n",
      "Name: customerID, Length: 5517, dtype: int64\n",
      "------------------------------------\n",
      "Fiber optic    3096\n",
      "DSL            2421\n",
      "Name: InternetService, dtype: int64\n",
      "------------------------------------\n",
      "No     3498\n",
      "Yes    2019\n",
      "Name: OnlineSecurity, dtype: int64\n",
      "------------------------------------\n",
      "No     3088\n",
      "Yes    2429\n",
      "Name: OnlineBackup, dtype: int64\n",
      "------------------------------------\n",
      "No     3095\n",
      "Yes    2422\n",
      "Name: DeviceProtection, dtype: int64\n",
      "------------------------------------\n",
      "No     3473\n",
      "Yes    2044\n",
      "Name: TechSupport, dtype: int64\n",
      "------------------------------------\n",
      "No     2810\n",
      "Yes    2707\n",
      "Name: StreamingTV, dtype: int64\n",
      "------------------------------------\n",
      "No     2785\n",
      "Yes    2732\n",
      "Name: StreamingMovies, dtype: int64\n",
      "------------------------------------\n"
     ]
    }
   ],
   "source": [
    "for el in internet.columns:\n",
    "    print(internet[el].value_counts())\n",
    "    print('------------------------------------')"
   ]
  },
  {
   "cell_type": "markdown",
   "metadata": {},
   "source": [
    "Большинство клиентов имеют оптоволоконное подключение (3096 из 5517). Посмотрим, отличаются ли подключенные сервисы в зависимости от типа интернета (оптоволокно или DSL)."
   ]
  },
  {
   "cell_type": "code",
   "execution_count": 23,
   "metadata": {
    "scrolled": true
   },
   "outputs": [
    {
     "name": "stdout",
     "output_type": "stream",
     "text": [
      "9773-PEQBZ    1\n",
      "3923-CSIHK    1\n",
      "6481-ESCNL    1\n",
      "7663-CUXZB    1\n",
      "3902-FOIGH    1\n",
      "             ..\n",
      "0575-CUQOV    1\n",
      "9909-DFRJA    1\n",
      "0691-NIKRI    1\n",
      "4636-QRJKY    1\n",
      "5419-KLXBN    1\n",
      "Name: customerID, Length: 3096, dtype: int64\n",
      "------------------------------------\n",
      "Fiber optic    3096\n",
      "Name: InternetService, dtype: int64\n",
      "------------------------------------\n",
      "No     2257\n",
      "Yes     839\n",
      "Name: OnlineSecurity, dtype: int64\n",
      "------------------------------------\n",
      "No     1753\n",
      "Yes    1343\n",
      "Name: OnlineBackup, dtype: int64\n",
      "------------------------------------\n",
      "No     1739\n",
      "Yes    1357\n",
      "Name: DeviceProtection, dtype: int64\n",
      "------------------------------------\n",
      "No     2230\n",
      "Yes     866\n",
      "Name: TechSupport, dtype: int64\n",
      "------------------------------------\n",
      "Yes    1750\n",
      "No     1346\n",
      "Name: StreamingTV, dtype: int64\n",
      "------------------------------------\n",
      "Yes    1751\n",
      "No     1345\n",
      "Name: StreamingMovies, dtype: int64\n",
      "------------------------------------\n"
     ]
    }
   ],
   "source": [
    "for el in internet[internet['InternetService'] == 'Fiber optic'].columns:\n",
    "    print(internet[internet['InternetService'] == 'Fiber optic'][el].value_counts())\n",
    "    print('------------------------------------')\n"
   ]
  },
  {
   "cell_type": "code",
   "execution_count": 24,
   "metadata": {
    "scrolled": true
   },
   "outputs": [
    {
     "name": "stdout",
     "output_type": "stream",
     "text": [
      "9103-TCIHJ    1\n",
      "7794-JASDG    1\n",
      "4981-FLTMF    1\n",
      "6791-YBNAK    1\n",
      "9074-KGVOX    1\n",
      "             ..\n",
      "0343-QLUZP    1\n",
      "2486-WYVVE    1\n",
      "5148-ORICT    1\n",
      "4075-WKNIU    1\n",
      "6338-AVWCY    1\n",
      "Name: customerID, Length: 2421, dtype: int64\n",
      "------------------------------------\n",
      "DSL    2421\n",
      "Name: InternetService, dtype: int64\n",
      "------------------------------------\n",
      "No     1241\n",
      "Yes    1180\n",
      "Name: OnlineSecurity, dtype: int64\n",
      "------------------------------------\n",
      "No     1335\n",
      "Yes    1086\n",
      "Name: OnlineBackup, dtype: int64\n",
      "------------------------------------\n",
      "No     1356\n",
      "Yes    1065\n",
      "Name: DeviceProtection, dtype: int64\n",
      "------------------------------------\n",
      "No     1243\n",
      "Yes    1178\n",
      "Name: TechSupport, dtype: int64\n",
      "------------------------------------\n",
      "No     1464\n",
      "Yes     957\n",
      "Name: StreamingTV, dtype: int64\n",
      "------------------------------------\n",
      "No     1440\n",
      "Yes     981\n",
      "Name: StreamingMovies, dtype: int64\n",
      "------------------------------------\n"
     ]
    }
   ],
   "source": [
    "for el in internet[internet['InternetService'] == 'DSL'].columns:\n",
    "    print(internet[internet['InternetService'] == 'DSL'][el].value_counts())\n",
    "    print('------------------------------------')"
   ]
  },
  {
   "cell_type": "markdown",
   "metadata": {},
   "source": [
    "Можно сделать следующие выводы:\n",
    "1. OnlineSecurity. Процент пользователей функцией OnlineSecurity (48.7%) среди пользователей с DSL значительно выше, чем пользователей с оптоволокном (27%).\n",
    "2. OnlineBackup. Данной функцией пользуются одинаково.\n",
    "3. DeviceProtection. Данной функцией пользуются одинаково.\n",
    "4. TechSupport. Данной функцией чаще пользуются пользователи с DSL (присутствует у 48.6% клиентов с DSL, у всего у 27.9% клиентов с оптоволокном). \n",
    "5. StreamingTV. Пользователи с DSL: 39.5%. Пользователи с оптоволокном: 56.5%.\n",
    "6. StreamingMovies. Пользователи с DSL: 40.5%. Пользователи с оптоволокном: 56.5%.\n",
    "\n",
    "Большинство различий можно связать с особенностями каждого типа подключения. Оптоволокно - более современный тип подключения с более высокими скоростями. Поэтому не удивительно видеть более высокие проценты подписок на стриминговые сервисы по сравнению с пользователя DSL."
   ]
  },
  {
   "cell_type": "markdown",
   "metadata": {},
   "source": [
    "### Phone"
   ]
  },
  {
   "cell_type": "code",
   "execution_count": 25,
   "metadata": {
    "scrolled": true
   },
   "outputs": [
    {
     "name": "stdout",
     "output_type": "stream",
     "text": [
      "<class 'pandas.core.frame.DataFrame'>\n",
      "RangeIndex: 6361 entries, 0 to 6360\n",
      "Data columns (total 2 columns):\n",
      "customerID       6361 non-null object\n",
      "MultipleLines    6361 non-null object\n",
      "dtypes: object(2)\n",
      "memory usage: 99.5+ KB\n"
     ]
    },
    {
     "data": {
      "text/html": [
       "<div>\n",
       "<style scoped>\n",
       "    .dataframe tbody tr th:only-of-type {\n",
       "        vertical-align: middle;\n",
       "    }\n",
       "\n",
       "    .dataframe tbody tr th {\n",
       "        vertical-align: top;\n",
       "    }\n",
       "\n",
       "    .dataframe thead th {\n",
       "        text-align: right;\n",
       "    }\n",
       "</style>\n",
       "<table border=\"1\" class=\"dataframe\">\n",
       "  <thead>\n",
       "    <tr style=\"text-align: right;\">\n",
       "      <th></th>\n",
       "      <th>customerID</th>\n",
       "      <th>MultipleLines</th>\n",
       "    </tr>\n",
       "  </thead>\n",
       "  <tbody>\n",
       "    <tr>\n",
       "      <td>0</td>\n",
       "      <td>5575-GNVDE</td>\n",
       "      <td>No</td>\n",
       "    </tr>\n",
       "    <tr>\n",
       "      <td>1</td>\n",
       "      <td>3668-QPYBK</td>\n",
       "      <td>No</td>\n",
       "    </tr>\n",
       "    <tr>\n",
       "      <td>2</td>\n",
       "      <td>9237-HQITU</td>\n",
       "      <td>No</td>\n",
       "    </tr>\n",
       "    <tr>\n",
       "      <td>3</td>\n",
       "      <td>9305-CDSKC</td>\n",
       "      <td>Yes</td>\n",
       "    </tr>\n",
       "    <tr>\n",
       "      <td>4</td>\n",
       "      <td>1452-KIOVK</td>\n",
       "      <td>Yes</td>\n",
       "    </tr>\n",
       "    <tr>\n",
       "      <td>...</td>\n",
       "      <td>...</td>\n",
       "      <td>...</td>\n",
       "    </tr>\n",
       "    <tr>\n",
       "      <td>6356</td>\n",
       "      <td>2569-WGERO</td>\n",
       "      <td>No</td>\n",
       "    </tr>\n",
       "    <tr>\n",
       "      <td>6357</td>\n",
       "      <td>6840-RESVB</td>\n",
       "      <td>Yes</td>\n",
       "    </tr>\n",
       "    <tr>\n",
       "      <td>6358</td>\n",
       "      <td>2234-XADUH</td>\n",
       "      <td>Yes</td>\n",
       "    </tr>\n",
       "    <tr>\n",
       "      <td>6359</td>\n",
       "      <td>8361-LTMKD</td>\n",
       "      <td>Yes</td>\n",
       "    </tr>\n",
       "    <tr>\n",
       "      <td>6360</td>\n",
       "      <td>3186-AJIEK</td>\n",
       "      <td>No</td>\n",
       "    </tr>\n",
       "  </tbody>\n",
       "</table>\n",
       "<p>6361 rows × 2 columns</p>\n",
       "</div>"
      ],
      "text/plain": [
       "      customerID MultipleLines\n",
       "0     5575-GNVDE            No\n",
       "1     3668-QPYBK            No\n",
       "2     9237-HQITU            No\n",
       "3     9305-CDSKC           Yes\n",
       "4     1452-KIOVK           Yes\n",
       "...          ...           ...\n",
       "6356  2569-WGERO            No\n",
       "6357  6840-RESVB           Yes\n",
       "6358  2234-XADUH           Yes\n",
       "6359  8361-LTMKD           Yes\n",
       "6360  3186-AJIEK            No\n",
       "\n",
       "[6361 rows x 2 columns]"
      ]
     },
     "execution_count": 25,
     "metadata": {},
     "output_type": "execute_result"
    }
   ],
   "source": [
    "phone.info()\n",
    "phone"
   ]
  },
  {
   "cell_type": "markdown",
   "metadata": {},
   "source": [
    "Аномалий не обнурежно. Типа данных столбцов соответствуют их содержанию."
   ]
  },
  {
   "cell_type": "code",
   "execution_count": 26,
   "metadata": {},
   "outputs": [
    {
     "data": {
      "text/plain": [
       "No     3390\n",
       "Yes    2971\n",
       "Name: MultipleLines, dtype: int64"
      ]
     },
     "execution_count": 26,
     "metadata": {},
     "output_type": "execute_result"
    }
   ],
   "source": [
    "phone['MultipleLines'].value_counts()"
   ]
  },
  {
   "cell_type": "markdown",
   "metadata": {},
   "source": [
    "46.7% клиентов имеют возможность ведения параллельных линий во время звонка."
   ]
  },
  {
   "cell_type": "markdown",
   "metadata": {},
   "source": [
    "## Вывод исследовательского анализа данных"
   ]
  },
  {
   "cell_type": "code",
   "execution_count": 27,
   "metadata": {},
   "outputs": [
    {
     "data": {
      "text/plain": [
       "(7043, 7043, 5517, 6361)"
      ]
     },
     "execution_count": 27,
     "metadata": {},
     "output_type": "execute_result"
    }
   ],
   "source": [
    "len(contract), len(personal), len(internet), len(phone)"
   ]
  },
  {
   "cell_type": "markdown",
   "metadata": {},
   "source": [
    "Был проанлизирован и изучен каждый документ. На основе данного анализа можно сделать следующие выводы:\n",
    "1. В таблицах присутствует большое количество разнообразных типов данных. Для дальнейшего построения модели машинного обучение будет необходимо применять кодирование.\n",
    "2. Присутствует значимый дисбаланс в классах в предсказуемой переменной ```contract['EndDate']```. Поэтому, возможно будет актуально применять инструменты для балансировки (upsampling / downsampling).\n",
    "3. Был создан один дополнительный признак.\n",
    "4. Количество строк в таблицах различается. Что говорит о том, что каким то клиентам оказывается не весь пакет услуг, а что то одно (либо интернет, либо телефония)."
   ]
  },
  {
   "cell_type": "markdown",
   "metadata": {},
   "source": [
    "## Подготовка данных для обучения модели"
   ]
  },
  {
   "cell_type": "markdown",
   "metadata": {},
   "source": [
    "Попробуем объединить все таблицы, провести кодировку категориальных переменных и обучить модель. Перед объединением добавим бинарные переменные(1;0) в таблицы internet и phone, которые будут выделять тех клиентов, которые пользуется этими сервисами."
   ]
  },
  {
   "cell_type": "code",
   "execution_count": 28,
   "metadata": {},
   "outputs": [],
   "source": [
    "internet['internet_client'] = 'Yes'\n",
    "phone['phone_client'] = 'Yes'"
   ]
  },
  {
   "cell_type": "markdown",
   "metadata": {},
   "source": [
    "Далее объединим все таблицы в одну."
   ]
  },
  {
   "cell_type": "code",
   "execution_count": 29,
   "metadata": {},
   "outputs": [],
   "source": [
    "contract_personal = contract.merge(personal, on = 'customerID')\n",
    "contract_personal_internet = contract_personal.merge(internet, on = 'customerID', how = 'outer')\n",
    "full_data = contract_personal_internet.merge(phone, on = 'customerID', how = 'outer')"
   ]
  },
  {
   "cell_type": "code",
   "execution_count": 30,
   "metadata": {},
   "outputs": [
    {
     "data": {
      "text/plain": [
       "customerID              0\n",
       "BeginDate               0\n",
       "EndDate                 0\n",
       "Type                    0\n",
       "PaperlessBilling        0\n",
       "PaymentMethod           0\n",
       "MonthlyCharges          0\n",
       "TotalCharges            0\n",
       "Days_being_client       0\n",
       "gender                  0\n",
       "SeniorCitizen           0\n",
       "Partner                 0\n",
       "Dependents              0\n",
       "InternetService      1526\n",
       "OnlineSecurity       1526\n",
       "OnlineBackup         1526\n",
       "DeviceProtection     1526\n",
       "TechSupport          1526\n",
       "StreamingTV          1526\n",
       "StreamingMovies      1526\n",
       "internet_client      1526\n",
       "MultipleLines         682\n",
       "phone_client          682\n",
       "dtype: int64"
      ]
     },
     "execution_count": 30,
     "metadata": {},
     "output_type": "execute_result"
    }
   ],
   "source": [
    "full_data.isna().sum()"
   ]
  },
  {
   "cell_type": "markdown",
   "metadata": {},
   "source": [
    "Поскольку таблицы internet и phone имеют разные длины по сравнению с таблицей contract, где содержаться все клиенты, то таблицы internet и phone были присоединины методом outer. Соответственно, у тех клиентов, которые не пользовались интернетом или телефонией данной компании появились пропуски."
   ]
  },
  {
   "cell_type": "code",
   "execution_count": 31,
   "metadata": {},
   "outputs": [
    {
     "data": {
      "text/plain": [
       "customerID           0\n",
       "BeginDate            0\n",
       "EndDate              0\n",
       "Type                 0\n",
       "PaperlessBilling     0\n",
       "PaymentMethod        0\n",
       "MonthlyCharges       0\n",
       "TotalCharges         0\n",
       "Days_being_client    0\n",
       "gender               0\n",
       "SeniorCitizen        0\n",
       "Partner              0\n",
       "Dependents           0\n",
       "InternetService      0\n",
       "OnlineSecurity       0\n",
       "OnlineBackup         0\n",
       "DeviceProtection     0\n",
       "TechSupport          0\n",
       "StreamingTV          0\n",
       "StreamingMovies      0\n",
       "internet_client      0\n",
       "MultipleLines        0\n",
       "phone_client         0\n",
       "dtype: int64"
      ]
     },
     "execution_count": 31,
     "metadata": {},
     "output_type": "execute_result"
    }
   ],
   "source": [
    "full_data = full_data.fillna('None')\n",
    "full_data.isna().sum()"
   ]
  },
  {
   "cell_type": "markdown",
   "metadata": {},
   "source": [
    "Заполняем все пропущенные значения новой категорией 'None'. Итого, на данный момент клиенты делятся на три категории:\n",
    "1. Yes. Клиент является клиентом компании, пользуется данным сервисом (интернет или телефония) и использует ту или иную технологию внутри выбранного сервиса.\n",
    "2. No. Клиент не пользуется данным сервисом. Клиент пользуется сервисом, но не выбранной технологией внутри выбранного сервиса.\n",
    "3. None. Клиент в принципе не использует данный сервис."
   ]
  },
  {
   "cell_type": "markdown",
   "metadata": {},
   "source": [
    "Далее закодируем категориальные данные разными кодировщиками, чтобы в дальнейшем оценить эффективность каждого и выбрать наилучший. Однако перед этим избавимся от столбца customerID, поскольку никакой информации о клиенте он в себе не несет, переведем столбец EndDate в бинарную переменную, а также удалим столбец BeginDate, поскольку в сочетании с признаком Months_being_client это может привести к утечки данных."
   ]
  },
  {
   "cell_type": "code",
   "execution_count": 32,
   "metadata": {},
   "outputs": [],
   "source": [
    "full_data = full_data.drop(['customerID', 'BeginDate'], axis = 1)"
   ]
  },
  {
   "cell_type": "code",
   "execution_count": 33,
   "metadata": {},
   "outputs": [],
   "source": [
    "full_data.loc[full_data['EndDate'] != 'No', 'EndDate'] = 1\n",
    "full_data.loc[full_data['EndDate'] == 'No', 'EndDate'] = 0"
   ]
  },
  {
   "cell_type": "markdown",
   "metadata": {},
   "source": [
    "### OrdinalEncoder"
   ]
  },
  {
   "cell_type": "code",
   "execution_count": 34,
   "metadata": {},
   "outputs": [
    {
     "name": "stdout",
     "output_type": "stream",
     "text": [
      "<class 'pandas.core.frame.DataFrame'>\n",
      "RangeIndex: 7043 entries, 0 to 7042\n",
      "Data columns (total 21 columns):\n",
      "EndDate              7043 non-null float64\n",
      "Type                 7043 non-null float64\n",
      "PaperlessBilling     7043 non-null float64\n",
      "PaymentMethod        7043 non-null float64\n",
      "MonthlyCharges       7043 non-null float64\n",
      "TotalCharges         7043 non-null float64\n",
      "Days_being_client    7043 non-null float64\n",
      "gender               7043 non-null float64\n",
      "SeniorCitizen        7043 non-null float64\n",
      "Partner              7043 non-null float64\n",
      "Dependents           7043 non-null float64\n",
      "InternetService      7043 non-null float64\n",
      "OnlineSecurity       7043 non-null float64\n",
      "OnlineBackup         7043 non-null float64\n",
      "DeviceProtection     7043 non-null float64\n",
      "TechSupport          7043 non-null float64\n",
      "StreamingTV          7043 non-null float64\n",
      "StreamingMovies      7043 non-null float64\n",
      "internet_client      7043 non-null float64\n",
      "MultipleLines        7043 non-null float64\n",
      "phone_client         7043 non-null float64\n",
      "dtypes: float64(21)\n",
      "memory usage: 1.1 MB\n"
     ]
    },
    {
     "data": {
      "text/html": [
       "<div>\n",
       "<style scoped>\n",
       "    .dataframe tbody tr th:only-of-type {\n",
       "        vertical-align: middle;\n",
       "    }\n",
       "\n",
       "    .dataframe tbody tr th {\n",
       "        vertical-align: top;\n",
       "    }\n",
       "\n",
       "    .dataframe thead th {\n",
       "        text-align: right;\n",
       "    }\n",
       "</style>\n",
       "<table border=\"1\" class=\"dataframe\">\n",
       "  <thead>\n",
       "    <tr style=\"text-align: right;\">\n",
       "      <th></th>\n",
       "      <th>EndDate</th>\n",
       "      <th>Type</th>\n",
       "      <th>PaperlessBilling</th>\n",
       "      <th>PaymentMethod</th>\n",
       "      <th>MonthlyCharges</th>\n",
       "      <th>TotalCharges</th>\n",
       "      <th>Days_being_client</th>\n",
       "      <th>gender</th>\n",
       "      <th>SeniorCitizen</th>\n",
       "      <th>Partner</th>\n",
       "      <th>...</th>\n",
       "      <th>InternetService</th>\n",
       "      <th>OnlineSecurity</th>\n",
       "      <th>OnlineBackup</th>\n",
       "      <th>DeviceProtection</th>\n",
       "      <th>TechSupport</th>\n",
       "      <th>StreamingTV</th>\n",
       "      <th>StreamingMovies</th>\n",
       "      <th>internet_client</th>\n",
       "      <th>MultipleLines</th>\n",
       "      <th>phone_client</th>\n",
       "    </tr>\n",
       "  </thead>\n",
       "  <tbody>\n",
       "    <tr>\n",
       "      <td>0</td>\n",
       "      <td>0.0</td>\n",
       "      <td>0.0</td>\n",
       "      <td>1.0</td>\n",
       "      <td>2.0</td>\n",
       "      <td>142.0</td>\n",
       "      <td>74.0</td>\n",
       "      <td>2.0</td>\n",
       "      <td>0.0</td>\n",
       "      <td>0.0</td>\n",
       "      <td>1.0</td>\n",
       "      <td>...</td>\n",
       "      <td>0.0</td>\n",
       "      <td>0.0</td>\n",
       "      <td>2.0</td>\n",
       "      <td>0.0</td>\n",
       "      <td>0.0</td>\n",
       "      <td>0.0</td>\n",
       "      <td>0.0</td>\n",
       "      <td>1.0</td>\n",
       "      <td>1.0</td>\n",
       "      <td>0.0</td>\n",
       "    </tr>\n",
       "    <tr>\n",
       "      <td>1</td>\n",
       "      <td>0.0</td>\n",
       "      <td>1.0</td>\n",
       "      <td>0.0</td>\n",
       "      <td>3.0</td>\n",
       "      <td>498.0</td>\n",
       "      <td>3628.0</td>\n",
       "      <td>74.0</td>\n",
       "      <td>1.0</td>\n",
       "      <td>0.0</td>\n",
       "      <td>0.0</td>\n",
       "      <td>...</td>\n",
       "      <td>0.0</td>\n",
       "      <td>2.0</td>\n",
       "      <td>0.0</td>\n",
       "      <td>2.0</td>\n",
       "      <td>0.0</td>\n",
       "      <td>0.0</td>\n",
       "      <td>0.0</td>\n",
       "      <td>1.0</td>\n",
       "      <td>0.0</td>\n",
       "      <td>1.0</td>\n",
       "    </tr>\n",
       "    <tr>\n",
       "      <td>2</td>\n",
       "      <td>1.0</td>\n",
       "      <td>0.0</td>\n",
       "      <td>1.0</td>\n",
       "      <td>3.0</td>\n",
       "      <td>436.0</td>\n",
       "      <td>540.0</td>\n",
       "      <td>3.0</td>\n",
       "      <td>1.0</td>\n",
       "      <td>0.0</td>\n",
       "      <td>0.0</td>\n",
       "      <td>...</td>\n",
       "      <td>0.0</td>\n",
       "      <td>2.0</td>\n",
       "      <td>2.0</td>\n",
       "      <td>0.0</td>\n",
       "      <td>0.0</td>\n",
       "      <td>0.0</td>\n",
       "      <td>0.0</td>\n",
       "      <td>1.0</td>\n",
       "      <td>0.0</td>\n",
       "      <td>1.0</td>\n",
       "    </tr>\n",
       "    <tr>\n",
       "      <td>3</td>\n",
       "      <td>0.0</td>\n",
       "      <td>1.0</td>\n",
       "      <td>0.0</td>\n",
       "      <td>0.0</td>\n",
       "      <td>266.0</td>\n",
       "      <td>3574.0</td>\n",
       "      <td>96.0</td>\n",
       "      <td>1.0</td>\n",
       "      <td>0.0</td>\n",
       "      <td>0.0</td>\n",
       "      <td>...</td>\n",
       "      <td>0.0</td>\n",
       "      <td>2.0</td>\n",
       "      <td>0.0</td>\n",
       "      <td>2.0</td>\n",
       "      <td>2.0</td>\n",
       "      <td>0.0</td>\n",
       "      <td>0.0</td>\n",
       "      <td>1.0</td>\n",
       "      <td>1.0</td>\n",
       "      <td>0.0</td>\n",
       "    </tr>\n",
       "    <tr>\n",
       "      <td>4</td>\n",
       "      <td>1.0</td>\n",
       "      <td>0.0</td>\n",
       "      <td>1.0</td>\n",
       "      <td>2.0</td>\n",
       "      <td>729.0</td>\n",
       "      <td>678.0</td>\n",
       "      <td>3.0</td>\n",
       "      <td>0.0</td>\n",
       "      <td>0.0</td>\n",
       "      <td>0.0</td>\n",
       "      <td>...</td>\n",
       "      <td>1.0</td>\n",
       "      <td>0.0</td>\n",
       "      <td>0.0</td>\n",
       "      <td>0.0</td>\n",
       "      <td>0.0</td>\n",
       "      <td>0.0</td>\n",
       "      <td>0.0</td>\n",
       "      <td>1.0</td>\n",
       "      <td>0.0</td>\n",
       "      <td>1.0</td>\n",
       "    </tr>\n",
       "    <tr>\n",
       "      <td>...</td>\n",
       "      <td>...</td>\n",
       "      <td>...</td>\n",
       "      <td>...</td>\n",
       "      <td>...</td>\n",
       "      <td>...</td>\n",
       "      <td>...</td>\n",
       "      <td>...</td>\n",
       "      <td>...</td>\n",
       "      <td>...</td>\n",
       "      <td>...</td>\n",
       "      <td>...</td>\n",
       "      <td>...</td>\n",
       "      <td>...</td>\n",
       "      <td>...</td>\n",
       "      <td>...</td>\n",
       "      <td>...</td>\n",
       "      <td>...</td>\n",
       "      <td>...</td>\n",
       "      <td>...</td>\n",
       "      <td>...</td>\n",
       "      <td>...</td>\n",
       "    </tr>\n",
       "    <tr>\n",
       "      <td>7038</td>\n",
       "      <td>0.0</td>\n",
       "      <td>1.0</td>\n",
       "      <td>1.0</td>\n",
       "      <td>3.0</td>\n",
       "      <td>991.0</td>\n",
       "      <td>3704.0</td>\n",
       "      <td>52.0</td>\n",
       "      <td>1.0</td>\n",
       "      <td>0.0</td>\n",
       "      <td>1.0</td>\n",
       "      <td>...</td>\n",
       "      <td>0.0</td>\n",
       "      <td>2.0</td>\n",
       "      <td>0.0</td>\n",
       "      <td>2.0</td>\n",
       "      <td>2.0</td>\n",
       "      <td>2.0</td>\n",
       "      <td>2.0</td>\n",
       "      <td>1.0</td>\n",
       "      <td>2.0</td>\n",
       "      <td>1.0</td>\n",
       "    </tr>\n",
       "    <tr>\n",
       "      <td>7039</td>\n",
       "      <td>0.0</td>\n",
       "      <td>1.0</td>\n",
       "      <td>1.0</td>\n",
       "      <td>1.0</td>\n",
       "      <td>1340.0</td>\n",
       "      <td>6308.0</td>\n",
       "      <td>155.0</td>\n",
       "      <td>0.0</td>\n",
       "      <td>0.0</td>\n",
       "      <td>1.0</td>\n",
       "      <td>...</td>\n",
       "      <td>1.0</td>\n",
       "      <td>0.0</td>\n",
       "      <td>2.0</td>\n",
       "      <td>2.0</td>\n",
       "      <td>0.0</td>\n",
       "      <td>2.0</td>\n",
       "      <td>2.0</td>\n",
       "      <td>1.0</td>\n",
       "      <td>2.0</td>\n",
       "      <td>1.0</td>\n",
       "    </tr>\n",
       "    <tr>\n",
       "      <td>7040</td>\n",
       "      <td>0.0</td>\n",
       "      <td>0.0</td>\n",
       "      <td>1.0</td>\n",
       "      <td>2.0</td>\n",
       "      <td>137.0</td>\n",
       "      <td>1269.0</td>\n",
       "      <td>25.0</td>\n",
       "      <td>0.0</td>\n",
       "      <td>0.0</td>\n",
       "      <td>1.0</td>\n",
       "      <td>...</td>\n",
       "      <td>0.0</td>\n",
       "      <td>2.0</td>\n",
       "      <td>0.0</td>\n",
       "      <td>0.0</td>\n",
       "      <td>0.0</td>\n",
       "      <td>0.0</td>\n",
       "      <td>0.0</td>\n",
       "      <td>1.0</td>\n",
       "      <td>1.0</td>\n",
       "      <td>0.0</td>\n",
       "    </tr>\n",
       "    <tr>\n",
       "      <td>7041</td>\n",
       "      <td>1.0</td>\n",
       "      <td>0.0</td>\n",
       "      <td>1.0</td>\n",
       "      <td>3.0</td>\n",
       "      <td>795.0</td>\n",
       "      <td>1161.0</td>\n",
       "      <td>8.0</td>\n",
       "      <td>1.0</td>\n",
       "      <td>1.0</td>\n",
       "      <td>1.0</td>\n",
       "      <td>...</td>\n",
       "      <td>1.0</td>\n",
       "      <td>0.0</td>\n",
       "      <td>0.0</td>\n",
       "      <td>0.0</td>\n",
       "      <td>0.0</td>\n",
       "      <td>0.0</td>\n",
       "      <td>0.0</td>\n",
       "      <td>1.0</td>\n",
       "      <td>2.0</td>\n",
       "      <td>1.0</td>\n",
       "    </tr>\n",
       "    <tr>\n",
       "      <td>7042</td>\n",
       "      <td>0.0</td>\n",
       "      <td>2.0</td>\n",
       "      <td>1.0</td>\n",
       "      <td>0.0</td>\n",
       "      <td>1388.0</td>\n",
       "      <td>6154.0</td>\n",
       "      <td>140.0</td>\n",
       "      <td>1.0</td>\n",
       "      <td>0.0</td>\n",
       "      <td>0.0</td>\n",
       "      <td>...</td>\n",
       "      <td>1.0</td>\n",
       "      <td>2.0</td>\n",
       "      <td>0.0</td>\n",
       "      <td>2.0</td>\n",
       "      <td>2.0</td>\n",
       "      <td>2.0</td>\n",
       "      <td>2.0</td>\n",
       "      <td>1.0</td>\n",
       "      <td>0.0</td>\n",
       "      <td>1.0</td>\n",
       "    </tr>\n",
       "  </tbody>\n",
       "</table>\n",
       "<p>7043 rows × 21 columns</p>\n",
       "</div>"
      ],
      "text/plain": [
       "      EndDate  Type  PaperlessBilling  PaymentMethod  MonthlyCharges  \\\n",
       "0         0.0   0.0               1.0            2.0           142.0   \n",
       "1         0.0   1.0               0.0            3.0           498.0   \n",
       "2         1.0   0.0               1.0            3.0           436.0   \n",
       "3         0.0   1.0               0.0            0.0           266.0   \n",
       "4         1.0   0.0               1.0            2.0           729.0   \n",
       "...       ...   ...               ...            ...             ...   \n",
       "7038      0.0   1.0               1.0            3.0           991.0   \n",
       "7039      0.0   1.0               1.0            1.0          1340.0   \n",
       "7040      0.0   0.0               1.0            2.0           137.0   \n",
       "7041      1.0   0.0               1.0            3.0           795.0   \n",
       "7042      0.0   2.0               1.0            0.0          1388.0   \n",
       "\n",
       "      TotalCharges  Days_being_client  gender  SeniorCitizen  Partner  ...  \\\n",
       "0             74.0                2.0     0.0            0.0      1.0  ...   \n",
       "1           3628.0               74.0     1.0            0.0      0.0  ...   \n",
       "2            540.0                3.0     1.0            0.0      0.0  ...   \n",
       "3           3574.0               96.0     1.0            0.0      0.0  ...   \n",
       "4            678.0                3.0     0.0            0.0      0.0  ...   \n",
       "...            ...                ...     ...            ...      ...  ...   \n",
       "7038        3704.0               52.0     1.0            0.0      1.0  ...   \n",
       "7039        6308.0              155.0     0.0            0.0      1.0  ...   \n",
       "7040        1269.0               25.0     0.0            0.0      1.0  ...   \n",
       "7041        1161.0                8.0     1.0            1.0      1.0  ...   \n",
       "7042        6154.0              140.0     1.0            0.0      0.0  ...   \n",
       "\n",
       "      InternetService  OnlineSecurity  OnlineBackup  DeviceProtection  \\\n",
       "0                 0.0             0.0           2.0               0.0   \n",
       "1                 0.0             2.0           0.0               2.0   \n",
       "2                 0.0             2.0           2.0               0.0   \n",
       "3                 0.0             2.0           0.0               2.0   \n",
       "4                 1.0             0.0           0.0               0.0   \n",
       "...               ...             ...           ...               ...   \n",
       "7038              0.0             2.0           0.0               2.0   \n",
       "7039              1.0             0.0           2.0               2.0   \n",
       "7040              0.0             2.0           0.0               0.0   \n",
       "7041              1.0             0.0           0.0               0.0   \n",
       "7042              1.0             2.0           0.0               2.0   \n",
       "\n",
       "      TechSupport  StreamingTV  StreamingMovies  internet_client  \\\n",
       "0             0.0          0.0              0.0              1.0   \n",
       "1             0.0          0.0              0.0              1.0   \n",
       "2             0.0          0.0              0.0              1.0   \n",
       "3             2.0          0.0              0.0              1.0   \n",
       "4             0.0          0.0              0.0              1.0   \n",
       "...           ...          ...              ...              ...   \n",
       "7038          2.0          2.0              2.0              1.0   \n",
       "7039          0.0          2.0              2.0              1.0   \n",
       "7040          0.0          0.0              0.0              1.0   \n",
       "7041          0.0          0.0              0.0              1.0   \n",
       "7042          2.0          2.0              2.0              1.0   \n",
       "\n",
       "      MultipleLines  phone_client  \n",
       "0               1.0           0.0  \n",
       "1               0.0           1.0  \n",
       "2               0.0           1.0  \n",
       "3               1.0           0.0  \n",
       "4               0.0           1.0  \n",
       "...             ...           ...  \n",
       "7038            2.0           1.0  \n",
       "7039            2.0           1.0  \n",
       "7040            1.0           0.0  \n",
       "7041            2.0           1.0  \n",
       "7042            0.0           1.0  \n",
       "\n",
       "[7043 rows x 21 columns]"
      ]
     },
     "execution_count": 34,
     "metadata": {},
     "output_type": "execute_result"
    }
   ],
   "source": [
    "encoder = OrdinalEncoder()\n",
    "data_ordinal = pd.DataFrame(encoder.fit_transform(full_data), columns = full_data.columns)\n",
    "data_ordinal.info()\n",
    "data_ordinal"
   ]
  },
  {
   "cell_type": "markdown",
   "metadata": {},
   "source": [
    "### One-Hot Encoding"
   ]
  },
  {
   "cell_type": "code",
   "execution_count": 35,
   "metadata": {
    "scrolled": true
   },
   "outputs": [
    {
     "name": "stdout",
     "output_type": "stream",
     "text": [
      "<class 'pandas.core.frame.DataFrame'>\n",
      "Int64Index: 7043 entries, 0 to 7042\n",
      "Data columns (total 32 columns):\n",
      "EndDate                                  7043 non-null int64\n",
      "MonthlyCharges                           7043 non-null float64\n",
      "TotalCharges                             7043 non-null float64\n",
      "Days_being_client                        7043 non-null int64\n",
      "SeniorCitizen                            7043 non-null int64\n",
      "Type_One year                            7043 non-null uint8\n",
      "Type_Two year                            7043 non-null uint8\n",
      "PaperlessBilling_Yes                     7043 non-null uint8\n",
      "PaymentMethod_Credit card (automatic)    7043 non-null uint8\n",
      "PaymentMethod_Electronic check           7043 non-null uint8\n",
      "PaymentMethod_Mailed check               7043 non-null uint8\n",
      "gender_Male                              7043 non-null uint8\n",
      "Partner_Yes                              7043 non-null uint8\n",
      "Dependents_Yes                           7043 non-null uint8\n",
      "InternetService_Fiber optic              7043 non-null uint8\n",
      "InternetService_None                     7043 non-null uint8\n",
      "OnlineSecurity_None                      7043 non-null uint8\n",
      "OnlineSecurity_Yes                       7043 non-null uint8\n",
      "OnlineBackup_None                        7043 non-null uint8\n",
      "OnlineBackup_Yes                         7043 non-null uint8\n",
      "DeviceProtection_None                    7043 non-null uint8\n",
      "DeviceProtection_Yes                     7043 non-null uint8\n",
      "TechSupport_None                         7043 non-null uint8\n",
      "TechSupport_Yes                          7043 non-null uint8\n",
      "StreamingTV_None                         7043 non-null uint8\n",
      "StreamingTV_Yes                          7043 non-null uint8\n",
      "StreamingMovies_None                     7043 non-null uint8\n",
      "StreamingMovies_Yes                      7043 non-null uint8\n",
      "internet_client_Yes                      7043 non-null uint8\n",
      "MultipleLines_None                       7043 non-null uint8\n",
      "MultipleLines_Yes                        7043 non-null uint8\n",
      "phone_client_Yes                         7043 non-null uint8\n",
      "dtypes: float64(2), int64(3), uint8(27)\n",
      "memory usage: 515.8 KB\n"
     ]
    },
    {
     "data": {
      "text/html": [
       "<div>\n",
       "<style scoped>\n",
       "    .dataframe tbody tr th:only-of-type {\n",
       "        vertical-align: middle;\n",
       "    }\n",
       "\n",
       "    .dataframe tbody tr th {\n",
       "        vertical-align: top;\n",
       "    }\n",
       "\n",
       "    .dataframe thead th {\n",
       "        text-align: right;\n",
       "    }\n",
       "</style>\n",
       "<table border=\"1\" class=\"dataframe\">\n",
       "  <thead>\n",
       "    <tr style=\"text-align: right;\">\n",
       "      <th></th>\n",
       "      <th>EndDate</th>\n",
       "      <th>MonthlyCharges</th>\n",
       "      <th>TotalCharges</th>\n",
       "      <th>Days_being_client</th>\n",
       "      <th>SeniorCitizen</th>\n",
       "      <th>Type_One year</th>\n",
       "      <th>Type_Two year</th>\n",
       "      <th>PaperlessBilling_Yes</th>\n",
       "      <th>PaymentMethod_Credit card (automatic)</th>\n",
       "      <th>PaymentMethod_Electronic check</th>\n",
       "      <th>...</th>\n",
       "      <th>TechSupport_None</th>\n",
       "      <th>TechSupport_Yes</th>\n",
       "      <th>StreamingTV_None</th>\n",
       "      <th>StreamingTV_Yes</th>\n",
       "      <th>StreamingMovies_None</th>\n",
       "      <th>StreamingMovies_Yes</th>\n",
       "      <th>internet_client_Yes</th>\n",
       "      <th>MultipleLines_None</th>\n",
       "      <th>MultipleLines_Yes</th>\n",
       "      <th>phone_client_Yes</th>\n",
       "    </tr>\n",
       "  </thead>\n",
       "  <tbody>\n",
       "    <tr>\n",
       "      <td>0</td>\n",
       "      <td>0</td>\n",
       "      <td>29.85</td>\n",
       "      <td>29.85</td>\n",
       "      <td>31</td>\n",
       "      <td>0</td>\n",
       "      <td>0</td>\n",
       "      <td>0</td>\n",
       "      <td>1</td>\n",
       "      <td>0</td>\n",
       "      <td>1</td>\n",
       "      <td>...</td>\n",
       "      <td>0</td>\n",
       "      <td>0</td>\n",
       "      <td>0</td>\n",
       "      <td>0</td>\n",
       "      <td>0</td>\n",
       "      <td>0</td>\n",
       "      <td>1</td>\n",
       "      <td>1</td>\n",
       "      <td>0</td>\n",
       "      <td>0</td>\n",
       "    </tr>\n",
       "    <tr>\n",
       "      <td>1</td>\n",
       "      <td>0</td>\n",
       "      <td>56.95</td>\n",
       "      <td>1889.50</td>\n",
       "      <td>1036</td>\n",
       "      <td>0</td>\n",
       "      <td>1</td>\n",
       "      <td>0</td>\n",
       "      <td>0</td>\n",
       "      <td>0</td>\n",
       "      <td>0</td>\n",
       "      <td>...</td>\n",
       "      <td>0</td>\n",
       "      <td>0</td>\n",
       "      <td>0</td>\n",
       "      <td>0</td>\n",
       "      <td>0</td>\n",
       "      <td>0</td>\n",
       "      <td>1</td>\n",
       "      <td>0</td>\n",
       "      <td>0</td>\n",
       "      <td>1</td>\n",
       "    </tr>\n",
       "    <tr>\n",
       "      <td>2</td>\n",
       "      <td>1</td>\n",
       "      <td>53.85</td>\n",
       "      <td>108.15</td>\n",
       "      <td>61</td>\n",
       "      <td>0</td>\n",
       "      <td>0</td>\n",
       "      <td>0</td>\n",
       "      <td>1</td>\n",
       "      <td>0</td>\n",
       "      <td>0</td>\n",
       "      <td>...</td>\n",
       "      <td>0</td>\n",
       "      <td>0</td>\n",
       "      <td>0</td>\n",
       "      <td>0</td>\n",
       "      <td>0</td>\n",
       "      <td>0</td>\n",
       "      <td>1</td>\n",
       "      <td>0</td>\n",
       "      <td>0</td>\n",
       "      <td>1</td>\n",
       "    </tr>\n",
       "    <tr>\n",
       "      <td>3</td>\n",
       "      <td>0</td>\n",
       "      <td>42.30</td>\n",
       "      <td>1840.75</td>\n",
       "      <td>1371</td>\n",
       "      <td>0</td>\n",
       "      <td>1</td>\n",
       "      <td>0</td>\n",
       "      <td>0</td>\n",
       "      <td>0</td>\n",
       "      <td>0</td>\n",
       "      <td>...</td>\n",
       "      <td>0</td>\n",
       "      <td>1</td>\n",
       "      <td>0</td>\n",
       "      <td>0</td>\n",
       "      <td>0</td>\n",
       "      <td>0</td>\n",
       "      <td>1</td>\n",
       "      <td>1</td>\n",
       "      <td>0</td>\n",
       "      <td>0</td>\n",
       "    </tr>\n",
       "    <tr>\n",
       "      <td>4</td>\n",
       "      <td>1</td>\n",
       "      <td>70.70</td>\n",
       "      <td>151.65</td>\n",
       "      <td>61</td>\n",
       "      <td>0</td>\n",
       "      <td>0</td>\n",
       "      <td>0</td>\n",
       "      <td>1</td>\n",
       "      <td>0</td>\n",
       "      <td>1</td>\n",
       "      <td>...</td>\n",
       "      <td>0</td>\n",
       "      <td>0</td>\n",
       "      <td>0</td>\n",
       "      <td>0</td>\n",
       "      <td>0</td>\n",
       "      <td>0</td>\n",
       "      <td>1</td>\n",
       "      <td>0</td>\n",
       "      <td>0</td>\n",
       "      <td>1</td>\n",
       "    </tr>\n",
       "    <tr>\n",
       "      <td>...</td>\n",
       "      <td>...</td>\n",
       "      <td>...</td>\n",
       "      <td>...</td>\n",
       "      <td>...</td>\n",
       "      <td>...</td>\n",
       "      <td>...</td>\n",
       "      <td>...</td>\n",
       "      <td>...</td>\n",
       "      <td>...</td>\n",
       "      <td>...</td>\n",
       "      <td>...</td>\n",
       "      <td>...</td>\n",
       "      <td>...</td>\n",
       "      <td>...</td>\n",
       "      <td>...</td>\n",
       "      <td>...</td>\n",
       "      <td>...</td>\n",
       "      <td>...</td>\n",
       "      <td>...</td>\n",
       "      <td>...</td>\n",
       "      <td>...</td>\n",
       "    </tr>\n",
       "    <tr>\n",
       "      <td>7038</td>\n",
       "      <td>0</td>\n",
       "      <td>84.80</td>\n",
       "      <td>1990.50</td>\n",
       "      <td>730</td>\n",
       "      <td>0</td>\n",
       "      <td>1</td>\n",
       "      <td>0</td>\n",
       "      <td>1</td>\n",
       "      <td>0</td>\n",
       "      <td>0</td>\n",
       "      <td>...</td>\n",
       "      <td>0</td>\n",
       "      <td>1</td>\n",
       "      <td>0</td>\n",
       "      <td>1</td>\n",
       "      <td>0</td>\n",
       "      <td>1</td>\n",
       "      <td>1</td>\n",
       "      <td>0</td>\n",
       "      <td>1</td>\n",
       "      <td>1</td>\n",
       "    </tr>\n",
       "    <tr>\n",
       "      <td>7039</td>\n",
       "      <td>0</td>\n",
       "      <td>103.20</td>\n",
       "      <td>7362.90</td>\n",
       "      <td>2191</td>\n",
       "      <td>0</td>\n",
       "      <td>1</td>\n",
       "      <td>0</td>\n",
       "      <td>1</td>\n",
       "      <td>1</td>\n",
       "      <td>0</td>\n",
       "      <td>...</td>\n",
       "      <td>0</td>\n",
       "      <td>0</td>\n",
       "      <td>0</td>\n",
       "      <td>1</td>\n",
       "      <td>0</td>\n",
       "      <td>1</td>\n",
       "      <td>1</td>\n",
       "      <td>0</td>\n",
       "      <td>1</td>\n",
       "      <td>1</td>\n",
       "    </tr>\n",
       "    <tr>\n",
       "      <td>7040</td>\n",
       "      <td>0</td>\n",
       "      <td>29.60</td>\n",
       "      <td>346.45</td>\n",
       "      <td>337</td>\n",
       "      <td>0</td>\n",
       "      <td>0</td>\n",
       "      <td>0</td>\n",
       "      <td>1</td>\n",
       "      <td>0</td>\n",
       "      <td>1</td>\n",
       "      <td>...</td>\n",
       "      <td>0</td>\n",
       "      <td>0</td>\n",
       "      <td>0</td>\n",
       "      <td>0</td>\n",
       "      <td>0</td>\n",
       "      <td>0</td>\n",
       "      <td>1</td>\n",
       "      <td>1</td>\n",
       "      <td>0</td>\n",
       "      <td>0</td>\n",
       "    </tr>\n",
       "    <tr>\n",
       "      <td>7041</td>\n",
       "      <td>1</td>\n",
       "      <td>74.40</td>\n",
       "      <td>306.60</td>\n",
       "      <td>123</td>\n",
       "      <td>1</td>\n",
       "      <td>0</td>\n",
       "      <td>0</td>\n",
       "      <td>1</td>\n",
       "      <td>0</td>\n",
       "      <td>0</td>\n",
       "      <td>...</td>\n",
       "      <td>0</td>\n",
       "      <td>0</td>\n",
       "      <td>0</td>\n",
       "      <td>0</td>\n",
       "      <td>0</td>\n",
       "      <td>0</td>\n",
       "      <td>1</td>\n",
       "      <td>0</td>\n",
       "      <td>1</td>\n",
       "      <td>1</td>\n",
       "    </tr>\n",
       "    <tr>\n",
       "      <td>7042</td>\n",
       "      <td>0</td>\n",
       "      <td>105.65</td>\n",
       "      <td>6844.50</td>\n",
       "      <td>2010</td>\n",
       "      <td>0</td>\n",
       "      <td>0</td>\n",
       "      <td>1</td>\n",
       "      <td>1</td>\n",
       "      <td>0</td>\n",
       "      <td>0</td>\n",
       "      <td>...</td>\n",
       "      <td>0</td>\n",
       "      <td>1</td>\n",
       "      <td>0</td>\n",
       "      <td>1</td>\n",
       "      <td>0</td>\n",
       "      <td>1</td>\n",
       "      <td>1</td>\n",
       "      <td>0</td>\n",
       "      <td>0</td>\n",
       "      <td>1</td>\n",
       "    </tr>\n",
       "  </tbody>\n",
       "</table>\n",
       "<p>7043 rows × 32 columns</p>\n",
       "</div>"
      ],
      "text/plain": [
       "      EndDate  MonthlyCharges  TotalCharges  Days_being_client  SeniorCitizen  \\\n",
       "0           0           29.85         29.85                 31              0   \n",
       "1           0           56.95       1889.50               1036              0   \n",
       "2           1           53.85        108.15                 61              0   \n",
       "3           0           42.30       1840.75               1371              0   \n",
       "4           1           70.70        151.65                 61              0   \n",
       "...       ...             ...           ...                ...            ...   \n",
       "7038        0           84.80       1990.50                730              0   \n",
       "7039        0          103.20       7362.90               2191              0   \n",
       "7040        0           29.60        346.45                337              0   \n",
       "7041        1           74.40        306.60                123              1   \n",
       "7042        0          105.65       6844.50               2010              0   \n",
       "\n",
       "      Type_One year  Type_Two year  PaperlessBilling_Yes  \\\n",
       "0                 0              0                     1   \n",
       "1                 1              0                     0   \n",
       "2                 0              0                     1   \n",
       "3                 1              0                     0   \n",
       "4                 0              0                     1   \n",
       "...             ...            ...                   ...   \n",
       "7038              1              0                     1   \n",
       "7039              1              0                     1   \n",
       "7040              0              0                     1   \n",
       "7041              0              0                     1   \n",
       "7042              0              1                     1   \n",
       "\n",
       "      PaymentMethod_Credit card (automatic)  PaymentMethod_Electronic check  \\\n",
       "0                                         0                               1   \n",
       "1                                         0                               0   \n",
       "2                                         0                               0   \n",
       "3                                         0                               0   \n",
       "4                                         0                               1   \n",
       "...                                     ...                             ...   \n",
       "7038                                      0                               0   \n",
       "7039                                      1                               0   \n",
       "7040                                      0                               1   \n",
       "7041                                      0                               0   \n",
       "7042                                      0                               0   \n",
       "\n",
       "      ...  TechSupport_None  TechSupport_Yes  StreamingTV_None  \\\n",
       "0     ...                 0                0                 0   \n",
       "1     ...                 0                0                 0   \n",
       "2     ...                 0                0                 0   \n",
       "3     ...                 0                1                 0   \n",
       "4     ...                 0                0                 0   \n",
       "...   ...               ...              ...               ...   \n",
       "7038  ...                 0                1                 0   \n",
       "7039  ...                 0                0                 0   \n",
       "7040  ...                 0                0                 0   \n",
       "7041  ...                 0                0                 0   \n",
       "7042  ...                 0                1                 0   \n",
       "\n",
       "      StreamingTV_Yes  StreamingMovies_None  StreamingMovies_Yes  \\\n",
       "0                   0                     0                    0   \n",
       "1                   0                     0                    0   \n",
       "2                   0                     0                    0   \n",
       "3                   0                     0                    0   \n",
       "4                   0                     0                    0   \n",
       "...               ...                   ...                  ...   \n",
       "7038                1                     0                    1   \n",
       "7039                1                     0                    1   \n",
       "7040                0                     0                    0   \n",
       "7041                0                     0                    0   \n",
       "7042                1                     0                    1   \n",
       "\n",
       "      internet_client_Yes  MultipleLines_None  MultipleLines_Yes  \\\n",
       "0                       1                   1                  0   \n",
       "1                       1                   0                  0   \n",
       "2                       1                   0                  0   \n",
       "3                       1                   1                  0   \n",
       "4                       1                   0                  0   \n",
       "...                   ...                 ...                ...   \n",
       "7038                    1                   0                  1   \n",
       "7039                    1                   0                  1   \n",
       "7040                    1                   1                  0   \n",
       "7041                    1                   0                  1   \n",
       "7042                    1                   0                  0   \n",
       "\n",
       "      phone_client_Yes  \n",
       "0                    0  \n",
       "1                    1  \n",
       "2                    1  \n",
       "3                    0  \n",
       "4                    1  \n",
       "...                ...  \n",
       "7038                 1  \n",
       "7039                 1  \n",
       "7040                 0  \n",
       "7041                 1  \n",
       "7042                 1  \n",
       "\n",
       "[7043 rows x 32 columns]"
      ]
     },
     "execution_count": 35,
     "metadata": {},
     "output_type": "execute_result"
    }
   ],
   "source": [
    "data_OHE = pd.get_dummies(full_data, drop_first = True)\n",
    "data_OHE.info()\n",
    "data_OHE"
   ]
  },
  {
   "cell_type": "markdown",
   "metadata": {},
   "source": [
    "### Подготовка обучающего и тестового датасетов"
   ]
  },
  {
   "cell_type": "code",
   "execution_count": 36,
   "metadata": {
    "scrolled": true
   },
   "outputs": [],
   "source": [
    "#OrdinalEncoder\n",
    "features_ordinal = data_ordinal.drop(['EndDate'], axis = 1)\n",
    "target_ordinal = data_ordinal['EndDate']\n",
    "\n",
    "features_ordinal_train, features_ordinal_test, target_ordinal_train, target_ordinal_test = train_test_split(features_ordinal, target_ordinal, test_size = .2, random_state = 123)\n",
    "\n",
    "\n",
    "#OHE\n",
    "features_OHE = data_OHE.drop(['EndDate'], axis = 1)\n",
    "target_OHE = data_OHE['EndDate']\n",
    "\n",
    "features_OHE_train, features_OHE_test, target_OHE_train, target_OHE_test = train_test_split(features_OHE, target_OHE, test_size = .2, random_state = 123)\n"
   ]
  },
  {
   "cell_type": "markdown",
   "metadata": {},
   "source": [
    "### Дисбаланс классов"
   ]
  },
  {
   "cell_type": "code",
   "execution_count": 37,
   "metadata": {},
   "outputs": [
    {
     "data": {
      "image/png": "[encoded data removed]",
      "text/plain": [
       "<Figure size 432x288 with 1 Axes>"
      ]
     },
     "metadata": {
      "needs_background": "light"
     },
     "output_type": "display_data"
    }
   ],
   "source": [
    "full_data['EndDate'].hist()\n",
    "plt.title('Дисбаланс классов в целевой переменной')\n",
    "plt.show()"
   ]
  },
  {
   "cell_type": "markdown",
   "metadata": {},
   "source": [
    "Для борьбы с дисбалансом попробуем следующие техники:\n",
    "1. Upsampling\n",
    "2. Downsampling\n",
    "3. Соответствующие гиперпараметры у моделей"
   ]
  },
  {
   "cell_type": "markdown",
   "metadata": {},
   "source": [
    "### Upsampling"
   ]
  },
  {
   "cell_type": "code",
   "execution_count": 38,
   "metadata": {},
   "outputs": [
    {
     "data": {
      "text/plain": [
       "0    5174\n",
       "1    1869\n",
       "Name: EndDate, dtype: int64"
      ]
     },
     "execution_count": 38,
     "metadata": {},
     "output_type": "execute_result"
    }
   ],
   "source": [
    "full_data['EndDate'].value_counts()"
   ]
  },
  {
   "cell_type": "code",
   "execution_count": 39,
   "metadata": {},
   "outputs": [
    {
     "data": {
      "text/plain": [
       "3"
      ]
     },
     "execution_count": 39,
     "metadata": {},
     "output_type": "execute_result"
    }
   ],
   "source": [
    "ones_multiplier = round(len(full_data) // len(full_data.loc[full_data['EndDate'] == 1, 'EndDate']), 1)\n",
    "ones_multiplier"
   ]
  },
  {
   "cell_type": "markdown",
   "metadata": {},
   "source": [
    "Для уравновешивания классов необходимо домножить класс с таргетом \"1\" на 3."
   ]
  },
  {
   "cell_type": "code",
   "execution_count": 40,
   "metadata": {},
   "outputs": [],
   "source": [
    "def upsample(features, target, repeat):\n",
    "    features_zeros = features[target == 0]\n",
    "    features_ones = features[target == 1]\n",
    "    target_zeros = target[target == 0]\n",
    "    target_ones = target[target == 1]\n",
    "\n",
    "    features_upsampled = pd.concat([features_zeros] + [features_ones] * repeat)\n",
    "    target_upsampled = pd.concat([target_zeros] + [target_ones] * repeat)\n",
    "    \n",
    "    features_upsampled, target_upsampled = shuffle(\n",
    "        features_upsampled, target_upsampled, random_state=12345)\n",
    "    \n",
    "    return features_upsampled, target_upsampled"
   ]
  },
  {
   "cell_type": "code",
   "execution_count": 41,
   "metadata": {},
   "outputs": [
    {
     "data": {
      "text/plain": [
       "(10059, 10059)"
      ]
     },
     "execution_count": 41,
     "metadata": {},
     "output_type": "execute_result"
    }
   ],
   "source": [
    "features_train_upsampled_OHE, target_train_upsampled_OHE = upsample(features_OHE_train, target_OHE_train, 4)\n",
    "\n",
    "len(features_train_upsampled_OHE), len(target_train_upsampled_OHE)#, len(features_test_upsampled_OHE), len(target_test_upsampled_OHE)"
   ]
  },
  {
   "cell_type": "code",
   "execution_count": 42,
   "metadata": {},
   "outputs": [
    {
     "data": {
      "text/plain": [
       "(10059, 10059)"
      ]
     },
     "execution_count": 42,
     "metadata": {},
     "output_type": "execute_result"
    }
   ],
   "source": [
    "features_train_upsampled_ordinal, target_train_upsampled_ordinal = upsample(features_ordinal_train, target_ordinal_train, 4)\n",
    "\n",
    "len(features_train_upsampled_ordinal), len(target_train_upsampled_ordinal)#, len(features_test_upsampled_ordinal), len(target_test_upsampled_ordinal)"
   ]
  },
  {
   "cell_type": "markdown",
   "metadata": {},
   "source": [
    "### Downsampling"
   ]
  },
  {
   "cell_type": "code",
   "execution_count": 43,
   "metadata": {},
   "outputs": [],
   "source": [
    "def downsample(features, target, fraction):\n",
    "    features_zeros = features[target == 0]\n",
    "    features_ones = features[target == 1]\n",
    "    target_zeros = target[target == 0]\n",
    "    target_ones = target[target == 1]\n",
    "\n",
    "    features_downsampled = pd.concat(\n",
    "        [features_zeros.sample(frac=fraction, random_state=12345)] + [features_ones])\n",
    "    target_downsampled = pd.concat(\n",
    "        [target_zeros.sample(frac=fraction, random_state=12345)] + [target_ones])\n",
    "    \n",
    "    features_downsampled, target_downsampled = shuffle(\n",
    "        features_downsampled, target_downsampled, random_state=12345)\n",
    "    \n",
    "    return features_downsampled, target_downsampled"
   ]
  },
  {
   "cell_type": "code",
   "execution_count": 44,
   "metadata": {},
   "outputs": [],
   "source": [
    "features_train_downsampled_OHE, target_train_downsampled_OHE = downsample(features_OHE_train, target_OHE_train, .3)"
   ]
  },
  {
   "cell_type": "code",
   "execution_count": 45,
   "metadata": {},
   "outputs": [],
   "source": [
    "features_train_downsampled_ordinal, target_train_downsampled_ordinal = downsample(features_ordinal_train, target_ordinal_train, .3)"
   ]
  },
  {
   "cell_type": "markdown",
   "metadata": {},
   "source": [
    "### Обучение моделей\n",
    "После того, как была проведена предобрабокта данных можно перейти к обучению моделей. Для обучения возьмем следующие модели:\n",
    "1. Random forest\n",
    "2. Lgbm\n",
    "3. XGBoost\n",
    "4. CatBoost\n",
    "5. Logistic Regression"
   ]
  },
  {
   "cell_type": "markdown",
   "metadata": {},
   "source": [
    "#### Random forest"
   ]
  },
  {
   "cell_type": "code",
   "execution_count": 46,
   "metadata": {},
   "outputs": [
    {
     "name": "stdout",
     "output_type": "stream",
     "text": [
      "max depth 8\n",
      "best_est: 99\n",
      "Площадь под ROC-кривой: 0.86\n"
     ]
    }
   ],
   "source": [
    "max_depth = 0\n",
    "best_est = 0\n",
    "best_model = None\n",
    "S = 0\n",
    "for est in range (70, 150):\n",
    "    for depth in range (7, 12):\n",
    "        model_balanced = RandomForestClassifier(random_state = 1, n_estimators = est, max_depth = depth)\n",
    "        model_balanced.fit(features_train_upsampled_OHE, target_train_upsampled_OHE)\n",
    "        predictions = model_balanced.predict(features_OHE_test)\n",
    "        probabilities_RF = model_balanced.predict_proba(features_OHE_test)\n",
    "        probabilities_one_RF = probabilities_RF[:, 1]\n",
    "        s = roc_auc_score(target_OHE_test, probabilities_one_RF)\n",
    "        if s > S:\n",
    "            S = s\n",
    "            max_depth = depth\n",
    "            best_model = model_balanced\n",
    "            best_est = est\n",
    "    \n",
    "print('max depth', max_depth)\n",
    "print('best_est:', best_est)\n",
    "print('Площадь под ROC-кривой: {:.2f}'.format(roc_auc_score(target_OHE_test, probabilities_one_RF)))"
   ]
  },
  {
   "cell_type": "code",
   "execution_count": 47,
   "metadata": {},
   "outputs": [],
   "source": [
    "def random_forest(X_train, X_test, y_train, y_test):\n",
    "    model = best_model\n",
    "    model.fit(X_train, y_train)\n",
    "    \n",
    "    predictions = model.predict(X_test)\n",
    "    accuracy = accuracy_score(y_test, predictions)\n",
    "    \n",
    "    probabilities = model.predict_proba(X_test)\n",
    "    probabilities_one = probabilities[:, 1]\n",
    "    roc_auc = roc_auc_score(y_test, probabilities_one)\n",
    "    \n",
    "    print('Площадь под ROC-кривой: {:.2f}'.format(roc_auc))\n",
    "    print('Accuracy:', round(accuracy, 2))\n",
    "    return round(accuracy, 3), round(roc_auc, 3)"
   ]
  },
  {
   "cell_type": "code",
   "execution_count": 48,
   "metadata": {},
   "outputs": [
    {
     "name": "stdout",
     "output_type": "stream",
     "text": [
      "Площадь под ROC-кривой: 0.87\n",
      "Accuracy: 0.73\n"
     ]
    }
   ],
   "source": [
    "rf_up_OHE = random_forest(features_train_upsampled_OHE, features_OHE_test, target_train_upsampled_OHE, target_OHE_test)"
   ]
  },
  {
   "cell_type": "code",
   "execution_count": 49,
   "metadata": {},
   "outputs": [
    {
     "name": "stdout",
     "output_type": "stream",
     "text": [
      "Площадь под ROC-кривой: 0.87\n",
      "Accuracy: 0.81\n"
     ]
    }
   ],
   "source": [
    "rf_ORD = random_forest(features_ordinal_train, features_ordinal_test, target_ordinal_train, target_ordinal_test)"
   ]
  },
  {
   "cell_type": "code",
   "execution_count": 50,
   "metadata": {},
   "outputs": [
    {
     "name": "stdout",
     "output_type": "stream",
     "text": [
      "Площадь под ROC-кривой: 0.86\n",
      "Accuracy: 0.75\n"
     ]
    }
   ],
   "source": [
    "rf_up_ORD = random_forest(features_train_upsampled_ordinal, features_ordinal_test, target_train_upsampled_ordinal, target_ordinal_test)"
   ]
  },
  {
   "cell_type": "code",
   "execution_count": 51,
   "metadata": {},
   "outputs": [
    {
     "name": "stdout",
     "output_type": "stream",
     "text": [
      "Площадь под ROC-кривой: 0.86\n",
      "Accuracy: 0.74\n"
     ]
    }
   ],
   "source": [
    "rf_down_OHE = random_forest(features_train_downsampled_OHE, features_OHE_test, target_train_downsampled_OHE, target_OHE_test)"
   ]
  },
  {
   "cell_type": "code",
   "execution_count": 52,
   "metadata": {},
   "outputs": [
    {
     "name": "stdout",
     "output_type": "stream",
     "text": [
      "Площадь под ROC-кривой: 0.86\n",
      "Accuracy: 0.75\n"
     ]
    }
   ],
   "source": [
    "rf_down_ORD = random_forest(features_train_downsampled_ordinal, features_ordinal_test, target_train_downsampled_ordinal, target_ordinal_test)"
   ]
  },
  {
   "cell_type": "markdown",
   "metadata": {},
   "source": [
    "#### Lgbm"
   ]
  },
  {
   "cell_type": "code",
   "execution_count": 53,
   "metadata": {},
   "outputs": [],
   "source": [
    "def lgbm(X_train, X_test, y_train, y_test):\n",
    "    model = lgb.LGBMClassifier()\n",
    "    model.fit(X_train, y_train)\n",
    "    \n",
    "    predictions = model.predict(X_test)\n",
    "    accuracy = accuracy_score(y_test, predictions)\n",
    "    \n",
    "    probabilities = model.predict_proba(X_test)\n",
    "    probabilities_one = probabilities[:, 1]\n",
    "    roc_auc = roc_auc_score(y_test, probabilities_one)\n",
    "    \n",
    "    print('Площадь под ROC-кривой: {:.2f}'.format(roc_auc))\n",
    "    print('Accuracy:', round(accuracy, 2))\n",
    "    return round(accuracy, 3), round(roc_auc, 3)"
   ]
  },
  {
   "cell_type": "code",
   "execution_count": 54,
   "metadata": {},
   "outputs": [
    {
     "name": "stdout",
     "output_type": "stream",
     "text": [
      "Площадь под ROC-кривой: 0.91\n",
      "Accuracy: 0.82\n"
     ]
    }
   ],
   "source": [
    "lgbm_up_OHE = lgbm(features_train_upsampled_OHE, features_OHE_test, target_train_upsampled_OHE, target_OHE_test)"
   ]
  },
  {
   "cell_type": "code",
   "execution_count": 55,
   "metadata": {},
   "outputs": [
    {
     "name": "stdout",
     "output_type": "stream",
     "text": [
      "Площадь под ROC-кривой: 0.90\n",
      "Accuracy: 0.85\n"
     ]
    }
   ],
   "source": [
    "lgbm_ORD = lgbm(features_ordinal_train, features_ordinal_test, target_ordinal_train, target_ordinal_test)"
   ]
  },
  {
   "cell_type": "code",
   "execution_count": 56,
   "metadata": {},
   "outputs": [
    {
     "name": "stdout",
     "output_type": "stream",
     "text": [
      "Площадь под ROC-кривой: 0.91\n",
      "Accuracy: 0.82\n"
     ]
    }
   ],
   "source": [
    "lgbm_up_ORD = lgbm(features_train_upsampled_ordinal, features_ordinal_test, target_train_upsampled_ordinal, target_ordinal_test)"
   ]
  },
  {
   "cell_type": "code",
   "execution_count": 57,
   "metadata": {},
   "outputs": [
    {
     "name": "stdout",
     "output_type": "stream",
     "text": [
      "Площадь под ROC-кривой: 0.89\n",
      "Accuracy: 0.79\n"
     ]
    }
   ],
   "source": [
    "lgbm_down_OHE = lgbm(features_train_downsampled_OHE, features_OHE_test, target_train_downsampled_OHE, target_OHE_test)\n"
   ]
  },
  {
   "cell_type": "code",
   "execution_count": 58,
   "metadata": {},
   "outputs": [
    {
     "name": "stdout",
     "output_type": "stream",
     "text": [
      "Площадь под ROC-кривой: 0.88\n",
      "Accuracy: 0.77\n"
     ]
    }
   ],
   "source": [
    "lgbm_down_ORD = lgbm(features_train_downsampled_ordinal, features_ordinal_test, target_train_downsampled_ordinal, target_ordinal_test)"
   ]
  },
  {
   "cell_type": "markdown",
   "metadata": {},
   "source": [
    "#### XGBoost"
   ]
  },
  {
   "cell_type": "code",
   "execution_count": 59,
   "metadata": {},
   "outputs": [],
   "source": [
    "def XGBoost_model(X_train, X_test, y_train, y_test):\n",
    "    model = XGBClassifier(iterations=100, verbose = 0)\n",
    "    model.fit(X_train, y_train)\n",
    "    \n",
    "    predictions = model.predict(X_test)\n",
    "    accuracy = accuracy_score(y_test, predictions)\n",
    "    \n",
    "    probabilities = model.predict_proba(X_test)\n",
    "    probabilities_one = probabilities[:, 1]\n",
    "    roc_auc = roc_auc_score(y_test, probabilities_one)\n",
    "    \n",
    "    print('Площадь под ROC-кривой: {:.2f}'.format(roc_auc))\n",
    "    print('Accuracy:', round(accuracy, 2))\n",
    "    return round(accuracy, 3), round(roc_auc, 3)"
   ]
  },
  {
   "cell_type": "code",
   "execution_count": 60,
   "metadata": {},
   "outputs": [
    {
     "name": "stdout",
     "output_type": "stream",
     "text": [
      "Площадь под ROC-кривой: 0.89\n",
      "Accuracy: 0.75\n"
     ]
    }
   ],
   "source": [
    "XGB_up_OHE = XGBoost_model(features_train_upsampled_OHE, features_OHE_test, target_train_upsampled_OHE, target_OHE_test)\n"
   ]
  },
  {
   "cell_type": "code",
   "execution_count": 61,
   "metadata": {},
   "outputs": [
    {
     "name": "stdout",
     "output_type": "stream",
     "text": [
      "Площадь под ROC-кривой: 0.88\n",
      "Accuracy: 0.83\n"
     ]
    }
   ],
   "source": [
    "XGB_ORD = XGBoost_model(features_ordinal_train, features_ordinal_test, target_ordinal_train, target_ordinal_test)\n"
   ]
  },
  {
   "cell_type": "code",
   "execution_count": 62,
   "metadata": {},
   "outputs": [
    {
     "name": "stdout",
     "output_type": "stream",
     "text": [
      "Площадь под ROC-кривой: 0.88\n",
      "Accuracy: 0.74\n"
     ]
    }
   ],
   "source": [
    "XGB_up_ORD = XGBoost_model(features_train_upsampled_ordinal, features_ordinal_test, target_train_upsampled_ordinal, target_ordinal_test)\n"
   ]
  },
  {
   "cell_type": "code",
   "execution_count": 63,
   "metadata": {},
   "outputs": [
    {
     "name": "stdout",
     "output_type": "stream",
     "text": [
      "Площадь под ROC-кривой: 0.88\n",
      "Accuracy: 0.76\n"
     ]
    }
   ],
   "source": [
    "XGB_down_OHE = XGBoost_model(features_train_downsampled_OHE, features_OHE_test, target_train_downsampled_OHE, target_OHE_test)\n"
   ]
  },
  {
   "cell_type": "code",
   "execution_count": 64,
   "metadata": {},
   "outputs": [
    {
     "name": "stdout",
     "output_type": "stream",
     "text": [
      "Площадь под ROC-кривой: 0.88\n",
      "Accuracy: 0.76\n"
     ]
    }
   ],
   "source": [
    "XGB_down_ORD = XGBoost_model(features_train_downsampled_ordinal, features_ordinal_test, target_train_downsampled_ordinal, target_ordinal_test)"
   ]
  },
  {
   "cell_type": "markdown",
   "metadata": {},
   "source": [
    "#### CatBoost"
   ]
  },
  {
   "cell_type": "code",
   "execution_count": 65,
   "metadata": {},
   "outputs": [],
   "source": [
    "def CatBoost_model(X_train, X_test, y_train, y_test):\n",
    "    model = CatBoostClassifier(eval_metric='AUC', iterations=500, verbose = 500)\n",
    "    model.fit(X_train, y_train)\n",
    "    \n",
    "    predictions = model.predict(X_test)\n",
    "    accuracy = accuracy_score(y_test, predictions)\n",
    "    \n",
    "    probabilities = model.predict_proba(X_test)\n",
    "    probabilities_one = probabilities[:, 1]\n",
    "    roc_auc = roc_auc_score(y_test, probabilities_one)\n",
    "    \n",
    "    print('Площадь под ROC-кривой: {:.2f}'.format(roc_auc))\n",
    "    print('Accuracy:', round(accuracy, 2))\n",
    "    return round(accuracy, 3), round(roc_auc, 3)"
   ]
  },
  {
   "cell_type": "code",
   "execution_count": 66,
   "metadata": {},
   "outputs": [
    {
     "name": "stdout",
     "output_type": "stream",
     "text": [
      "Learning rate set to 0.059712\n",
      "0:\ttotal: 84.3ms\tremaining: 42.1s\n",
      "499:\ttotal: 59s\tremaining: 0us\n",
      "Площадь под ROC-кривой: 0.91\n",
      "Accuracy: 0.83\n"
     ]
    }
   ],
   "source": [
    "cb_up_OHE = CatBoost_model(features_train_upsampled_OHE, features_OHE_test, target_train_upsampled_OHE, target_OHE_test)"
   ]
  },
  {
   "cell_type": "code",
   "execution_count": 67,
   "metadata": {},
   "outputs": [
    {
     "name": "stdout",
     "output_type": "stream",
     "text": [
      "Learning rate set to 0.050678\n",
      "0:\ttotal: 13.6ms\tremaining: 6.79s\n",
      "499:\ttotal: 20.6s\tremaining: 0us\n",
      "Площадь под ROC-кривой: 0.91\n",
      "Accuracy: 0.86\n"
     ]
    }
   ],
   "source": [
    "cb_ORD = CatBoost_model(features_ordinal_train, features_ordinal_test, target_ordinal_train, target_ordinal_test)"
   ]
  },
  {
   "cell_type": "code",
   "execution_count": 68,
   "metadata": {},
   "outputs": [
    {
     "name": "stdout",
     "output_type": "stream",
     "text": [
      "Learning rate set to 0.059712\n",
      "0:\ttotal: 28ms\tremaining: 14s\n",
      "499:\ttotal: 1m 1s\tremaining: 0us\n",
      "Площадь под ROC-кривой: 0.91\n",
      "Accuracy: 0.83\n"
     ]
    }
   ],
   "source": [
    "cb_up_ORD = CatBoost_model(features_train_upsampled_ordinal, features_ordinal_test, target_train_upsampled_ordinal, target_ordinal_test)\n"
   ]
  },
  {
   "cell_type": "code",
   "execution_count": 69,
   "metadata": {},
   "outputs": [
    {
     "name": "stdout",
     "output_type": "stream",
     "text": [
      "Learning rate set to 0.041253\n",
      "0:\ttotal: 9.49ms\tremaining: 4.74s\n",
      "499:\ttotal: 14.8s\tremaining: 0us\n",
      "Площадь под ROC-кривой: 0.89\n",
      "Accuracy: 0.78\n"
     ]
    }
   ],
   "source": [
    "cb_down_OHE = CatBoost_model(features_train_downsampled_OHE, features_OHE_test, target_train_downsampled_OHE, target_OHE_test)"
   ]
  },
  {
   "cell_type": "code",
   "execution_count": 70,
   "metadata": {},
   "outputs": [
    {
     "name": "stdout",
     "output_type": "stream",
     "text": [
      "Learning rate set to 0.041253\n",
      "0:\ttotal: 8.42ms\tremaining: 4.2s\n",
      "499:\ttotal: 15.4s\tremaining: 0us\n",
      "Площадь под ROC-кривой: 0.88\n",
      "Accuracy: 0.77\n"
     ]
    }
   ],
   "source": [
    "cb_down_ORD = CatBoost_model(features_train_downsampled_ordinal, features_ordinal_test, target_train_downsampled_ordinal, target_ordinal_test)"
   ]
  },
  {
   "cell_type": "markdown",
   "metadata": {},
   "source": [
    "#### Logistic regression"
   ]
  },
  {
   "cell_type": "code",
   "execution_count": 71,
   "metadata": {},
   "outputs": [],
   "source": [
    "def logistic_regression(X_train, X_test, y_train, y_test):\n",
    "    model = LogisticRegression(class_weight = 'balanced', penalty = 'l2', solver = 'liblinear')\n",
    "    model.fit(X_train, y_train)\n",
    "    \n",
    "    predictions = model.predict(X_test)\n",
    "    accuracy = accuracy_score(y_test, predictions)\n",
    "    \n",
    "    probabilities = model.predict_proba(X_test)\n",
    "    probabilities_one = probabilities[:, 1]\n",
    "    roc_auc = roc_auc_score(y_test, probabilities_one)\n",
    "    \n",
    "    print('Площадь под ROC-кривой: {:.2f}'.format(roc_auc))\n",
    "    print('Accuracy:', round(accuracy, 2))\n",
    "    return round(accuracy, 3), round(roc_auc, 3)"
   ]
  },
  {
   "cell_type": "code",
   "execution_count": 72,
   "metadata": {},
   "outputs": [
    {
     "name": "stdout",
     "output_type": "stream",
     "text": [
      "Площадь под ROC-кривой: 0.85\n",
      "Accuracy: 0.76\n"
     ]
    }
   ],
   "source": [
    "lg_up_OHE = logistic_regression(features_train_upsampled_OHE, features_OHE_test, target_train_upsampled_OHE, target_OHE_test)"
   ]
  },
  {
   "cell_type": "code",
   "execution_count": 73,
   "metadata": {},
   "outputs": [
    {
     "name": "stdout",
     "output_type": "stream",
     "text": [
      "Площадь под ROC-кривой: 0.85\n",
      "Accuracy: 0.75\n"
     ]
    }
   ],
   "source": [
    "lg_ORD = logistic_regression(features_ordinal_train, features_ordinal_test, target_ordinal_train, target_ordinal_test)"
   ]
  },
  {
   "cell_type": "code",
   "execution_count": 74,
   "metadata": {},
   "outputs": [
    {
     "name": "stdout",
     "output_type": "stream",
     "text": [
      "Площадь под ROC-кривой: 0.85\n",
      "Accuracy: 0.75\n"
     ]
    }
   ],
   "source": [
    "lg_up_ORD = logistic_regression(features_train_upsampled_ordinal, features_ordinal_test, target_train_upsampled_ordinal, target_ordinal_test)"
   ]
  },
  {
   "cell_type": "code",
   "execution_count": 75,
   "metadata": {},
   "outputs": [
    {
     "name": "stdout",
     "output_type": "stream",
     "text": [
      "Площадь под ROC-кривой: 0.85\n",
      "Accuracy: 0.76\n"
     ]
    }
   ],
   "source": [
    "lg_dwon_OHE = logistic_regression(features_train_downsampled_OHE, features_OHE_test, target_train_downsampled_OHE, target_OHE_test)"
   ]
  },
  {
   "cell_type": "code",
   "execution_count": 76,
   "metadata": {},
   "outputs": [
    {
     "name": "stdout",
     "output_type": "stream",
     "text": [
      "Площадь под ROC-кривой: 0.85\n",
      "Accuracy: 0.76\n"
     ]
    }
   ],
   "source": [
    "lg_dwon_ORD = logistic_regression(features_train_downsampled_ordinal, features_ordinal_test, target_train_downsampled_ordinal, target_ordinal_test)"
   ]
  },
  {
   "cell_type": "markdown",
   "metadata": {},
   "source": [
    "## Выводы"
   ]
  },
  {
   "cell_type": "code",
   "execution_count": 77,
   "metadata": {},
   "outputs": [],
   "source": [
    "columns = ['AUC_ROC', 'Accuracy']\n",
    "\n",
    "rf_ACC = rf_up_OHE[0], rf_ORD[0], rf_up_ORD[0], rf_down_OHE[0], rf_down_ORD[0]\n",
    "rf_AUC = rf_up_OHE[1], rf_ORD[1], rf_up_ORD[1], rf_down_OHE[1], rf_down_ORD[1]\n",
    "\n",
    "lgbm_ACC = lgbm_up_OHE[0], lgbm_ORD[0], lgbm_up_ORD[0], lgbm_down_OHE[0], lgbm_down_ORD[0]\n",
    "lgbm_AUC = lgbm_up_OHE[1], lgbm_ORD[1], lgbm_up_ORD[1], lgbm_down_OHE[1], lgbm_down_ORD[1]\n",
    "\n",
    "xgboost_ACC = XGB_up_OHE[0], XGB_ORD[0], XGB_up_ORD[0], XGB_down_OHE[0], XGB_down_ORD[0]\n",
    "xgboost_AUC = XGB_up_OHE[1], XGB_ORD[1], XGB_up_ORD[1], XGB_down_OHE[1], XGB_down_ORD[1]\n",
    "\n",
    "cb_ACC = cb_up_OHE[0], cb_ORD[0], cb_up_ORD[0], cb_down_OHE[0], cb_down_ORD[0]\n",
    "cb_AUC = cb_up_OHE[1], cb_ORD[1], cb_up_ORD[1], cb_down_OHE[1], cb_down_ORD[1]\n",
    "\n",
    "lr_ACC = lg_up_OHE[0], lg_ORD[0], lg_up_ORD[0], lg_dwon_OHE[0], lg_dwon_ORD[0]\n",
    "lr_AUC = lg_up_OHE[1], lg_ORD[1], lg_up_ORD[1], lg_dwon_OHE[1], lg_dwon_ORD[1]"
   ]
  },
  {
   "cell_type": "code",
   "execution_count": 78,
   "metadata": {},
   "outputs": [],
   "source": [
    "accuracy = list(sum([rf_ACC, lgbm_ACC, xgboost_ACC, cb_ACC, lr_ACC], ()))\n",
    "auc_roc = list(sum([rf_AUC, lgbm_AUC, xgboost_AUC, cb_AUC, lr_AUC], ()))"
   ]
  },
  {
   "cell_type": "code",
   "execution_count": 79,
   "metadata": {},
   "outputs": [],
   "source": [
    "results = pd.DataFrame(data = accuracy, columns = ['Accuracy'])\n",
    "results['AUC_ROC'] = auc_roc\n",
    "index = ['rf_up_OHE', 'rf_ORD', 'rf_up_ORD', 'rf_down_OHE', 'rf_down_ORD', 'lgbm_up_OHE', 'lgbm_ORD', 'lgbm_up_ORD', \\\n",
    "         'lgbm_down_OHE', 'lgbm_down_ORD', 'XGB_up_OHE', 'XGB_ORD', 'XGB_up_ORD', 'XGB_down_OHE', 'XGB_down_ORD', \\\n",
    "         'cb_up_OHE', 'cb_ORD', 'cb_up_ORD', 'cb_down_OHE', 'cb_down_ORD', 'lg_up_OHE', 'lg_ORD', 'lg_up_ORD', \\\n",
    "         'lg_dwon_OHE', 'lg_dwon_ORD']\n",
    "results.index = index"
   ]
  },
  {
   "cell_type": "code",
   "execution_count": 80,
   "metadata": {},
   "outputs": [
    {
     "data": {
      "text/html": [
       "<div>\n",
       "<style scoped>\n",
       "    .dataframe tbody tr th:only-of-type {\n",
       "        vertical-align: middle;\n",
       "    }\n",
       "\n",
       "    .dataframe tbody tr th {\n",
       "        vertical-align: top;\n",
       "    }\n",
       "\n",
       "    .dataframe thead th {\n",
       "        text-align: right;\n",
       "    }\n",
       "</style>\n",
       "<table border=\"1\" class=\"dataframe\">\n",
       "  <thead>\n",
       "    <tr style=\"text-align: right;\">\n",
       "      <th></th>\n",
       "      <th>Accuracy</th>\n",
       "      <th>AUC_ROC</th>\n",
       "    </tr>\n",
       "  </thead>\n",
       "  <tbody>\n",
       "    <tr>\n",
       "      <td>lgbm_up_ORD</td>\n",
       "      <td>0.821</td>\n",
       "      <td>0.912</td>\n",
       "    </tr>\n",
       "    <tr>\n",
       "      <td>cb_ORD</td>\n",
       "      <td>0.864</td>\n",
       "      <td>0.912</td>\n",
       "    </tr>\n",
       "    <tr>\n",
       "      <td>lgbm_up_OHE</td>\n",
       "      <td>0.818</td>\n",
       "      <td>0.910</td>\n",
       "    </tr>\n",
       "    <tr>\n",
       "      <td>cb_up_OHE</td>\n",
       "      <td>0.830</td>\n",
       "      <td>0.907</td>\n",
       "    </tr>\n",
       "    <tr>\n",
       "      <td>cb_up_ORD</td>\n",
       "      <td>0.833</td>\n",
       "      <td>0.906</td>\n",
       "    </tr>\n",
       "    <tr>\n",
       "      <td>lgbm_ORD</td>\n",
       "      <td>0.855</td>\n",
       "      <td>0.902</td>\n",
       "    </tr>\n",
       "    <tr>\n",
       "      <td>cb_down_OHE</td>\n",
       "      <td>0.775</td>\n",
       "      <td>0.888</td>\n",
       "    </tr>\n",
       "    <tr>\n",
       "      <td>lgbm_down_OHE</td>\n",
       "      <td>0.789</td>\n",
       "      <td>0.887</td>\n",
       "    </tr>\n",
       "    <tr>\n",
       "      <td>XGB_up_OHE</td>\n",
       "      <td>0.750</td>\n",
       "      <td>0.886</td>\n",
       "    </tr>\n",
       "    <tr>\n",
       "      <td>XGB_up_ORD</td>\n",
       "      <td>0.739</td>\n",
       "      <td>0.884</td>\n",
       "    </tr>\n",
       "    <tr>\n",
       "      <td>XGB_ORD</td>\n",
       "      <td>0.830</td>\n",
       "      <td>0.883</td>\n",
       "    </tr>\n",
       "    <tr>\n",
       "      <td>cb_down_ORD</td>\n",
       "      <td>0.774</td>\n",
       "      <td>0.881</td>\n",
       "    </tr>\n",
       "    <tr>\n",
       "      <td>lgbm_down_ORD</td>\n",
       "      <td>0.774</td>\n",
       "      <td>0.881</td>\n",
       "    </tr>\n",
       "    <tr>\n",
       "      <td>XGB_down_ORD</td>\n",
       "      <td>0.759</td>\n",
       "      <td>0.880</td>\n",
       "    </tr>\n",
       "    <tr>\n",
       "      <td>XGB_down_OHE</td>\n",
       "      <td>0.759</td>\n",
       "      <td>0.877</td>\n",
       "    </tr>\n",
       "    <tr>\n",
       "      <td>rf_up_OHE</td>\n",
       "      <td>0.734</td>\n",
       "      <td>0.866</td>\n",
       "    </tr>\n",
       "    <tr>\n",
       "      <td>rf_ORD</td>\n",
       "      <td>0.812</td>\n",
       "      <td>0.866</td>\n",
       "    </tr>\n",
       "    <tr>\n",
       "      <td>rf_up_ORD</td>\n",
       "      <td>0.749</td>\n",
       "      <td>0.865</td>\n",
       "    </tr>\n",
       "    <tr>\n",
       "      <td>rf_down_ORD</td>\n",
       "      <td>0.748</td>\n",
       "      <td>0.860</td>\n",
       "    </tr>\n",
       "    <tr>\n",
       "      <td>rf_down_OHE</td>\n",
       "      <td>0.744</td>\n",
       "      <td>0.857</td>\n",
       "    </tr>\n",
       "    <tr>\n",
       "      <td>lg_up_OHE</td>\n",
       "      <td>0.755</td>\n",
       "      <td>0.851</td>\n",
       "    </tr>\n",
       "    <tr>\n",
       "      <td>lg_dwon_OHE</td>\n",
       "      <td>0.762</td>\n",
       "      <td>0.851</td>\n",
       "    </tr>\n",
       "    <tr>\n",
       "      <td>lg_ORD</td>\n",
       "      <td>0.748</td>\n",
       "      <td>0.850</td>\n",
       "    </tr>\n",
       "    <tr>\n",
       "      <td>lg_up_ORD</td>\n",
       "      <td>0.748</td>\n",
       "      <td>0.850</td>\n",
       "    </tr>\n",
       "    <tr>\n",
       "      <td>lg_dwon_ORD</td>\n",
       "      <td>0.760</td>\n",
       "      <td>0.849</td>\n",
       "    </tr>\n",
       "  </tbody>\n",
       "</table>\n",
       "</div>"
      ],
      "text/plain": [
       "               Accuracy  AUC_ROC\n",
       "lgbm_up_ORD       0.821    0.912\n",
       "cb_ORD            0.864    0.912\n",
       "lgbm_up_OHE       0.818    0.910\n",
       "cb_up_OHE         0.830    0.907\n",
       "cb_up_ORD         0.833    0.906\n",
       "lgbm_ORD          0.855    0.902\n",
       "cb_down_OHE       0.775    0.888\n",
       "lgbm_down_OHE     0.789    0.887\n",
       "XGB_up_OHE        0.750    0.886\n",
       "XGB_up_ORD        0.739    0.884\n",
       "XGB_ORD           0.830    0.883\n",
       "cb_down_ORD       0.774    0.881\n",
       "lgbm_down_ORD     0.774    0.881\n",
       "XGB_down_ORD      0.759    0.880\n",
       "XGB_down_OHE      0.759    0.877\n",
       "rf_up_OHE         0.734    0.866\n",
       "rf_ORD            0.812    0.866\n",
       "rf_up_ORD         0.749    0.865\n",
       "rf_down_ORD       0.748    0.860\n",
       "rf_down_OHE       0.744    0.857\n",
       "lg_up_OHE         0.755    0.851\n",
       "lg_dwon_OHE       0.762    0.851\n",
       "lg_ORD            0.748    0.850\n",
       "lg_up_ORD         0.748    0.850\n",
       "lg_dwon_ORD       0.760    0.849"
      ]
     },
     "execution_count": 80,
     "metadata": {},
     "output_type": "execute_result"
    }
   ],
   "source": [
    "results.sort_values('AUC_ROC', ascending = False)"
   ]
  },
  {
   "cell_type": "markdown",
   "metadata": {},
   "source": [
    "За основу были взяты 5 моделей (Random forest, Lgbm, XGBoost, CatBoost, Logistic regression). Затем рассматривались показатели каждой модели в разных условиях:\n",
    "1. Менялся кодировщик (OHE, Ordinal)\n",
    "2. Менялся способ борьбы с дисбалансом (Upsampling, Downsampling)\n",
    "3. Оригинальные данные без борьбы с дисбалансом\n",
    "\n",
    "В качестве основной целевой метрики использовался ROC AUC и в качестве дополнительной accuracy. Итого, получилось 25 моделей. Наилучший основной скор получилось достичь сразу 2 моделям: lgbm с ordinal encoder и upsampling (0.912), а также CatBoost без работы с дисбалансом и ordinal кодировщиком (0.912). Однако, с учетом дополнительной метрики (accuracy) на первое место выходит CatBoost без работы с дисбалансом и ordinal кодировщиком с accuracy = 0.864, что на 0.064 больше, чем у модели lgbm с ordinal encoder и upsampling (0.821)."
   ]
  }
 ],
 "metadata": {
  "ExecuteTimeLog": [
   {
    "duration": 669,
    "start_time": "2021-12-16T11:03:11.771Z"
   },
   {
    "duration": 3631,
    "start_time": "2021-12-16T11:04:36.678Z"
   },
   {
    "duration": 85,
    "start_time": "2021-12-16T11:05:54.445Z"
   },
   {
    "duration": 37,
    "start_time": "2021-12-16T11:06:00.496Z"
   },
   {
    "duration": 31,
    "start_time": "2021-12-16T11:06:05.391Z"
   },
   {
    "duration": 343,
    "start_time": "2021-12-16T11:24:23.458Z"
   },
   {
    "duration": 9,
    "start_time": "2021-12-16T11:24:26.241Z"
   },
   {
    "duration": 14,
    "start_time": "2021-12-16T11:24:31.714Z"
   },
   {
    "duration": 13,
    "start_time": "2021-12-16T11:25:11.522Z"
   },
   {
    "duration": 13,
    "start_time": "2021-12-16T11:25:26.730Z"
   },
   {
    "duration": 261,
    "start_time": "2021-12-16T11:29:11.265Z"
   },
   {
    "duration": 191,
    "start_time": "2021-12-16T11:29:13.473Z"
   },
   {
    "duration": 8,
    "start_time": "2021-12-16T11:29:13.897Z"
   },
   {
    "duration": 16,
    "start_time": "2021-12-16T11:29:14.465Z"
   },
   {
    "duration": 326,
    "start_time": "2021-12-16T11:29:41.074Z"
   },
   {
    "duration": 4,
    "start_time": "2021-12-16T11:29:47.962Z"
   },
   {
    "duration": 4,
    "start_time": "2021-12-16T11:30:14.570Z"
   },
   {
    "duration": 13,
    "start_time": "2021-12-16T11:30:25.274Z"
   },
   {
    "duration": 17,
    "start_time": "2021-12-16T11:31:44.474Z"
   },
   {
    "duration": 8,
    "start_time": "2021-12-16T11:32:22.931Z"
   },
   {
    "duration": 11,
    "start_time": "2021-12-16T11:33:44.915Z"
   },
   {
    "duration": 268,
    "start_time": "2021-12-16T11:50:19.292Z"
   },
   {
    "duration": 4,
    "start_time": "2021-12-16T11:50:39.812Z"
   },
   {
    "duration": 40,
    "start_time": "2021-12-16T13:09:45.772Z"
   },
   {
    "duration": 21,
    "start_time": "2021-12-16T13:10:56.676Z"
   },
   {
    "duration": 23,
    "start_time": "2021-12-16T13:11:05.933Z"
   },
   {
    "duration": 19,
    "start_time": "2021-12-16T13:11:11.798Z"
   },
   {
    "duration": 18,
    "start_time": "2021-12-16T13:11:44.221Z"
   },
   {
    "duration": 19,
    "start_time": "2021-12-16T13:11:53.837Z"
   },
   {
    "duration": 8,
    "start_time": "2021-12-16T13:13:32.109Z"
   },
   {
    "duration": 14,
    "start_time": "2021-12-16T13:13:38.501Z"
   },
   {
    "duration": 21,
    "start_time": "2021-12-16T13:13:47.429Z"
   },
   {
    "duration": 638,
    "start_time": "2021-12-16T13:14:06.440Z"
   },
   {
    "duration": 94,
    "start_time": "2021-12-16T13:14:07.081Z"
   },
   {
    "duration": 29,
    "start_time": "2021-12-16T13:14:07.177Z"
   },
   {
    "duration": 20,
    "start_time": "2021-12-16T13:14:16.493Z"
   },
   {
    "duration": 631,
    "start_time": "2021-12-16T13:14:26.417Z"
   },
   {
    "duration": 93,
    "start_time": "2021-12-16T13:14:27.050Z"
   },
   {
    "duration": 25,
    "start_time": "2021-12-16T13:14:27.147Z"
   },
   {
    "duration": 86,
    "start_time": "2021-12-16T13:15:14.848Z"
   },
   {
    "duration": 7,
    "start_time": "2021-12-16T13:22:32.162Z"
   },
   {
    "duration": 325,
    "start_time": "2021-12-16T13:23:12.009Z"
   },
   {
    "duration": 6,
    "start_time": "2021-12-16T13:24:36.690Z"
   },
   {
    "duration": 8,
    "start_time": "2021-12-16T13:24:42.754Z"
   },
   {
    "duration": 10,
    "start_time": "2021-12-16T13:25:43.584Z"
   },
   {
    "duration": 10,
    "start_time": "2021-12-16T13:25:54.395Z"
   },
   {
    "duration": 11,
    "start_time": "2021-12-16T13:25:59.546Z"
   },
   {
    "duration": 332,
    "start_time": "2021-12-16T13:26:44.730Z"
   },
   {
    "duration": 1562,
    "start_time": "2021-12-16T13:26:57.651Z"
   },
   {
    "duration": 313,
    "start_time": "2021-12-16T13:27:13.106Z"
   },
   {
    "duration": 531,
    "start_time": "2021-12-16T13:27:27.266Z"
   },
   {
    "duration": 316,
    "start_time": "2021-12-16T13:28:36.796Z"
   },
   {
    "duration": 1227,
    "start_time": "2021-12-16T13:28:48.762Z"
   },
   {
    "duration": 2870,
    "start_time": "2021-12-16T13:29:01.450Z"
   },
   {
    "duration": 1795,
    "start_time": "2021-12-16T13:29:14.306Z"
   },
   {
    "duration": 4,
    "start_time": "2021-12-16T13:29:42.746Z"
   },
   {
    "duration": 6,
    "start_time": "2021-12-16T13:29:50.402Z"
   },
   {
    "duration": 13,
    "start_time": "2021-12-16T13:30:54.562Z"
   },
   {
    "duration": 6935,
    "start_time": "2021-12-16T13:31:23.724Z"
   },
   {
    "duration": 618,
    "start_time": "2021-12-16T13:31:36.221Z"
   },
   {
    "duration": 94,
    "start_time": "2021-12-16T13:31:36.841Z"
   },
   {
    "duration": 26,
    "start_time": "2021-12-16T13:31:36.937Z"
   },
   {
    "duration": 7231,
    "start_time": "2021-12-16T13:31:36.965Z"
   },
   {
    "duration": -47,
    "start_time": "2021-12-16T13:31:44.245Z"
   },
   {
    "duration": 7152,
    "start_time": "2021-12-16T13:31:46.445Z"
   },
   {
    "duration": 609,
    "start_time": "2021-12-16T13:31:56.612Z"
   },
   {
    "duration": 96,
    "start_time": "2021-12-16T13:31:57.223Z"
   },
   {
    "duration": 28,
    "start_time": "2021-12-16T13:31:57.324Z"
   },
   {
    "duration": 14,
    "start_time": "2021-12-16T13:31:57.354Z"
   },
   {
    "duration": 7166,
    "start_time": "2021-12-16T13:31:57.370Z"
   },
   {
    "duration": 27,
    "start_time": "2021-12-16T13:32:32.905Z"
   },
   {
    "duration": 12,
    "start_time": "2021-12-16T13:32:45.834Z"
   },
   {
    "duration": 615,
    "start_time": "2021-12-16T13:33:47.058Z"
   },
   {
    "duration": 97,
    "start_time": "2021-12-16T13:33:47.675Z"
   },
   {
    "duration": 31,
    "start_time": "2021-12-16T13:33:47.777Z"
   },
   {
    "duration": 14,
    "start_time": "2021-12-16T13:33:47.810Z"
   },
   {
    "duration": 29,
    "start_time": "2021-12-16T13:33:47.826Z"
   },
   {
    "duration": 269,
    "start_time": "2021-12-16T13:37:57.353Z"
   },
   {
    "duration": 232,
    "start_time": "2021-12-16T13:38:04.615Z"
   },
   {
    "duration": 7,
    "start_time": "2021-12-16T13:38:21.569Z"
   },
   {
    "duration": 7,
    "start_time": "2021-12-16T13:38:31.232Z"
   },
   {
    "duration": 7,
    "start_time": "2021-12-16T13:38:47.192Z"
   },
   {
    "duration": 261,
    "start_time": "2021-12-16T13:39:01.785Z"
   },
   {
    "duration": 373,
    "start_time": "2021-12-16T13:39:24.096Z"
   },
   {
    "duration": 391,
    "start_time": "2021-12-16T13:39:44.264Z"
   },
   {
    "duration": 542,
    "start_time": "2021-12-16T13:39:58.505Z"
   },
   {
    "duration": 7,
    "start_time": "2021-12-16T13:40:14.761Z"
   },
   {
    "duration": 7,
    "start_time": "2021-12-16T13:40:19.873Z"
   },
   {
    "duration": 254,
    "start_time": "2021-12-16T13:42:10.314Z"
   },
   {
    "duration": 280,
    "start_time": "2021-12-16T13:42:19.360Z"
   },
   {
    "duration": 439,
    "start_time": "2021-12-16T13:42:57.865Z"
   },
   {
    "duration": 496,
    "start_time": "2021-12-16T13:48:13.289Z"
   },
   {
    "duration": 3,
    "start_time": "2021-12-16T13:48:44.290Z"
   },
   {
    "duration": 479,
    "start_time": "2021-12-16T13:49:20.210Z"
   },
   {
    "duration": 459,
    "start_time": "2021-12-16T13:49:29.913Z"
   },
   {
    "duration": 460,
    "start_time": "2021-12-16T13:53:34.779Z"
   },
   {
    "duration": 341,
    "start_time": "2021-12-16T13:53:52.043Z"
   },
   {
    "duration": 7,
    "start_time": "2021-12-16T13:53:59.570Z"
   },
   {
    "duration": 456,
    "start_time": "2021-12-16T13:55:01.106Z"
   },
   {
    "duration": 437,
    "start_time": "2021-12-16T13:55:09.114Z"
   },
   {
    "duration": 608,
    "start_time": "2021-12-16T13:55:43.442Z"
   },
   {
    "duration": 461,
    "start_time": "2021-12-16T13:55:59.434Z"
   },
   {
    "duration": 184,
    "start_time": "2021-12-16T13:58:20.487Z"
   },
   {
    "duration": 228,
    "start_time": "2021-12-16T13:59:26.859Z"
   },
   {
    "duration": 275,
    "start_time": "2021-12-16T13:59:36.698Z"
   },
   {
    "duration": 461,
    "start_time": "2021-12-16T13:59:41.499Z"
   },
   {
    "duration": 353,
    "start_time": "2021-12-16T13:59:46.811Z"
   },
   {
    "duration": 13,
    "start_time": "2021-12-16T14:09:28.788Z"
   },
   {
    "duration": 24,
    "start_time": "2021-12-16T14:09:39.226Z"
   },
   {
    "duration": 13,
    "start_time": "2021-12-16T14:09:52.892Z"
   },
   {
    "duration": 6,
    "start_time": "2021-12-16T14:13:17.722Z"
   },
   {
    "duration": 6,
    "start_time": "2021-12-16T14:13:40.308Z"
   },
   {
    "duration": 8,
    "start_time": "2021-12-16T14:13:52.036Z"
   },
   {
    "duration": 13,
    "start_time": "2021-12-16T14:14:01.789Z"
   },
   {
    "duration": 6,
    "start_time": "2021-12-16T14:16:28.611Z"
   },
   {
    "duration": 9,
    "start_time": "2021-12-16T14:16:34.001Z"
   },
   {
    "duration": 8945,
    "start_time": "2021-12-16T14:16:59.102Z"
   },
   {
    "duration": 122,
    "start_time": "2021-12-16T14:17:16.037Z"
   },
   {
    "duration": 18,
    "start_time": "2021-12-16T14:17:21.564Z"
   },
   {
    "duration": 680,
    "start_time": "2021-12-16T14:17:34.122Z"
   },
   {
    "duration": 97,
    "start_time": "2021-12-16T14:17:34.804Z"
   },
   {
    "duration": 23,
    "start_time": "2021-12-16T14:17:34.903Z"
   },
   {
    "duration": 14,
    "start_time": "2021-12-16T14:17:34.928Z"
   },
   {
    "duration": 12,
    "start_time": "2021-12-16T14:17:34.944Z"
   },
   {
    "duration": 18,
    "start_time": "2021-12-16T14:17:34.958Z"
   },
   {
    "duration": 470,
    "start_time": "2021-12-16T14:17:34.978Z"
   },
   {
    "duration": 6,
    "start_time": "2021-12-16T14:17:35.451Z"
   },
   {
    "duration": 516,
    "start_time": "2021-12-16T14:17:35.459Z"
   },
   {
    "duration": 376,
    "start_time": "2021-12-16T14:17:35.977Z"
   },
   {
    "duration": 379,
    "start_time": "2021-12-16T14:18:52.345Z"
   },
   {
    "duration": 6,
    "start_time": "2021-12-16T14:19:15.408Z"
   },
   {
    "duration": 362,
    "start_time": "2021-12-16T14:19:29.128Z"
   },
   {
    "duration": 7,
    "start_time": "2021-12-16T14:19:35.160Z"
   },
   {
    "duration": 682,
    "start_time": "2021-12-16T14:21:21.958Z"
   },
   {
    "duration": 100,
    "start_time": "2021-12-16T14:21:22.644Z"
   },
   {
    "duration": 25,
    "start_time": "2021-12-16T14:21:22.746Z"
   },
   {
    "duration": 14,
    "start_time": "2021-12-16T14:21:22.773Z"
   },
   {
    "duration": 16,
    "start_time": "2021-12-16T14:21:22.789Z"
   },
   {
    "duration": 12,
    "start_time": "2021-12-16T14:21:22.806Z"
   },
   {
    "duration": 471,
    "start_time": "2021-12-16T14:21:22.819Z"
   },
   {
    "duration": 7,
    "start_time": "2021-12-16T14:21:23.293Z"
   },
   {
    "duration": 503,
    "start_time": "2021-12-16T14:21:23.301Z"
   },
   {
    "duration": 379,
    "start_time": "2021-12-16T14:21:23.805Z"
   },
   {
    "duration": 7,
    "start_time": "2021-12-16T14:21:24.185Z"
   },
   {
    "duration": 18,
    "start_time": "2021-12-16T14:26:44.277Z"
   },
   {
    "duration": 8,
    "start_time": "2021-12-16T14:27:51.363Z"
   },
   {
    "duration": 183,
    "start_time": "2021-12-16T14:27:59.437Z"
   },
   {
    "duration": 246,
    "start_time": "2021-12-16T14:28:09.005Z"
   },
   {
    "duration": 668,
    "start_time": "2021-12-16T14:28:22.405Z"
   },
   {
    "duration": 370,
    "start_time": "2021-12-16T14:28:31.180Z"
   },
   {
    "duration": 380,
    "start_time": "2021-12-16T14:34:01.085Z"
   },
   {
    "duration": 447,
    "start_time": "2021-12-16T14:34:05.949Z"
   },
   {
    "duration": 6,
    "start_time": "2021-12-16T14:34:50.765Z"
   },
   {
    "duration": 102,
    "start_time": "2021-12-16T14:42:07.485Z"
   },
   {
    "duration": 6,
    "start_time": "2021-12-16T14:43:08.974Z"
   },
   {
    "duration": 7,
    "start_time": "2021-12-16T14:43:15.478Z"
   },
   {
    "duration": 8,
    "start_time": "2021-12-16T14:43:29.326Z"
   },
   {
    "duration": 22,
    "start_time": "2021-12-16T14:47:25.477Z"
   },
   {
    "duration": 18,
    "start_time": "2021-12-16T14:51:17.638Z"
   },
   {
    "duration": 16,
    "start_time": "2021-12-16T14:52:38.343Z"
   },
   {
    "duration": 271,
    "start_time": "2021-12-16T14:54:23.517Z"
   },
   {
    "duration": 333,
    "start_time": "2021-12-16T14:54:36.304Z"
   },
   {
    "duration": 391,
    "start_time": "2021-12-16T14:55:50.823Z"
   },
   {
    "duration": 2754,
    "start_time": "2021-12-16T14:56:06.240Z"
   },
   {
    "duration": 17,
    "start_time": "2021-12-16T14:56:14.568Z"
   },
   {
    "duration": 7,
    "start_time": "2021-12-16T14:56:37.223Z"
   },
   {
    "duration": 8,
    "start_time": "2021-12-16T14:56:48.192Z"
   },
   {
    "duration": 12,
    "start_time": "2021-12-16T14:56:52.480Z"
   },
   {
    "duration": 671,
    "start_time": "2021-12-16T14:59:20.966Z"
   },
   {
    "duration": 96,
    "start_time": "2021-12-16T14:59:21.639Z"
   },
   {
    "duration": 22,
    "start_time": "2021-12-16T14:59:21.739Z"
   },
   {
    "duration": 14,
    "start_time": "2021-12-16T14:59:21.763Z"
   },
   {
    "duration": 21,
    "start_time": "2021-12-16T14:59:21.779Z"
   },
   {
    "duration": 7,
    "start_time": "2021-12-16T14:59:21.802Z"
   },
   {
    "duration": 606,
    "start_time": "2021-12-16T14:59:21.810Z"
   },
   {
    "duration": 9,
    "start_time": "2021-12-16T14:59:22.419Z"
   },
   {
    "duration": 781,
    "start_time": "2021-12-16T14:59:22.431Z"
   },
   {
    "duration": 382,
    "start_time": "2021-12-16T14:59:23.214Z"
   },
   {
    "duration": 6,
    "start_time": "2021-12-16T14:59:23.598Z"
   },
   {
    "duration": 382,
    "start_time": "2021-12-16T14:59:23.605Z"
   },
   {
    "duration": 7,
    "start_time": "2021-12-16T14:59:23.989Z"
   },
   {
    "duration": 29,
    "start_time": "2021-12-16T14:59:23.998Z"
   },
   {
    "duration": 27,
    "start_time": "2021-12-16T14:59:24.029Z"
   },
   {
    "duration": 331,
    "start_time": "2021-12-16T15:00:50.543Z"
   },
   {
    "duration": 3,
    "start_time": "2021-12-16T15:04:31.881Z"
   },
   {
    "duration": 266,
    "start_time": "2021-12-16T15:09:48.112Z"
   },
   {
    "duration": 8,
    "start_time": "2021-12-16T15:10:13.346Z"
   },
   {
    "duration": 8,
    "start_time": "2021-12-16T15:10:59.434Z"
   },
   {
    "duration": 271,
    "start_time": "2021-12-16T15:11:00.250Z"
   },
   {
    "duration": 8,
    "start_time": "2021-12-16T15:11:13.834Z"
   },
   {
    "duration": 271,
    "start_time": "2021-12-16T15:11:25.140Z"
   },
   {
    "duration": 3,
    "start_time": "2021-12-16T15:11:38.354Z"
   },
   {
    "duration": 6,
    "start_time": "2021-12-16T15:11:42.513Z"
   },
   {
    "duration": 6,
    "start_time": "2021-12-16T15:11:49.921Z"
   },
   {
    "duration": 6,
    "start_time": "2021-12-16T15:12:20.009Z"
   },
   {
    "duration": 5,
    "start_time": "2021-12-16T15:12:24.298Z"
   },
   {
    "duration": 19,
    "start_time": "2021-12-16T15:50:15.236Z"
   },
   {
    "duration": 708,
    "start_time": "2021-12-16T15:55:10.598Z"
   },
   {
    "duration": 92,
    "start_time": "2021-12-16T15:55:11.308Z"
   },
   {
    "duration": 26,
    "start_time": "2021-12-16T15:55:11.402Z"
   },
   {
    "duration": 21,
    "start_time": "2021-12-16T15:55:11.430Z"
   },
   {
    "duration": 12,
    "start_time": "2021-12-16T15:55:11.453Z"
   },
   {
    "duration": 14,
    "start_time": "2021-12-16T15:55:11.467Z"
   },
   {
    "duration": 461,
    "start_time": "2021-12-16T15:55:11.483Z"
   },
   {
    "duration": 9,
    "start_time": "2021-12-16T15:55:11.948Z"
   },
   {
    "duration": 504,
    "start_time": "2021-12-16T15:55:11.958Z"
   },
   {
    "duration": 368,
    "start_time": "2021-12-16T15:55:12.463Z"
   },
   {
    "duration": 16,
    "start_time": "2021-12-16T15:55:12.833Z"
   },
   {
    "duration": 376,
    "start_time": "2021-12-16T15:55:12.850Z"
   },
   {
    "duration": 7,
    "start_time": "2021-12-16T15:55:13.227Z"
   },
   {
    "duration": 17,
    "start_time": "2021-12-16T15:55:13.235Z"
   },
   {
    "duration": 31,
    "start_time": "2021-12-16T15:55:13.253Z"
   },
   {
    "duration": 10,
    "start_time": "2021-12-16T15:55:13.285Z"
   },
   {
    "duration": 21,
    "start_time": "2021-12-16T15:55:13.297Z"
   },
   {
    "duration": 101,
    "start_time": "2021-12-16T16:04:14.061Z"
   },
   {
    "duration": 19,
    "start_time": "2021-12-16T16:11:15.634Z"
   },
   {
    "duration": 21,
    "start_time": "2021-12-16T16:11:19.239Z"
   },
   {
    "duration": 310,
    "start_time": "2021-12-16T16:11:57.337Z"
   },
   {
    "duration": 21,
    "start_time": "2021-12-16T16:12:06.106Z"
   },
   {
    "duration": 5,
    "start_time": "2021-12-16T16:14:43.226Z"
   },
   {
    "duration": 17,
    "start_time": "2021-12-16T16:18:27.476Z"
   },
   {
    "duration": 21,
    "start_time": "2021-12-16T16:19:54.405Z"
   },
   {
    "duration": 18,
    "start_time": "2021-12-16T16:21:12.147Z"
   },
   {
    "duration": 17,
    "start_time": "2021-12-16T16:21:23.532Z"
   },
   {
    "duration": 16,
    "start_time": "2021-12-16T16:21:36.181Z"
   },
   {
    "duration": 169,
    "start_time": "2021-12-16T16:25:56.581Z"
   },
   {
    "duration": 328,
    "start_time": "2021-12-16T16:27:49.836Z"
   },
   {
    "duration": 321,
    "start_time": "2021-12-16T16:28:04.515Z"
   },
   {
    "duration": 22,
    "start_time": "2021-12-16T16:28:37.205Z"
   },
   {
    "duration": 2407,
    "start_time": "2021-12-16T16:28:39.204Z"
   },
   {
    "duration": 2541,
    "start_time": "2021-12-16T16:29:09.605Z"
   },
   {
    "duration": 3703,
    "start_time": "2021-12-16T16:29:54.118Z"
   },
   {
    "duration": 6,
    "start_time": "2021-12-16T16:30:55.692Z"
   },
   {
    "duration": 6,
    "start_time": "2021-12-16T16:32:33.302Z"
   },
   {
    "duration": 7,
    "start_time": "2021-12-16T16:32:40.773Z"
   },
   {
    "duration": 666,
    "start_time": "2021-12-16T16:33:53.747Z"
   },
   {
    "duration": 95,
    "start_time": "2021-12-16T16:33:54.415Z"
   },
   {
    "duration": 22,
    "start_time": "2021-12-16T16:33:54.512Z"
   },
   {
    "duration": 18,
    "start_time": "2021-12-16T16:33:54.536Z"
   },
   {
    "duration": 13,
    "start_time": "2021-12-16T16:33:54.556Z"
   },
   {
    "duration": 7,
    "start_time": "2021-12-16T16:33:54.571Z"
   },
   {
    "duration": 469,
    "start_time": "2021-12-16T16:33:54.580Z"
   },
   {
    "duration": 7,
    "start_time": "2021-12-16T16:33:55.053Z"
   },
   {
    "duration": 490,
    "start_time": "2021-12-16T16:33:55.063Z"
   },
   {
    "duration": 411,
    "start_time": "2021-12-16T16:33:55.555Z"
   },
   {
    "duration": 7,
    "start_time": "2021-12-16T16:33:55.967Z"
   },
   {
    "duration": 389,
    "start_time": "2021-12-16T16:33:55.975Z"
   },
   {
    "duration": 7,
    "start_time": "2021-12-16T16:33:56.365Z"
   },
   {
    "duration": 7,
    "start_time": "2021-12-16T16:33:56.374Z"
   },
   {
    "duration": 22,
    "start_time": "2021-12-16T16:33:56.383Z"
   },
   {
    "duration": 5,
    "start_time": "2021-12-16T16:33:56.407Z"
   },
   {
    "duration": 43,
    "start_time": "2021-12-16T16:33:56.413Z"
   },
   {
    "duration": 14,
    "start_time": "2021-12-16T16:33:56.457Z"
   },
   {
    "duration": 29,
    "start_time": "2021-12-16T16:33:56.473Z"
   },
   {
    "duration": 6,
    "start_time": "2021-12-16T16:33:56.504Z"
   },
   {
    "duration": 12,
    "start_time": "2021-12-16T16:33:56.882Z"
   },
   {
    "duration": 11,
    "start_time": "2021-12-16T16:34:04.001Z"
   },
   {
    "duration": 13,
    "start_time": "2021-12-16T16:36:17.850Z"
   },
   {
    "duration": 17,
    "start_time": "2021-12-16T16:37:12.963Z"
   },
   {
    "duration": 19,
    "start_time": "2021-12-16T16:37:47.890Z"
   },
   {
    "duration": 14,
    "start_time": "2021-12-16T16:42:07.699Z"
   },
   {
    "duration": 27,
    "start_time": "2021-12-16T16:42:42.834Z"
   },
   {
    "duration": 27,
    "start_time": "2021-12-16T16:43:25.171Z"
   },
   {
    "duration": 9,
    "start_time": "2021-12-16T17:03:16.957Z"
   },
   {
    "duration": 830,
    "start_time": "2021-12-16T17:04:21.689Z"
   },
   {
    "duration": 97,
    "start_time": "2021-12-16T17:04:22.521Z"
   },
   {
    "duration": 23,
    "start_time": "2021-12-16T17:04:22.622Z"
   },
   {
    "duration": 16,
    "start_time": "2021-12-16T17:04:22.647Z"
   },
   {
    "duration": 13,
    "start_time": "2021-12-16T17:04:22.665Z"
   },
   {
    "duration": 10,
    "start_time": "2021-12-16T17:04:22.679Z"
   },
   {
    "duration": 470,
    "start_time": "2021-12-16T17:04:22.691Z"
   },
   {
    "duration": 8,
    "start_time": "2021-12-16T17:04:23.164Z"
   },
   {
    "duration": 505,
    "start_time": "2021-12-16T17:04:23.173Z"
   },
   {
    "duration": 374,
    "start_time": "2021-12-16T17:04:23.680Z"
   },
   {
    "duration": 8,
    "start_time": "2021-12-16T17:04:24.057Z"
   },
   {
    "duration": 403,
    "start_time": "2021-12-16T17:04:24.067Z"
   },
   {
    "duration": 7,
    "start_time": "2021-12-16T17:04:24.473Z"
   },
   {
    "duration": 14,
    "start_time": "2021-12-16T17:04:24.482Z"
   },
   {
    "duration": 46,
    "start_time": "2021-12-16T17:04:24.498Z"
   },
   {
    "duration": 7,
    "start_time": "2021-12-16T17:04:24.546Z"
   },
   {
    "duration": 19,
    "start_time": "2021-12-16T17:04:24.555Z"
   },
   {
    "duration": 22,
    "start_time": "2021-12-16T17:04:24.576Z"
   },
   {
    "duration": 60,
    "start_time": "2021-12-16T17:04:24.600Z"
   },
   {
    "duration": 7,
    "start_time": "2021-12-16T17:04:24.662Z"
   },
   {
    "duration": 27,
    "start_time": "2021-12-16T17:04:24.672Z"
   },
   {
    "duration": 49,
    "start_time": "2021-12-16T17:04:24.702Z"
   },
   {
    "duration": 32,
    "start_time": "2021-12-16T17:04:24.753Z"
   },
   {
    "duration": 27,
    "start_time": "2021-12-16T17:04:24.786Z"
   },
   {
    "duration": 33,
    "start_time": "2021-12-16T17:04:24.815Z"
   },
   {
    "duration": 13,
    "start_time": "2021-12-16T17:04:36.073Z"
   },
   {
    "duration": 7,
    "start_time": "2021-12-16T17:05:01.320Z"
   },
   {
    "duration": 128,
    "start_time": "2021-12-16T17:05:46.737Z"
   },
   {
    "duration": 5,
    "start_time": "2021-12-16T17:06:55.537Z"
   },
   {
    "duration": 6,
    "start_time": "2021-12-16T17:23:01.227Z"
   },
   {
    "duration": 842,
    "start_time": "2021-12-16T17:29:33.904Z"
   },
   {
    "duration": 93,
    "start_time": "2021-12-16T17:29:34.748Z"
   },
   {
    "duration": 22,
    "start_time": "2021-12-16T17:29:34.843Z"
   },
   {
    "duration": 14,
    "start_time": "2021-12-16T17:29:34.867Z"
   },
   {
    "duration": 11,
    "start_time": "2021-12-16T17:29:34.883Z"
   },
   {
    "duration": 10,
    "start_time": "2021-12-16T17:29:34.896Z"
   },
   {
    "duration": 474,
    "start_time": "2021-12-16T17:29:34.907Z"
   },
   {
    "duration": 7,
    "start_time": "2021-12-16T17:29:35.383Z"
   },
   {
    "duration": 482,
    "start_time": "2021-12-16T17:29:35.392Z"
   },
   {
    "duration": 385,
    "start_time": "2021-12-16T17:29:35.876Z"
   },
   {
    "duration": 6,
    "start_time": "2021-12-16T17:29:36.262Z"
   },
   {
    "duration": 378,
    "start_time": "2021-12-16T17:29:36.270Z"
   },
   {
    "duration": 5,
    "start_time": "2021-12-16T17:29:36.650Z"
   },
   {
    "duration": 26,
    "start_time": "2021-12-16T17:29:36.657Z"
   },
   {
    "duration": 48,
    "start_time": "2021-12-16T17:29:36.684Z"
   },
   {
    "duration": 25,
    "start_time": "2021-12-16T17:29:36.734Z"
   },
   {
    "duration": 36,
    "start_time": "2021-12-16T17:29:36.761Z"
   },
   {
    "duration": 19,
    "start_time": "2021-12-16T17:29:36.799Z"
   },
   {
    "duration": 30,
    "start_time": "2021-12-16T17:29:36.820Z"
   },
   {
    "duration": 25,
    "start_time": "2021-12-16T17:29:36.852Z"
   },
   {
    "duration": 42,
    "start_time": "2021-12-16T17:29:36.879Z"
   },
   {
    "duration": 39,
    "start_time": "2021-12-16T17:29:36.922Z"
   },
   {
    "duration": 35,
    "start_time": "2021-12-16T17:29:36.963Z"
   },
   {
    "duration": 30,
    "start_time": "2021-12-16T17:29:37.000Z"
   },
   {
    "duration": 18,
    "start_time": "2021-12-16T17:29:37.032Z"
   },
   {
    "duration": 25,
    "start_time": "2021-12-16T17:29:37.053Z"
   },
   {
    "duration": 29,
    "start_time": "2021-12-16T17:29:37.080Z"
   },
   {
    "duration": 113,
    "start_time": "2021-12-17T15:54:05.300Z"
   },
   {
    "duration": 1690,
    "start_time": "2021-12-17T18:30:54.249Z"
   },
   {
    "duration": 1956,
    "start_time": "2021-12-17T18:31:02.190Z"
   },
   {
    "duration": 109,
    "start_time": "2021-12-17T18:31:04.150Z"
   },
   {
    "duration": 40,
    "start_time": "2021-12-17T18:31:04.263Z"
   },
   {
    "duration": 29,
    "start_time": "2021-12-17T18:31:04.307Z"
   },
   {
    "duration": 20,
    "start_time": "2021-12-17T18:31:04.368Z"
   },
   {
    "duration": 22,
    "start_time": "2021-12-17T18:31:04.391Z"
   },
   {
    "duration": 824,
    "start_time": "2021-12-17T18:31:04.416Z"
   },
   {
    "duration": 24,
    "start_time": "2021-12-17T18:31:05.247Z"
   },
   {
    "duration": 838,
    "start_time": "2021-12-17T18:31:05.276Z"
   },
   {
    "duration": 670,
    "start_time": "2021-12-17T18:31:06.117Z"
   },
   {
    "duration": 11,
    "start_time": "2021-12-17T18:31:06.790Z"
   },
   {
    "duration": 765,
    "start_time": "2021-12-17T18:31:06.804Z"
   },
   {
    "duration": 9,
    "start_time": "2021-12-17T18:31:07.572Z"
   },
   {
    "duration": 14,
    "start_time": "2021-12-17T18:31:07.583Z"
   },
   {
    "duration": 66,
    "start_time": "2021-12-17T18:31:07.600Z"
   },
   {
    "duration": 7,
    "start_time": "2021-12-17T18:31:07.669Z"
   },
   {
    "duration": 31,
    "start_time": "2021-12-17T18:31:07.679Z"
   },
   {
    "duration": 67,
    "start_time": "2021-12-17T18:31:07.713Z"
   },
   {
    "duration": 29,
    "start_time": "2021-12-17T18:31:07.783Z"
   },
   {
    "duration": 8,
    "start_time": "2021-12-17T18:31:07.815Z"
   },
   {
    "duration": 64,
    "start_time": "2021-12-17T18:31:07.825Z"
   },
   {
    "duration": 31,
    "start_time": "2021-12-17T18:31:07.891Z"
   },
   {
    "duration": 75,
    "start_time": "2021-12-17T18:31:07.927Z"
   },
   {
    "duration": 73,
    "start_time": "2021-12-17T18:31:08.005Z"
   },
   {
    "duration": 17,
    "start_time": "2021-12-17T18:31:08.080Z"
   },
   {
    "duration": 11,
    "start_time": "2021-12-17T18:31:08.101Z"
   },
   {
    "duration": 53,
    "start_time": "2021-12-17T18:31:08.115Z"
   },
   {
    "duration": 35,
    "start_time": "2021-12-17T18:32:25.255Z"
   },
   {
    "duration": 12,
    "start_time": "2021-12-17T18:32:35.879Z"
   },
   {
    "duration": 11,
    "start_time": "2021-12-17T18:33:08.709Z"
   },
   {
    "duration": 12,
    "start_time": "2021-12-17T18:33:09.038Z"
   },
   {
    "duration": 10,
    "start_time": "2021-12-17T18:33:09.415Z"
   },
   {
    "duration": 11,
    "start_time": "2021-12-17T18:33:09.848Z"
   },
   {
    "duration": 32,
    "start_time": "2021-12-17T18:33:37.759Z"
   },
   {
    "duration": 25,
    "start_time": "2021-12-17T18:35:09.447Z"
   },
   {
    "duration": 27,
    "start_time": "2021-12-17T18:35:13.431Z"
   },
   {
    "duration": 17,
    "start_time": "2021-12-17T18:35:17.335Z"
   },
   {
    "duration": 443,
    "start_time": "2021-12-17T18:40:43.273Z"
   },
   {
    "duration": 20,
    "start_time": "2021-12-17T18:42:44.784Z"
   },
   {
    "duration": 36,
    "start_time": "2021-12-17T18:42:48.456Z"
   },
   {
    "duration": 30,
    "start_time": "2021-12-17T18:47:33.008Z"
   },
   {
    "duration": 55,
    "start_time": "2021-12-17T18:47:37.984Z"
   },
   {
    "duration": 42,
    "start_time": "2021-12-17T18:48:26.369Z"
   },
   {
    "duration": 72,
    "start_time": "2021-12-17T18:48:29.321Z"
   },
   {
    "duration": 16,
    "start_time": "2021-12-17T18:48:35.986Z"
   },
   {
    "duration": 5,
    "start_time": "2021-12-17T18:48:52.417Z"
   },
   {
    "duration": 99,
    "start_time": "2021-12-17T18:50:01.401Z"
   },
   {
    "duration": 41,
    "start_time": "2021-12-17T18:50:08.273Z"
   },
   {
    "duration": 5,
    "start_time": "2021-12-17T18:50:10.554Z"
   },
   {
    "duration": 18,
    "start_time": "2021-12-17T18:50:14.561Z"
   },
   {
    "duration": 49,
    "start_time": "2021-12-17T18:50:27.329Z"
   },
   {
    "duration": 13,
    "start_time": "2021-12-17T18:51:00.586Z"
   },
   {
    "duration": 16,
    "start_time": "2021-12-17T18:51:06.041Z"
   },
   {
    "duration": 59,
    "start_time": "2021-12-17T18:51:13.905Z"
   },
   {
    "duration": 50,
    "start_time": "2021-12-17T18:51:57.721Z"
   },
   {
    "duration": 19,
    "start_time": "2021-12-17T18:54:15.521Z"
   },
   {
    "duration": 20,
    "start_time": "2021-12-17T19:00:02.154Z"
   },
   {
    "duration": 4,
    "start_time": "2021-12-17T19:08:04.596Z"
   },
   {
    "duration": 22,
    "start_time": "2021-12-17T19:08:10.203Z"
   },
   {
    "duration": 4,
    "start_time": "2021-12-17T19:08:34.697Z"
   },
   {
    "duration": 5,
    "start_time": "2021-12-17T19:08:38.979Z"
   },
   {
    "duration": 15,
    "start_time": "2021-12-17T19:08:41.380Z"
   },
   {
    "duration": 4,
    "start_time": "2021-12-17T19:08:49.396Z"
   },
   {
    "duration": 43,
    "start_time": "2021-12-17T19:08:49.603Z"
   },
   {
    "duration": 19,
    "start_time": "2021-12-17T19:08:50.051Z"
   },
   {
    "duration": 59,
    "start_time": "2021-12-17T19:08:52.861Z"
   },
   {
    "duration": 14,
    "start_time": "2021-12-17T19:12:10.085Z"
   },
   {
    "duration": 1537,
    "start_time": "2021-12-17T19:30:52.765Z"
   },
   {
    "duration": 104,
    "start_time": "2021-12-17T19:30:54.305Z"
   },
   {
    "duration": 34,
    "start_time": "2021-12-17T19:30:54.412Z"
   },
   {
    "duration": 23,
    "start_time": "2021-12-17T19:30:54.449Z"
   },
   {
    "duration": 29,
    "start_time": "2021-12-17T19:30:54.475Z"
   },
   {
    "duration": 52,
    "start_time": "2021-12-17T19:30:54.506Z"
   },
   {
    "duration": 823,
    "start_time": "2021-12-17T19:30:54.561Z"
   },
   {
    "duration": 10,
    "start_time": "2021-12-17T19:30:55.388Z"
   },
   {
    "duration": 804,
    "start_time": "2021-12-17T19:30:55.400Z"
   },
   {
    "duration": 700,
    "start_time": "2021-12-17T19:30:56.207Z"
   },
   {
    "duration": 11,
    "start_time": "2021-12-17T19:30:56.909Z"
   },
   {
    "duration": 755,
    "start_time": "2021-12-17T19:30:56.923Z"
   },
   {
    "duration": 9,
    "start_time": "2021-12-17T19:30:57.682Z"
   },
   {
    "duration": 37,
    "start_time": "2021-12-17T19:30:57.694Z"
   },
   {
    "duration": 46,
    "start_time": "2021-12-17T19:30:57.734Z"
   },
   {
    "duration": 11,
    "start_time": "2021-12-17T19:30:57.783Z"
   },
   {
    "duration": 53,
    "start_time": "2021-12-17T19:30:57.796Z"
   },
   {
    "duration": 51,
    "start_time": "2021-12-17T19:30:57.851Z"
   },
   {
    "duration": 52,
    "start_time": "2021-12-17T19:30:57.905Z"
   },
   {
    "duration": 9,
    "start_time": "2021-12-17T19:30:57.959Z"
   },
   {
    "duration": 49,
    "start_time": "2021-12-17T19:30:57.971Z"
   },
   {
    "duration": 46,
    "start_time": "2021-12-17T19:30:58.022Z"
   },
   {
    "duration": 47,
    "start_time": "2021-12-17T19:30:58.073Z"
   },
   {
    "duration": 69,
    "start_time": "2021-12-17T19:30:58.122Z"
   },
   {
    "duration": 19,
    "start_time": "2021-12-17T19:30:58.193Z"
   },
   {
    "duration": 36,
    "start_time": "2021-12-17T19:30:58.215Z"
   },
   {
    "duration": 24,
    "start_time": "2021-12-17T19:30:58.253Z"
   },
   {
    "duration": 43,
    "start_time": "2021-12-17T19:30:58.279Z"
   },
   {
    "duration": 89,
    "start_time": "2021-12-17T19:30:58.324Z"
   },
   {
    "duration": 28,
    "start_time": "2021-12-17T19:30:58.415Z"
   },
   {
    "duration": 146,
    "start_time": "2021-12-17T19:30:58.446Z"
   },
   {
    "duration": 56,
    "start_time": "2021-12-17T19:33:22.603Z"
   },
   {
    "duration": 22,
    "start_time": "2021-12-17T19:33:47.718Z"
   },
   {
    "duration": 14,
    "start_time": "2021-12-17T19:33:57.541Z"
   },
   {
    "duration": 5,
    "start_time": "2021-12-17T19:34:51.773Z"
   },
   {
    "duration": 44,
    "start_time": "2021-12-17T19:34:52.244Z"
   },
   {
    "duration": 20,
    "start_time": "2021-12-17T19:34:52.644Z"
   },
   {
    "duration": 19,
    "start_time": "2021-12-17T19:35:07.093Z"
   },
   {
    "duration": 14,
    "start_time": "2021-12-17T19:35:11.846Z"
   },
   {
    "duration": 28,
    "start_time": "2021-12-17T19:35:44.957Z"
   },
   {
    "duration": 7,
    "start_time": "2021-12-17T19:42:49.246Z"
   },
   {
    "duration": 68,
    "start_time": "2021-12-17T19:43:15.335Z"
   },
   {
    "duration": 40,
    "start_time": "2021-12-17T19:43:18.166Z"
   },
   {
    "duration": 7,
    "start_time": "2021-12-17T19:44:30.894Z"
   },
   {
    "duration": 65,
    "start_time": "2021-12-17T19:44:32.077Z"
   },
   {
    "duration": 41,
    "start_time": "2021-12-17T19:44:33.716Z"
   },
   {
    "duration": 1526,
    "start_time": "2021-12-17T19:46:29.145Z"
   },
   {
    "duration": 117,
    "start_time": "2021-12-17T19:46:30.674Z"
   },
   {
    "duration": 35,
    "start_time": "2021-12-17T19:46:30.794Z"
   },
   {
    "duration": 21,
    "start_time": "2021-12-17T19:46:30.832Z"
   },
   {
    "duration": 20,
    "start_time": "2021-12-17T19:46:30.868Z"
   },
   {
    "duration": 22,
    "start_time": "2021-12-17T19:46:30.890Z"
   },
   {
    "duration": 805,
    "start_time": "2021-12-17T19:46:30.915Z"
   },
   {
    "duration": 11,
    "start_time": "2021-12-17T19:46:31.725Z"
   },
   {
    "duration": 806,
    "start_time": "2021-12-17T19:46:31.739Z"
   },
   {
    "duration": 663,
    "start_time": "2021-12-17T19:46:32.567Z"
   },
   {
    "duration": 9,
    "start_time": "2021-12-17T19:46:33.233Z"
   },
   {
    "duration": 862,
    "start_time": "2021-12-17T19:46:33.245Z"
   },
   {
    "duration": 9,
    "start_time": "2021-12-17T19:46:34.110Z"
   },
   {
    "duration": 10,
    "start_time": "2021-12-17T19:46:34.122Z"
   },
   {
    "duration": 53,
    "start_time": "2021-12-17T19:46:34.134Z"
   },
   {
    "duration": 8,
    "start_time": "2021-12-17T19:46:34.189Z"
   },
   {
    "duration": 25,
    "start_time": "2021-12-17T19:46:34.199Z"
   },
   {
    "duration": 60,
    "start_time": "2021-12-17T19:46:34.226Z"
   },
   {
    "duration": 29,
    "start_time": "2021-12-17T19:46:34.289Z"
   },
   {
    "duration": 9,
    "start_time": "2021-12-17T19:46:34.321Z"
   },
   {
    "duration": 61,
    "start_time": "2021-12-17T19:46:34.332Z"
   },
   {
    "duration": 30,
    "start_time": "2021-12-17T19:46:34.396Z"
   },
   {
    "duration": 78,
    "start_time": "2021-12-17T19:46:34.432Z"
   },
   {
    "duration": 77,
    "start_time": "2021-12-17T19:46:34.514Z"
   },
   {
    "duration": 17,
    "start_time": "2021-12-17T19:46:34.593Z"
   },
   {
    "duration": 12,
    "start_time": "2021-12-17T19:46:34.613Z"
   },
   {
    "duration": 43,
    "start_time": "2021-12-17T19:46:34.628Z"
   },
   {
    "duration": 8,
    "start_time": "2021-12-17T19:46:34.674Z"
   },
   {
    "duration": 48,
    "start_time": "2021-12-17T19:46:34.684Z"
   },
   {
    "duration": 87,
    "start_time": "2021-12-17T19:46:34.735Z"
   },
   {
    "duration": 42,
    "start_time": "2021-12-17T19:46:34.826Z"
   },
   {
    "duration": 30,
    "start_time": "2021-12-17T19:46:34.871Z"
   },
   {
    "duration": 110,
    "start_time": "2021-12-17T19:46:34.903Z"
   },
   {
    "duration": 563,
    "start_time": "2021-12-17T19:46:34.453Z"
   },
   {
    "duration": 554,
    "start_time": "2021-12-17T19:46:34.464Z"
   },
   {
    "duration": 111,
    "start_time": "2021-12-17T19:48:28.095Z"
   },
   {
    "duration": 36,
    "start_time": "2021-12-17T19:48:34.560Z"
   },
   {
    "duration": 1487,
    "start_time": "2021-12-17T19:49:24.020Z"
   },
   {
    "duration": 106,
    "start_time": "2021-12-17T19:49:25.509Z"
   },
   {
    "duration": 36,
    "start_time": "2021-12-17T19:49:25.619Z"
   },
   {
    "duration": 22,
    "start_time": "2021-12-17T19:49:25.658Z"
   },
   {
    "duration": 20,
    "start_time": "2021-12-17T19:49:25.682Z"
   },
   {
    "duration": 9,
    "start_time": "2021-12-17T19:49:25.705Z"
   },
   {
    "duration": 814,
    "start_time": "2021-12-17T19:49:25.717Z"
   },
   {
    "duration": 9,
    "start_time": "2021-12-17T19:49:26.535Z"
   },
   {
    "duration": 780,
    "start_time": "2021-12-17T19:49:26.547Z"
   },
   {
    "duration": 659,
    "start_time": "2021-12-17T19:49:27.330Z"
   },
   {
    "duration": 9,
    "start_time": "2021-12-17T19:49:27.992Z"
   },
   {
    "duration": 759,
    "start_time": "2021-12-17T19:49:28.004Z"
   },
   {
    "duration": 10,
    "start_time": "2021-12-17T19:49:28.765Z"
   },
   {
    "duration": 11,
    "start_time": "2021-12-17T19:49:28.777Z"
   },
   {
    "duration": 31,
    "start_time": "2021-12-17T19:49:28.790Z"
   },
   {
    "duration": 43,
    "start_time": "2021-12-17T19:49:28.824Z"
   },
   {
    "duration": 25,
    "start_time": "2021-12-17T19:49:28.870Z"
   },
   {
    "duration": 22,
    "start_time": "2021-12-17T19:49:28.897Z"
   },
   {
    "duration": 65,
    "start_time": "2021-12-17T19:49:28.921Z"
   },
   {
    "duration": 8,
    "start_time": "2021-12-17T19:49:28.989Z"
   },
   {
    "duration": 29,
    "start_time": "2021-12-17T19:49:28.999Z"
   },
   {
    "duration": 67,
    "start_time": "2021-12-17T19:49:29.030Z"
   },
   {
    "duration": 66,
    "start_time": "2021-12-17T19:49:29.102Z"
   },
   {
    "duration": 44,
    "start_time": "2021-12-17T19:49:29.171Z"
   },
   {
    "duration": 49,
    "start_time": "2021-12-17T19:49:29.218Z"
   },
   {
    "duration": 9,
    "start_time": "2021-12-17T19:49:29.270Z"
   },
   {
    "duration": 21,
    "start_time": "2021-12-17T19:49:29.281Z"
   },
   {
    "duration": 8,
    "start_time": "2021-12-17T19:49:29.305Z"
   },
   {
    "duration": 66,
    "start_time": "2021-12-17T19:49:29.315Z"
   },
   {
    "duration": 56,
    "start_time": "2021-12-17T19:49:29.384Z"
   },
   {
    "duration": 38,
    "start_time": "2021-12-17T19:49:29.443Z"
   },
   {
    "duration": 28,
    "start_time": "2021-12-17T19:49:29.484Z"
   },
   {
    "duration": 139,
    "start_time": "2021-12-17T19:49:29.515Z"
   },
   {
    "duration": 41,
    "start_time": "2021-12-17T19:49:29.657Z"
   },
   {
    "duration": 29,
    "start_time": "2021-12-17T19:49:29.701Z"
   },
   {
    "duration": 76,
    "start_time": "2021-12-17T19:49:29.733Z"
   },
   {
    "duration": 1572,
    "start_time": "2021-12-17T19:50:27.736Z"
   },
   {
    "duration": 105,
    "start_time": "2021-12-17T19:50:29.311Z"
   },
   {
    "duration": 41,
    "start_time": "2021-12-17T19:50:29.419Z"
   },
   {
    "duration": 30,
    "start_time": "2021-12-17T19:50:29.463Z"
   },
   {
    "duration": 20,
    "start_time": "2021-12-17T19:50:29.495Z"
   },
   {
    "duration": 37,
    "start_time": "2021-12-17T19:50:29.518Z"
   },
   {
    "duration": 821,
    "start_time": "2021-12-17T19:50:29.558Z"
   },
   {
    "duration": 10,
    "start_time": "2021-12-17T19:50:30.383Z"
   },
   {
    "duration": 798,
    "start_time": "2021-12-17T19:50:30.396Z"
   },
   {
    "duration": 668,
    "start_time": "2021-12-17T19:50:31.196Z"
   },
   {
    "duration": 9,
    "start_time": "2021-12-17T19:50:31.868Z"
   },
   {
    "duration": 796,
    "start_time": "2021-12-17T19:50:31.879Z"
   },
   {
    "duration": 9,
    "start_time": "2021-12-17T19:50:32.678Z"
   },
   {
    "duration": 15,
    "start_time": "2021-12-17T19:50:32.690Z"
   },
   {
    "duration": 38,
    "start_time": "2021-12-17T19:50:32.707Z"
   },
   {
    "duration": 6,
    "start_time": "2021-12-17T19:50:32.747Z"
   },
   {
    "duration": 44,
    "start_time": "2021-12-17T19:50:32.755Z"
   },
   {
    "duration": 22,
    "start_time": "2021-12-17T19:50:32.802Z"
   },
   {
    "duration": 28,
    "start_time": "2021-12-17T19:50:32.826Z"
   },
   {
    "duration": 8,
    "start_time": "2021-12-17T19:50:32.857Z"
   },
   {
    "duration": 40,
    "start_time": "2021-12-17T19:50:32.867Z"
   },
   {
    "duration": 32,
    "start_time": "2021-12-17T19:50:32.909Z"
   },
   {
    "duration": 44,
    "start_time": "2021-12-17T19:50:32.946Z"
   },
   {
    "duration": 42,
    "start_time": "2021-12-17T19:50:32.993Z"
   },
   {
    "duration": 29,
    "start_time": "2021-12-17T19:50:33.038Z"
   },
   {
    "duration": 12,
    "start_time": "2021-12-17T19:50:33.070Z"
   },
   {
    "duration": 13,
    "start_time": "2021-12-17T19:50:33.085Z"
   },
   {
    "duration": 39,
    "start_time": "2021-12-17T19:50:33.100Z"
   },
   {
    "duration": 62,
    "start_time": "2021-12-17T19:50:33.141Z"
   },
   {
    "duration": 57,
    "start_time": "2021-12-17T19:50:33.205Z"
   },
   {
    "duration": 16,
    "start_time": "2021-12-17T19:50:33.264Z"
   },
   {
    "duration": 45,
    "start_time": "2021-12-17T19:50:33.283Z"
   },
   {
    "duration": 113,
    "start_time": "2021-12-17T19:50:33.331Z"
   },
   {
    "duration": 49,
    "start_time": "2021-12-17T19:50:33.447Z"
   },
   {
    "duration": 78,
    "start_time": "2021-12-17T19:50:33.499Z"
   },
   {
    "duration": 40,
    "start_time": "2021-12-17T19:50:33.579Z"
   },
   {
    "duration": 54,
    "start_time": "2021-12-17T19:54:13.576Z"
   },
   {
    "duration": 69,
    "start_time": "2021-12-17T19:54:21.592Z"
   },
   {
    "duration": 54,
    "start_time": "2021-12-17T19:54:50.639Z"
   },
   {
    "duration": 1442,
    "start_time": "2021-12-17T19:54:56.890Z"
   },
   {
    "duration": 106,
    "start_time": "2021-12-17T19:54:58.335Z"
   },
   {
    "duration": 36,
    "start_time": "2021-12-17T19:54:58.444Z"
   },
   {
    "duration": 21,
    "start_time": "2021-12-17T19:54:58.483Z"
   },
   {
    "duration": 19,
    "start_time": "2021-12-17T19:54:58.506Z"
   },
   {
    "duration": 41,
    "start_time": "2021-12-17T19:54:58.527Z"
   },
   {
    "duration": 901,
    "start_time": "2021-12-17T19:54:58.572Z"
   },
   {
    "duration": 10,
    "start_time": "2021-12-17T19:54:59.476Z"
   },
   {
    "duration": 837,
    "start_time": "2021-12-17T19:54:59.490Z"
   },
   {
    "duration": 666,
    "start_time": "2021-12-17T19:55:00.331Z"
   },
   {
    "duration": 10,
    "start_time": "2021-12-17T19:55:01.000Z"
   },
   {
    "duration": 767,
    "start_time": "2021-12-17T19:55:01.012Z"
   },
   {
    "duration": 9,
    "start_time": "2021-12-17T19:55:01.782Z"
   },
   {
    "duration": 37,
    "start_time": "2021-12-17T19:55:01.793Z"
   },
   {
    "duration": 59,
    "start_time": "2021-12-17T19:55:01.833Z"
   },
   {
    "duration": 29,
    "start_time": "2021-12-17T19:55:01.895Z"
   },
   {
    "duration": 63,
    "start_time": "2021-12-17T19:55:01.926Z"
   },
   {
    "duration": 45,
    "start_time": "2021-12-17T19:55:01.991Z"
   },
   {
    "duration": 42,
    "start_time": "2021-12-17T19:55:02.038Z"
   },
   {
    "duration": 11,
    "start_time": "2021-12-17T19:55:02.083Z"
   },
   {
    "duration": 43,
    "start_time": "2021-12-17T19:55:02.096Z"
   },
   {
    "duration": 57,
    "start_time": "2021-12-17T19:55:02.142Z"
   },
   {
    "duration": 48,
    "start_time": "2021-12-17T19:55:02.201Z"
   },
   {
    "duration": 46,
    "start_time": "2021-12-17T19:55:02.268Z"
   },
   {
    "duration": 17,
    "start_time": "2021-12-17T19:55:02.316Z"
   },
   {
    "duration": 40,
    "start_time": "2021-12-17T19:55:02.335Z"
   },
   {
    "duration": 30,
    "start_time": "2021-12-17T19:55:02.380Z"
   },
   {
    "duration": 31,
    "start_time": "2021-12-17T19:55:02.413Z"
   },
   {
    "duration": 64,
    "start_time": "2021-12-17T19:55:02.447Z"
   },
   {
    "duration": 72,
    "start_time": "2021-12-17T19:55:02.513Z"
   },
   {
    "duration": 19,
    "start_time": "2021-12-17T19:55:02.588Z"
   },
   {
    "duration": 29,
    "start_time": "2021-12-17T19:55:02.609Z"
   },
   {
    "duration": 121,
    "start_time": "2021-12-17T19:55:02.667Z"
   },
   {
    "duration": 77,
    "start_time": "2021-12-17T19:55:02.790Z"
   },
   {
    "duration": 51,
    "start_time": "2021-12-17T19:55:02.869Z"
   },
   {
    "duration": 1511,
    "start_time": "2021-12-17T19:55:32.008Z"
   },
   {
    "duration": 105,
    "start_time": "2021-12-17T19:55:33.522Z"
   },
   {
    "duration": 37,
    "start_time": "2021-12-17T19:55:33.629Z"
   },
   {
    "duration": 25,
    "start_time": "2021-12-17T19:55:33.670Z"
   },
   {
    "duration": 19,
    "start_time": "2021-12-17T19:55:33.698Z"
   },
   {
    "duration": 26,
    "start_time": "2021-12-17T19:55:33.719Z"
   },
   {
    "duration": 807,
    "start_time": "2021-12-17T19:55:33.748Z"
   },
   {
    "duration": 16,
    "start_time": "2021-12-17T19:55:34.559Z"
   },
   {
    "duration": 788,
    "start_time": "2021-12-17T19:55:34.579Z"
   },
   {
    "duration": 686,
    "start_time": "2021-12-17T19:55:35.370Z"
   },
   {
    "duration": 14,
    "start_time": "2021-12-17T19:55:36.058Z"
   },
   {
    "duration": 750,
    "start_time": "2021-12-17T19:55:36.074Z"
   },
   {
    "duration": 8,
    "start_time": "2021-12-17T19:55:36.826Z"
   },
   {
    "duration": 36,
    "start_time": "2021-12-17T19:55:36.837Z"
   },
   {
    "duration": 27,
    "start_time": "2021-12-17T19:55:36.875Z"
   },
   {
    "duration": 6,
    "start_time": "2021-12-17T19:55:36.904Z"
   },
   {
    "duration": 56,
    "start_time": "2021-12-17T19:55:36.913Z"
   },
   {
    "duration": 24,
    "start_time": "2021-12-17T19:55:36.971Z"
   },
   {
    "duration": 32,
    "start_time": "2021-12-17T19:55:36.998Z"
   },
   {
    "duration": 41,
    "start_time": "2021-12-17T19:55:37.033Z"
   },
   {
    "duration": 29,
    "start_time": "2021-12-17T19:55:37.077Z"
   },
   {
    "duration": 86,
    "start_time": "2021-12-17T19:55:37.108Z"
   },
   {
    "duration": 66,
    "start_time": "2021-12-17T19:55:37.204Z"
   },
   {
    "duration": 42,
    "start_time": "2021-12-17T19:55:37.273Z"
   },
   {
    "duration": 16,
    "start_time": "2021-12-17T19:55:37.317Z"
   },
   {
    "duration": 9,
    "start_time": "2021-12-17T19:55:37.367Z"
   },
   {
    "duration": 9,
    "start_time": "2021-12-17T19:55:37.378Z"
   },
   {
    "duration": 9,
    "start_time": "2021-12-17T19:55:37.389Z"
   },
   {
    "duration": 82,
    "start_time": "2021-12-17T19:55:37.401Z"
   },
   {
    "duration": 57,
    "start_time": "2021-12-17T19:55:37.486Z"
   },
   {
    "duration": 29,
    "start_time": "2021-12-17T19:55:37.545Z"
   },
   {
    "duration": 28,
    "start_time": "2021-12-17T19:55:37.576Z"
   },
   {
    "duration": 131,
    "start_time": "2021-12-17T19:55:37.606Z"
   },
   {
    "duration": 54,
    "start_time": "2021-12-17T19:55:37.740Z"
   },
   {
    "duration": 76,
    "start_time": "2021-12-17T19:55:37.797Z"
   },
   {
    "duration": 54,
    "start_time": "2021-12-17T19:55:37.875Z"
   },
   {
    "duration": 6,
    "start_time": "2021-12-17T19:56:10.126Z"
   },
   {
    "duration": 114,
    "start_time": "2021-12-17T19:56:10.135Z"
   },
   {
    "duration": 30,
    "start_time": "2021-12-17T19:56:10.252Z"
   },
   {
    "duration": 49,
    "start_time": "2021-12-17T19:56:10.284Z"
   },
   {
    "duration": 39,
    "start_time": "2021-12-17T19:56:10.335Z"
   },
   {
    "duration": 28,
    "start_time": "2021-12-17T19:56:10.376Z"
   },
   {
    "duration": 808,
    "start_time": "2021-12-17T19:56:10.406Z"
   },
   {
    "duration": 9,
    "start_time": "2021-12-17T19:56:11.217Z"
   },
   {
    "duration": 891,
    "start_time": "2021-12-17T19:56:11.230Z"
   },
   {
    "duration": 636,
    "start_time": "2021-12-17T19:56:12.124Z"
   },
   {
    "duration": 10,
    "start_time": "2021-12-17T19:56:12.767Z"
   },
   {
    "duration": 702,
    "start_time": "2021-12-17T19:56:12.780Z"
   },
   {
    "duration": 10,
    "start_time": "2021-12-17T19:56:13.485Z"
   },
   {
    "duration": 10,
    "start_time": "2021-12-17T19:56:13.497Z"
   },
   {
    "duration": 62,
    "start_time": "2021-12-17T19:56:13.509Z"
   },
   {
    "duration": 7,
    "start_time": "2021-12-17T19:56:13.573Z"
   },
   {
    "duration": 26,
    "start_time": "2021-12-17T19:56:13.582Z"
   },
   {
    "duration": 147,
    "start_time": "2021-12-17T19:56:13.610Z"
   },
   {
    "duration": 36,
    "start_time": "2021-12-17T19:56:13.759Z"
   },
   {
    "duration": 7,
    "start_time": "2021-12-17T19:56:13.798Z"
   },
   {
    "duration": 44,
    "start_time": "2021-12-17T19:56:13.808Z"
   },
   {
    "duration": 47,
    "start_time": "2021-12-17T19:56:13.854Z"
   },
   {
    "duration": 42,
    "start_time": "2021-12-17T19:56:13.903Z"
   },
   {
    "duration": 40,
    "start_time": "2021-12-17T19:56:13.968Z"
   },
   {
    "duration": 17,
    "start_time": "2021-12-17T19:56:14.010Z"
   },
   {
    "duration": 48,
    "start_time": "2021-12-17T19:56:14.029Z"
   },
   {
    "duration": 26,
    "start_time": "2021-12-17T19:56:14.082Z"
   },
   {
    "duration": 31,
    "start_time": "2021-12-17T19:56:14.111Z"
   },
   {
    "duration": 55,
    "start_time": "2021-12-17T19:56:14.145Z"
   },
   {
    "duration": 70,
    "start_time": "2021-12-17T19:56:14.203Z"
   },
   {
    "duration": 18,
    "start_time": "2021-12-17T19:56:14.276Z"
   },
   {
    "duration": 36,
    "start_time": "2021-12-17T19:56:14.297Z"
   },
   {
    "duration": 132,
    "start_time": "2021-12-17T19:56:14.335Z"
   },
   {
    "duration": 460,
    "start_time": "2021-12-17T19:56:16.442Z"
   },
   {
    "duration": 542,
    "start_time": "2021-12-17T19:56:16.363Z"
   },
   {
    "duration": 6,
    "start_time": "2021-12-17T19:56:40.180Z"
   },
   {
    "duration": 118,
    "start_time": "2021-12-17T19:56:40.189Z"
   },
   {
    "duration": 30,
    "start_time": "2021-12-17T19:56:40.311Z"
   },
   {
    "duration": 33,
    "start_time": "2021-12-17T19:56:40.344Z"
   },
   {
    "duration": 20,
    "start_time": "2021-12-17T19:56:40.379Z"
   },
   {
    "duration": 14,
    "start_time": "2021-12-17T19:56:40.401Z"
   },
   {
    "duration": 799,
    "start_time": "2021-12-17T19:56:40.418Z"
   },
   {
    "duration": 9,
    "start_time": "2021-12-17T19:56:41.220Z"
   },
   {
    "duration": 808,
    "start_time": "2021-12-17T19:56:41.234Z"
   },
   {
    "duration": 652,
    "start_time": "2021-12-17T19:56:42.045Z"
   },
   {
    "duration": 9,
    "start_time": "2021-12-17T19:56:42.700Z"
   },
   {
    "duration": 667,
    "start_time": "2021-12-17T19:56:42.712Z"
   },
   {
    "duration": 10,
    "start_time": "2021-12-17T19:56:43.381Z"
   },
   {
    "duration": 12,
    "start_time": "2021-12-17T19:56:43.394Z"
   },
   {
    "duration": 59,
    "start_time": "2021-12-17T19:56:43.409Z"
   },
   {
    "duration": 7,
    "start_time": "2021-12-17T19:56:43.471Z"
   },
   {
    "duration": 25,
    "start_time": "2021-12-17T19:56:43.480Z"
   },
   {
    "duration": 23,
    "start_time": "2021-12-17T19:56:43.508Z"
   },
   {
    "duration": 32,
    "start_time": "2021-12-17T19:56:43.568Z"
   },
   {
    "duration": 9,
    "start_time": "2021-12-17T19:56:43.602Z"
   },
   {
    "duration": 59,
    "start_time": "2021-12-17T19:56:43.614Z"
   },
   {
    "duration": 31,
    "start_time": "2021-12-17T19:56:43.676Z"
   },
   {
    "duration": 72,
    "start_time": "2021-12-17T19:56:43.710Z"
   },
   {
    "duration": 43,
    "start_time": "2021-12-17T19:56:43.785Z"
   },
   {
    "duration": 43,
    "start_time": "2021-12-17T19:56:43.830Z"
   },
   {
    "duration": 23,
    "start_time": "2021-12-17T19:56:43.876Z"
   },
   {
    "duration": 18,
    "start_time": "2021-12-17T19:56:43.904Z"
   },
   {
    "duration": 9,
    "start_time": "2021-12-17T19:56:43.925Z"
   },
   {
    "duration": 64,
    "start_time": "2021-12-17T19:56:43.936Z"
   },
   {
    "duration": 66,
    "start_time": "2021-12-17T19:56:44.003Z"
   },
   {
    "duration": 25,
    "start_time": "2021-12-17T19:56:44.072Z"
   },
   {
    "duration": 31,
    "start_time": "2021-12-17T19:56:44.101Z"
   },
   {
    "duration": 37,
    "start_time": "2021-12-17T19:56:44.134Z"
   },
   {
    "duration": 7,
    "start_time": "2021-12-17T19:56:44.173Z"
   },
   {
    "duration": 51,
    "start_time": "2021-12-17T19:56:54.612Z"
   },
   {
    "duration": 9,
    "start_time": "2021-12-17T19:57:10.960Z"
   },
   {
    "duration": 125,
    "start_time": "2021-12-17T19:57:10.972Z"
   },
   {
    "duration": 38,
    "start_time": "2021-12-17T19:57:11.100Z"
   },
   {
    "duration": 41,
    "start_time": "2021-12-17T19:57:11.142Z"
   },
   {
    "duration": 19,
    "start_time": "2021-12-17T19:57:11.187Z"
   },
   {
    "duration": 18,
    "start_time": "2021-12-17T19:57:11.209Z"
   },
   {
    "duration": 817,
    "start_time": "2021-12-17T19:57:11.229Z"
   },
   {
    "duration": 23,
    "start_time": "2021-12-17T19:57:12.048Z"
   },
   {
    "duration": 893,
    "start_time": "2021-12-17T19:57:12.074Z"
   },
   {
    "duration": 634,
    "start_time": "2021-12-17T19:57:12.970Z"
   },
   {
    "duration": 8,
    "start_time": "2021-12-17T19:57:13.607Z"
   },
   {
    "duration": 663,
    "start_time": "2021-12-17T19:57:13.618Z"
   },
   {
    "duration": 10,
    "start_time": "2021-12-17T19:57:14.284Z"
   },
   {
    "duration": 12,
    "start_time": "2021-12-17T19:57:14.297Z"
   },
   {
    "duration": 65,
    "start_time": "2021-12-17T19:57:14.312Z"
   },
   {
    "duration": 9,
    "start_time": "2021-12-17T19:57:14.380Z"
   },
   {
    "duration": 26,
    "start_time": "2021-12-17T19:57:14.392Z"
   },
   {
    "duration": 62,
    "start_time": "2021-12-17T19:57:14.421Z"
   },
   {
    "duration": 32,
    "start_time": "2021-12-17T19:57:14.486Z"
   },
   {
    "duration": 9,
    "start_time": "2021-12-17T19:57:14.521Z"
   },
   {
    "duration": 30,
    "start_time": "2021-12-17T19:57:14.567Z"
   },
   {
    "duration": 31,
    "start_time": "2021-12-17T19:57:14.600Z"
   },
   {
    "duration": 78,
    "start_time": "2021-12-17T19:57:14.633Z"
   },
   {
    "duration": 70,
    "start_time": "2021-12-17T19:57:14.714Z"
   },
   {
    "duration": 18,
    "start_time": "2021-12-17T19:57:14.787Z"
   },
   {
    "duration": 10,
    "start_time": "2021-12-17T19:57:14.808Z"
   },
   {
    "duration": 44,
    "start_time": "2021-12-17T19:57:14.823Z"
   },
   {
    "duration": 6,
    "start_time": "2021-12-17T19:57:14.870Z"
   },
   {
    "duration": 46,
    "start_time": "2021-12-17T19:57:14.878Z"
   },
   {
    "duration": 78,
    "start_time": "2021-12-17T19:57:14.926Z"
   },
   {
    "duration": 17,
    "start_time": "2021-12-17T19:57:15.007Z"
   },
   {
    "duration": 50,
    "start_time": "2021-12-17T19:57:15.026Z"
   },
   {
    "duration": 7,
    "start_time": "2021-12-17T19:57:15.079Z"
   },
   {
    "duration": 78,
    "start_time": "2021-12-17T19:57:15.089Z"
   },
   {
    "duration": 122,
    "start_time": "2021-12-17T19:57:15.170Z"
   },
   {
    "duration": 38,
    "start_time": "2021-12-17T19:57:15.294Z"
   },
   {
    "duration": 7,
    "start_time": "2021-12-17T19:58:11.738Z"
   },
   {
    "duration": 120,
    "start_time": "2021-12-17T19:58:11.749Z"
   },
   {
    "duration": 30,
    "start_time": "2021-12-17T19:58:11.872Z"
   },
   {
    "duration": 27,
    "start_time": "2021-12-17T19:58:11.905Z"
   },
   {
    "duration": 47,
    "start_time": "2021-12-17T19:58:11.934Z"
   },
   {
    "duration": 32,
    "start_time": "2021-12-17T19:58:11.984Z"
   },
   {
    "duration": 786,
    "start_time": "2021-12-17T19:58:12.019Z"
   },
   {
    "duration": 9,
    "start_time": "2021-12-17T19:58:12.807Z"
   },
   {
    "duration": 780,
    "start_time": "2021-12-17T19:58:12.820Z"
   },
   {
    "duration": 788,
    "start_time": "2021-12-17T19:58:13.603Z"
   },
   {
    "duration": 10,
    "start_time": "2021-12-17T19:58:14.395Z"
   },
   {
    "duration": 680,
    "start_time": "2021-12-17T19:58:14.408Z"
   },
   {
    "duration": 10,
    "start_time": "2021-12-17T19:58:15.091Z"
   },
   {
    "duration": 25,
    "start_time": "2021-12-17T19:58:15.104Z"
   },
   {
    "duration": 56,
    "start_time": "2021-12-17T19:58:15.132Z"
   },
   {
    "duration": 11,
    "start_time": "2021-12-17T19:58:15.191Z"
   },
   {
    "duration": 31,
    "start_time": "2021-12-17T19:58:15.204Z"
   },
   {
    "duration": 46,
    "start_time": "2021-12-17T19:58:15.237Z"
   },
   {
    "duration": 30,
    "start_time": "2021-12-17T19:58:15.286Z"
   },
   {
    "duration": 19,
    "start_time": "2021-12-17T19:58:15.318Z"
   },
   {
    "duration": 46,
    "start_time": "2021-12-17T19:58:15.339Z"
   },
   {
    "duration": 43,
    "start_time": "2021-12-17T19:58:15.387Z"
   },
   {
    "duration": 57,
    "start_time": "2021-12-17T19:58:15.433Z"
   },
   {
    "duration": 42,
    "start_time": "2021-12-17T19:58:15.492Z"
   },
   {
    "duration": 42,
    "start_time": "2021-12-17T19:58:15.536Z"
   },
   {
    "duration": 29,
    "start_time": "2021-12-17T19:58:15.580Z"
   },
   {
    "duration": 24,
    "start_time": "2021-12-17T19:58:15.614Z"
   },
   {
    "duration": 27,
    "start_time": "2021-12-17T19:58:15.640Z"
   },
   {
    "duration": 68,
    "start_time": "2021-12-17T19:58:15.670Z"
   },
   {
    "duration": 55,
    "start_time": "2021-12-17T19:58:15.741Z"
   },
   {
    "duration": 17,
    "start_time": "2021-12-17T19:58:15.798Z"
   },
   {
    "duration": 54,
    "start_time": "2021-12-17T19:58:15.818Z"
   },
   {
    "duration": 6,
    "start_time": "2021-12-17T19:58:15.875Z"
   },
   {
    "duration": 72,
    "start_time": "2021-12-17T19:58:15.884Z"
   },
   {
    "duration": 118,
    "start_time": "2021-12-17T19:58:15.958Z"
   },
   {
    "duration": 37,
    "start_time": "2021-12-17T19:58:16.078Z"
   },
   {
    "duration": 7,
    "start_time": "2021-12-17T19:58:49.729Z"
   },
   {
    "duration": 110,
    "start_time": "2021-12-17T19:58:49.739Z"
   },
   {
    "duration": 30,
    "start_time": "2021-12-17T19:58:49.852Z"
   },
   {
    "duration": 21,
    "start_time": "2021-12-17T19:58:49.885Z"
   },
   {
    "duration": 21,
    "start_time": "2021-12-17T19:58:49.909Z"
   },
   {
    "duration": 36,
    "start_time": "2021-12-17T19:58:49.933Z"
   },
   {
    "duration": 814,
    "start_time": "2021-12-17T19:58:49.972Z"
   },
   {
    "duration": 10,
    "start_time": "2021-12-17T19:58:50.789Z"
   },
   {
    "duration": 814,
    "start_time": "2021-12-17T19:58:50.805Z"
   },
   {
    "duration": 647,
    "start_time": "2021-12-17T19:58:51.623Z"
   },
   {
    "duration": 9,
    "start_time": "2021-12-17T19:58:52.273Z"
   },
   {
    "duration": 790,
    "start_time": "2021-12-17T19:58:52.285Z"
   },
   {
    "duration": 9,
    "start_time": "2021-12-17T19:58:53.077Z"
   },
   {
    "duration": 10,
    "start_time": "2021-12-17T19:58:53.089Z"
   },
   {
    "duration": 27,
    "start_time": "2021-12-17T19:58:53.102Z"
   },
   {
    "duration": 39,
    "start_time": "2021-12-17T19:58:53.131Z"
   },
   {
    "duration": 34,
    "start_time": "2021-12-17T19:58:53.173Z"
   },
   {
    "duration": 62,
    "start_time": "2021-12-17T19:58:53.210Z"
   },
   {
    "duration": 31,
    "start_time": "2021-12-17T19:58:53.274Z"
   },
   {
    "duration": 9,
    "start_time": "2021-12-17T19:58:53.308Z"
   },
   {
    "duration": 58,
    "start_time": "2021-12-17T19:58:53.320Z"
   },
   {
    "duration": 30,
    "start_time": "2021-12-17T19:58:53.382Z"
   },
   {
    "duration": 72,
    "start_time": "2021-12-17T19:58:53.415Z"
   },
   {
    "duration": 50,
    "start_time": "2021-12-17T19:58:53.490Z"
   },
   {
    "duration": 39,
    "start_time": "2021-12-17T19:58:53.542Z"
   },
   {
    "duration": 14,
    "start_time": "2021-12-17T19:58:53.585Z"
   },
   {
    "duration": 12,
    "start_time": "2021-12-17T19:58:53.606Z"
   },
   {
    "duration": 9,
    "start_time": "2021-12-17T19:58:53.622Z"
   },
   {
    "duration": 49,
    "start_time": "2021-12-17T19:58:53.666Z"
   },
   {
    "duration": 76,
    "start_time": "2021-12-17T19:58:53.718Z"
   },
   {
    "duration": 18,
    "start_time": "2021-12-17T19:58:53.796Z"
   },
   {
    "duration": 28,
    "start_time": "2021-12-17T19:58:53.816Z"
   },
   {
    "duration": 7,
    "start_time": "2021-12-17T19:58:53.868Z"
   },
   {
    "duration": 53,
    "start_time": "2021-12-17T19:58:53.877Z"
   },
   {
    "duration": 37,
    "start_time": "2021-12-17T19:58:53.932Z"
   },
   {
    "duration": 52,
    "start_time": "2021-12-17T19:58:53.971Z"
   },
   {
    "duration": 98,
    "start_time": "2021-12-17T19:59:12.725Z"
   },
   {
    "duration": 84,
    "start_time": "2021-12-17T19:59:14.917Z"
   },
   {
    "duration": 1554,
    "start_time": "2021-12-17T19:59:20.364Z"
   },
   {
    "duration": 104,
    "start_time": "2021-12-17T19:59:21.920Z"
   },
   {
    "duration": 36,
    "start_time": "2021-12-17T19:59:22.026Z"
   },
   {
    "duration": 21,
    "start_time": "2021-12-17T19:59:22.065Z"
   },
   {
    "duration": 21,
    "start_time": "2021-12-17T19:59:22.088Z"
   },
   {
    "duration": 11,
    "start_time": "2021-12-17T19:59:22.112Z"
   },
   {
    "duration": 819,
    "start_time": "2021-12-17T19:59:22.126Z"
   },
   {
    "duration": 19,
    "start_time": "2021-12-17T19:59:22.949Z"
   },
   {
    "duration": 774,
    "start_time": "2021-12-17T19:59:22.971Z"
   },
   {
    "duration": 752,
    "start_time": "2021-12-17T19:59:23.748Z"
   },
   {
    "duration": 9,
    "start_time": "2021-12-17T19:59:24.502Z"
   },
   {
    "duration": 757,
    "start_time": "2021-12-17T19:59:24.513Z"
   },
   {
    "duration": 10,
    "start_time": "2021-12-17T19:59:25.273Z"
   },
   {
    "duration": 10,
    "start_time": "2021-12-17T19:59:25.285Z"
   },
   {
    "duration": 27,
    "start_time": "2021-12-17T19:59:25.298Z"
   },
   {
    "duration": 43,
    "start_time": "2021-12-17T19:59:25.328Z"
   },
   {
    "duration": 25,
    "start_time": "2021-12-17T19:59:25.374Z"
   },
   {
    "duration": 23,
    "start_time": "2021-12-17T19:59:25.401Z"
   },
   {
    "duration": 70,
    "start_time": "2021-12-17T19:59:25.426Z"
   },
   {
    "duration": 9,
    "start_time": "2021-12-17T19:59:25.498Z"
   },
   {
    "duration": 59,
    "start_time": "2021-12-17T19:59:25.510Z"
   },
   {
    "duration": 29,
    "start_time": "2021-12-17T19:59:25.571Z"
   },
   {
    "duration": 73,
    "start_time": "2021-12-17T19:59:25.604Z"
   },
   {
    "duration": 44,
    "start_time": "2021-12-17T19:59:25.680Z"
   },
   {
    "duration": 43,
    "start_time": "2021-12-17T19:59:25.726Z"
   },
   {
    "duration": 12,
    "start_time": "2021-12-17T19:59:25.772Z"
   },
   {
    "duration": 8,
    "start_time": "2021-12-17T19:59:25.787Z"
   },
   {
    "duration": 7,
    "start_time": "2021-12-17T19:59:25.797Z"
   },
   {
    "duration": 96,
    "start_time": "2021-12-17T19:59:25.807Z"
   },
   {
    "duration": 66,
    "start_time": "2021-12-17T19:59:25.905Z"
   },
   {
    "duration": 17,
    "start_time": "2021-12-17T19:59:25.973Z"
   },
   {
    "duration": 29,
    "start_time": "2021-12-17T19:59:25.993Z"
   },
   {
    "duration": 7,
    "start_time": "2021-12-17T19:59:26.024Z"
   },
   {
    "duration": 46,
    "start_time": "2021-12-17T19:59:26.033Z"
   },
   {
    "duration": 116,
    "start_time": "2021-12-17T19:59:26.082Z"
   },
   {
    "duration": 98,
    "start_time": "2021-12-17T19:59:26.201Z"
   },
   {
    "duration": 1512,
    "start_time": "2021-12-17T20:01:08.356Z"
   },
   {
    "duration": 104,
    "start_time": "2021-12-17T20:01:09.871Z"
   },
   {
    "duration": 35,
    "start_time": "2021-12-17T20:01:09.978Z"
   },
   {
    "duration": 22,
    "start_time": "2021-12-17T20:01:10.016Z"
   },
   {
    "duration": 21,
    "start_time": "2021-12-17T20:01:10.067Z"
   },
   {
    "duration": 34,
    "start_time": "2021-12-17T20:01:10.091Z"
   },
   {
    "duration": 830,
    "start_time": "2021-12-17T20:01:10.128Z"
   },
   {
    "duration": 9,
    "start_time": "2021-12-17T20:01:10.969Z"
   },
   {
    "duration": 815,
    "start_time": "2021-12-17T20:01:10.981Z"
   },
   {
    "duration": 679,
    "start_time": "2021-12-17T20:01:11.799Z"
   },
   {
    "duration": 9,
    "start_time": "2021-12-17T20:01:12.481Z"
   },
   {
    "duration": 767,
    "start_time": "2021-12-17T20:01:12.493Z"
   },
   {
    "duration": 9,
    "start_time": "2021-12-17T20:01:13.263Z"
   },
   {
    "duration": 26,
    "start_time": "2021-12-17T20:01:13.275Z"
   },
   {
    "duration": 27,
    "start_time": "2021-12-17T20:01:13.303Z"
   },
   {
    "duration": 35,
    "start_time": "2021-12-17T20:01:13.333Z"
   },
   {
    "duration": 31,
    "start_time": "2021-12-17T20:01:13.371Z"
   },
   {
    "duration": 21,
    "start_time": "2021-12-17T20:01:13.405Z"
   },
   {
    "duration": 58,
    "start_time": "2021-12-17T20:01:13.428Z"
   },
   {
    "duration": 10,
    "start_time": "2021-12-17T20:01:13.488Z"
   },
   {
    "duration": 27,
    "start_time": "2021-12-17T20:01:13.501Z"
   },
   {
    "duration": 62,
    "start_time": "2021-12-17T20:01:13.531Z"
   },
   {
    "duration": 72,
    "start_time": "2021-12-17T20:01:13.600Z"
   },
   {
    "duration": 42,
    "start_time": "2021-12-17T20:01:13.676Z"
   },
   {
    "duration": 47,
    "start_time": "2021-12-17T20:01:13.720Z"
   },
   {
    "duration": 9,
    "start_time": "2021-12-17T20:01:13.769Z"
   },
   {
    "duration": 12,
    "start_time": "2021-12-17T20:01:13.781Z"
   },
   {
    "duration": 18,
    "start_time": "2021-12-17T20:01:13.796Z"
   },
   {
    "duration": 74,
    "start_time": "2021-12-17T20:01:13.816Z"
   },
   {
    "duration": 56,
    "start_time": "2021-12-17T20:01:13.892Z"
   },
   {
    "duration": 31,
    "start_time": "2021-12-17T20:01:13.950Z"
   },
   {
    "duration": 28,
    "start_time": "2021-12-17T20:01:13.983Z"
   },
   {
    "duration": 7,
    "start_time": "2021-12-17T20:01:14.014Z"
   },
   {
    "duration": 52,
    "start_time": "2021-12-17T20:01:14.023Z"
   },
   {
    "duration": 112,
    "start_time": "2021-12-17T20:01:14.077Z"
   },
   {
    "duration": 107,
    "start_time": "2021-12-17T20:01:14.191Z"
   },
   {
    "duration": 307,
    "start_time": "2021-12-17T20:04:33.855Z"
   },
   {
    "duration": 292,
    "start_time": "2021-12-17T20:05:09.755Z"
   },
   {
    "duration": 316,
    "start_time": "2021-12-17T20:05:15.986Z"
   },
   {
    "duration": 1509,
    "start_time": "2021-12-22T11:09:00.704Z"
   },
   {
    "duration": 105,
    "start_time": "2021-12-22T11:09:02.216Z"
   },
   {
    "duration": 33,
    "start_time": "2021-12-22T11:09:02.324Z"
   },
   {
    "duration": 26,
    "start_time": "2021-12-22T11:09:02.360Z"
   },
   {
    "duration": 21,
    "start_time": "2021-12-22T11:09:02.388Z"
   },
   {
    "duration": 16,
    "start_time": "2021-12-22T11:09:02.412Z"
   },
   {
    "duration": 807,
    "start_time": "2021-12-22T11:09:02.430Z"
   },
   {
    "duration": 10,
    "start_time": "2021-12-22T11:09:03.240Z"
   },
   {
    "duration": 794,
    "start_time": "2021-12-22T11:09:03.269Z"
   },
   {
    "duration": 657,
    "start_time": "2021-12-22T11:09:04.069Z"
   },
   {
    "duration": 8,
    "start_time": "2021-12-22T11:09:04.729Z"
   },
   {
    "duration": 738,
    "start_time": "2021-12-22T11:09:04.740Z"
   },
   {
    "duration": 9,
    "start_time": "2021-12-22T11:09:05.480Z"
   },
   {
    "duration": 12,
    "start_time": "2021-12-22T11:09:05.491Z"
   },
   {
    "duration": 61,
    "start_time": "2021-12-22T11:09:05.506Z"
   },
   {
    "duration": 7,
    "start_time": "2021-12-22T11:09:05.570Z"
   },
   {
    "duration": 27,
    "start_time": "2021-12-22T11:09:05.580Z"
   },
   {
    "duration": 23,
    "start_time": "2021-12-22T11:09:05.609Z"
   },
   {
    "duration": 30,
    "start_time": "2021-12-22T11:09:05.668Z"
   },
   {
    "duration": 9,
    "start_time": "2021-12-22T11:09:05.701Z"
   },
   {
    "duration": 58,
    "start_time": "2021-12-22T11:09:05.713Z"
   },
   {
    "duration": 36,
    "start_time": "2021-12-22T11:09:05.773Z"
   },
   {
    "duration": 73,
    "start_time": "2021-12-22T11:09:05.811Z"
   },
   {
    "duration": 41,
    "start_time": "2021-12-22T11:09:05.887Z"
   },
   {
    "duration": 44,
    "start_time": "2021-12-22T11:09:05.930Z"
   },
   {
    "duration": 13,
    "start_time": "2021-12-22T11:09:05.976Z"
   },
   {
    "duration": 7,
    "start_time": "2021-12-22T11:09:05.995Z"
   },
   {
    "duration": 13,
    "start_time": "2021-12-22T11:09:06.005Z"
   },
   {
    "duration": 79,
    "start_time": "2021-12-22T11:09:06.020Z"
   },
   {
    "duration": 69,
    "start_time": "2021-12-22T11:09:06.101Z"
   },
   {
    "duration": 18,
    "start_time": "2021-12-22T11:09:06.172Z"
   },
   {
    "duration": 29,
    "start_time": "2021-12-22T11:09:06.192Z"
   },
   {
    "duration": 7,
    "start_time": "2021-12-22T11:09:06.224Z"
   },
   {
    "duration": 14,
    "start_time": "2021-12-22T11:09:06.267Z"
   },
   {
    "duration": 116,
    "start_time": "2021-12-22T11:09:06.284Z"
   },
   {
    "duration": 107,
    "start_time": "2021-12-22T11:09:06.403Z"
   },
   {
    "duration": 309,
    "start_time": "2021-12-22T11:09:06.513Z"
   },
   {
    "duration": 9,
    "start_time": "2021-12-22T11:20:29.929Z"
   },
   {
    "duration": 10,
    "start_time": "2021-12-22T11:20:42.269Z"
   },
   {
    "duration": 8,
    "start_time": "2021-12-22T11:20:47.695Z"
   },
   {
    "duration": 6,
    "start_time": "2021-12-22T11:21:01.963Z"
   },
   {
    "duration": 5,
    "start_time": "2021-12-22T11:21:13.475Z"
   },
   {
    "duration": 6,
    "start_time": "2021-12-22T11:22:16.244Z"
   },
   {
    "duration": 556,
    "start_time": "2021-12-22T11:23:28.887Z"
   },
   {
    "duration": 314,
    "start_time": "2021-12-22T11:23:35.802Z"
   },
   {
    "duration": 1515,
    "start_time": "2021-12-22T11:23:54.678Z"
   },
   {
    "duration": 108,
    "start_time": "2021-12-22T11:23:56.196Z"
   },
   {
    "duration": 36,
    "start_time": "2021-12-22T11:23:56.307Z"
   },
   {
    "duration": 34,
    "start_time": "2021-12-22T11:23:56.346Z"
   },
   {
    "duration": 20,
    "start_time": "2021-12-22T11:23:56.383Z"
   },
   {
    "duration": 11,
    "start_time": "2021-12-22T11:23:56.406Z"
   },
   {
    "duration": 828,
    "start_time": "2021-12-22T11:23:56.419Z"
   },
   {
    "duration": 21,
    "start_time": "2021-12-22T11:23:57.253Z"
   },
   {
    "duration": 778,
    "start_time": "2021-12-22T11:23:57.277Z"
   },
   {
    "duration": 655,
    "start_time": "2021-12-22T11:23:58.058Z"
   },
   {
    "duration": 8,
    "start_time": "2021-12-22T11:23:58.715Z"
   },
   {
    "duration": 722,
    "start_time": "2021-12-22T11:23:58.725Z"
   },
   {
    "duration": 17,
    "start_time": "2021-12-22T11:23:59.449Z"
   },
   {
    "duration": 8,
    "start_time": "2021-12-22T11:23:59.469Z"
   },
   {
    "duration": 28,
    "start_time": "2021-12-22T11:23:59.480Z"
   },
   {
    "duration": 7,
    "start_time": "2021-12-22T11:23:59.511Z"
   },
   {
    "duration": 61,
    "start_time": "2021-12-22T11:23:59.520Z"
   },
   {
    "duration": 24,
    "start_time": "2021-12-22T11:23:59.583Z"
   },
   {
    "duration": 60,
    "start_time": "2021-12-22T11:23:59.609Z"
   },
   {
    "duration": 8,
    "start_time": "2021-12-22T11:23:59.671Z"
   },
   {
    "duration": 27,
    "start_time": "2021-12-22T11:23:59.682Z"
   },
   {
    "duration": 68,
    "start_time": "2021-12-22T11:23:59.712Z"
   },
   {
    "duration": 43,
    "start_time": "2021-12-22T11:23:59.786Z"
   },
   {
    "duration": 67,
    "start_time": "2021-12-22T11:23:59.832Z"
   },
   {
    "duration": 17,
    "start_time": "2021-12-22T11:23:59.901Z"
   },
   {
    "duration": 48,
    "start_time": "2021-12-22T11:23:59.921Z"
   },
   {
    "duration": 5,
    "start_time": "2021-12-22T11:23:59.971Z"
   },
   {
    "duration": 9,
    "start_time": "2021-12-22T11:23:59.979Z"
   },
   {
    "duration": 51,
    "start_time": "2021-12-22T11:23:59.990Z"
   },
   {
    "duration": 79,
    "start_time": "2021-12-22T11:24:00.043Z"
   },
   {
    "duration": 16,
    "start_time": "2021-12-22T11:24:00.125Z"
   },
   {
    "duration": 29,
    "start_time": "2021-12-22T11:24:00.169Z"
   },
   {
    "duration": 7,
    "start_time": "2021-12-22T11:24:00.201Z"
   },
   {
    "duration": 24,
    "start_time": "2021-12-22T11:24:00.210Z"
   },
   {
    "duration": 139,
    "start_time": "2021-12-22T11:24:00.237Z"
   },
   {
    "duration": 108,
    "start_time": "2021-12-22T11:24:00.378Z"
   },
   {
    "duration": 415,
    "start_time": "2021-12-22T11:24:00.488Z"
   },
   {
    "duration": 9,
    "start_time": "2021-12-22T11:24:00.905Z"
   },
   {
    "duration": 472,
    "start_time": "2021-12-22T11:24:00.918Z"
   },
   {
    "duration": -181,
    "start_time": "2021-12-22T11:24:01.574Z"
   },
   {
    "duration": 49,
    "start_time": "2021-12-22T11:24:12.856Z"
   },
   {
    "duration": 10,
    "start_time": "2021-12-22T11:24:24.232Z"
   },
   {
    "duration": 8,
    "start_time": "2021-12-22T11:24:34.912Z"
   },
   {
    "duration": 1456,
    "start_time": "2021-12-22T11:24:40.562Z"
   },
   {
    "duration": 106,
    "start_time": "2021-12-22T11:24:42.020Z"
   },
   {
    "duration": 36,
    "start_time": "2021-12-22T11:24:42.129Z"
   },
   {
    "duration": 23,
    "start_time": "2021-12-22T11:24:42.168Z"
   },
   {
    "duration": 20,
    "start_time": "2021-12-22T11:24:42.194Z"
   },
   {
    "duration": 10,
    "start_time": "2021-12-22T11:24:42.217Z"
   },
   {
    "duration": 866,
    "start_time": "2021-12-22T11:24:42.230Z"
   },
   {
    "duration": 10,
    "start_time": "2021-12-22T11:24:43.098Z"
   },
   {
    "duration": 795,
    "start_time": "2021-12-22T11:24:43.112Z"
   },
   {
    "duration": 657,
    "start_time": "2021-12-22T11:24:43.910Z"
   },
   {
    "duration": 8,
    "start_time": "2021-12-22T11:24:44.570Z"
   },
   {
    "duration": 749,
    "start_time": "2021-12-22T11:24:44.581Z"
   },
   {
    "duration": 8,
    "start_time": "2021-12-22T11:24:45.333Z"
   },
   {
    "duration": 27,
    "start_time": "2021-12-22T11:24:45.344Z"
   },
   {
    "duration": 27,
    "start_time": "2021-12-22T11:24:45.373Z"
   },
   {
    "duration": 7,
    "start_time": "2021-12-22T11:24:45.402Z"
   },
   {
    "duration": 58,
    "start_time": "2021-12-22T11:24:45.411Z"
   },
   {
    "duration": 25,
    "start_time": "2021-12-22T11:24:45.471Z"
   },
   {
    "duration": 30,
    "start_time": "2021-12-22T11:24:45.499Z"
   },
   {
    "duration": 38,
    "start_time": "2021-12-22T11:24:45.532Z"
   },
   {
    "duration": 28,
    "start_time": "2021-12-22T11:24:45.572Z"
   },
   {
    "duration": 66,
    "start_time": "2021-12-22T11:24:45.603Z"
   },
   {
    "duration": 43,
    "start_time": "2021-12-22T11:24:45.672Z"
   },
   {
    "duration": 67,
    "start_time": "2021-12-22T11:24:45.718Z"
   },
   {
    "duration": 16,
    "start_time": "2021-12-22T11:24:45.787Z"
   },
   {
    "duration": 9,
    "start_time": "2021-12-22T11:24:45.805Z"
   },
   {
    "duration": 6,
    "start_time": "2021-12-22T11:24:45.819Z"
   },
   {
    "duration": 6,
    "start_time": "2021-12-22T11:24:45.866Z"
   },
   {
    "duration": 45,
    "start_time": "2021-12-22T11:24:45.875Z"
   },
   {
    "duration": 79,
    "start_time": "2021-12-22T11:24:45.922Z"
   },
   {
    "duration": 16,
    "start_time": "2021-12-22T11:24:46.004Z"
   },
   {
    "duration": 49,
    "start_time": "2021-12-22T11:24:46.023Z"
   },
   {
    "duration": 7,
    "start_time": "2021-12-22T11:24:46.074Z"
   },
   {
    "duration": 16,
    "start_time": "2021-12-22T11:24:46.083Z"
   },
   {
    "duration": 127,
    "start_time": "2021-12-22T11:24:46.102Z"
   },
   {
    "duration": 105,
    "start_time": "2021-12-22T11:24:46.231Z"
   },
   {
    "duration": 313,
    "start_time": "2021-12-22T11:24:46.338Z"
   },
   {
    "duration": 18,
    "start_time": "2021-12-22T11:24:46.653Z"
   },
   {
    "duration": 8,
    "start_time": "2021-12-22T11:24:46.673Z"
   },
   {
    "duration": 453,
    "start_time": "2021-12-22T11:24:46.684Z"
   },
   {
    "duration": 2115,
    "start_time": "2021-12-22T11:24:56.955Z"
   },
   {
    "duration": 10,
    "start_time": "2021-12-22T11:25:01.586Z"
   },
   {
    "duration": 8,
    "start_time": "2021-12-22T11:25:26.236Z"
   },
   {
    "duration": 10,
    "start_time": "2021-12-22T11:26:26.293Z"
   },
   {
    "duration": 8,
    "start_time": "2021-12-22T11:26:27.405Z"
   },
   {
    "duration": 6,
    "start_time": "2021-12-22T11:27:30.662Z"
   },
   {
    "duration": 6,
    "start_time": "2021-12-22T11:27:59.288Z"
   },
   {
    "duration": 7,
    "start_time": "2021-12-22T11:28:04.956Z"
   },
   {
    "duration": 11,
    "start_time": "2021-12-22T11:34:56.251Z"
   },
   {
    "duration": 16,
    "start_time": "2021-12-22T11:36:02.359Z"
   },
   {
    "duration": 531,
    "start_time": "2021-12-22T11:41:38.687Z"
   },
   {
    "duration": 7,
    "start_time": "2021-12-22T11:42:09.444Z"
   },
   {
    "duration": 26,
    "start_time": "2021-12-22T11:42:15.663Z"
   },
   {
    "duration": 187,
    "start_time": "2021-12-22T11:43:30.886Z"
   },
   {
    "duration": 344,
    "start_time": "2021-12-22T11:45:38.129Z"
   },
   {
    "duration": 337,
    "start_time": "2021-12-22T11:46:06.279Z"
   },
   {
    "duration": 247305,
    "start_time": "2021-12-22T11:47:15.033Z"
   },
   {
    "duration": 4396,
    "start_time": "2021-12-22T11:51:23.523Z"
   },
   {
    "duration": 2393,
    "start_time": "2021-12-22T11:51:38.204Z"
   },
   {
    "duration": 2065,
    "start_time": "2021-12-22T11:52:02.783Z"
   },
   {
    "duration": 187401,
    "start_time": "2021-12-22T11:52:15.230Z"
   },
   {
    "duration": 295787,
    "start_time": "2021-12-22T11:58:02.626Z"
   },
   {
    "duration": 322497,
    "start_time": "2021-12-22T12:04:14.241Z"
   },
   {
    "duration": 161,
    "start_time": "2021-12-22T12:11:25.686Z"
   },
   {
    "duration": 159,
    "start_time": "2021-12-22T12:12:55.908Z"
   },
   {
    "duration": 27,
    "start_time": "2021-12-22T12:15:05.857Z"
   },
   {
    "duration": 7,
    "start_time": "2021-12-22T12:28:36.249Z"
   },
   {
    "duration": 154,
    "start_time": "2021-12-22T12:28:54.057Z"
   },
   {
    "duration": 830,
    "start_time": "2021-12-22T12:31:37.424Z"
   },
   {
    "duration": 24,
    "start_time": "2021-12-22T12:32:34.826Z"
   },
   {
    "duration": 524614,
    "start_time": "2021-12-22T12:34:34.704Z"
   },
   {
    "duration": 24,
    "start_time": "2021-12-22T12:48:29.738Z"
   },
   {
    "duration": 157,
    "start_time": "2021-12-22T12:50:33.734Z"
   },
   {
    "duration": 160,
    "start_time": "2021-12-22T12:50:54.278Z"
   },
   {
    "duration": 1591,
    "start_time": "2021-12-22T12:52:15.533Z"
   },
   {
    "duration": 105,
    "start_time": "2021-12-22T12:52:17.126Z"
   },
   {
    "duration": 36,
    "start_time": "2021-12-22T12:52:17.234Z"
   },
   {
    "duration": 22,
    "start_time": "2021-12-22T12:52:17.273Z"
   },
   {
    "duration": 24,
    "start_time": "2021-12-22T12:52:17.297Z"
   },
   {
    "duration": 44,
    "start_time": "2021-12-22T12:52:17.324Z"
   },
   {
    "duration": 822,
    "start_time": "2021-12-22T12:52:17.371Z"
   },
   {
    "duration": 10,
    "start_time": "2021-12-22T12:52:18.197Z"
   },
   {
    "duration": 790,
    "start_time": "2021-12-22T12:52:18.211Z"
   },
   {
    "duration": 656,
    "start_time": "2021-12-22T12:52:19.004Z"
   },
   {
    "duration": 9,
    "start_time": "2021-12-22T12:52:19.662Z"
   },
   {
    "duration": 756,
    "start_time": "2021-12-22T12:52:19.674Z"
   },
   {
    "duration": 10,
    "start_time": "2021-12-22T12:52:20.433Z"
   },
   {
    "duration": 24,
    "start_time": "2021-12-22T12:52:20.445Z"
   },
   {
    "duration": 27,
    "start_time": "2021-12-22T12:52:20.471Z"
   },
   {
    "duration": 6,
    "start_time": "2021-12-22T12:52:20.501Z"
   },
   {
    "duration": 65,
    "start_time": "2021-12-22T12:52:20.509Z"
   },
   {
    "duration": 24,
    "start_time": "2021-12-22T12:52:20.576Z"
   },
   {
    "duration": 31,
    "start_time": "2021-12-22T12:52:20.603Z"
   },
   {
    "duration": 36,
    "start_time": "2021-12-22T12:52:20.636Z"
   },
   {
    "duration": 28,
    "start_time": "2021-12-22T12:52:20.675Z"
   },
   {
    "duration": 68,
    "start_time": "2021-12-22T12:52:20.705Z"
   },
   {
    "duration": 43,
    "start_time": "2021-12-22T12:52:20.778Z"
   },
   {
    "duration": 68,
    "start_time": "2021-12-22T12:52:20.824Z"
   },
   {
    "duration": 17,
    "start_time": "2021-12-22T12:52:20.895Z"
   },
   {
    "duration": 12,
    "start_time": "2021-12-22T12:52:20.915Z"
   },
   {
    "duration": 41,
    "start_time": "2021-12-22T12:52:20.929Z"
   },
   {
    "duration": 6,
    "start_time": "2021-12-22T12:52:20.972Z"
   },
   {
    "duration": 54,
    "start_time": "2021-12-22T12:52:20.980Z"
   },
   {
    "duration": 81,
    "start_time": "2021-12-22T12:52:21.037Z"
   },
   {
    "duration": 18,
    "start_time": "2021-12-22T12:52:21.121Z"
   },
   {
    "duration": 50,
    "start_time": "2021-12-22T12:52:21.142Z"
   },
   {
    "duration": 6,
    "start_time": "2021-12-22T12:52:21.195Z"
   },
   {
    "duration": 17,
    "start_time": "2021-12-22T12:52:21.204Z"
   },
   {
    "duration": 136,
    "start_time": "2021-12-22T12:52:21.224Z"
   },
   {
    "duration": 104,
    "start_time": "2021-12-22T12:52:21.368Z"
   },
   {
    "duration": 18,
    "start_time": "2021-12-22T12:52:21.475Z"
   },
   {
    "duration": 321,
    "start_time": "2021-12-22T12:52:21.495Z"
   },
   {
    "duration": 16,
    "start_time": "2021-12-22T12:52:21.819Z"
   },
   {
    "duration": 16,
    "start_time": "2021-12-22T12:52:21.838Z"
   },
   {
    "duration": 40,
    "start_time": "2021-12-22T12:52:21.856Z"
   },
   {
    "duration": 27,
    "start_time": "2021-12-22T12:52:21.899Z"
   },
   {
    "duration": 1763,
    "start_time": "2021-12-22T12:53:38.167Z"
   },
   {
    "duration": 105,
    "start_time": "2021-12-22T12:53:39.933Z"
   },
   {
    "duration": 41,
    "start_time": "2021-12-22T12:53:40.042Z"
   },
   {
    "duration": 24,
    "start_time": "2021-12-22T12:53:40.086Z"
   },
   {
    "duration": 22,
    "start_time": "2021-12-22T12:53:40.113Z"
   },
   {
    "duration": 38,
    "start_time": "2021-12-22T12:53:40.138Z"
   },
   {
    "duration": 824,
    "start_time": "2021-12-22T12:53:40.179Z"
   },
   {
    "duration": 10,
    "start_time": "2021-12-22T12:53:41.006Z"
   },
   {
    "duration": 846,
    "start_time": "2021-12-22T12:53:41.020Z"
   },
   {
    "duration": 666,
    "start_time": "2021-12-22T12:53:41.869Z"
   },
   {
    "duration": 9,
    "start_time": "2021-12-22T12:53:42.537Z"
   },
   {
    "duration": 784,
    "start_time": "2021-12-22T12:53:42.567Z"
   },
   {
    "duration": 21,
    "start_time": "2021-12-22T12:53:43.354Z"
   },
   {
    "duration": 13,
    "start_time": "2021-12-22T12:53:43.379Z"
   },
   {
    "duration": 28,
    "start_time": "2021-12-22T12:53:43.395Z"
   },
   {
    "duration": 48,
    "start_time": "2021-12-22T12:53:43.426Z"
   },
   {
    "duration": 32,
    "start_time": "2021-12-22T12:53:43.477Z"
   },
   {
    "duration": 60,
    "start_time": "2021-12-22T12:53:43.512Z"
   },
   {
    "duration": 32,
    "start_time": "2021-12-22T12:53:43.574Z"
   },
   {
    "duration": 9,
    "start_time": "2021-12-22T12:53:43.608Z"
   },
   {
    "duration": 65,
    "start_time": "2021-12-22T12:53:43.619Z"
   },
   {
    "duration": 31,
    "start_time": "2021-12-22T12:53:43.686Z"
   },
   {
    "duration": 88,
    "start_time": "2021-12-22T12:53:43.719Z"
   },
   {
    "duration": 42,
    "start_time": "2021-12-22T12:53:43.809Z"
   },
   {
    "duration": 18,
    "start_time": "2021-12-22T12:53:43.869Z"
   },
   {
    "duration": 13,
    "start_time": "2021-12-22T12:53:43.891Z"
   },
   {
    "duration": 8,
    "start_time": "2021-12-22T12:53:43.912Z"
   },
   {
    "duration": 47,
    "start_time": "2021-12-22T12:53:43.923Z"
   },
   {
    "duration": 53,
    "start_time": "2021-12-22T12:53:43.973Z"
   },
   {
    "duration": 98,
    "start_time": "2021-12-22T12:53:44.029Z"
   },
   {
    "duration": 17,
    "start_time": "2021-12-22T12:53:44.129Z"
   },
   {
    "duration": 52,
    "start_time": "2021-12-22T12:53:44.148Z"
   },
   {
    "duration": 7,
    "start_time": "2021-12-22T12:53:44.202Z"
   },
   {
    "duration": 16,
    "start_time": "2021-12-22T12:53:44.212Z"
   },
   {
    "duration": 148,
    "start_time": "2021-12-22T12:53:44.231Z"
   },
   {
    "duration": 165,
    "start_time": "2021-12-22T12:53:44.383Z"
   },
   {
    "duration": 27,
    "start_time": "2021-12-22T12:53:44.551Z"
   },
   {
    "duration": 328,
    "start_time": "2021-12-22T12:53:44.581Z"
   },
   {
    "duration": 9,
    "start_time": "2021-12-22T12:53:44.912Z"
   },
   {
    "duration": 12,
    "start_time": "2021-12-22T12:53:44.924Z"
   },
   {
    "duration": 35,
    "start_time": "2021-12-22T12:53:44.967Z"
   },
   {
    "duration": 23,
    "start_time": "2021-12-22T12:53:45.004Z"
   },
   {
    "duration": 189,
    "start_time": "2021-12-22T12:53:45.030Z"
   },
   {
    "duration": 257,
    "start_time": "2021-12-22T12:53:45.222Z"
   },
   {
    "duration": 492,
    "start_time": "2021-12-22T12:53:45.483Z"
   },
   {
    "duration": 108531,
    "start_time": "2021-12-22T12:54:02.040Z"
   },
   {
    "duration": 65,
    "start_time": "2021-12-22T14:21:24.931Z"
   },
   {
    "duration": 1728,
    "start_time": "2021-12-22T14:21:33.558Z"
   },
   {
    "duration": 115,
    "start_time": "2021-12-22T14:21:35.289Z"
   },
   {
    "duration": 36,
    "start_time": "2021-12-22T14:21:35.407Z"
   },
   {
    "duration": 37,
    "start_time": "2021-12-22T14:21:35.446Z"
   },
   {
    "duration": 20,
    "start_time": "2021-12-22T14:21:35.485Z"
   },
   {
    "duration": 14,
    "start_time": "2021-12-22T14:21:35.508Z"
   },
   {
    "duration": 880,
    "start_time": "2021-12-22T14:21:35.525Z"
   },
   {
    "duration": 9,
    "start_time": "2021-12-22T14:21:36.408Z"
   },
   {
    "duration": 838,
    "start_time": "2021-12-22T14:21:36.422Z"
   },
   {
    "duration": 808,
    "start_time": "2021-12-22T14:21:37.263Z"
   },
   {
    "duration": 25,
    "start_time": "2021-12-22T14:21:38.074Z"
   },
   {
    "duration": 832,
    "start_time": "2021-12-22T14:21:38.102Z"
   },
   {
    "duration": 11,
    "start_time": "2021-12-22T14:21:38.937Z"
   },
   {
    "duration": 10,
    "start_time": "2021-12-22T14:21:38.968Z"
   },
   {
    "duration": 55,
    "start_time": "2021-12-22T14:21:38.981Z"
   },
   {
    "duration": 25,
    "start_time": "2021-12-22T14:21:39.039Z"
   },
   {
    "duration": 71,
    "start_time": "2021-12-22T14:21:39.067Z"
   },
   {
    "duration": 28,
    "start_time": "2021-12-22T14:21:39.141Z"
   },
   {
    "duration": 48,
    "start_time": "2021-12-22T14:21:39.172Z"
   },
   {
    "duration": 11,
    "start_time": "2021-12-22T14:21:39.224Z"
   },
   {
    "duration": 57,
    "start_time": "2021-12-22T14:21:39.237Z"
   },
   {
    "duration": 46,
    "start_time": "2021-12-22T14:21:39.298Z"
   },
   {
    "duration": 67,
    "start_time": "2021-12-22T14:21:39.369Z"
   },
   {
    "duration": 77,
    "start_time": "2021-12-22T14:21:39.439Z"
   },
   {
    "duration": 24,
    "start_time": "2021-12-22T14:21:39.518Z"
   },
   {
    "duration": 13,
    "start_time": "2021-12-22T14:21:39.568Z"
   },
   {
    "duration": 8,
    "start_time": "2021-12-22T14:21:39.589Z"
   },
   {
    "duration": 17,
    "start_time": "2021-12-22T14:21:39.601Z"
   },
   {
    "duration": 100,
    "start_time": "2021-12-22T14:21:39.620Z"
   },
   {
    "duration": 94,
    "start_time": "2021-12-22T14:21:39.723Z"
   },
   {
    "duration": 24,
    "start_time": "2021-12-22T14:21:39.821Z"
   },
   {
    "duration": 51,
    "start_time": "2021-12-22T14:21:39.848Z"
   },
   {
    "duration": 8,
    "start_time": "2021-12-22T14:21:39.902Z"
   },
   {
    "duration": 19,
    "start_time": "2021-12-22T14:21:39.913Z"
   },
   {
    "duration": 155,
    "start_time": "2021-12-22T14:21:39.935Z"
   },
   {
    "duration": 127,
    "start_time": "2021-12-22T14:21:40.094Z"
   },
   {
    "duration": 18,
    "start_time": "2021-12-22T14:21:40.224Z"
   },
   {
    "duration": 371,
    "start_time": "2021-12-22T14:21:40.245Z"
   },
   {
    "duration": 9,
    "start_time": "2021-12-22T14:21:40.619Z"
   },
   {
    "duration": 39,
    "start_time": "2021-12-22T14:21:40.630Z"
   },
   {
    "duration": 51,
    "start_time": "2021-12-22T14:21:40.672Z"
   },
   {
    "duration": 63,
    "start_time": "2021-12-22T14:21:40.727Z"
   },
   {
    "duration": 256,
    "start_time": "2021-12-22T14:21:40.793Z"
   },
   {
    "duration": 188,
    "start_time": "2021-12-22T14:21:41.052Z"
   },
   {
    "duration": 32349,
    "start_time": "2021-12-22T14:21:41.242Z"
   },
   {
    "duration": 186,
    "start_time": "2021-12-22T14:22:13.593Z"
   },
   {
    "duration": 109,
    "start_time": "2021-12-22T14:24:38.885Z"
   },
   {
    "duration": 62,
    "start_time": "2021-12-22T14:24:56.630Z"
   },
   {
    "duration": 171,
    "start_time": "2021-12-22T14:25:41.405Z"
   },
   {
    "duration": 164,
    "start_time": "2021-12-22T14:26:00.543Z"
   },
   {
    "duration": 184,
    "start_time": "2021-12-22T14:26:13.310Z"
   },
   {
    "duration": 187,
    "start_time": "2021-12-22T14:27:59.591Z"
   },
   {
    "duration": 1680,
    "start_time": "2021-12-22T14:28:07.700Z"
   },
   {
    "duration": 130,
    "start_time": "2021-12-22T14:28:09.384Z"
   },
   {
    "duration": 53,
    "start_time": "2021-12-22T14:28:09.519Z"
   },
   {
    "duration": 33,
    "start_time": "2021-12-22T14:28:09.576Z"
   },
   {
    "duration": 20,
    "start_time": "2021-12-22T14:28:09.612Z"
   },
   {
    "duration": 43,
    "start_time": "2021-12-22T14:28:09.635Z"
   },
   {
    "duration": 1075,
    "start_time": "2021-12-22T14:28:09.681Z"
   },
   {
    "duration": 29,
    "start_time": "2021-12-22T14:28:10.758Z"
   },
   {
    "duration": 864,
    "start_time": "2021-12-22T14:28:10.792Z"
   },
   {
    "duration": 737,
    "start_time": "2021-12-22T14:28:11.659Z"
   },
   {
    "duration": 9,
    "start_time": "2021-12-22T14:28:12.399Z"
   },
   {
    "duration": 878,
    "start_time": "2021-12-22T14:28:12.411Z"
   },
   {
    "duration": 12,
    "start_time": "2021-12-22T14:28:13.292Z"
   },
   {
    "duration": 14,
    "start_time": "2021-12-22T14:28:13.308Z"
   },
   {
    "duration": 71,
    "start_time": "2021-12-22T14:28:13.325Z"
   },
   {
    "duration": 9,
    "start_time": "2021-12-22T14:28:13.400Z"
   },
   {
    "duration": 62,
    "start_time": "2021-12-22T14:28:13.411Z"
   },
   {
    "duration": 33,
    "start_time": "2021-12-22T14:28:13.476Z"
   },
   {
    "duration": 68,
    "start_time": "2021-12-22T14:28:13.512Z"
   },
   {
    "duration": 13,
    "start_time": "2021-12-22T14:28:13.583Z"
   },
   {
    "duration": 33,
    "start_time": "2021-12-22T14:28:13.600Z"
   },
   {
    "duration": 64,
    "start_time": "2021-12-22T14:28:13.636Z"
   },
   {
    "duration": 85,
    "start_time": "2021-12-22T14:28:13.703Z"
   },
   {
    "duration": 49,
    "start_time": "2021-12-22T14:28:13.791Z"
   },
   {
    "duration": 21,
    "start_time": "2021-12-22T14:28:13.867Z"
   },
   {
    "duration": 11,
    "start_time": "2021-12-22T14:28:13.892Z"
   },
   {
    "duration": 12,
    "start_time": "2021-12-22T14:28:13.912Z"
   },
   {
    "duration": 48,
    "start_time": "2021-12-22T14:28:13.927Z"
   },
   {
    "duration": 56,
    "start_time": "2021-12-22T14:28:13.979Z"
   },
   {
    "duration": 93,
    "start_time": "2021-12-22T14:28:14.037Z"
   },
   {
    "duration": 285,
    "start_time": "2021-12-22T14:28:14.133Z"
   },
   {
    "duration": 30,
    "start_time": "2021-12-22T14:28:14.420Z"
   },
   {
    "duration": 7,
    "start_time": "2021-12-22T14:28:14.452Z"
   },
   {
    "duration": 32,
    "start_time": "2021-12-22T14:28:14.461Z"
   },
   {
    "duration": 112,
    "start_time": "2021-12-22T14:28:14.496Z"
   },
   {
    "duration": 104,
    "start_time": "2021-12-22T14:28:14.612Z"
   },
   {
    "duration": 18,
    "start_time": "2021-12-22T14:28:14.719Z"
   },
   {
    "duration": 337,
    "start_time": "2021-12-22T14:28:14.740Z"
   },
   {
    "duration": 10,
    "start_time": "2021-12-22T14:28:15.082Z"
   },
   {
    "duration": 13,
    "start_time": "2021-12-22T14:28:15.094Z"
   },
   {
    "duration": 62,
    "start_time": "2021-12-22T14:28:15.110Z"
   },
   {
    "duration": 34,
    "start_time": "2021-12-22T14:28:15.175Z"
   },
   {
    "duration": 203,
    "start_time": "2021-12-22T14:28:15.211Z"
   },
   {
    "duration": 202,
    "start_time": "2021-12-22T14:28:15.416Z"
   },
   {
    "duration": 92970,
    "start_time": "2021-12-22T14:28:15.621Z"
   },
   {
    "duration": 100,
    "start_time": "2021-12-22T14:29:48.594Z"
   },
   {
    "duration": 217,
    "start_time": "2021-12-22T15:15:31.452Z"
   },
   {
    "duration": 186,
    "start_time": "2021-12-22T15:15:41.883Z"
   },
   {
    "duration": 320,
    "start_time": "2021-12-22T15:17:55.095Z"
   },
   {
    "duration": 936,
    "start_time": "2021-12-22T15:21:12.809Z"
   },
   {
    "duration": 451,
    "start_time": "2021-12-22T15:25:17.342Z"
   },
   {
    "duration": 316,
    "start_time": "2021-12-22T15:25:25.943Z"
   },
   {
    "duration": 48,
    "start_time": "2021-12-22T15:25:33.153Z"
   },
   {
    "duration": 287,
    "start_time": "2021-12-22T15:25:57.279Z"
   },
   {
    "duration": 57,
    "start_time": "2021-12-22T15:26:17.665Z"
   },
   {
    "duration": 47,
    "start_time": "2021-12-22T15:37:45.308Z"
   },
   {
    "duration": 16,
    "start_time": "2021-12-22T15:38:43.311Z"
   },
   {
    "duration": 307,
    "start_time": "2021-12-22T15:38:45.136Z"
   },
   {
    "duration": 8,
    "start_time": "2021-12-22T15:38:46.022Z"
   },
   {
    "duration": 7,
    "start_time": "2021-12-22T15:38:46.256Z"
   },
   {
    "duration": 25,
    "start_time": "2021-12-22T15:38:46.696Z"
   },
   {
    "duration": 25,
    "start_time": "2021-12-22T15:38:47.129Z"
   },
   {
    "duration": 161,
    "start_time": "2021-12-22T15:38:48.175Z"
   },
   {
    "duration": 164,
    "start_time": "2021-12-22T15:38:48.770Z"
   },
   {
    "duration": 332,
    "start_time": "2021-12-22T15:38:49.140Z"
   },
   {
    "duration": 65,
    "start_time": "2021-12-22T15:38:49.475Z"
   },
   {
    "duration": 911,
    "start_time": "2021-12-22T15:38:49.917Z"
   },
   {
    "duration": 54,
    "start_time": "2021-12-22T15:38:50.831Z"
   },
   {
    "duration": 1528,
    "start_time": "2021-12-22T15:44:22.239Z"
   },
   {
    "duration": 104,
    "start_time": "2021-12-22T15:44:23.769Z"
   },
   {
    "duration": 33,
    "start_time": "2021-12-22T15:44:23.877Z"
   },
   {
    "duration": 22,
    "start_time": "2021-12-22T15:44:23.913Z"
   },
   {
    "duration": 46,
    "start_time": "2021-12-22T15:44:23.937Z"
   },
   {
    "duration": 15,
    "start_time": "2021-12-22T15:44:23.986Z"
   },
   {
    "duration": 824,
    "start_time": "2021-12-22T15:44:24.003Z"
   },
   {
    "duration": 9,
    "start_time": "2021-12-22T15:44:24.830Z"
   },
   {
    "duration": 823,
    "start_time": "2021-12-22T15:44:24.844Z"
   },
   {
    "duration": 659,
    "start_time": "2021-12-22T15:44:25.670Z"
   },
   {
    "duration": 9,
    "start_time": "2021-12-22T15:44:26.331Z"
   },
   {
    "duration": 771,
    "start_time": "2021-12-22T15:44:26.342Z"
   },
   {
    "duration": 9,
    "start_time": "2021-12-22T15:44:27.116Z"
   },
   {
    "duration": 39,
    "start_time": "2021-12-22T15:44:27.128Z"
   },
   {
    "duration": 30,
    "start_time": "2021-12-22T15:44:27.170Z"
   },
   {
    "duration": 9,
    "start_time": "2021-12-22T15:44:27.203Z"
   },
   {
    "duration": 58,
    "start_time": "2021-12-22T15:44:27.215Z"
   },
   {
    "duration": 24,
    "start_time": "2021-12-22T15:44:27.276Z"
   },
   {
    "duration": 31,
    "start_time": "2021-12-22T15:44:27.303Z"
   },
   {
    "duration": 9,
    "start_time": "2021-12-22T15:44:27.368Z"
   },
   {
    "duration": 28,
    "start_time": "2021-12-22T15:44:27.379Z"
   },
   {
    "duration": 72,
    "start_time": "2021-12-22T15:44:27.410Z"
   },
   {
    "duration": 43,
    "start_time": "2021-12-22T15:44:27.484Z"
   },
   {
    "duration": 68,
    "start_time": "2021-12-22T15:44:27.529Z"
   },
   {
    "duration": 18,
    "start_time": "2021-12-22T15:44:27.599Z"
   },
   {
    "duration": 13,
    "start_time": "2021-12-22T15:44:27.619Z"
   },
   {
    "duration": 6,
    "start_time": "2021-12-22T15:44:27.666Z"
   },
   {
    "duration": 7,
    "start_time": "2021-12-22T15:44:27.675Z"
   },
   {
    "duration": 47,
    "start_time": "2021-12-22T15:44:27.684Z"
   },
   {
    "duration": 85,
    "start_time": "2021-12-22T15:44:27.733Z"
   },
   {
    "duration": 18,
    "start_time": "2021-12-22T15:44:27.821Z"
   },
   {
    "duration": 49,
    "start_time": "2021-12-22T15:44:27.842Z"
   },
   {
    "duration": 4,
    "start_time": "2021-12-22T15:44:27.894Z"
   },
   {
    "duration": 7,
    "start_time": "2021-12-22T15:44:27.901Z"
   },
   {
    "duration": 157,
    "start_time": "2021-12-22T15:44:27.910Z"
   },
   {
    "duration": 1499,
    "start_time": "2021-12-22T15:44:28.069Z"
   },
   {
    "duration": 510,
    "start_time": "2021-12-22T15:44:29.571Z"
   },
   {
    "duration": -231,
    "start_time": "2021-12-22T15:44:30.315Z"
   },
   {
    "duration": -236,
    "start_time": "2021-12-22T15:44:30.321Z"
   },
   {
    "duration": -239,
    "start_time": "2021-12-22T15:44:30.326Z"
   },
   {
    "duration": -242,
    "start_time": "2021-12-22T15:44:30.331Z"
   },
   {
    "duration": -248,
    "start_time": "2021-12-22T15:44:30.338Z"
   },
   {
    "duration": -251,
    "start_time": "2021-12-22T15:44:30.343Z"
   },
   {
    "duration": -262,
    "start_time": "2021-12-22T15:44:30.355Z"
   },
   {
    "duration": -266,
    "start_time": "2021-12-22T15:44:30.360Z"
   },
   {
    "duration": -269,
    "start_time": "2021-12-22T15:44:30.365Z"
   },
   {
    "duration": -273,
    "start_time": "2021-12-22T15:44:30.370Z"
   },
   {
    "duration": -276,
    "start_time": "2021-12-22T15:44:30.375Z"
   },
   {
    "duration": 8,
    "start_time": "2021-12-22T15:47:01.704Z"
   },
   {
    "duration": 106,
    "start_time": "2021-12-22T15:47:04.002Z"
   },
   {
    "duration": 88,
    "start_time": "2021-12-22T15:47:06.885Z"
   },
   {
    "duration": 307,
    "start_time": "2021-12-22T15:49:01.292Z"
   },
   {
    "duration": 1620,
    "start_time": "2021-12-22T15:49:11.832Z"
   },
   {
    "duration": 106,
    "start_time": "2021-12-22T15:49:13.454Z"
   },
   {
    "duration": 32,
    "start_time": "2021-12-22T15:49:13.563Z"
   },
   {
    "duration": 20,
    "start_time": "2021-12-22T15:49:13.599Z"
   },
   {
    "duration": 19,
    "start_time": "2021-12-22T15:49:13.621Z"
   },
   {
    "duration": 30,
    "start_time": "2021-12-22T15:49:13.643Z"
   },
   {
    "duration": 815,
    "start_time": "2021-12-22T15:49:13.675Z"
   },
   {
    "duration": 9,
    "start_time": "2021-12-22T15:49:14.492Z"
   },
   {
    "duration": 787,
    "start_time": "2021-12-22T15:49:14.506Z"
   },
   {
    "duration": 635,
    "start_time": "2021-12-22T15:49:15.297Z"
   },
   {
    "duration": 9,
    "start_time": "2021-12-22T15:49:15.934Z"
   },
   {
    "duration": 740,
    "start_time": "2021-12-22T15:49:15.946Z"
   },
   {
    "duration": 9,
    "start_time": "2021-12-22T15:49:16.688Z"
   },
   {
    "duration": 12,
    "start_time": "2021-12-22T15:49:16.699Z"
   },
   {
    "duration": 59,
    "start_time": "2021-12-22T15:49:16.713Z"
   },
   {
    "duration": 8,
    "start_time": "2021-12-22T15:49:16.776Z"
   },
   {
    "duration": 30,
    "start_time": "2021-12-22T15:49:16.787Z"
   },
   {
    "duration": 51,
    "start_time": "2021-12-22T15:49:16.819Z"
   },
   {
    "duration": 31,
    "start_time": "2021-12-22T15:49:16.872Z"
   },
   {
    "duration": 9,
    "start_time": "2021-12-22T15:49:16.906Z"
   },
   {
    "duration": 64,
    "start_time": "2021-12-22T15:49:16.917Z"
   },
   {
    "duration": 30,
    "start_time": "2021-12-22T15:49:16.983Z"
   },
   {
    "duration": 74,
    "start_time": "2021-12-22T15:49:17.016Z"
   },
   {
    "duration": 46,
    "start_time": "2021-12-22T15:49:17.093Z"
   },
   {
    "duration": 18,
    "start_time": "2021-12-22T15:49:17.167Z"
   },
   {
    "duration": 9,
    "start_time": "2021-12-22T15:49:17.188Z"
   },
   {
    "duration": 6,
    "start_time": "2021-12-22T15:49:17.203Z"
   },
   {
    "duration": 6,
    "start_time": "2021-12-22T15:49:17.212Z"
   },
   {
    "duration": 42,
    "start_time": "2021-12-22T15:49:17.267Z"
   },
   {
    "duration": 80,
    "start_time": "2021-12-22T15:49:17.312Z"
   },
   {
    "duration": 16,
    "start_time": "2021-12-22T15:49:17.395Z"
   },
   {
    "duration": 53,
    "start_time": "2021-12-22T15:49:17.414Z"
   },
   {
    "duration": 7,
    "start_time": "2021-12-22T15:49:17.470Z"
   },
   {
    "duration": 6,
    "start_time": "2021-12-22T15:49:17.479Z"
   },
   {
    "duration": 128,
    "start_time": "2021-12-22T15:49:17.487Z"
   },
   {
    "duration": 100,
    "start_time": "2021-12-22T15:49:17.618Z"
   },
   {
    "duration": 462,
    "start_time": "2021-12-22T15:49:17.720Z"
   },
   {
    "duration": -635,
    "start_time": "2021-12-22T15:49:18.819Z"
   },
   {
    "duration": -636,
    "start_time": "2021-12-22T15:49:18.822Z"
   },
   {
    "duration": -642,
    "start_time": "2021-12-22T15:49:18.830Z"
   },
   {
    "duration": -645,
    "start_time": "2021-12-22T15:49:18.834Z"
   },
   {
    "duration": -649,
    "start_time": "2021-12-22T15:49:18.839Z"
   },
   {
    "duration": -652,
    "start_time": "2021-12-22T15:49:18.844Z"
   },
   {
    "duration": -657,
    "start_time": "2021-12-22T15:49:18.850Z"
   },
   {
    "duration": -660,
    "start_time": "2021-12-22T15:49:18.854Z"
   },
   {
    "duration": -664,
    "start_time": "2021-12-22T15:49:18.860Z"
   },
   {
    "duration": -674,
    "start_time": "2021-12-22T15:49:18.871Z"
   },
   {
    "duration": -680,
    "start_time": "2021-12-22T15:49:18.878Z"
   },
   {
    "duration": 1572,
    "start_time": "2021-12-22T15:49:34.563Z"
   },
   {
    "duration": 106,
    "start_time": "2021-12-22T15:49:36.138Z"
   },
   {
    "duration": 33,
    "start_time": "2021-12-22T15:49:36.248Z"
   },
   {
    "duration": 22,
    "start_time": "2021-12-22T15:49:36.284Z"
   },
   {
    "duration": 20,
    "start_time": "2021-12-22T15:49:36.309Z"
   },
   {
    "duration": 39,
    "start_time": "2021-12-22T15:49:36.331Z"
   },
   {
    "duration": 788,
    "start_time": "2021-12-22T15:49:36.373Z"
   },
   {
    "duration": 10,
    "start_time": "2021-12-22T15:49:37.163Z"
   },
   {
    "duration": 783,
    "start_time": "2021-12-22T15:49:37.178Z"
   },
   {
    "duration": 672,
    "start_time": "2021-12-22T15:49:37.964Z"
   },
   {
    "duration": 9,
    "start_time": "2021-12-22T15:49:38.639Z"
   },
   {
    "duration": 748,
    "start_time": "2021-12-22T15:49:38.651Z"
   },
   {
    "duration": 8,
    "start_time": "2021-12-22T15:49:39.401Z"
   },
   {
    "duration": 11,
    "start_time": "2021-12-22T15:49:39.412Z"
   },
   {
    "duration": 64,
    "start_time": "2021-12-22T15:49:39.425Z"
   },
   {
    "duration": 8,
    "start_time": "2021-12-22T15:49:39.492Z"
   },
   {
    "duration": 29,
    "start_time": "2021-12-22T15:49:39.503Z"
   },
   {
    "duration": 54,
    "start_time": "2021-12-22T15:49:39.535Z"
   },
   {
    "duration": 31,
    "start_time": "2021-12-22T15:49:39.592Z"
   },
   {
    "duration": 43,
    "start_time": "2021-12-22T15:49:39.626Z"
   },
   {
    "duration": 26,
    "start_time": "2021-12-22T15:49:39.671Z"
   },
   {
    "duration": 66,
    "start_time": "2021-12-22T15:49:39.700Z"
   },
   {
    "duration": 42,
    "start_time": "2021-12-22T15:49:39.769Z"
   },
   {
    "duration": 70,
    "start_time": "2021-12-22T15:49:39.813Z"
   },
   {
    "duration": 17,
    "start_time": "2021-12-22T15:49:39.885Z"
   },
   {
    "duration": 11,
    "start_time": "2021-12-22T15:49:39.905Z"
   },
   {
    "duration": 7,
    "start_time": "2021-12-22T15:49:39.922Z"
   },
   {
    "duration": 42,
    "start_time": "2021-12-22T15:49:39.932Z"
   },
   {
    "duration": 50,
    "start_time": "2021-12-22T15:49:39.977Z"
   },
   {
    "duration": 73,
    "start_time": "2021-12-22T15:49:40.029Z"
   },
   {
    "duration": 18,
    "start_time": "2021-12-22T15:49:40.105Z"
   },
   {
    "duration": 55,
    "start_time": "2021-12-22T15:49:40.126Z"
   },
   {
    "duration": 7,
    "start_time": "2021-12-22T15:49:40.183Z"
   },
   {
    "duration": 8,
    "start_time": "2021-12-22T15:49:40.192Z"
   },
   {
    "duration": 127,
    "start_time": "2021-12-22T15:49:40.203Z"
   },
   {
    "duration": 97,
    "start_time": "2021-12-22T15:49:40.333Z"
   },
   {
    "duration": 454,
    "start_time": "2021-12-22T15:49:40.432Z"
   },
   {
    "duration": -486,
    "start_time": "2021-12-22T15:49:41.374Z"
   },
   {
    "duration": -489,
    "start_time": "2021-12-22T15:49:41.379Z"
   },
   {
    "duration": -493,
    "start_time": "2021-12-22T15:49:41.384Z"
   },
   {
    "duration": -496,
    "start_time": "2021-12-22T15:49:41.389Z"
   },
   {
    "duration": -507,
    "start_time": "2021-12-22T15:49:41.402Z"
   },
   {
    "duration": -517,
    "start_time": "2021-12-22T15:49:41.414Z"
   },
   {
    "duration": -522,
    "start_time": "2021-12-22T15:49:41.420Z"
   },
   {
    "duration": -529,
    "start_time": "2021-12-22T15:49:41.429Z"
   },
   {
    "duration": -534,
    "start_time": "2021-12-22T15:49:41.435Z"
   },
   {
    "duration": -537,
    "start_time": "2021-12-22T15:49:41.440Z"
   },
   {
    "duration": -542,
    "start_time": "2021-12-22T15:49:41.446Z"
   },
   {
    "duration": 77,
    "start_time": "2021-12-22T15:50:32.898Z"
   },
   {
    "duration": 13,
    "start_time": "2021-12-22T15:51:29.391Z"
   },
   {
    "duration": 313,
    "start_time": "2021-12-22T15:51:30.795Z"
   },
   {
    "duration": 21,
    "start_time": "2021-12-22T15:51:31.137Z"
   },
   {
    "duration": 1578,
    "start_time": "2021-12-22T15:51:38.064Z"
   },
   {
    "duration": 107,
    "start_time": "2021-12-22T15:51:39.645Z"
   },
   {
    "duration": 36,
    "start_time": "2021-12-22T15:51:39.756Z"
   },
   {
    "duration": 23,
    "start_time": "2021-12-22T15:51:39.795Z"
   },
   {
    "duration": 46,
    "start_time": "2021-12-22T15:51:39.820Z"
   },
   {
    "duration": 13,
    "start_time": "2021-12-22T15:51:39.870Z"
   },
   {
    "duration": 807,
    "start_time": "2021-12-22T15:51:39.886Z"
   },
   {
    "duration": 10,
    "start_time": "2021-12-22T15:51:40.696Z"
   },
   {
    "duration": 785,
    "start_time": "2021-12-22T15:51:40.710Z"
   },
   {
    "duration": 635,
    "start_time": "2021-12-22T15:51:41.498Z"
   },
   {
    "duration": 9,
    "start_time": "2021-12-22T15:51:42.136Z"
   },
   {
    "duration": 872,
    "start_time": "2021-12-22T15:51:42.147Z"
   },
   {
    "duration": 9,
    "start_time": "2021-12-22T15:51:43.022Z"
   },
   {
    "duration": 12,
    "start_time": "2021-12-22T15:51:43.034Z"
   },
   {
    "duration": 32,
    "start_time": "2021-12-22T15:51:43.068Z"
   },
   {
    "duration": 6,
    "start_time": "2021-12-22T15:51:43.102Z"
   },
   {
    "duration": 37,
    "start_time": "2021-12-22T15:51:43.111Z"
   },
   {
    "duration": 38,
    "start_time": "2021-12-22T15:51:43.151Z"
   },
   {
    "duration": 32,
    "start_time": "2021-12-22T15:51:43.192Z"
   },
   {
    "duration": 39,
    "start_time": "2021-12-22T15:51:43.227Z"
   },
   {
    "duration": 26,
    "start_time": "2021-12-22T15:51:43.269Z"
   },
   {
    "duration": 34,
    "start_time": "2021-12-22T15:51:43.297Z"
   },
   {
    "duration": 70,
    "start_time": "2021-12-22T15:51:43.334Z"
   },
   {
    "duration": 65,
    "start_time": "2021-12-22T15:51:43.406Z"
   },
   {
    "duration": 18,
    "start_time": "2021-12-22T15:51:43.474Z"
   },
   {
    "duration": 9,
    "start_time": "2021-12-22T15:51:43.494Z"
   },
   {
    "duration": 7,
    "start_time": "2021-12-22T15:51:43.508Z"
   },
   {
    "duration": 49,
    "start_time": "2021-12-22T15:51:43.518Z"
   },
   {
    "duration": 50,
    "start_time": "2021-12-22T15:51:43.570Z"
   },
   {
    "duration": 81,
    "start_time": "2021-12-22T15:51:43.623Z"
   },
   {
    "duration": 19,
    "start_time": "2021-12-22T15:51:43.707Z"
   },
   {
    "duration": 51,
    "start_time": "2021-12-22T15:51:43.728Z"
   },
   {
    "duration": 8,
    "start_time": "2021-12-22T15:51:43.781Z"
   },
   {
    "duration": 18,
    "start_time": "2021-12-22T15:51:43.792Z"
   },
   {
    "duration": 139,
    "start_time": "2021-12-22T15:51:43.813Z"
   },
   {
    "duration": 90,
    "start_time": "2021-12-22T15:51:43.966Z"
   },
   {
    "duration": 51,
    "start_time": "2021-12-22T15:51:44.067Z"
   },
   {
    "duration": 17,
    "start_time": "2021-12-22T15:51:44.120Z"
   },
   {
    "duration": 338,
    "start_time": "2021-12-22T15:51:44.139Z"
   },
   {
    "duration": 9,
    "start_time": "2021-12-22T15:51:44.479Z"
   },
   {
    "duration": 10,
    "start_time": "2021-12-22T15:51:44.490Z"
   },
   {
    "duration": 27,
    "start_time": "2021-12-22T15:51:44.503Z"
   },
   {
    "duration": 56,
    "start_time": "2021-12-22T15:51:44.533Z"
   },
   {
    "duration": 181,
    "start_time": "2021-12-22T15:51:44.592Z"
   },
   {
    "duration": 176,
    "start_time": "2021-12-22T15:51:44.776Z"
   },
   {
    "duration": 6215,
    "start_time": "2021-12-22T15:51:44.955Z"
   },
   {
    "duration": 100,
    "start_time": "2021-12-22T15:51:51.174Z"
   },
   {
    "duration": 920,
    "start_time": "2021-12-22T15:51:51.276Z"
   },
   {
    "duration": 37,
    "start_time": "2021-12-22T15:51:52.199Z"
   },
   {
    "duration": 853,
    "start_time": "2021-12-22T16:25:18.992Z"
   },
   {
    "duration": 865,
    "start_time": "2021-12-22T16:29:41.003Z"
   },
   {
    "duration": 865,
    "start_time": "2021-12-22T16:29:44.268Z"
   },
   {
    "duration": 859,
    "start_time": "2021-12-22T16:34:21.084Z"
   },
   {
    "duration": 856,
    "start_time": "2021-12-22T16:37:45.411Z"
   },
   {
    "duration": 868,
    "start_time": "2021-12-22T16:37:46.269Z"
   },
   {
    "duration": 388,
    "start_time": "2021-12-22T16:38:57.861Z"
   },
   {
    "duration": 386,
    "start_time": "2021-12-22T16:40:01.016Z"
   },
   {
    "duration": 381,
    "start_time": "2021-12-22T16:40:02.196Z"
   },
   {
    "duration": 1573,
    "start_time": "2021-12-22T16:40:10.402Z"
   },
   {
    "duration": 117,
    "start_time": "2021-12-22T16:40:11.978Z"
   },
   {
    "duration": 36,
    "start_time": "2021-12-22T16:40:12.099Z"
   },
   {
    "duration": 34,
    "start_time": "2021-12-22T16:40:12.137Z"
   },
   {
    "duration": 20,
    "start_time": "2021-12-22T16:40:12.173Z"
   },
   {
    "duration": 17,
    "start_time": "2021-12-22T16:40:12.195Z"
   },
   {
    "duration": 815,
    "start_time": "2021-12-22T16:40:12.214Z"
   },
   {
    "duration": 10,
    "start_time": "2021-12-22T16:40:13.032Z"
   },
   {
    "duration": 795,
    "start_time": "2021-12-22T16:40:13.067Z"
   },
   {
    "duration": 649,
    "start_time": "2021-12-22T16:40:13.868Z"
   },
   {
    "duration": 9,
    "start_time": "2021-12-22T16:40:14.520Z"
   },
   {
    "duration": 776,
    "start_time": "2021-12-22T16:40:14.532Z"
   },
   {
    "duration": 11,
    "start_time": "2021-12-22T16:40:15.310Z"
   },
   {
    "duration": 9,
    "start_time": "2021-12-22T16:40:15.323Z"
   },
   {
    "duration": 55,
    "start_time": "2021-12-22T16:40:15.334Z"
   },
   {
    "duration": 7,
    "start_time": "2021-12-22T16:40:15.392Z"
   },
   {
    "duration": 24,
    "start_time": "2021-12-22T16:40:15.402Z"
   },
   {
    "duration": 57,
    "start_time": "2021-12-22T16:40:15.429Z"
   },
   {
    "duration": 32,
    "start_time": "2021-12-22T16:40:15.489Z"
   },
   {
    "duration": 9,
    "start_time": "2021-12-22T16:40:15.523Z"
   },
   {
    "duration": 54,
    "start_time": "2021-12-22T16:40:15.535Z"
   },
   {
    "duration": 32,
    "start_time": "2021-12-22T16:40:15.592Z"
   },
   {
    "duration": 79,
    "start_time": "2021-12-22T16:40:15.626Z"
   },
   {
    "duration": 73,
    "start_time": "2021-12-22T16:40:15.708Z"
   },
   {
    "duration": 18,
    "start_time": "2021-12-22T16:40:15.785Z"
   },
   {
    "duration": 11,
    "start_time": "2021-12-22T16:40:15.807Z"
   },
   {
    "duration": 44,
    "start_time": "2021-12-22T16:40:15.825Z"
   },
   {
    "duration": 5,
    "start_time": "2021-12-22T16:40:15.873Z"
   },
   {
    "duration": 46,
    "start_time": "2021-12-22T16:40:15.880Z"
   },
   {
    "duration": 87,
    "start_time": "2021-12-22T16:40:15.929Z"
   },
   {
    "duration": 15,
    "start_time": "2021-12-22T16:40:16.018Z"
   },
   {
    "duration": 57,
    "start_time": "2021-12-22T16:40:16.036Z"
   },
   {
    "duration": 9,
    "start_time": "2021-12-22T16:40:16.096Z"
   },
   {
    "duration": 17,
    "start_time": "2021-12-22T16:40:16.107Z"
   },
   {
    "duration": 140,
    "start_time": "2021-12-22T16:40:16.127Z"
   },
   {
    "duration": 100,
    "start_time": "2021-12-22T16:40:16.269Z"
   },
   {
    "duration": 54,
    "start_time": "2021-12-22T16:40:16.371Z"
   },
   {
    "duration": 47,
    "start_time": "2021-12-22T16:40:16.427Z"
   },
   {
    "duration": 330,
    "start_time": "2021-12-22T16:40:16.477Z"
   },
   {
    "duration": 9,
    "start_time": "2021-12-22T16:40:16.810Z"
   },
   {
    "duration": 8,
    "start_time": "2021-12-22T16:40:16.821Z"
   },
   {
    "duration": 60,
    "start_time": "2021-12-22T16:40:16.831Z"
   },
   {
    "duration": 23,
    "start_time": "2021-12-22T16:40:16.893Z"
   },
   {
    "duration": 191,
    "start_time": "2021-12-22T16:40:16.919Z"
   },
   {
    "duration": 176,
    "start_time": "2021-12-22T16:40:17.113Z"
   },
   {
    "duration": 2591,
    "start_time": "2021-12-22T16:40:17.291Z"
   },
   {
    "duration": 2183,
    "start_time": "2021-12-22T16:40:19.884Z"
   },
   {
    "duration": 879,
    "start_time": "2021-12-22T16:40:22.070Z"
   },
   {
    "duration": 936,
    "start_time": "2021-12-22T16:40:22.951Z"
   },
   {
    "duration": 909,
    "start_time": "2021-12-22T16:45:26.073Z"
   },
   {
    "duration": 7,
    "start_time": "2021-12-22T16:45:55.071Z"
   },
   {
    "duration": 31615,
    "start_time": "2021-12-22T16:48:01.701Z"
   },
   {
    "duration": 31648,
    "start_time": "2021-12-22T16:49:15.147Z"
   },
   {
    "duration": 571,
    "start_time": "2021-12-22T16:54:06.781Z"
   },
   {
    "duration": 38,
    "start_time": "2021-12-22T16:54:24.656Z"
   },
   {
    "duration": 39,
    "start_time": "2021-12-22T16:54:43.955Z"
   },
   {
    "duration": 1637,
    "start_time": "2021-12-22T16:55:32.866Z"
   },
   {
    "duration": 106,
    "start_time": "2021-12-22T16:55:34.506Z"
   },
   {
    "duration": 35,
    "start_time": "2021-12-22T16:55:34.619Z"
   },
   {
    "duration": 24,
    "start_time": "2021-12-22T16:55:34.657Z"
   },
   {
    "duration": 20,
    "start_time": "2021-12-22T16:55:34.684Z"
   },
   {
    "duration": 10,
    "start_time": "2021-12-22T16:55:34.706Z"
   },
   {
    "duration": 834,
    "start_time": "2021-12-22T16:55:34.718Z"
   },
   {
    "duration": 18,
    "start_time": "2021-12-22T16:55:35.556Z"
   },
   {
    "duration": 794,
    "start_time": "2021-12-22T16:55:35.577Z"
   },
   {
    "duration": 734,
    "start_time": "2021-12-22T16:55:36.373Z"
   },
   {
    "duration": 11,
    "start_time": "2021-12-22T16:55:37.109Z"
   },
   {
    "duration": 1074,
    "start_time": "2021-12-22T16:55:37.124Z"
   },
   {
    "duration": 13,
    "start_time": "2021-12-22T16:55:38.202Z"
   },
   {
    "duration": 14,
    "start_time": "2021-12-22T16:55:38.217Z"
   },
   {
    "duration": 55,
    "start_time": "2021-12-22T16:55:38.234Z"
   },
   {
    "duration": 7,
    "start_time": "2021-12-22T16:55:38.292Z"
   },
   {
    "duration": 27,
    "start_time": "2021-12-22T16:55:38.302Z"
   },
   {
    "duration": 55,
    "start_time": "2021-12-22T16:55:38.331Z"
   },
   {
    "duration": 35,
    "start_time": "2021-12-22T16:55:38.388Z"
   },
   {
    "duration": 48,
    "start_time": "2021-12-22T16:55:38.425Z"
   },
   {
    "duration": 32,
    "start_time": "2021-12-22T16:55:38.477Z"
   },
   {
    "duration": 66,
    "start_time": "2021-12-22T16:55:38.512Z"
   },
   {
    "duration": 60,
    "start_time": "2021-12-22T16:55:38.581Z"
   },
   {
    "duration": 86,
    "start_time": "2021-12-22T16:55:38.644Z"
   },
   {
    "duration": 44,
    "start_time": "2021-12-22T16:55:38.733Z"
   },
   {
    "duration": 12,
    "start_time": "2021-12-22T16:55:38.787Z"
   },
   {
    "duration": 6,
    "start_time": "2021-12-22T16:55:38.802Z"
   },
   {
    "duration": 5,
    "start_time": "2021-12-22T16:55:38.811Z"
   },
   {
    "duration": 89,
    "start_time": "2021-12-22T16:55:38.819Z"
   },
   {
    "duration": 61,
    "start_time": "2021-12-22T16:55:38.910Z"
   },
   {
    "duration": 16,
    "start_time": "2021-12-22T16:55:38.973Z"
   },
   {
    "duration": 28,
    "start_time": "2021-12-22T16:55:38.991Z"
   },
   {
    "duration": 7,
    "start_time": "2021-12-22T16:55:39.022Z"
   },
   {
    "duration": 47,
    "start_time": "2021-12-22T16:55:39.032Z"
   },
   {
    "duration": 114,
    "start_time": "2021-12-22T16:55:39.081Z"
   },
   {
    "duration": 105,
    "start_time": "2021-12-22T16:55:39.198Z"
   },
   {
    "duration": 37,
    "start_time": "2021-12-22T16:55:39.306Z"
   },
   {
    "duration": 23,
    "start_time": "2021-12-22T16:55:39.369Z"
   },
   {
    "duration": 493,
    "start_time": "2021-12-22T16:55:39.395Z"
   },
   {
    "duration": 11,
    "start_time": "2021-12-22T16:55:39.892Z"
   },
   {
    "duration": 9,
    "start_time": "2021-12-22T16:55:39.906Z"
   },
   {
    "duration": 75,
    "start_time": "2021-12-22T16:55:39.919Z"
   },
   {
    "duration": 24,
    "start_time": "2021-12-22T16:55:39.997Z"
   },
   {
    "duration": 188,
    "start_time": "2021-12-22T16:55:40.023Z"
   },
   {
    "duration": 171,
    "start_time": "2021-12-22T16:55:40.214Z"
   },
   {
    "duration": 3082,
    "start_time": "2021-12-22T16:55:40.388Z"
   },
   {
    "duration": 2009,
    "start_time": "2021-12-22T16:55:43.472Z"
   },
   {
    "duration": 983,
    "start_time": "2021-12-22T16:55:45.484Z"
   },
   {
    "duration": 817,
    "start_time": "2021-12-22T16:55:46.469Z"
   },
   {
    "duration": 550,
    "start_time": "2021-12-22T16:55:47.288Z"
   },
   {
    "duration": 33202,
    "start_time": "2021-12-22T16:55:47.841Z"
   },
   {
    "duration": 33308,
    "start_time": "2021-12-22T16:59:13.887Z"
   },
   {
    "duration": 462,
    "start_time": "2021-12-22T17:03:42.308Z"
   },
   {
    "duration": 288,
    "start_time": "2021-12-22T17:04:19.629Z"
   },
   {
    "duration": 33046,
    "start_time": "2021-12-22T17:05:12.145Z"
   },
   {
    "duration": 32179,
    "start_time": "2021-12-22T17:07:01.708Z"
   },
   {
    "duration": 1662,
    "start_time": "2021-12-22T17:32:15.629Z"
   },
   {
    "duration": 106,
    "start_time": "2021-12-22T17:32:17.294Z"
   },
   {
    "duration": 33,
    "start_time": "2021-12-22T17:32:17.403Z"
   },
   {
    "duration": 30,
    "start_time": "2021-12-22T17:32:17.439Z"
   },
   {
    "duration": 19,
    "start_time": "2021-12-22T17:32:17.471Z"
   },
   {
    "duration": 10,
    "start_time": "2021-12-22T17:32:17.492Z"
   },
   {
    "duration": 817,
    "start_time": "2021-12-22T17:32:17.505Z"
   },
   {
    "duration": 10,
    "start_time": "2021-12-22T17:32:18.324Z"
   },
   {
    "duration": 789,
    "start_time": "2021-12-22T17:32:18.338Z"
   },
   {
    "duration": 749,
    "start_time": "2021-12-22T17:32:19.130Z"
   },
   {
    "duration": 8,
    "start_time": "2021-12-22T17:32:19.881Z"
   },
   {
    "duration": 683,
    "start_time": "2021-12-22T17:32:19.891Z"
   },
   {
    "duration": 10,
    "start_time": "2021-12-22T17:32:20.576Z"
   },
   {
    "duration": 13,
    "start_time": "2021-12-22T17:32:20.588Z"
   },
   {
    "duration": 28,
    "start_time": "2021-12-22T17:32:20.603Z"
   },
   {
    "duration": 9,
    "start_time": "2021-12-22T17:32:20.666Z"
   },
   {
    "duration": 25,
    "start_time": "2021-12-22T17:32:20.677Z"
   },
   {
    "duration": 22,
    "start_time": "2021-12-22T17:32:20.705Z"
   },
   {
    "duration": 64,
    "start_time": "2021-12-22T17:32:20.729Z"
   },
   {
    "duration": 9,
    "start_time": "2021-12-22T17:32:20.795Z"
   },
   {
    "duration": 25,
    "start_time": "2021-12-22T17:32:20.807Z"
   },
   {
    "duration": 58,
    "start_time": "2021-12-22T17:32:20.835Z"
   },
   {
    "duration": 77,
    "start_time": "2021-12-22T17:32:20.895Z"
   },
   {
    "duration": 44,
    "start_time": "2021-12-22T17:32:20.974Z"
   },
   {
    "duration": 17,
    "start_time": "2021-12-22T17:32:21.020Z"
   },
   {
    "duration": 9,
    "start_time": "2021-12-22T17:32:21.069Z"
   },
   {
    "duration": 8,
    "start_time": "2021-12-22T17:32:21.084Z"
   },
   {
    "duration": 14,
    "start_time": "2021-12-22T17:32:21.095Z"
   },
   {
    "duration": 73,
    "start_time": "2021-12-22T17:32:21.112Z"
   },
   {
    "duration": 60,
    "start_time": "2021-12-22T17:32:21.187Z"
   },
   {
    "duration": 32,
    "start_time": "2021-12-22T17:32:21.249Z"
   },
   {
    "duration": 27,
    "start_time": "2021-12-22T17:32:21.283Z"
   },
   {
    "duration": 8,
    "start_time": "2021-12-22T17:32:21.312Z"
   },
   {
    "duration": 52,
    "start_time": "2021-12-22T17:32:21.323Z"
   },
   {
    "duration": 106,
    "start_time": "2021-12-22T17:32:21.378Z"
   },
   {
    "duration": 109,
    "start_time": "2021-12-22T17:32:21.487Z"
   },
   {
    "duration": 39,
    "start_time": "2021-12-22T17:32:21.598Z"
   },
   {
    "duration": 39,
    "start_time": "2021-12-22T17:32:21.639Z"
   },
   {
    "duration": 322,
    "start_time": "2021-12-22T17:32:21.680Z"
   },
   {
    "duration": 8,
    "start_time": "2021-12-22T17:32:22.005Z"
   },
   {
    "duration": 10,
    "start_time": "2021-12-22T17:32:22.015Z"
   },
   {
    "duration": 55,
    "start_time": "2021-12-22T17:32:22.028Z"
   },
   {
    "duration": 463886,
    "start_time": "2021-12-22T17:32:22.086Z"
   },
   {
    "duration": 5612,
    "start_time": "2021-12-22T17:40:05.975Z"
   },
   {
    "duration": 914,
    "start_time": "2021-12-22T17:40:11.589Z"
   },
   {
    "duration": 564,
    "start_time": "2021-12-22T17:40:12.506Z"
   },
   {
    "duration": 33541,
    "start_time": "2021-12-22T17:40:13.072Z"
   },
   {
    "duration": 28900,
    "start_time": "2021-12-22T17:40:46.616Z"
   },
   {
    "duration": 1815,
    "start_time": "2021-12-23T10:55:02.707Z"
   },
   {
    "duration": 115,
    "start_time": "2021-12-23T10:55:04.525Z"
   },
   {
    "duration": 35,
    "start_time": "2021-12-23T10:55:04.644Z"
   },
   {
    "duration": 21,
    "start_time": "2021-12-23T10:55:04.682Z"
   },
   {
    "duration": 19,
    "start_time": "2021-12-23T10:55:04.705Z"
   },
   {
    "duration": 10,
    "start_time": "2021-12-23T10:55:04.760Z"
   },
   {
    "duration": 826,
    "start_time": "2021-12-23T10:55:04.772Z"
   },
   {
    "duration": 9,
    "start_time": "2021-12-23T10:55:05.600Z"
   },
   {
    "duration": 773,
    "start_time": "2021-12-23T10:55:05.613Z"
   },
   {
    "duration": 708,
    "start_time": "2021-12-23T10:55:06.389Z"
   },
   {
    "duration": 8,
    "start_time": "2021-12-23T10:55:07.100Z"
   },
   {
    "duration": 659,
    "start_time": "2021-12-23T10:55:07.111Z"
   },
   {
    "duration": 11,
    "start_time": "2021-12-23T10:55:07.773Z"
   },
   {
    "duration": 9,
    "start_time": "2021-12-23T10:55:07.787Z"
   },
   {
    "duration": 72,
    "start_time": "2021-12-23T10:55:07.798Z"
   },
   {
    "duration": 6,
    "start_time": "2021-12-23T10:55:07.872Z"
   },
   {
    "duration": 29,
    "start_time": "2021-12-23T10:55:07.881Z"
   },
   {
    "duration": 66,
    "start_time": "2021-12-23T10:55:07.913Z"
   },
   {
    "duration": 30,
    "start_time": "2021-12-23T10:55:07.982Z"
   },
   {
    "duration": 9,
    "start_time": "2021-12-23T10:55:08.014Z"
   },
   {
    "duration": 27,
    "start_time": "2021-12-23T10:55:08.060Z"
   },
   {
    "duration": 75,
    "start_time": "2021-12-23T10:55:08.089Z"
   },
   {
    "duration": 42,
    "start_time": "2021-12-23T10:55:08.166Z"
   },
   {
    "duration": 73,
    "start_time": "2021-12-23T10:55:08.211Z"
   },
   {
    "duration": 17,
    "start_time": "2021-12-23T10:55:08.287Z"
   },
   {
    "duration": 9,
    "start_time": "2021-12-23T10:55:08.306Z"
   },
   {
    "duration": 42,
    "start_time": "2021-12-23T10:55:08.320Z"
   },
   {
    "duration": 3,
    "start_time": "2021-12-23T10:55:08.365Z"
   },
   {
    "duration": 43,
    "start_time": "2021-12-23T10:55:08.371Z"
   },
   {
    "duration": 91,
    "start_time": "2021-12-23T10:55:08.417Z"
   },
   {
    "duration": 16,
    "start_time": "2021-12-23T10:55:08.510Z"
   },
   {
    "duration": 51,
    "start_time": "2021-12-23T10:55:08.528Z"
   },
   {
    "duration": 6,
    "start_time": "2021-12-23T10:55:08.581Z"
   },
   {
    "duration": 14,
    "start_time": "2021-12-23T10:55:08.589Z"
   },
   {
    "duration": 130,
    "start_time": "2021-12-23T10:55:08.605Z"
   },
   {
    "duration": 95,
    "start_time": "2021-12-23T10:55:08.738Z"
   },
   {
    "duration": 56,
    "start_time": "2021-12-23T10:55:08.835Z"
   },
   {
    "duration": 16,
    "start_time": "2021-12-23T10:55:08.893Z"
   },
   {
    "duration": 328,
    "start_time": "2021-12-23T10:55:08.912Z"
   },
   {
    "duration": 19,
    "start_time": "2021-12-23T10:55:09.243Z"
   },
   {
    "duration": 9,
    "start_time": "2021-12-23T10:55:09.266Z"
   },
   {
    "duration": 30,
    "start_time": "2021-12-23T10:55:09.278Z"
   },
   {
    "duration": 459711,
    "start_time": "2021-12-23T10:55:09.358Z"
   },
   {
    "duration": 13105,
    "start_time": "2021-12-23T11:02:49.072Z"
   },
   {
    "duration": 889,
    "start_time": "2021-12-23T11:03:02.180Z"
   },
   {
    "duration": 553,
    "start_time": "2021-12-23T11:03:03.073Z"
   },
   {
    "duration": 47633,
    "start_time": "2021-12-23T11:03:03.629Z"
   },
   {
    "duration": 31377,
    "start_time": "2021-12-23T11:03:51.265Z"
   },
   {
    "duration": 15,
    "start_time": "2021-12-23T11:32:48.719Z"
   },
   {
    "duration": 39,
    "start_time": "2021-12-23T11:33:09.586Z"
   },
   {
    "duration": 47,
    "start_time": "2021-12-23T11:33:31.833Z"
   },
   {
    "duration": 87,
    "start_time": "2021-12-23T11:34:12.995Z"
   },
   {
    "duration": 17,
    "start_time": "2021-12-23T11:36:05.474Z"
   },
   {
    "duration": 47,
    "start_time": "2021-12-23T11:36:12.049Z"
   },
   {
    "duration": 16,
    "start_time": "2021-12-23T11:36:46.608Z"
   },
   {
    "duration": 13,
    "start_time": "2021-12-23T11:38:18.888Z"
   },
   {
    "duration": 37,
    "start_time": "2021-12-23T11:38:27.902Z"
   },
   {
    "duration": 9951,
    "start_time": "2021-12-23T11:39:09.289Z"
   },
   {
    "duration": 154,
    "start_time": "2021-12-23T11:40:58.494Z"
   },
   {
    "duration": 1480,
    "start_time": "2021-12-23T11:41:11.269Z"
   },
   {
    "duration": 2290,
    "start_time": "2021-12-23T11:41:19.621Z"
   },
   {
    "duration": 5374,
    "start_time": "2021-12-23T11:41:25.817Z"
   },
   {
    "duration": 5552,
    "start_time": "2021-12-23T11:41:35.118Z"
   },
   {
    "duration": 6275,
    "start_time": "2021-12-23T11:41:43.237Z"
   },
   {
    "duration": 5993,
    "start_time": "2021-12-23T11:41:51.337Z"
   },
   {
    "duration": 1538,
    "start_time": "2021-12-23T11:42:14.381Z"
   },
   {
    "duration": 129,
    "start_time": "2021-12-23T11:42:25.680Z"
   },
   {
    "duration": 1498,
    "start_time": "2021-12-23T11:42:35.295Z"
   },
   {
    "duration": 29,
    "start_time": "2021-12-23T11:45:59.516Z"
   },
   {
    "duration": 6,
    "start_time": "2021-12-23T11:45:59.548Z"
   },
   {
    "duration": 1695,
    "start_time": "2021-12-23T11:45:59.558Z"
   },
   {
    "duration": 396,
    "start_time": "2021-12-23T11:46:01.265Z"
   },
   {
    "duration": 1010,
    "start_time": "2021-12-23T11:46:01.664Z"
   },
   {
    "duration": 544,
    "start_time": "2021-12-23T11:46:02.677Z"
   },
   {
    "duration": 89433,
    "start_time": "2021-12-23T11:46:03.225Z"
   },
   {
    "duration": 32621,
    "start_time": "2021-12-23T11:47:32.661Z"
   },
   {
    "duration": 24,
    "start_time": "2021-12-23T11:48:52.687Z"
   },
   {
    "duration": 17,
    "start_time": "2021-12-23T11:49:39.449Z"
   },
   {
    "duration": 278,
    "start_time": "2021-12-23T11:50:42.236Z"
   },
   {
    "duration": 2719,
    "start_time": "2021-12-23T11:54:49.002Z"
   },
   {
    "duration": 2319,
    "start_time": "2021-12-23T11:55:04.596Z"
   },
   {
    "duration": 1946,
    "start_time": "2021-12-23T11:55:12.784Z"
   },
   {
    "duration": 1740,
    "start_time": "2021-12-23T11:55:19.089Z"
   },
   {
    "duration": 14,
    "start_time": "2021-12-23T11:55:52.925Z"
   },
   {
    "duration": 5146,
    "start_time": "2021-12-23T11:55:55.379Z"
   },
   {
    "duration": 6,
    "start_time": "2021-12-23T12:01:56.607Z"
   },
   {
    "duration": 1971,
    "start_time": "2021-12-23T12:02:45.475Z"
   },
   {
    "duration": 1818,
    "start_time": "2021-12-23T12:03:46.943Z"
   },
   {
    "duration": 6,
    "start_time": "2021-12-23T12:04:45.668Z"
   },
   {
    "duration": 328,
    "start_time": "2021-12-23T12:05:09.586Z"
   },
   {
    "duration": 708,
    "start_time": "2021-12-23T12:05:35.891Z"
   },
   {
    "duration": 6,
    "start_time": "2021-12-23T12:05:48.403Z"
   },
   {
    "duration": 895,
    "start_time": "2021-12-23T12:05:52.006Z"
   },
   {
    "duration": 85,
    "start_time": "2021-12-23T12:06:00.826Z"
   },
   {
    "duration": 1024,
    "start_time": "2021-12-23T12:06:02.138Z"
   },
   {
    "duration": 6,
    "start_time": "2021-12-23T12:06:06.547Z"
   },
   {
    "duration": 925,
    "start_time": "2021-12-23T12:06:06.835Z"
   },
   {
    "duration": 6,
    "start_time": "2021-12-23T12:06:10.747Z"
   },
   {
    "duration": 902,
    "start_time": "2021-12-23T12:06:11.383Z"
   },
   {
    "duration": 2670,
    "start_time": "2021-12-23T12:06:29.472Z"
   },
   {
    "duration": 112,
    "start_time": "2021-12-23T12:06:32.145Z"
   },
   {
    "duration": 33,
    "start_time": "2021-12-23T12:06:32.260Z"
   },
   {
    "duration": 20,
    "start_time": "2021-12-23T12:06:32.296Z"
   },
   {
    "duration": 47,
    "start_time": "2021-12-23T12:06:32.319Z"
   },
   {
    "duration": 14,
    "start_time": "2021-12-23T12:06:32.369Z"
   },
   {
    "duration": 778,
    "start_time": "2021-12-23T12:06:32.386Z"
   },
   {
    "duration": 9,
    "start_time": "2021-12-23T12:06:33.167Z"
   },
   {
    "duration": 767,
    "start_time": "2021-12-23T12:06:33.180Z"
   },
   {
    "duration": 711,
    "start_time": "2021-12-23T12:06:33.950Z"
   },
   {
    "duration": 8,
    "start_time": "2021-12-23T12:06:34.663Z"
   },
   {
    "duration": 648,
    "start_time": "2021-12-23T12:06:34.674Z"
   },
   {
    "duration": 9,
    "start_time": "2021-12-23T12:06:35.324Z"
   },
   {
    "duration": 25,
    "start_time": "2021-12-23T12:06:35.335Z"
   },
   {
    "duration": 26,
    "start_time": "2021-12-23T12:06:35.362Z"
   },
   {
    "duration": 7,
    "start_time": "2021-12-23T12:06:35.391Z"
   },
   {
    "duration": 24,
    "start_time": "2021-12-23T12:06:35.400Z"
   },
   {
    "duration": 52,
    "start_time": "2021-12-23T12:06:35.426Z"
   },
   {
    "duration": 29,
    "start_time": "2021-12-23T12:06:35.480Z"
   },
   {
    "duration": 8,
    "start_time": "2021-12-23T12:06:35.512Z"
   },
   {
    "duration": 26,
    "start_time": "2021-12-23T12:06:35.559Z"
   },
   {
    "duration": 30,
    "start_time": "2021-12-23T12:06:35.588Z"
   },
   {
    "duration": 77,
    "start_time": "2021-12-23T12:06:35.621Z"
   },
   {
    "duration": 64,
    "start_time": "2021-12-23T12:06:35.700Z"
   },
   {
    "duration": 23,
    "start_time": "2021-12-23T12:06:35.767Z"
   },
   {
    "duration": 15,
    "start_time": "2021-12-23T12:06:35.792Z"
   },
   {
    "duration": 8,
    "start_time": "2021-12-23T12:06:35.813Z"
   },
   {
    "duration": 5,
    "start_time": "2021-12-23T12:06:35.824Z"
   },
   {
    "duration": 42,
    "start_time": "2021-12-23T12:06:35.860Z"
   },
   {
    "duration": 81,
    "start_time": "2021-12-23T12:06:35.904Z"
   },
   {
    "duration": 20,
    "start_time": "2021-12-23T12:06:35.988Z"
   },
   {
    "duration": 48,
    "start_time": "2021-12-23T12:06:36.011Z"
   },
   {
    "duration": 7,
    "start_time": "2021-12-23T12:06:36.061Z"
   },
   {
    "duration": 15,
    "start_time": "2021-12-23T12:06:36.070Z"
   },
   {
    "duration": 120,
    "start_time": "2021-12-23T12:06:36.088Z"
   },
   {
    "duration": 95,
    "start_time": "2021-12-23T12:06:36.211Z"
   },
   {
    "duration": 15,
    "start_time": "2021-12-23T12:06:36.308Z"
   },
   {
    "duration": 307,
    "start_time": "2021-12-23T12:06:36.326Z"
   },
   {
    "duration": 10,
    "start_time": "2021-12-23T12:06:36.635Z"
   },
   {
    "duration": 9,
    "start_time": "2021-12-23T12:06:36.660Z"
   },
   {
    "duration": 39,
    "start_time": "2021-12-23T12:06:36.672Z"
   },
   {
    "duration": 51,
    "start_time": "2021-12-23T12:06:36.714Z"
   },
   {
    "duration": 1468,
    "start_time": "2021-12-23T12:06:36.767Z"
   },
   {
    "duration": 1942,
    "start_time": "2021-12-23T12:06:38.238Z"
   },
   {
    "duration": 5,
    "start_time": "2021-12-23T12:06:40.182Z"
   },
   {
    "duration": 1069,
    "start_time": "2021-12-23T12:06:40.190Z"
   },
   {
    "duration": 803,
    "start_time": "2021-12-23T12:06:41.262Z"
   },
   {
    "duration": 548,
    "start_time": "2021-12-23T12:06:42.068Z"
   },
   {
    "duration": 296,
    "start_time": "2021-12-23T12:06:42.619Z"
   },
   {
    "duration": 7,
    "start_time": "2021-12-23T12:06:42.919Z"
   },
   {
    "duration": 1742,
    "start_time": "2021-12-23T12:06:42.929Z"
   },
   {
    "duration": 1690,
    "start_time": "2021-12-23T12:06:44.673Z"
   },
   {
    "duration": 526,
    "start_time": "2021-12-23T12:07:34.175Z"
   },
   {
    "duration": 367,
    "start_time": "2021-12-23T12:08:00.443Z"
   },
   {
    "duration": 1945,
    "start_time": "2021-12-23T12:09:06.107Z"
   },
   {
    "duration": 6,
    "start_time": "2021-12-23T12:11:14.012Z"
   },
   {
    "duration": 2476,
    "start_time": "2021-12-23T12:11:14.727Z"
   },
   {
    "duration": 6,
    "start_time": "2021-12-23T12:13:24.137Z"
   },
   {
    "duration": 2194,
    "start_time": "2021-12-23T12:13:24.858Z"
   },
   {
    "duration": 1826,
    "start_time": "2021-12-23T12:15:39.956Z"
   },
   {
    "duration": 1904,
    "start_time": "2021-12-23T12:15:59.063Z"
   },
   {
    "duration": 2296,
    "start_time": "2021-12-23T12:16:46.501Z"
   },
   {
    "duration": 1987,
    "start_time": "2021-12-23T12:17:00.466Z"
   },
   {
    "duration": 2182,
    "start_time": "2021-12-23T12:17:50.752Z"
   },
   {
    "duration": 2183,
    "start_time": "2021-12-23T12:18:01.372Z"
   },
   {
    "duration": 3362,
    "start_time": "2021-12-23T12:18:51.961Z"
   },
   {
    "duration": 2456,
    "start_time": "2021-12-23T12:19:22.665Z"
   },
   {
    "duration": 6,
    "start_time": "2021-12-23T12:19:34.224Z"
   },
   {
    "duration": 1676,
    "start_time": "2021-12-23T12:19:34.732Z"
   },
   {
    "duration": 1605,
    "start_time": "2021-12-23T12:19:36.412Z"
   },
   {
    "duration": 1418,
    "start_time": "2021-12-23T12:19:38.020Z"
   },
   {
    "duration": 1756,
    "start_time": "2021-12-23T12:20:18.647Z"
   },
   {
    "duration": 312,
    "start_time": "2021-12-23T12:20:37.481Z"
   },
   {
    "duration": 38,
    "start_time": "2021-12-23T12:20:43.202Z"
   },
   {
    "duration": 15,
    "start_time": "2021-12-23T12:20:47.862Z"
   },
   {
    "duration": 395,
    "start_time": "2021-12-23T12:23:09.373Z"
   },
   {
    "duration": 7,
    "start_time": "2021-12-23T12:23:33.471Z"
   },
   {
    "duration": 7,
    "start_time": "2021-12-23T12:23:40.571Z"
   },
   {
    "duration": 9036,
    "start_time": "2021-12-23T12:24:13.002Z"
   },
   {
    "duration": 14,
    "start_time": "2021-12-23T12:24:47.816Z"
   },
   {
    "duration": 2932,
    "start_time": "2021-12-23T12:27:19.890Z"
   },
   {
    "duration": 2108,
    "start_time": "2021-12-23T12:28:08.118Z"
   },
   {
    "duration": 5391,
    "start_time": "2021-12-23T12:28:18.193Z"
   },
   {
    "duration": 2225,
    "start_time": "2021-12-23T12:28:40.421Z"
   },
   {
    "duration": 2930,
    "start_time": "2021-12-23T12:28:53.804Z"
   },
   {
    "duration": 3041,
    "start_time": "2021-12-23T12:34:13.048Z"
   },
   {
    "duration": 2409,
    "start_time": "2021-12-23T12:34:19.556Z"
   },
   {
    "duration": 2302,
    "start_time": "2021-12-23T12:34:28.254Z"
   },
   {
    "duration": 2561,
    "start_time": "2021-12-23T12:34:32.727Z"
   },
   {
    "duration": 6,
    "start_time": "2021-12-23T12:35:31.562Z"
   },
   {
    "duration": 3015,
    "start_time": "2021-12-23T12:35:31.817Z"
   },
   {
    "duration": 3617,
    "start_time": "2021-12-23T12:35:34.835Z"
   },
   {
    "duration": 3127,
    "start_time": "2021-12-23T12:35:38.456Z"
   },
   {
    "duration": 7,
    "start_time": "2021-12-23T12:35:41.586Z"
   },
   {
    "duration": 18,
    "start_time": "2021-12-23T12:35:41.595Z"
   },
   {
    "duration": 1629,
    "start_time": "2021-12-23T12:36:22.840Z"
   },
   {
    "duration": 111,
    "start_time": "2021-12-23T12:36:24.472Z"
   },
   {
    "duration": 34,
    "start_time": "2021-12-23T12:36:24.586Z"
   },
   {
    "duration": 21,
    "start_time": "2021-12-23T12:36:24.623Z"
   },
   {
    "duration": 20,
    "start_time": "2021-12-23T12:36:24.659Z"
   },
   {
    "duration": 9,
    "start_time": "2021-12-23T12:36:24.681Z"
   },
   {
    "duration": 781,
    "start_time": "2021-12-23T12:36:24.693Z"
   },
   {
    "duration": 9,
    "start_time": "2021-12-23T12:36:25.476Z"
   },
   {
    "duration": 766,
    "start_time": "2021-12-23T12:36:25.489Z"
   },
   {
    "duration": 707,
    "start_time": "2021-12-23T12:36:26.261Z"
   },
   {
    "duration": 11,
    "start_time": "2021-12-23T12:36:26.971Z"
   },
   {
    "duration": 650,
    "start_time": "2021-12-23T12:36:26.985Z"
   },
   {
    "duration": 9,
    "start_time": "2021-12-23T12:36:27.637Z"
   },
   {
    "duration": 10,
    "start_time": "2021-12-23T12:36:27.660Z"
   },
   {
    "duration": 28,
    "start_time": "2021-12-23T12:36:27.673Z"
   },
   {
    "duration": 7,
    "start_time": "2021-12-23T12:36:27.704Z"
   },
   {
    "duration": 60,
    "start_time": "2021-12-23T12:36:27.714Z"
   },
   {
    "duration": 24,
    "start_time": "2021-12-23T12:36:27.779Z"
   },
   {
    "duration": 66,
    "start_time": "2021-12-23T12:36:27.805Z"
   },
   {
    "duration": 9,
    "start_time": "2021-12-23T12:36:27.873Z"
   },
   {
    "duration": 27,
    "start_time": "2021-12-23T12:36:27.884Z"
   },
   {
    "duration": 60,
    "start_time": "2021-12-23T12:36:27.914Z"
   },
   {
    "duration": 44,
    "start_time": "2021-12-23T12:36:27.977Z"
   },
   {
    "duration": 70,
    "start_time": "2021-12-23T12:36:28.024Z"
   },
   {
    "duration": 17,
    "start_time": "2021-12-23T12:36:28.096Z"
   },
   {
    "duration": 9,
    "start_time": "2021-12-23T12:36:28.116Z"
   },
   {
    "duration": 6,
    "start_time": "2021-12-23T12:36:28.166Z"
   },
   {
    "duration": 6,
    "start_time": "2021-12-23T12:36:28.175Z"
   },
   {
    "duration": 75,
    "start_time": "2021-12-23T12:36:28.184Z"
   },
   {
    "duration": 57,
    "start_time": "2021-12-23T12:36:28.261Z"
   },
   {
    "duration": 39,
    "start_time": "2021-12-23T12:36:28.321Z"
   },
   {
    "duration": 27,
    "start_time": "2021-12-23T12:36:28.363Z"
   },
   {
    "duration": 6,
    "start_time": "2021-12-23T12:36:28.392Z"
   },
   {
    "duration": 14,
    "start_time": "2021-12-23T12:36:28.401Z"
   },
   {
    "duration": 127,
    "start_time": "2021-12-23T12:36:28.417Z"
   },
   {
    "duration": 99,
    "start_time": "2021-12-23T12:36:28.560Z"
   },
   {
    "duration": 16,
    "start_time": "2021-12-23T12:36:28.661Z"
   },
   {
    "duration": 306,
    "start_time": "2021-12-23T12:36:28.680Z"
   },
   {
    "duration": 7,
    "start_time": "2021-12-23T12:36:28.989Z"
   },
   {
    "duration": 8,
    "start_time": "2021-12-23T12:36:29.001Z"
   },
   {
    "duration": 63,
    "start_time": "2021-12-23T12:36:29.011Z"
   },
   {
    "duration": 17,
    "start_time": "2021-12-23T12:36:29.077Z"
   },
   {
    "duration": 1469,
    "start_time": "2021-12-23T12:36:29.097Z"
   },
   {
    "duration": 2101,
    "start_time": "2021-12-23T12:36:30.568Z"
   },
   {
    "duration": 5,
    "start_time": "2021-12-23T12:36:32.672Z"
   },
   {
    "duration": 881,
    "start_time": "2021-12-23T12:36:32.679Z"
   },
   {
    "duration": 568,
    "start_time": "2021-12-23T12:36:33.562Z"
   },
   {
    "duration": 306,
    "start_time": "2021-12-23T12:36:34.133Z"
   },
   {
    "duration": 5,
    "start_time": "2021-12-23T12:36:34.441Z"
   },
   {
    "duration": 2834,
    "start_time": "2021-12-23T12:36:34.459Z"
   },
   {
    "duration": 3431,
    "start_time": "2021-12-23T12:36:37.296Z"
   },
   {
    "duration": 2830,
    "start_time": "2021-12-23T12:36:40.730Z"
   },
   {
    "duration": 6,
    "start_time": "2021-12-23T12:36:59.045Z"
   },
   {
    "duration": 5293,
    "start_time": "2021-12-23T12:37:01.519Z"
   },
   {
    "duration": 4481,
    "start_time": "2021-12-23T12:37:17.947Z"
   },
   {
    "duration": 3227,
    "start_time": "2021-12-23T12:37:24.665Z"
   },
   {
    "duration": 6,
    "start_time": "2021-12-23T12:37:37.833Z"
   },
   {
    "duration": 20018,
    "start_time": "2021-12-23T12:37:38.014Z"
   },
   {
    "duration": 15709,
    "start_time": "2021-12-23T12:37:58.035Z"
   },
   {
    "duration": 11927,
    "start_time": "2021-12-23T12:38:13.747Z"
   },
   {
    "duration": 9,
    "start_time": "2021-12-23T12:40:29.570Z"
   },
   {
    "duration": 1782,
    "start_time": "2021-12-23T12:41:11.704Z"
   },
   {
    "duration": 139,
    "start_time": "2021-12-23T12:41:13.489Z"
   },
   {
    "duration": 52,
    "start_time": "2021-12-23T12:41:13.632Z"
   },
   {
    "duration": 33,
    "start_time": "2021-12-23T12:41:13.688Z"
   },
   {
    "duration": 50,
    "start_time": "2021-12-23T12:41:13.725Z"
   },
   {
    "duration": 12,
    "start_time": "2021-12-23T12:41:13.779Z"
   },
   {
    "duration": 821,
    "start_time": "2021-12-23T12:41:13.793Z"
   },
   {
    "duration": 9,
    "start_time": "2021-12-23T12:41:14.617Z"
   },
   {
    "duration": 806,
    "start_time": "2021-12-23T12:41:14.630Z"
   },
   {
    "duration": 845,
    "start_time": "2021-12-23T12:41:15.440Z"
   },
   {
    "duration": 8,
    "start_time": "2021-12-23T12:41:16.287Z"
   },
   {
    "duration": 671,
    "start_time": "2021-12-23T12:41:16.298Z"
   },
   {
    "duration": 9,
    "start_time": "2021-12-23T12:41:16.971Z"
   },
   {
    "duration": 10,
    "start_time": "2021-12-23T12:41:16.982Z"
   },
   {
    "duration": 25,
    "start_time": "2021-12-23T12:41:16.994Z"
   },
   {
    "duration": 7,
    "start_time": "2021-12-23T12:41:17.059Z"
   },
   {
    "duration": 24,
    "start_time": "2021-12-23T12:41:17.069Z"
   },
   {
    "duration": 23,
    "start_time": "2021-12-23T12:41:17.096Z"
   },
   {
    "duration": 64,
    "start_time": "2021-12-23T12:41:17.121Z"
   },
   {
    "duration": 9,
    "start_time": "2021-12-23T12:41:17.187Z"
   },
   {
    "duration": 60,
    "start_time": "2021-12-23T12:41:17.199Z"
   },
   {
    "duration": 28,
    "start_time": "2021-12-23T12:41:17.262Z"
   },
   {
    "duration": 72,
    "start_time": "2021-12-23T12:41:17.292Z"
   },
   {
    "duration": 42,
    "start_time": "2021-12-23T12:41:17.366Z"
   },
   {
    "duration": 18,
    "start_time": "2021-12-23T12:41:17.410Z"
   },
   {
    "duration": 8,
    "start_time": "2021-12-23T12:41:17.460Z"
   },
   {
    "duration": 7,
    "start_time": "2021-12-23T12:41:17.473Z"
   },
   {
    "duration": 12,
    "start_time": "2021-12-23T12:41:17.483Z"
   },
   {
    "duration": 74,
    "start_time": "2021-12-23T12:41:17.497Z"
   },
   {
    "duration": 57,
    "start_time": "2021-12-23T12:41:17.573Z"
   },
   {
    "duration": 36,
    "start_time": "2021-12-23T12:41:17.633Z"
   },
   {
    "duration": 28,
    "start_time": "2021-12-23T12:41:17.671Z"
   },
   {
    "duration": 6,
    "start_time": "2021-12-23T12:41:17.701Z"
   },
   {
    "duration": 17,
    "start_time": "2021-12-23T12:41:17.710Z"
   },
   {
    "duration": 604,
    "start_time": "2021-12-23T12:41:17.729Z"
   },
   {
    "duration": -339,
    "start_time": "2021-12-23T12:41:18.676Z"
   },
   {
    "duration": -340,
    "start_time": "2021-12-23T12:41:18.680Z"
   },
   {
    "duration": -342,
    "start_time": "2021-12-23T12:41:18.684Z"
   },
   {
    "duration": -343,
    "start_time": "2021-12-23T12:41:18.687Z"
   },
   {
    "duration": -345,
    "start_time": "2021-12-23T12:41:18.691Z"
   },
   {
    "duration": -346,
    "start_time": "2021-12-23T12:41:18.694Z"
   },
   {
    "duration": -348,
    "start_time": "2021-12-23T12:41:18.698Z"
   },
   {
    "duration": -351,
    "start_time": "2021-12-23T12:41:18.702Z"
   },
   {
    "duration": -364,
    "start_time": "2021-12-23T12:41:18.717Z"
   },
   {
    "duration": -367,
    "start_time": "2021-12-23T12:41:18.721Z"
   },
   {
    "duration": -369,
    "start_time": "2021-12-23T12:41:18.725Z"
   },
   {
    "duration": -371,
    "start_time": "2021-12-23T12:41:18.728Z"
   },
   {
    "duration": -372,
    "start_time": "2021-12-23T12:41:18.731Z"
   },
   {
    "duration": -375,
    "start_time": "2021-12-23T12:41:18.735Z"
   },
   {
    "duration": -376,
    "start_time": "2021-12-23T12:41:18.738Z"
   },
   {
    "duration": -379,
    "start_time": "2021-12-23T12:41:18.742Z"
   },
   {
    "duration": -380,
    "start_time": "2021-12-23T12:41:18.745Z"
   },
   {
    "duration": 3,
    "start_time": "2021-12-23T12:41:46.927Z"
   },
   {
    "duration": 89,
    "start_time": "2021-12-23T12:41:47.852Z"
   },
   {
    "duration": 335,
    "start_time": "2021-12-23T12:41:51.256Z"
   },
   {
    "duration": 289,
    "start_time": "2021-12-23T12:41:51.794Z"
   },
   {
    "duration": 369,
    "start_time": "2021-12-23T12:42:08.182Z"
   },
   {
    "duration": 1594,
    "start_time": "2021-12-23T12:43:27.700Z"
   },
   {
    "duration": 114,
    "start_time": "2021-12-23T12:43:29.297Z"
   },
   {
    "duration": 36,
    "start_time": "2021-12-23T12:43:29.413Z"
   },
   {
    "duration": 23,
    "start_time": "2021-12-23T12:43:29.452Z"
   },
   {
    "duration": 20,
    "start_time": "2021-12-23T12:43:29.478Z"
   },
   {
    "duration": 10,
    "start_time": "2021-12-23T12:43:29.500Z"
   },
   {
    "duration": 778,
    "start_time": "2021-12-23T12:43:29.512Z"
   },
   {
    "duration": 10,
    "start_time": "2021-12-23T12:43:30.294Z"
   },
   {
    "duration": 903,
    "start_time": "2021-12-23T12:43:30.307Z"
   },
   {
    "duration": 709,
    "start_time": "2021-12-23T12:43:31.213Z"
   },
   {
    "duration": 9,
    "start_time": "2021-12-23T12:43:31.925Z"
   },
   {
    "duration": 640,
    "start_time": "2021-12-23T12:43:31.937Z"
   },
   {
    "duration": 10,
    "start_time": "2021-12-23T12:43:32.580Z"
   },
   {
    "duration": 11,
    "start_time": "2021-12-23T12:43:32.592Z"
   },
   {
    "duration": 60,
    "start_time": "2021-12-23T12:43:32.605Z"
   },
   {
    "duration": 8,
    "start_time": "2021-12-23T12:43:32.668Z"
   },
   {
    "duration": 29,
    "start_time": "2021-12-23T12:43:32.678Z"
   },
   {
    "duration": 21,
    "start_time": "2021-12-23T12:43:32.709Z"
   },
   {
    "duration": 56,
    "start_time": "2021-12-23T12:43:32.733Z"
   },
   {
    "duration": 8,
    "start_time": "2021-12-23T12:43:32.792Z"
   },
   {
    "duration": 59,
    "start_time": "2021-12-23T12:43:32.802Z"
   },
   {
    "duration": 30,
    "start_time": "2021-12-23T12:43:32.863Z"
   },
   {
    "duration": 73,
    "start_time": "2021-12-23T12:43:32.899Z"
   },
   {
    "duration": 41,
    "start_time": "2021-12-23T12:43:32.975Z"
   },
   {
    "duration": 48,
    "start_time": "2021-12-23T12:43:33.018Z"
   },
   {
    "duration": 10,
    "start_time": "2021-12-23T12:43:33.069Z"
   },
   {
    "duration": 13,
    "start_time": "2021-12-23T12:43:33.081Z"
   },
   {
    "duration": 17,
    "start_time": "2021-12-23T12:43:33.097Z"
   },
   {
    "duration": 69,
    "start_time": "2021-12-23T12:43:33.117Z"
   },
   {
    "duration": 70,
    "start_time": "2021-12-23T12:43:33.189Z"
   },
   {
    "duration": 16,
    "start_time": "2021-12-23T12:43:33.261Z"
   },
   {
    "duration": 28,
    "start_time": "2021-12-23T12:43:33.280Z"
   },
   {
    "duration": 7,
    "start_time": "2021-12-23T12:43:33.310Z"
   },
   {
    "duration": 48,
    "start_time": "2021-12-23T12:43:33.320Z"
   },
   {
    "duration": 3,
    "start_time": "2021-12-23T12:43:33.370Z"
   },
   {
    "duration": 108,
    "start_time": "2021-12-23T12:43:33.375Z"
   },
   {
    "duration": 478,
    "start_time": "2021-12-23T12:43:33.485Z"
   },
   {
    "duration": -53,
    "start_time": "2021-12-23T12:43:34.019Z"
   },
   {
    "duration": -56,
    "start_time": "2021-12-23T12:43:34.023Z"
   },
   {
    "duration": -60,
    "start_time": "2021-12-23T12:43:34.028Z"
   },
   {
    "duration": -65,
    "start_time": "2021-12-23T12:43:34.034Z"
   },
   {
    "duration": -88,
    "start_time": "2021-12-23T12:43:34.058Z"
   },
   {
    "duration": -92,
    "start_time": "2021-12-23T12:43:34.063Z"
   },
   {
    "duration": -95,
    "start_time": "2021-12-23T12:43:34.067Z"
   },
   {
    "duration": -97,
    "start_time": "2021-12-23T12:43:34.070Z"
   },
   {
    "duration": -99,
    "start_time": "2021-12-23T12:43:34.074Z"
   },
   {
    "duration": -103,
    "start_time": "2021-12-23T12:43:34.079Z"
   },
   {
    "duration": -105,
    "start_time": "2021-12-23T12:43:34.083Z"
   },
   {
    "duration": -107,
    "start_time": "2021-12-23T12:43:34.086Z"
   },
   {
    "duration": -109,
    "start_time": "2021-12-23T12:43:34.090Z"
   },
   {
    "duration": -123,
    "start_time": "2021-12-23T12:43:34.106Z"
   },
   {
    "duration": -129,
    "start_time": "2021-12-23T12:43:34.113Z"
   },
   {
    "duration": 117,
    "start_time": "2021-12-23T12:43:56.140Z"
   },
   {
    "duration": 87,
    "start_time": "2021-12-23T12:43:57.407Z"
   },
   {
    "duration": 18,
    "start_time": "2021-12-23T12:43:59.154Z"
   },
   {
    "duration": 302,
    "start_time": "2021-12-23T12:44:00.166Z"
   },
   {
    "duration": 11,
    "start_time": "2021-12-23T12:44:00.619Z"
   },
   {
    "duration": 7,
    "start_time": "2021-12-23T12:44:00.905Z"
   },
   {
    "duration": 30,
    "start_time": "2021-12-23T12:44:01.289Z"
   },
   {
    "duration": 19,
    "start_time": "2021-12-23T12:44:01.733Z"
   },
   {
    "duration": 1370,
    "start_time": "2021-12-23T12:44:02.295Z"
   },
   {
    "duration": 4998,
    "start_time": "2021-12-23T12:44:03.668Z"
   },
   {
    "duration": 5,
    "start_time": "2021-12-23T12:44:08.669Z"
   },
   {
    "duration": 1149,
    "start_time": "2021-12-23T12:44:08.678Z"
   },
   {
    "duration": 630,
    "start_time": "2021-12-23T12:44:09.830Z"
   },
   {
    "duration": 1384,
    "start_time": "2021-12-23T12:44:10.463Z"
   },
   {
    "duration": -48,
    "start_time": "2021-12-23T12:44:11.897Z"
   },
   {
    "duration": 6,
    "start_time": "2021-12-23T12:44:59.313Z"
   },
   {
    "duration": 17630,
    "start_time": "2021-12-23T12:45:00.341Z"
   },
   {
    "duration": 14061,
    "start_time": "2021-12-23T12:45:17.974Z"
   },
   {
    "duration": 16406,
    "start_time": "2021-12-23T12:48:29.762Z"
   },
   {
    "duration": 111,
    "start_time": "2021-12-23T12:50:46.971Z"
   },
   {
    "duration": 6,
    "start_time": "2021-12-23T12:54:00.832Z"
   },
   {
    "duration": 56,
    "start_time": "2021-12-23T12:54:01.704Z"
   },
   {
    "duration": 59,
    "start_time": "2021-12-23T12:54:24.401Z"
   },
   {
    "duration": 2713,
    "start_time": "2021-12-23T12:55:31.682Z"
   },
   {
    "duration": 185,
    "start_time": "2021-12-23T12:55:34.398Z"
   },
   {
    "duration": 84,
    "start_time": "2021-12-23T12:55:34.586Z"
   },
   {
    "duration": 21,
    "start_time": "2021-12-23T12:55:34.672Z"
   },
   {
    "duration": 81,
    "start_time": "2021-12-23T12:55:34.695Z"
   },
   {
    "duration": 12,
    "start_time": "2021-12-23T12:55:34.779Z"
   },
   {
    "duration": 2401,
    "start_time": "2021-12-23T12:55:34.794Z"
   },
   {
    "duration": 63,
    "start_time": "2021-12-23T12:55:37.198Z"
   },
   {
    "duration": 1609,
    "start_time": "2021-12-23T12:55:37.267Z"
   },
   {
    "duration": 1413,
    "start_time": "2021-12-23T12:55:38.879Z"
   },
   {
    "duration": 8,
    "start_time": "2021-12-23T12:55:40.294Z"
   },
   {
    "duration": 1236,
    "start_time": "2021-12-23T12:55:40.360Z"
   },
   {
    "duration": 62,
    "start_time": "2021-12-23T12:55:41.599Z"
   },
   {
    "duration": 14,
    "start_time": "2021-12-23T12:55:41.663Z"
   },
   {
    "duration": 94,
    "start_time": "2021-12-23T12:55:41.681Z"
   },
   {
    "duration": 8,
    "start_time": "2021-12-23T12:55:41.779Z"
   },
   {
    "duration": 92,
    "start_time": "2021-12-23T12:55:41.789Z"
   },
   {
    "duration": 85,
    "start_time": "2021-12-23T12:55:41.883Z"
   },
   {
    "duration": 99,
    "start_time": "2021-12-23T12:55:41.971Z"
   },
   {
    "duration": 11,
    "start_time": "2021-12-23T12:55:42.073Z"
   },
   {
    "duration": 85,
    "start_time": "2021-12-23T12:55:42.086Z"
   },
   {
    "duration": 91,
    "start_time": "2021-12-23T12:55:42.174Z"
   },
   {
    "duration": 98,
    "start_time": "2021-12-23T12:55:42.268Z"
   },
   {
    "duration": 103,
    "start_time": "2021-12-23T12:55:42.369Z"
   },
   {
    "duration": 18,
    "start_time": "2021-12-23T12:55:42.475Z"
   },
   {
    "duration": 71,
    "start_time": "2021-12-23T12:55:42.495Z"
   },
   {
    "duration": 6,
    "start_time": "2021-12-23T12:55:42.571Z"
   },
   {
    "duration": 6,
    "start_time": "2021-12-23T12:55:42.580Z"
   },
   {
    "duration": 191,
    "start_time": "2021-12-23T12:55:42.588Z"
   },
   {
    "duration": 183,
    "start_time": "2021-12-23T12:55:42.782Z"
   },
   {
    "duration": 25,
    "start_time": "2021-12-23T12:55:42.968Z"
   },
   {
    "duration": 104,
    "start_time": "2021-12-23T12:55:42.996Z"
   },
   {
    "duration": 61,
    "start_time": "2021-12-23T12:55:43.102Z"
   },
   {
    "duration": 19,
    "start_time": "2021-12-23T12:55:43.167Z"
   },
   {
    "duration": 215,
    "start_time": "2021-12-23T12:55:43.189Z"
   },
   {
    "duration": 201,
    "start_time": "2021-12-23T12:55:43.460Z"
   },
   {
    "duration": 20,
    "start_time": "2021-12-23T12:55:43.663Z"
   },
   {
    "duration": 979,
    "start_time": "2021-12-23T12:55:43.685Z"
   },
   {
    "duration": 10,
    "start_time": "2021-12-23T12:55:44.667Z"
   },
   {
    "duration": 10,
    "start_time": "2021-12-23T12:55:44.680Z"
   },
   {
    "duration": 7,
    "start_time": "2021-12-23T12:55:44.693Z"
   },
   {
    "duration": 27,
    "start_time": "2021-12-23T12:55:44.758Z"
   },
   {
    "duration": 81,
    "start_time": "2021-12-23T12:55:44.788Z"
   },
   {
    "duration": 17,
    "start_time": "2021-12-23T12:55:44.871Z"
   },
   {
    "duration": 3292,
    "start_time": "2021-12-23T12:55:44.890Z"
   },
   {
    "duration": 127379,
    "start_time": "2021-12-23T12:55:48.186Z"
   },
   {
    "duration": 5,
    "start_time": "2021-12-23T12:57:55.567Z"
   },
   {
    "duration": 1107,
    "start_time": "2021-12-23T12:57:55.575Z"
   },
   {
    "duration": 578,
    "start_time": "2021-12-23T12:57:56.685Z"
   },
   {
    "duration": 6,
    "start_time": "2021-12-23T12:57:57.265Z"
   },
   {
    "duration": 15558,
    "start_time": "2021-12-23T12:57:57.274Z"
   },
   {
    "duration": 14818,
    "start_time": "2021-12-23T12:58:12.834Z"
   },
   {
    "duration": 112,
    "start_time": "2021-12-23T12:58:27.654Z"
   },
   {
    "duration": 1343,
    "start_time": "2021-12-23T12:58:27.862Z"
   },
   {
    "duration": -101,
    "start_time": "2021-12-23T12:58:29.309Z"
   },
   {
    "duration": 7,
    "start_time": "2021-12-23T12:59:15.513Z"
   },
   {
    "duration": 1173,
    "start_time": "2021-12-23T12:59:16.190Z"
   },
   {
    "duration": 659,
    "start_time": "2021-12-23T12:59:18.833Z"
   },
   {
    "duration": 1747,
    "start_time": "2021-12-23T12:59:20.242Z"
   },
   {
    "duration": 6,
    "start_time": "2021-12-23T12:59:55.394Z"
   },
   {
    "duration": 16,
    "start_time": "2021-12-23T12:59:59.721Z"
   },
   {
    "duration": 15,
    "start_time": "2021-12-23T13:00:10.856Z"
   },
   {
    "duration": 18,
    "start_time": "2021-12-23T13:03:10.416Z"
   },
   {
    "duration": 15,
    "start_time": "2021-12-23T13:03:11.803Z"
   },
   {
    "duration": 6,
    "start_time": "2021-12-23T13:03:14.588Z"
   },
   {
    "duration": 18,
    "start_time": "2021-12-23T13:03:15.077Z"
   },
   {
    "duration": 16,
    "start_time": "2021-12-23T13:03:15.613Z"
   },
   {
    "duration": 18,
    "start_time": "2021-12-23T13:03:35.085Z"
   },
   {
    "duration": 17,
    "start_time": "2021-12-23T13:03:35.852Z"
   },
   {
    "duration": 1102,
    "start_time": "2021-12-23T13:05:14.430Z"
   },
   {
    "duration": 1026,
    "start_time": "2021-12-23T13:06:44.503Z"
   },
   {
    "duration": 847,
    "start_time": "2021-12-23T13:07:39.160Z"
   },
   {
    "duration": 17025,
    "start_time": "2021-12-23T13:08:03.332Z"
   },
   {
    "duration": 13757,
    "start_time": "2021-12-23T13:08:20.360Z"
   },
   {
    "duration": 20741,
    "start_time": "2021-12-23T13:08:41.825Z"
   },
   {
    "duration": 121,
    "start_time": "2021-12-23T13:09:43.345Z"
   },
   {
    "duration": 122,
    "start_time": "2021-12-23T13:11:00.641Z"
   },
   {
    "duration": 179,
    "start_time": "2021-12-23T13:11:40.981Z"
   },
   {
    "duration": 152,
    "start_time": "2021-12-23T13:11:42.415Z"
   },
   {
    "duration": 1717,
    "start_time": "2021-12-23T13:30:50.859Z"
   },
   {
    "duration": 112,
    "start_time": "2021-12-23T13:30:52.579Z"
   },
   {
    "duration": 32,
    "start_time": "2021-12-23T13:30:52.694Z"
   },
   {
    "duration": 21,
    "start_time": "2021-12-23T13:30:52.729Z"
   },
   {
    "duration": 19,
    "start_time": "2021-12-23T13:30:52.760Z"
   },
   {
    "duration": 9,
    "start_time": "2021-12-23T13:30:52.781Z"
   },
   {
    "duration": 796,
    "start_time": "2021-12-23T13:30:52.792Z"
   },
   {
    "duration": 9,
    "start_time": "2021-12-23T13:30:53.590Z"
   },
   {
    "duration": 765,
    "start_time": "2021-12-23T13:30:53.603Z"
   },
   {
    "duration": 679,
    "start_time": "2021-12-23T13:30:54.371Z"
   },
   {
    "duration": 13,
    "start_time": "2021-12-23T13:30:55.052Z"
   },
   {
    "duration": 646,
    "start_time": "2021-12-23T13:30:55.068Z"
   },
   {
    "duration": 9,
    "start_time": "2021-12-23T13:30:55.717Z"
   },
   {
    "duration": 33,
    "start_time": "2021-12-23T13:30:55.728Z"
   },
   {
    "duration": 29,
    "start_time": "2021-12-23T13:30:55.763Z"
   },
   {
    "duration": 8,
    "start_time": "2021-12-23T13:30:55.795Z"
   },
   {
    "duration": 56,
    "start_time": "2021-12-23T13:30:55.805Z"
   },
   {
    "duration": 26,
    "start_time": "2021-12-23T13:30:55.864Z"
   },
   {
    "duration": 29,
    "start_time": "2021-12-23T13:30:55.893Z"
   },
   {
    "duration": 41,
    "start_time": "2021-12-23T13:30:55.924Z"
   },
   {
    "duration": 25,
    "start_time": "2021-12-23T13:30:55.967Z"
   },
   {
    "duration": 68,
    "start_time": "2021-12-23T13:30:55.995Z"
   },
   {
    "duration": 43,
    "start_time": "2021-12-23T13:30:56.066Z"
   },
   {
    "duration": 78,
    "start_time": "2021-12-23T13:30:56.112Z"
   },
   {
    "duration": 16,
    "start_time": "2021-12-23T13:30:56.192Z"
   },
   {
    "duration": 9,
    "start_time": "2021-12-23T13:30:56.210Z"
   },
   {
    "duration": 38,
    "start_time": "2021-12-23T13:30:56.225Z"
   },
   {
    "duration": 6,
    "start_time": "2021-12-23T13:30:56.266Z"
   },
   {
    "duration": 44,
    "start_time": "2021-12-23T13:30:56.274Z"
   },
   {
    "duration": 82,
    "start_time": "2021-12-23T13:30:56.320Z"
   },
   {
    "duration": 15,
    "start_time": "2021-12-23T13:30:56.404Z"
   },
   {
    "duration": 47,
    "start_time": "2021-12-23T13:30:56.421Z"
   },
   {
    "duration": 6,
    "start_time": "2021-12-23T13:30:56.471Z"
   },
   {
    "duration": 15,
    "start_time": "2021-12-23T13:30:56.479Z"
   },
   {
    "duration": 131,
    "start_time": "2021-12-23T13:30:56.497Z"
   },
   {
    "duration": 100,
    "start_time": "2021-12-23T13:30:56.630Z"
   },
   {
    "duration": 29,
    "start_time": "2021-12-23T13:30:56.732Z"
   },
   {
    "duration": 291,
    "start_time": "2021-12-23T13:30:56.763Z"
   },
   {
    "duration": 7,
    "start_time": "2021-12-23T13:30:57.059Z"
   },
   {
    "duration": 7,
    "start_time": "2021-12-23T13:30:57.069Z"
   },
   {
    "duration": 5,
    "start_time": "2021-12-23T13:30:57.078Z"
   },
   {
    "duration": 18,
    "start_time": "2021-12-23T13:30:57.086Z"
   },
   {
    "duration": 61,
    "start_time": "2021-12-23T13:30:57.106Z"
   },
   {
    "duration": 5,
    "start_time": "2021-12-23T13:30:57.169Z"
   },
   {
    "duration": 17,
    "start_time": "2021-12-23T13:30:57.177Z"
   },
   {
    "duration": 15,
    "start_time": "2021-12-23T13:30:57.197Z"
   },
   {
    "duration": 1820,
    "start_time": "2021-12-23T13:30:57.214Z"
   },
   {
    "duration": 7906,
    "start_time": "2021-12-23T13:30:51.130Z"
   },
   {
    "duration": 7903,
    "start_time": "2021-12-23T13:30:51.135Z"
   },
   {
    "duration": 7901,
    "start_time": "2021-12-23T13:30:51.138Z"
   },
   {
    "duration": 7899,
    "start_time": "2021-12-23T13:30:51.142Z"
   },
   {
    "duration": 7897,
    "start_time": "2021-12-23T13:30:51.145Z"
   },
   {
    "duration": 7895,
    "start_time": "2021-12-23T13:30:51.148Z"
   },
   {
    "duration": 7894,
    "start_time": "2021-12-23T13:30:51.151Z"
   },
   {
    "duration": 7892,
    "start_time": "2021-12-23T13:30:51.154Z"
   },
   {
    "duration": 7891,
    "start_time": "2021-12-23T13:30:51.156Z"
   },
   {
    "duration": 7891,
    "start_time": "2021-12-23T13:30:51.158Z"
   },
   {
    "duration": 7889,
    "start_time": "2021-12-23T13:30:51.161Z"
   },
   {
    "duration": 7887,
    "start_time": "2021-12-23T13:30:51.165Z"
   },
   {
    "duration": 7885,
    "start_time": "2021-12-23T13:30:51.168Z"
   },
   {
    "duration": 6211,
    "start_time": "2021-12-23T13:33:11.160Z"
   },
   {
    "duration": 1275,
    "start_time": "2021-12-23T13:34:01.904Z"
   },
   {
    "duration": 148,
    "start_time": "2021-12-23T13:34:58.776Z"
   },
   {
    "duration": 148,
    "start_time": "2021-12-23T13:35:09.281Z"
   },
   {
    "duration": 159,
    "start_time": "2021-12-23T13:35:42.777Z"
   },
   {
    "duration": 1552,
    "start_time": "2021-12-23T13:35:59.218Z"
   },
   {
    "duration": 6,
    "start_time": "2021-12-23T13:36:16.430Z"
   },
   {
    "duration": 1135,
    "start_time": "2021-12-23T13:36:16.594Z"
   },
   {
    "duration": 770,
    "start_time": "2021-12-23T13:36:17.732Z"
   },
   {
    "duration": 822,
    "start_time": "2021-12-23T13:36:18.505Z"
   },
   {
    "duration": 5,
    "start_time": "2021-12-23T13:36:19.330Z"
   },
   {
    "duration": 16899,
    "start_time": "2021-12-23T13:36:19.337Z"
   },
   {
    "duration": 16263,
    "start_time": "2021-12-23T13:36:36.239Z"
   },
   {
    "duration": 17155,
    "start_time": "2021-12-23T13:36:52.504Z"
   },
   {
    "duration": 120,
    "start_time": "2021-12-23T13:37:09.662Z"
   },
   {
    "duration": 206,
    "start_time": "2021-12-23T13:37:09.861Z"
   },
   {
    "duration": 204,
    "start_time": "2021-12-23T13:37:10.160Z"
   },
   {
    "duration": 344,
    "start_time": "2021-12-23T13:37:39.824Z"
   },
   {
    "duration": 8,
    "start_time": "2021-12-23T13:37:47.321Z"
   },
   {
    "duration": 117,
    "start_time": "2021-12-23T13:37:47.333Z"
   },
   {
    "duration": 30,
    "start_time": "2021-12-23T13:37:47.453Z"
   },
   {
    "duration": 21,
    "start_time": "2021-12-23T13:37:47.489Z"
   },
   {
    "duration": 48,
    "start_time": "2021-12-23T13:37:47.513Z"
   },
   {
    "duration": 8,
    "start_time": "2021-12-23T13:37:47.564Z"
   },
   {
    "duration": 790,
    "start_time": "2021-12-23T13:37:47.574Z"
   },
   {
    "duration": 9,
    "start_time": "2021-12-23T13:37:48.367Z"
   },
   {
    "duration": 888,
    "start_time": "2021-12-23T13:37:48.380Z"
   },
   {
    "duration": 634,
    "start_time": "2021-12-23T13:37:49.272Z"
   },
   {
    "duration": 11,
    "start_time": "2021-12-23T13:37:49.909Z"
   },
   {
    "duration": 749,
    "start_time": "2021-12-23T13:37:49.923Z"
   },
   {
    "duration": 8,
    "start_time": "2021-12-23T13:37:50.674Z"
   },
   {
    "duration": 10,
    "start_time": "2021-12-23T13:37:50.684Z"
   },
   {
    "duration": 26,
    "start_time": "2021-12-23T13:37:50.696Z"
   },
   {
    "duration": 39,
    "start_time": "2021-12-23T13:37:50.724Z"
   },
   {
    "duration": 27,
    "start_time": "2021-12-23T13:37:50.766Z"
   },
   {
    "duration": 24,
    "start_time": "2021-12-23T13:37:50.795Z"
   },
   {
    "duration": 66,
    "start_time": "2021-12-23T13:37:50.822Z"
   },
   {
    "duration": 10,
    "start_time": "2021-12-23T13:37:50.890Z"
   },
   {
    "duration": 61,
    "start_time": "2021-12-23T13:37:50.903Z"
   },
   {
    "duration": 36,
    "start_time": "2021-12-23T13:37:50.966Z"
   },
   {
    "duration": 68,
    "start_time": "2021-12-23T13:37:51.005Z"
   },
   {
    "duration": 44,
    "start_time": "2021-12-23T13:37:51.076Z"
   },
   {
    "duration": 43,
    "start_time": "2021-12-23T13:37:51.123Z"
   },
   {
    "duration": 10,
    "start_time": "2021-12-23T13:37:51.168Z"
   },
   {
    "duration": 6,
    "start_time": "2021-12-23T13:37:51.184Z"
   },
   {
    "duration": 6,
    "start_time": "2021-12-23T13:37:51.192Z"
   },
   {
    "duration": 89,
    "start_time": "2021-12-23T13:37:51.200Z"
   },
   {
    "duration": 70,
    "start_time": "2021-12-23T13:37:51.291Z"
   },
   {
    "duration": 17,
    "start_time": "2021-12-23T13:37:51.364Z"
   },
   {
    "duration": 14,
    "start_time": "2021-12-23T13:37:59.825Z"
   },
   {
    "duration": 354,
    "start_time": "2021-12-23T13:38:01.473Z"
   },
   {
    "duration": 26,
    "start_time": "2021-12-23T13:38:08.242Z"
   },
   {
    "duration": 6,
    "start_time": "2021-12-23T13:38:11.705Z"
   },
   {
    "duration": 14,
    "start_time": "2021-12-23T13:38:12.225Z"
   },
   {
    "duration": 358,
    "start_time": "2021-12-23T13:38:14.194Z"
   },
   {
    "duration": 9,
    "start_time": "2021-12-23T13:39:06.289Z"
   },
   {
    "duration": 25,
    "start_time": "2021-12-23T13:39:39.330Z"
   },
   {
    "duration": 10,
    "start_time": "2021-12-23T13:39:41.840Z"
   },
   {
    "duration": 338,
    "start_time": "2021-12-23T13:39:44.233Z"
   },
   {
    "duration": 7901,
    "start_time": "2021-12-23T13:39:36.672Z"
   },
   {
    "duration": 8,
    "start_time": "2021-12-23T13:39:50.484Z"
   },
   {
    "duration": 115,
    "start_time": "2021-12-23T13:39:50.494Z"
   },
   {
    "duration": 28,
    "start_time": "2021-12-23T13:39:50.612Z"
   },
   {
    "duration": 21,
    "start_time": "2021-12-23T13:39:50.642Z"
   },
   {
    "duration": 18,
    "start_time": "2021-12-23T13:39:50.665Z"
   },
   {
    "duration": 14,
    "start_time": "2021-12-23T13:39:50.685Z"
   },
   {
    "duration": 784,
    "start_time": "2021-12-23T13:39:50.701Z"
   },
   {
    "duration": 8,
    "start_time": "2021-12-23T13:39:51.488Z"
   },
   {
    "duration": 779,
    "start_time": "2021-12-23T13:39:51.501Z"
   },
   {
    "duration": 625,
    "start_time": "2021-12-23T13:39:52.283Z"
   },
   {
    "duration": 9,
    "start_time": "2021-12-23T13:39:52.910Z"
   },
   {
    "duration": 648,
    "start_time": "2021-12-23T13:39:52.921Z"
   },
   {
    "duration": 9,
    "start_time": "2021-12-23T13:39:53.571Z"
   },
   {
    "duration": 9,
    "start_time": "2021-12-23T13:39:53.582Z"
   },
   {
    "duration": 35,
    "start_time": "2021-12-23T13:39:53.593Z"
   },
   {
    "duration": 29,
    "start_time": "2021-12-23T13:39:53.630Z"
   },
   {
    "duration": 127,
    "start_time": "2021-12-23T13:39:53.662Z"
   },
   {
    "duration": 23,
    "start_time": "2021-12-23T13:39:53.792Z"
   },
   {
    "duration": 59,
    "start_time": "2021-12-23T13:39:53.818Z"
   },
   {
    "duration": 8,
    "start_time": "2021-12-23T13:39:53.880Z"
   },
   {
    "duration": 26,
    "start_time": "2021-12-23T13:39:53.891Z"
   },
   {
    "duration": 63,
    "start_time": "2021-12-23T13:39:53.920Z"
   },
   {
    "duration": 45,
    "start_time": "2021-12-23T13:39:53.986Z"
   },
   {
    "duration": 67,
    "start_time": "2021-12-23T13:39:54.034Z"
   },
   {
    "duration": 16,
    "start_time": "2021-12-23T13:39:54.103Z"
   },
   {
    "duration": 40,
    "start_time": "2021-12-23T13:39:54.122Z"
   },
   {
    "duration": 7,
    "start_time": "2021-12-23T13:39:54.169Z"
   },
   {
    "duration": 5,
    "start_time": "2021-12-23T13:39:54.179Z"
   },
   {
    "duration": 75,
    "start_time": "2021-12-23T13:39:54.187Z"
   },
   {
    "duration": 51,
    "start_time": "2021-12-23T13:39:54.265Z"
   },
   {
    "duration": 16,
    "start_time": "2021-12-23T13:39:54.318Z"
   },
   {
    "duration": 46,
    "start_time": "2021-12-23T13:39:54.336Z"
   },
   {
    "duration": 6,
    "start_time": "2021-12-23T13:39:54.385Z"
   },
   {
    "duration": 13,
    "start_time": "2021-12-23T13:39:54.497Z"
   },
   {
    "duration": 101,
    "start_time": "2021-12-23T13:39:56.129Z"
   },
   {
    "duration": 71,
    "start_time": "2021-12-23T13:40:19.826Z"
   },
   {
    "duration": 73,
    "start_time": "2021-12-23T13:40:27.386Z"
   },
   {
    "duration": 82,
    "start_time": "2021-12-23T13:40:43.524Z"
   },
   {
    "duration": 34,
    "start_time": "2021-12-23T13:41:34.522Z"
   },
   {
    "duration": 1643,
    "start_time": "2021-12-23T13:41:40.523Z"
   },
   {
    "duration": 110,
    "start_time": "2021-12-23T13:41:42.169Z"
   },
   {
    "duration": 34,
    "start_time": "2021-12-23T13:41:42.285Z"
   },
   {
    "duration": 38,
    "start_time": "2021-12-23T13:41:42.321Z"
   },
   {
    "duration": 19,
    "start_time": "2021-12-23T13:41:42.361Z"
   },
   {
    "duration": 10,
    "start_time": "2021-12-23T13:41:42.383Z"
   },
   {
    "duration": 778,
    "start_time": "2021-12-23T13:41:42.398Z"
   },
   {
    "duration": 9,
    "start_time": "2021-12-23T13:41:43.180Z"
   },
   {
    "duration": 771,
    "start_time": "2021-12-23T13:41:43.192Z"
   },
   {
    "duration": 704,
    "start_time": "2021-12-23T13:41:43.966Z"
   },
   {
    "duration": 10,
    "start_time": "2021-12-23T13:41:44.674Z"
   },
   {
    "duration": 644,
    "start_time": "2021-12-23T13:41:44.687Z"
   },
   {
    "duration": 9,
    "start_time": "2021-12-23T13:41:45.333Z"
   },
   {
    "duration": 22,
    "start_time": "2021-12-23T13:41:45.344Z"
   },
   {
    "duration": 25,
    "start_time": "2021-12-23T13:41:45.368Z"
   },
   {
    "duration": 5,
    "start_time": "2021-12-23T13:41:45.396Z"
   },
   {
    "duration": 65,
    "start_time": "2021-12-23T13:41:45.404Z"
   },
   {
    "duration": 23,
    "start_time": "2021-12-23T13:41:45.472Z"
   },
   {
    "duration": 70,
    "start_time": "2021-12-23T13:41:45.497Z"
   },
   {
    "duration": 11,
    "start_time": "2021-12-23T13:41:45.569Z"
   },
   {
    "duration": 34,
    "start_time": "2021-12-23T13:41:45.583Z"
   },
   {
    "duration": 62,
    "start_time": "2021-12-23T13:41:45.623Z"
   },
   {
    "duration": 41,
    "start_time": "2021-12-23T13:41:45.688Z"
   },
   {
    "duration": 42,
    "start_time": "2021-12-23T13:41:45.760Z"
   },
   {
    "duration": 18,
    "start_time": "2021-12-23T13:41:45.804Z"
   },
   {
    "duration": 40,
    "start_time": "2021-12-23T13:41:45.825Z"
   },
   {
    "duration": 8,
    "start_time": "2021-12-23T13:41:45.868Z"
   },
   {
    "duration": 7,
    "start_time": "2021-12-23T13:41:45.879Z"
   },
   {
    "duration": 82,
    "start_time": "2021-12-23T13:41:45.888Z"
   },
   {
    "duration": 56,
    "start_time": "2021-12-23T13:41:45.973Z"
   },
   {
    "duration": 41,
    "start_time": "2021-12-23T13:41:46.033Z"
   },
   {
    "duration": 31,
    "start_time": "2021-12-23T13:41:46.076Z"
   },
   {
    "duration": 7,
    "start_time": "2021-12-23T13:41:46.110Z"
   },
   {
    "duration": 47,
    "start_time": "2021-12-23T13:41:46.119Z"
   },
   {
    "duration": 118,
    "start_time": "2021-12-23T13:41:46.169Z"
   },
   {
    "duration": 98,
    "start_time": "2021-12-23T13:41:46.289Z"
   },
   {
    "duration": 99,
    "start_time": "2021-12-23T13:41:46.390Z"
   },
   {
    "duration": 19,
    "start_time": "2021-12-23T13:41:46.492Z"
   },
   {
    "duration": 324,
    "start_time": "2021-12-23T13:41:46.514Z"
   },
   {
    "duration": 19,
    "start_time": "2021-12-23T13:41:46.840Z"
   },
   {
    "duration": 7,
    "start_time": "2021-12-23T13:41:46.862Z"
   },
   {
    "duration": 6,
    "start_time": "2021-12-23T13:41:46.872Z"
   },
   {
    "duration": 24,
    "start_time": "2021-12-23T13:41:46.880Z"
   },
   {
    "duration": 16,
    "start_time": "2021-12-23T13:41:46.906Z"
   },
   {
    "duration": 38,
    "start_time": "2021-12-23T13:41:46.925Z"
   },
   {
    "duration": 22,
    "start_time": "2021-12-23T13:41:46.966Z"
   },
   {
    "duration": 14,
    "start_time": "2021-12-23T13:41:46.990Z"
   },
   {
    "duration": 1304,
    "start_time": "2021-12-23T13:41:47.007Z"
   },
   {
    "duration": 1422,
    "start_time": "2021-12-23T13:41:48.314Z"
   },
   {
    "duration": 2838,
    "start_time": "2021-12-23T13:41:49.738Z"
   },
   {
    "duration": 5,
    "start_time": "2021-12-23T13:41:52.579Z"
   },
   {
    "duration": 1155,
    "start_time": "2021-12-23T13:41:52.587Z"
   },
   {
    "duration": 577,
    "start_time": "2021-12-23T13:41:53.745Z"
   },
   {
    "duration": 851,
    "start_time": "2021-12-23T13:41:54.325Z"
   },
   {
    "duration": 5,
    "start_time": "2021-12-23T13:41:55.179Z"
   },
   {
    "duration": 18946,
    "start_time": "2021-12-23T13:41:55.186Z"
   },
   {
    "duration": 17428,
    "start_time": "2021-12-23T13:42:14.134Z"
   },
   {
    "duration": 20261,
    "start_time": "2021-12-23T13:42:31.564Z"
   },
   {
    "duration": 145,
    "start_time": "2021-12-23T13:42:51.829Z"
   },
   {
    "duration": 206,
    "start_time": "2021-12-23T13:42:52.061Z"
   },
   {
    "duration": 197,
    "start_time": "2021-12-23T13:42:52.270Z"
   },
   {
    "duration": 6,
    "start_time": "2021-12-23T13:44:52.118Z"
   },
   {
    "duration": 6,
    "start_time": "2021-12-23T13:45:12.437Z"
   },
   {
    "duration": 100,
    "start_time": "2021-12-23T13:45:55.665Z"
   },
   {
    "duration": 300,
    "start_time": "2021-12-23T13:45:55.959Z"
   },
   {
    "duration": 149,
    "start_time": "2021-12-23T13:45:56.412Z"
   },
   {
    "duration": 18,
    "start_time": "2021-12-23T13:47:46.186Z"
   },
   {
    "duration": 16,
    "start_time": "2021-12-23T13:48:00.917Z"
   },
   {
    "duration": 14,
    "start_time": "2021-12-23T13:48:01.453Z"
   },
   {
    "duration": 1155,
    "start_time": "2021-12-23T13:48:32.683Z"
   },
   {
    "duration": 373,
    "start_time": "2021-12-23T13:48:53.077Z"
   },
   {
    "duration": 299,
    "start_time": "2021-12-23T13:49:28.397Z"
   },
   {
    "duration": 18346,
    "start_time": "2021-12-23T13:50:08.165Z"
   },
   {
    "duration": 17384,
    "start_time": "2021-12-23T13:50:26.514Z"
   },
   {
    "duration": 159,
    "start_time": "2021-12-23T13:50:43.902Z"
   },
   {
    "duration": 106,
    "start_time": "2021-12-23T13:50:49.158Z"
   },
   {
    "duration": 8,
    "start_time": "2021-12-23T13:52:02.275Z"
   },
   {
    "duration": 654,
    "start_time": "2021-12-23T13:52:13.930Z"
   },
   {
    "duration": 5,
    "start_time": "2021-12-23T13:52:26.159Z"
   },
   {
    "duration": 374,
    "start_time": "2021-12-23T13:52:26.509Z"
   },
   {
    "duration": 580,
    "start_time": "2021-12-23T13:53:04.653Z"
   },
   {
    "duration": 860,
    "start_time": "2021-12-23T13:53:05.237Z"
   },
   {
    "duration": 545,
    "start_time": "2021-12-23T13:53:06.101Z"
   },
   {
    "duration": 350,
    "start_time": "2021-12-23T13:53:06.650Z"
   },
   {
    "duration": 6,
    "start_time": "2021-12-23T13:54:09.811Z"
   },
   {
    "duration": 5,
    "start_time": "2021-12-23T13:54:58.796Z"
   },
   {
    "duration": 372,
    "start_time": "2021-12-23T13:54:59.005Z"
   },
   {
    "duration": 320,
    "start_time": "2021-12-23T13:54:59.380Z"
   },
   {
    "duration": 407,
    "start_time": "2021-12-23T13:54:59.703Z"
   },
   {
    "duration": 272,
    "start_time": "2021-12-23T13:55:00.113Z"
   },
   {
    "duration": 335,
    "start_time": "2021-12-23T13:55:00.388Z"
   },
   {
    "duration": 1330,
    "start_time": "2021-12-23T13:55:17.053Z"
   },
   {
    "duration": 1127,
    "start_time": "2021-12-23T13:55:18.386Z"
   },
   {
    "duration": 1525,
    "start_time": "2021-12-23T13:55:19.516Z"
   },
   {
    "duration": 1018,
    "start_time": "2021-12-23T13:55:21.044Z"
   },
   {
    "duration": 757,
    "start_time": "2021-12-23T13:55:22.065Z"
   },
   {
    "duration": 8,
    "start_time": "2021-12-23T13:58:01.006Z"
   },
   {
    "duration": 1739,
    "start_time": "2021-12-23T13:58:59.269Z"
   },
   {
    "duration": 137,
    "start_time": "2021-12-23T13:59:01.016Z"
   },
   {
    "duration": 46,
    "start_time": "2021-12-23T13:59:01.156Z"
   },
   {
    "duration": 58,
    "start_time": "2021-12-23T13:59:01.206Z"
   },
   {
    "duration": 26,
    "start_time": "2021-12-23T13:59:01.267Z"
   },
   {
    "duration": 23,
    "start_time": "2021-12-23T13:59:01.296Z"
   },
   {
    "duration": 1280,
    "start_time": "2021-12-23T13:59:01.322Z"
   },
   {
    "duration": 12,
    "start_time": "2021-12-23T13:59:02.607Z"
   },
   {
    "duration": 1073,
    "start_time": "2021-12-23T13:59:02.623Z"
   },
   {
    "duration": 800,
    "start_time": "2021-12-23T13:59:03.699Z"
   },
   {
    "duration": 11,
    "start_time": "2021-12-23T13:59:04.502Z"
   },
   {
    "duration": 755,
    "start_time": "2021-12-23T13:59:04.516Z"
   },
   {
    "duration": 12,
    "start_time": "2021-12-23T13:59:05.274Z"
   },
   {
    "duration": 12,
    "start_time": "2021-12-23T13:59:05.289Z"
   },
   {
    "duration": 62,
    "start_time": "2021-12-23T13:59:05.304Z"
   },
   {
    "duration": 8,
    "start_time": "2021-12-23T13:59:05.369Z"
   },
   {
    "duration": 28,
    "start_time": "2021-12-23T13:59:05.380Z"
   },
   {
    "duration": 60,
    "start_time": "2021-12-23T13:59:05.410Z"
   },
   {
    "duration": 39,
    "start_time": "2021-12-23T13:59:05.473Z"
   },
   {
    "duration": 9,
    "start_time": "2021-12-23T13:59:05.515Z"
   },
   {
    "duration": 56,
    "start_time": "2021-12-23T13:59:05.526Z"
   },
   {
    "duration": 44,
    "start_time": "2021-12-23T13:59:05.585Z"
   },
   {
    "duration": 57,
    "start_time": "2021-12-23T13:59:05.665Z"
   },
   {
    "duration": 76,
    "start_time": "2021-12-23T13:59:05.728Z"
   },
   {
    "duration": 18,
    "start_time": "2021-12-23T13:59:05.807Z"
   },
   {
    "duration": 35,
    "start_time": "2021-12-23T13:59:05.829Z"
   },
   {
    "duration": 12,
    "start_time": "2021-12-23T13:59:05.867Z"
   },
   {
    "duration": 17,
    "start_time": "2021-12-23T13:59:05.881Z"
   },
   {
    "duration": 87,
    "start_time": "2021-12-23T13:59:05.900Z"
   },
   {
    "duration": 100,
    "start_time": "2021-12-23T13:59:05.991Z"
   },
   {
    "duration": 27,
    "start_time": "2021-12-23T13:59:06.094Z"
   },
   {
    "duration": 68,
    "start_time": "2021-12-23T13:59:06.124Z"
   },
   {
    "duration": 12,
    "start_time": "2021-12-23T13:59:06.195Z"
   },
   {
    "duration": 14,
    "start_time": "2021-12-23T13:59:06.210Z"
   },
   {
    "duration": 161,
    "start_time": "2021-12-23T13:59:06.227Z"
   },
   {
    "duration": 106,
    "start_time": "2021-12-23T13:59:06.391Z"
   },
   {
    "duration": 141,
    "start_time": "2021-12-23T13:59:06.501Z"
   },
   {
    "duration": 34,
    "start_time": "2021-12-23T13:59:06.646Z"
   },
   {
    "duration": 311,
    "start_time": "2021-12-23T13:59:06.682Z"
   },
   {
    "duration": 8,
    "start_time": "2021-12-23T13:59:06.996Z"
   },
   {
    "duration": 8,
    "start_time": "2021-12-23T13:59:07.007Z"
   },
   {
    "duration": 10,
    "start_time": "2021-12-23T13:59:07.018Z"
   },
   {
    "duration": 47,
    "start_time": "2021-12-23T13:59:07.030Z"
   },
   {
    "duration": 18,
    "start_time": "2021-12-23T13:59:07.080Z"
   },
   {
    "duration": 8,
    "start_time": "2021-12-23T13:59:07.101Z"
   },
   {
    "duration": 56,
    "start_time": "2021-12-23T13:59:07.111Z"
   },
   {
    "duration": 17,
    "start_time": "2021-12-23T13:59:07.170Z"
   },
   {
    "duration": 1080,
    "start_time": "2021-12-23T13:59:07.190Z"
   },
   {
    "duration": 7903,
    "start_time": "2021-12-23T13:59:00.371Z"
   },
   {
    "duration": 7900,
    "start_time": "2021-12-23T13:59:00.375Z"
   },
   {
    "duration": 7897,
    "start_time": "2021-12-23T13:59:00.380Z"
   },
   {
    "duration": 7895,
    "start_time": "2021-12-23T13:59:00.384Z"
   },
   {
    "duration": 7892,
    "start_time": "2021-12-23T13:59:00.388Z"
   },
   {
    "duration": 7890,
    "start_time": "2021-12-23T13:59:00.392Z"
   },
   {
    "duration": 7888,
    "start_time": "2021-12-23T13:59:00.396Z"
   },
   {
    "duration": 7887,
    "start_time": "2021-12-23T13:59:00.398Z"
   },
   {
    "duration": 7887,
    "start_time": "2021-12-23T13:59:00.400Z"
   },
   {
    "duration": 7886,
    "start_time": "2021-12-23T13:59:00.402Z"
   },
   {
    "duration": 7885,
    "start_time": "2021-12-23T13:59:00.405Z"
   },
   {
    "duration": 7885,
    "start_time": "2021-12-23T13:59:00.407Z"
   },
   {
    "duration": 7884,
    "start_time": "2021-12-23T13:59:00.409Z"
   },
   {
    "duration": 7884,
    "start_time": "2021-12-23T13:59:00.411Z"
   },
   {
    "duration": 7882,
    "start_time": "2021-12-23T13:59:00.414Z"
   },
   {
    "duration": 7875,
    "start_time": "2021-12-23T13:59:00.423Z"
   },
   {
    "duration": 7875,
    "start_time": "2021-12-23T13:59:00.425Z"
   },
   {
    "duration": 7873,
    "start_time": "2021-12-23T13:59:00.428Z"
   },
   {
    "duration": 7873,
    "start_time": "2021-12-23T13:59:00.430Z"
   },
   {
    "duration": 7872,
    "start_time": "2021-12-23T13:59:00.432Z"
   },
   {
    "duration": 7872,
    "start_time": "2021-12-23T13:59:00.434Z"
   },
   {
    "duration": 7872,
    "start_time": "2021-12-23T13:59:00.436Z"
   },
   {
    "duration": 7865,
    "start_time": "2021-12-23T13:59:00.445Z"
   },
   {
    "duration": 7910,
    "start_time": "2021-12-23T13:59:00.448Z"
   },
   {
    "duration": 7911,
    "start_time": "2021-12-23T13:59:00.450Z"
   },
   {
    "duration": 7911,
    "start_time": "2021-12-23T13:59:00.452Z"
   },
   {
    "duration": 7910,
    "start_time": "2021-12-23T13:59:00.455Z"
   },
   {
    "duration": 7911,
    "start_time": "2021-12-23T13:59:00.457Z"
   },
   {
    "duration": 7911,
    "start_time": "2021-12-23T13:59:00.459Z"
   },
   {
    "duration": 7912,
    "start_time": "2021-12-23T13:59:00.461Z"
   },
   {
    "duration": 1377,
    "start_time": "2021-12-23T14:00:41.955Z"
   },
   {
    "duration": 1625,
    "start_time": "2021-12-23T14:01:28.567Z"
   },
   {
    "duration": 112,
    "start_time": "2021-12-23T14:01:30.194Z"
   },
   {
    "duration": 34,
    "start_time": "2021-12-23T14:01:30.309Z"
   },
   {
    "duration": 22,
    "start_time": "2021-12-23T14:01:30.346Z"
   },
   {
    "duration": 23,
    "start_time": "2021-12-23T14:01:30.371Z"
   },
   {
    "duration": 24,
    "start_time": "2021-12-23T14:01:30.397Z"
   },
   {
    "duration": 1411,
    "start_time": "2021-12-23T14:01:30.424Z"
   },
   {
    "duration": 24,
    "start_time": "2021-12-23T14:01:31.838Z"
   },
   {
    "duration": 814,
    "start_time": "2021-12-23T14:01:31.867Z"
   },
   {
    "duration": 784,
    "start_time": "2021-12-23T14:01:32.685Z"
   },
   {
    "duration": 10,
    "start_time": "2021-12-23T14:01:33.472Z"
   },
   {
    "duration": 701,
    "start_time": "2021-12-23T14:01:33.485Z"
   },
   {
    "duration": 13,
    "start_time": "2021-12-23T14:01:34.190Z"
   },
   {
    "duration": 10,
    "start_time": "2021-12-23T14:01:34.205Z"
   },
   {
    "duration": 74,
    "start_time": "2021-12-23T14:01:34.217Z"
   },
   {
    "duration": 17,
    "start_time": "2021-12-23T14:01:34.294Z"
   },
   {
    "duration": 53,
    "start_time": "2021-12-23T14:01:34.315Z"
   },
   {
    "duration": 31,
    "start_time": "2021-12-23T14:01:34.371Z"
   },
   {
    "duration": 66,
    "start_time": "2021-12-23T14:01:34.404Z"
   },
   {
    "duration": 14,
    "start_time": "2021-12-23T14:01:34.473Z"
   },
   {
    "duration": 53,
    "start_time": "2021-12-23T14:01:34.490Z"
   },
   {
    "duration": 38,
    "start_time": "2021-12-23T14:01:34.561Z"
   },
   {
    "duration": 97,
    "start_time": "2021-12-23T14:01:34.602Z"
   },
   {
    "duration": 74,
    "start_time": "2021-12-23T14:01:34.706Z"
   },
   {
    "duration": 29,
    "start_time": "2021-12-23T14:01:34.783Z"
   },
   {
    "duration": 13,
    "start_time": "2021-12-23T14:01:34.816Z"
   },
   {
    "duration": 26,
    "start_time": "2021-12-23T14:01:34.858Z"
   },
   {
    "duration": 35,
    "start_time": "2021-12-23T14:01:34.895Z"
   },
   {
    "duration": 82,
    "start_time": "2021-12-23T14:01:34.935Z"
   },
   {
    "duration": 75,
    "start_time": "2021-12-23T14:01:35.021Z"
   },
   {
    "duration": 24,
    "start_time": "2021-12-23T14:01:35.099Z"
   },
   {
    "duration": 55,
    "start_time": "2021-12-23T14:01:35.126Z"
   },
   {
    "duration": 7,
    "start_time": "2021-12-23T14:01:35.187Z"
   },
   {
    "duration": 23,
    "start_time": "2021-12-23T14:01:35.197Z"
   },
   {
    "duration": 158,
    "start_time": "2021-12-23T14:01:35.223Z"
   },
   {
    "duration": 106,
    "start_time": "2021-12-23T14:01:35.384Z"
   },
   {
    "duration": 124,
    "start_time": "2021-12-23T14:01:35.493Z"
   },
   {
    "duration": 19,
    "start_time": "2021-12-23T14:01:35.620Z"
   },
   {
    "duration": 402,
    "start_time": "2021-12-23T14:01:35.642Z"
   },
   {
    "duration": 16,
    "start_time": "2021-12-23T14:01:36.047Z"
   },
   {
    "duration": 9,
    "start_time": "2021-12-23T14:01:36.066Z"
   },
   {
    "duration": 12,
    "start_time": "2021-12-23T14:01:36.077Z"
   },
   {
    "duration": 25,
    "start_time": "2021-12-23T14:01:36.091Z"
   },
   {
    "duration": 52,
    "start_time": "2021-12-23T14:01:36.119Z"
   },
   {
    "duration": 12,
    "start_time": "2021-12-23T14:01:36.175Z"
   },
   {
    "duration": 25,
    "start_time": "2021-12-23T14:01:36.190Z"
   },
   {
    "duration": 51,
    "start_time": "2021-12-23T14:01:36.219Z"
   },
   {
    "duration": 455112,
    "start_time": "2021-12-23T14:01:36.273Z"
   },
   {
    "duration": 6,
    "start_time": "2021-12-23T14:09:11.387Z"
   },
   {
    "duration": 964,
    "start_time": "2021-12-23T14:09:11.396Z"
   },
   {
    "duration": 707,
    "start_time": "2021-12-23T14:09:12.363Z"
   },
   {
    "duration": 1053,
    "start_time": "2021-12-23T14:09:13.073Z"
   },
   {
    "duration": 503,
    "start_time": "2021-12-23T14:09:14.128Z"
   },
   {
    "duration": 473,
    "start_time": "2021-12-23T14:09:14.633Z"
   },
   {
    "duration": 9,
    "start_time": "2021-12-23T14:09:15.109Z"
   },
   {
    "duration": 254152,
    "start_time": "2021-12-23T14:09:15.120Z"
   },
   {
    "duration": 184099,
    "start_time": "2021-12-23T14:13:29.274Z"
   },
   {
    "duration": 201596,
    "start_time": "2021-12-23T14:16:33.376Z"
   },
   {
    "duration": 206092,
    "start_time": "2021-12-23T14:19:54.974Z"
   },
   {
    "duration": 59803,
    "start_time": "2021-12-23T14:23:21.070Z"
   },
   {
    "duration": 5,
    "start_time": "2021-12-23T14:24:20.876Z"
   },
   {
    "duration": 1329,
    "start_time": "2021-12-23T14:24:20.884Z"
   },
   {
    "duration": 826,
    "start_time": "2021-12-23T14:24:22.217Z"
   },
   {
    "duration": 1352,
    "start_time": "2021-12-23T14:24:23.047Z"
   },
   {
    "duration": 551,
    "start_time": "2021-12-23T14:24:24.402Z"
   },
   {
    "duration": 410,
    "start_time": "2021-12-23T14:24:24.955Z"
   },
   {
    "duration": 8,
    "start_time": "2021-12-23T14:24:25.368Z"
   },
   {
    "duration": 61564,
    "start_time": "2021-12-23T14:24:25.379Z"
   },
   {
    "duration": 24917,
    "start_time": "2021-12-23T14:25:26.945Z"
   },
   {
    "duration": 64930,
    "start_time": "2021-12-23T14:25:51.866Z"
   },
   {
    "duration": 17747,
    "start_time": "2021-12-23T14:26:56.798Z"
   },
   {
    "duration": 17921,
    "start_time": "2021-12-23T14:27:14.547Z"
   },
   {
    "duration": 5,
    "start_time": "2021-12-23T14:27:32.471Z"
   },
   {
    "duration": 125,
    "start_time": "2021-12-23T14:27:32.478Z"
   },
   {
    "duration": 200,
    "start_time": "2021-12-23T14:27:32.661Z"
   },
   {
    "duration": 228,
    "start_time": "2021-12-23T14:27:32.864Z"
   },
   {
    "duration": 201,
    "start_time": "2021-12-23T14:27:33.162Z"
   },
   {
    "duration": 194,
    "start_time": "2021-12-23T14:27:33.367Z"
   },
   {
    "duration": 6,
    "start_time": "2021-12-23T14:50:02.209Z"
   },
   {
    "duration": 170,
    "start_time": "2021-12-23T14:50:03.792Z"
   },
   {
    "duration": 72,
    "start_time": "2021-12-23T14:50:05.808Z"
   },
   {
    "duration": 117,
    "start_time": "2021-12-23T14:50:08.752Z"
   },
   {
    "duration": 53,
    "start_time": "2021-12-23T14:50:15.808Z"
   },
   {
    "duration": 60,
    "start_time": "2021-12-23T14:50:17.600Z"
   },
   {
    "duration": 5,
    "start_time": "2021-12-23T14:50:51.361Z"
   },
   {
    "duration": 175,
    "start_time": "2021-12-23T14:50:52.384Z"
   },
   {
    "duration": 96,
    "start_time": "2021-12-23T14:50:53.465Z"
   },
   {
    "duration": 203,
    "start_time": "2021-12-23T14:50:56.856Z"
   },
   {
    "duration": 47,
    "start_time": "2021-12-23T14:50:57.841Z"
   },
   {
    "duration": 5,
    "start_time": "2021-12-23T14:51:28.969Z"
   },
   {
    "duration": 539,
    "start_time": "2021-12-23T14:51:29.424Z"
   },
   {
    "duration": 387,
    "start_time": "2021-12-23T14:51:31.401Z"
   },
   {
    "duration": 1444,
    "start_time": "2021-12-23T14:51:33.337Z"
   },
   {
    "duration": 273,
    "start_time": "2021-12-23T14:51:36.793Z"
   },
   {
    "duration": 255,
    "start_time": "2021-12-23T14:51:38.705Z"
   },
   {
    "duration": 8,
    "start_time": "2021-12-23T14:51:48.001Z"
   },
   {
    "duration": 124,
    "start_time": "2021-12-23T14:51:50.344Z"
   },
   {
    "duration": 6,
    "start_time": "2021-12-23T14:52:03.377Z"
   },
   {
    "duration": 288,
    "start_time": "2021-12-23T14:52:05.673Z"
   },
   {
    "duration": 79,
    "start_time": "2021-12-23T14:52:07.209Z"
   },
   {
    "duration": 214,
    "start_time": "2021-12-23T14:52:09.048Z"
   },
   {
    "duration": 69,
    "start_time": "2021-12-23T14:52:10.793Z"
   },
   {
    "duration": 68,
    "start_time": "2021-12-23T14:52:12.296Z"
   },
   {
    "duration": 5,
    "start_time": "2021-12-23T14:52:29.921Z"
   },
   {
    "duration": 852,
    "start_time": "2021-12-23T14:52:31.961Z"
   },
   {
    "duration": 6,
    "start_time": "2021-12-23T14:52:50.058Z"
   },
   {
    "duration": 663,
    "start_time": "2021-12-23T14:52:50.546Z"
   },
   {
    "duration": 5,
    "start_time": "2021-12-23T14:54:02.514Z"
   },
   {
    "duration": 663,
    "start_time": "2021-12-23T14:54:02.825Z"
   },
   {
    "duration": 6,
    "start_time": "2021-12-23T14:54:31.218Z"
   },
   {
    "duration": 133,
    "start_time": "2021-12-23T14:54:31.433Z"
   },
   {
    "duration": 6,
    "start_time": "2021-12-23T14:54:51.153Z"
   },
   {
    "duration": 684,
    "start_time": "2021-12-23T14:54:51.457Z"
   },
   {
    "duration": 5,
    "start_time": "2021-12-23T14:55:02.497Z"
   },
   {
    "duration": 158,
    "start_time": "2021-12-23T14:55:02.913Z"
   },
   {
    "duration": 105,
    "start_time": "2021-12-23T14:55:04.961Z"
   },
   {
    "duration": 117,
    "start_time": "2021-12-23T14:55:05.257Z"
   },
   {
    "duration": 41,
    "start_time": "2021-12-23T14:55:05.625Z"
   },
   {
    "duration": 44,
    "start_time": "2021-12-23T14:55:06.034Z"
   },
   {
    "duration": 6,
    "start_time": "2021-12-23T14:55:20.625Z"
   },
   {
    "duration": 36880,
    "start_time": "2021-12-23T14:55:20.952Z"
   },
   {
    "duration": 15785,
    "start_time": "2021-12-23T14:55:57.835Z"
   },
   {
    "duration": 42434,
    "start_time": "2021-12-23T14:56:13.623Z"
   },
   {
    "duration": 13472,
    "start_time": "2021-12-23T14:56:56.060Z"
   },
   {
    "duration": 11799,
    "start_time": "2021-12-23T14:57:09.535Z"
   },
   {
    "duration": 116,
    "start_time": "2021-12-23T15:14:14.850Z"
   },
   {
    "duration": 6,
    "start_time": "2021-12-23T15:16:17.265Z"
   },
   {
    "duration": 152,
    "start_time": "2021-12-23T15:16:20.811Z"
   },
   {
    "duration": 158,
    "start_time": "2021-12-23T15:16:42.002Z"
   },
   {
    "duration": 174,
    "start_time": "2021-12-23T15:16:42.289Z"
   },
   {
    "duration": 48,
    "start_time": "2021-12-23T15:16:42.714Z"
   },
   {
    "duration": 118,
    "start_time": "2021-12-23T15:16:44.642Z"
   },
   {
    "duration": 6,
    "start_time": "2021-12-23T15:17:15.507Z"
   },
   {
    "duration": 195,
    "start_time": "2021-12-23T15:17:16.467Z"
   },
   {
    "duration": 295,
    "start_time": "2021-12-23T15:17:16.665Z"
   },
   {
    "duration": 205,
    "start_time": "2021-12-23T15:17:16.964Z"
   },
   {
    "duration": 202,
    "start_time": "2021-12-23T15:17:17.261Z"
   },
   {
    "duration": 41,
    "start_time": "2021-12-23T15:17:29.211Z"
   },
   {
    "duration": 167,
    "start_time": "2021-12-23T15:17:51.499Z"
   },
   {
    "duration": 138,
    "start_time": "2021-12-23T15:18:10.228Z"
   },
   {
    "duration": 116,
    "start_time": "2021-12-23T15:19:31.947Z"
   },
   {
    "duration": 111,
    "start_time": "2021-12-23T15:19:32.179Z"
   },
   {
    "duration": 192,
    "start_time": "2021-12-23T15:19:32.369Z"
   },
   {
    "duration": 101,
    "start_time": "2021-12-23T15:19:32.660Z"
   },
   {
    "duration": 38890,
    "start_time": "2021-12-23T15:22:02.258Z"
   },
   {
    "duration": 17731,
    "start_time": "2021-12-23T15:22:41.151Z"
   },
   {
    "duration": 42958,
    "start_time": "2021-12-23T15:22:58.885Z"
   },
   {
    "duration": 12223,
    "start_time": "2021-12-23T15:23:41.846Z"
   },
   {
    "duration": 11182,
    "start_time": "2021-12-23T15:23:54.071Z"
   },
   {
    "duration": 381,
    "start_time": "2021-12-23T15:24:05.255Z"
   },
   {
    "duration": 314,
    "start_time": "2021-12-23T15:24:05.640Z"
   },
   {
    "duration": 400,
    "start_time": "2021-12-23T15:24:05.960Z"
   },
   {
    "duration": 268,
    "start_time": "2021-12-23T15:24:06.363Z"
   },
   {
    "duration": 248,
    "start_time": "2021-12-23T15:24:06.633Z"
   },
   {
    "duration": 908,
    "start_time": "2021-12-23T15:24:17.419Z"
   },
   {
    "duration": 766,
    "start_time": "2021-12-23T15:24:18.330Z"
   },
   {
    "duration": 1013,
    "start_time": "2021-12-23T15:24:19.099Z"
   },
   {
    "duration": 429,
    "start_time": "2021-12-23T15:24:20.115Z"
   },
   {
    "duration": 451,
    "start_time": "2021-12-23T15:24:20.546Z"
   },
   {
    "duration": 239,
    "start_time": "2021-12-23T15:33:39.659Z"
   },
   {
    "duration": 447,
    "start_time": "2021-12-23T15:33:44.285Z"
   },
   {
    "duration": 1514,
    "start_time": "2021-12-23T15:34:07.607Z"
   },
   {
    "duration": -82,
    "start_time": "2021-12-23T15:34:09.209Z"
   },
   {
    "duration": -81,
    "start_time": "2021-12-23T15:34:09.212Z"
   },
   {
    "duration": -81,
    "start_time": "2021-12-23T15:34:09.214Z"
   },
   {
    "duration": -81,
    "start_time": "2021-12-23T15:34:09.216Z"
   },
   {
    "duration": -83,
    "start_time": "2021-12-23T15:34:09.219Z"
   },
   {
    "duration": -84,
    "start_time": "2021-12-23T15:34:09.222Z"
   },
   {
    "duration": -86,
    "start_time": "2021-12-23T15:34:09.225Z"
   },
   {
    "duration": -86,
    "start_time": "2021-12-23T15:34:09.227Z"
   },
   {
    "duration": -88,
    "start_time": "2021-12-23T15:34:09.230Z"
   },
   {
    "duration": -89,
    "start_time": "2021-12-23T15:34:09.232Z"
   },
   {
    "duration": -90,
    "start_time": "2021-12-23T15:34:09.235Z"
   },
   {
    "duration": -91,
    "start_time": "2021-12-23T15:34:09.237Z"
   },
   {
    "duration": -92,
    "start_time": "2021-12-23T15:34:09.239Z"
   },
   {
    "duration": -93,
    "start_time": "2021-12-23T15:34:09.241Z"
   },
   {
    "duration": -103,
    "start_time": "2021-12-23T15:34:09.252Z"
   },
   {
    "duration": -104,
    "start_time": "2021-12-23T15:34:09.254Z"
   },
   {
    "duration": -104,
    "start_time": "2021-12-23T15:34:09.256Z"
   },
   {
    "duration": -105,
    "start_time": "2021-12-23T15:34:09.258Z"
   },
   {
    "duration": -106,
    "start_time": "2021-12-23T15:34:09.260Z"
   },
   {
    "duration": -107,
    "start_time": "2021-12-23T15:34:09.262Z"
   },
   {
    "duration": -108,
    "start_time": "2021-12-23T15:34:09.264Z"
   },
   {
    "duration": -109,
    "start_time": "2021-12-23T15:34:09.266Z"
   },
   {
    "duration": -109,
    "start_time": "2021-12-23T15:34:09.268Z"
   },
   {
    "duration": -110,
    "start_time": "2021-12-23T15:34:09.270Z"
   },
   {
    "duration": -111,
    "start_time": "2021-12-23T15:34:09.272Z"
   },
   {
    "duration": -112,
    "start_time": "2021-12-23T15:34:09.274Z"
   },
   {
    "duration": -113,
    "start_time": "2021-12-23T15:34:09.276Z"
   },
   {
    "duration": -114,
    "start_time": "2021-12-23T15:34:09.278Z"
   },
   {
    "duration": -114,
    "start_time": "2021-12-23T15:34:09.280Z"
   },
   {
    "duration": -122,
    "start_time": "2021-12-23T15:34:09.289Z"
   },
   {
    "duration": -151,
    "start_time": "2021-12-23T15:34:09.319Z"
   },
   {
    "duration": -169,
    "start_time": "2021-12-23T15:34:09.338Z"
   },
   {
    "duration": -188,
    "start_time": "2021-12-23T15:34:09.358Z"
   },
   {
    "duration": -225,
    "start_time": "2021-12-23T15:34:09.397Z"
   },
   {
    "duration": -240,
    "start_time": "2021-12-23T15:34:09.413Z"
   },
   {
    "duration": -257,
    "start_time": "2021-12-23T15:34:09.431Z"
   },
   {
    "duration": -273,
    "start_time": "2021-12-23T15:34:09.448Z"
   },
   {
    "duration": -288,
    "start_time": "2021-12-23T15:34:09.464Z"
   },
   {
    "duration": -297,
    "start_time": "2021-12-23T15:34:09.474Z"
   },
   {
    "duration": -298,
    "start_time": "2021-12-23T15:34:09.477Z"
   },
   {
    "duration": -299,
    "start_time": "2021-12-23T15:34:09.479Z"
   },
   {
    "duration": -335,
    "start_time": "2021-12-23T15:34:09.516Z"
   },
   {
    "duration": -436,
    "start_time": "2021-12-23T15:34:09.618Z"
   },
   {
    "duration": -572,
    "start_time": "2021-12-23T15:34:09.756Z"
   },
   {
    "duration": -644,
    "start_time": "2021-12-23T15:34:09.829Z"
   },
   {
    "duration": -645,
    "start_time": "2021-12-23T15:34:09.831Z"
   },
   {
    "duration": -645,
    "start_time": "2021-12-23T15:34:09.833Z"
   },
   {
    "duration": -646,
    "start_time": "2021-12-23T15:34:09.835Z"
   },
   {
    "duration": -646,
    "start_time": "2021-12-23T15:34:09.837Z"
   },
   {
    "duration": -647,
    "start_time": "2021-12-23T15:34:09.839Z"
   },
   {
    "duration": -648,
    "start_time": "2021-12-23T15:34:09.841Z"
   },
   {
    "duration": -649,
    "start_time": "2021-12-23T15:34:09.843Z"
   },
   {
    "duration": -649,
    "start_time": "2021-12-23T15:34:09.845Z"
   },
   {
    "duration": -650,
    "start_time": "2021-12-23T15:34:09.847Z"
   },
   {
    "duration": -651,
    "start_time": "2021-12-23T15:34:09.849Z"
   },
   {
    "duration": -588,
    "start_time": "2021-12-23T15:34:09.851Z"
   },
   {
    "duration": -588,
    "start_time": "2021-12-23T15:34:09.853Z"
   },
   {
    "duration": -588,
    "start_time": "2021-12-23T15:34:09.855Z"
   },
   {
    "duration": -596,
    "start_time": "2021-12-23T15:34:09.864Z"
   },
   {
    "duration": -597,
    "start_time": "2021-12-23T15:34:09.866Z"
   },
   {
    "duration": -597,
    "start_time": "2021-12-23T15:34:09.868Z"
   },
   {
    "duration": -596,
    "start_time": "2021-12-23T15:34:09.869Z"
   },
   {
    "duration": -598,
    "start_time": "2021-12-23T15:34:09.872Z"
   },
   {
    "duration": -610,
    "start_time": "2021-12-23T15:34:09.886Z"
   },
   {
    "duration": -612,
    "start_time": "2021-12-23T15:34:09.889Z"
   },
   {
    "duration": -623,
    "start_time": "2021-12-23T15:34:09.901Z"
   },
   {
    "duration": -629,
    "start_time": "2021-12-23T15:34:09.909Z"
   },
   {
    "duration": -630,
    "start_time": "2021-12-23T15:34:09.911Z"
   },
   {
    "duration": -631,
    "start_time": "2021-12-23T15:34:09.913Z"
   },
   {
    "duration": -643,
    "start_time": "2021-12-23T15:34:09.927Z"
   },
   {
    "duration": -655,
    "start_time": "2021-12-23T15:34:09.941Z"
   },
   {
    "duration": -662,
    "start_time": "2021-12-23T15:34:09.949Z"
   },
   {
    "duration": -670,
    "start_time": "2021-12-23T15:34:09.958Z"
   },
   {
    "duration": -670,
    "start_time": "2021-12-23T15:34:09.960Z"
   },
   {
    "duration": -671,
    "start_time": "2021-12-23T15:34:09.962Z"
   },
   {
    "duration": 1700,
    "start_time": "2021-12-23T15:34:32.023Z"
   },
   {
    "duration": 268,
    "start_time": "2021-12-23T15:34:33.726Z"
   },
   {
    "duration": 34,
    "start_time": "2021-12-23T15:34:33.998Z"
   },
   {
    "duration": 30,
    "start_time": "2021-12-23T15:34:34.034Z"
   },
   {
    "duration": 19,
    "start_time": "2021-12-23T15:34:34.066Z"
   },
   {
    "duration": 8,
    "start_time": "2021-12-23T15:34:34.087Z"
   },
   {
    "duration": 829,
    "start_time": "2021-12-23T15:34:34.098Z"
   },
   {
    "duration": 9,
    "start_time": "2021-12-23T15:34:34.929Z"
   },
   {
    "duration": 763,
    "start_time": "2021-12-23T15:34:34.942Z"
   },
   {
    "duration": 720,
    "start_time": "2021-12-23T15:34:35.709Z"
   },
   {
    "duration": 10,
    "start_time": "2021-12-23T15:34:36.432Z"
   },
   {
    "duration": 641,
    "start_time": "2021-12-23T15:34:36.459Z"
   },
   {
    "duration": 9,
    "start_time": "2021-12-23T15:34:37.102Z"
   },
   {
    "duration": 9,
    "start_time": "2021-12-23T15:34:37.113Z"
   },
   {
    "duration": 55,
    "start_time": "2021-12-23T15:34:37.125Z"
   },
   {
    "duration": 6,
    "start_time": "2021-12-23T15:34:37.183Z"
   },
   {
    "duration": 27,
    "start_time": "2021-12-23T15:34:37.192Z"
   },
   {
    "duration": 56,
    "start_time": "2021-12-23T15:34:37.221Z"
   },
   {
    "duration": 31,
    "start_time": "2021-12-23T15:34:37.279Z"
   },
   {
    "duration": 9,
    "start_time": "2021-12-23T15:34:37.312Z"
   },
   {
    "duration": 57,
    "start_time": "2021-12-23T15:34:37.323Z"
   },
   {
    "duration": 36,
    "start_time": "2021-12-23T15:34:37.383Z"
   },
   {
    "duration": 73,
    "start_time": "2021-12-23T15:34:37.422Z"
   },
   {
    "duration": 67,
    "start_time": "2021-12-23T15:34:37.497Z"
   },
   {
    "duration": 19,
    "start_time": "2021-12-23T15:34:37.567Z"
   },
   {
    "duration": 10,
    "start_time": "2021-12-23T15:34:37.589Z"
   },
   {
    "duration": 6,
    "start_time": "2021-12-23T15:34:37.606Z"
   },
   {
    "duration": 48,
    "start_time": "2021-12-23T15:34:37.616Z"
   },
   {
    "duration": 45,
    "start_time": "2021-12-23T15:34:37.667Z"
   },
   {
    "duration": 52,
    "start_time": "2021-12-23T15:34:37.714Z"
   },
   {
    "duration": 30,
    "start_time": "2021-12-23T15:34:37.768Z"
   },
   {
    "duration": 7,
    "start_time": "2021-12-23T15:34:37.800Z"
   },
   {
    "duration": 50,
    "start_time": "2021-12-23T15:34:37.809Z"
   },
   {
    "duration": 116,
    "start_time": "2021-12-23T15:34:37.862Z"
   },
   {
    "duration": 113,
    "start_time": "2021-12-23T15:34:37.981Z"
   },
   {
    "duration": 26,
    "start_time": "2021-12-23T15:34:38.097Z"
   },
   {
    "duration": 474,
    "start_time": "2021-12-23T15:34:38.127Z"
   },
   {
    "duration": 11,
    "start_time": "2021-12-23T15:34:38.604Z"
   },
   {
    "duration": 9,
    "start_time": "2021-12-23T15:34:38.618Z"
   },
   {
    "duration": 33,
    "start_time": "2021-12-23T15:34:38.630Z"
   },
   {
    "duration": 29,
    "start_time": "2021-12-23T15:34:38.666Z"
   },
   {
    "duration": 25,
    "start_time": "2021-12-23T15:34:38.698Z"
   },
   {
    "duration": 9,
    "start_time": "2021-12-23T15:34:38.759Z"
   },
   {
    "duration": 25,
    "start_time": "2021-12-23T15:34:38.771Z"
   },
   {
    "duration": 16,
    "start_time": "2021-12-23T15:34:38.799Z"
   },
   {
    "duration": 10379,
    "start_time": "2021-12-23T15:34:38.817Z"
   },
   {
    "duration": -110,
    "start_time": "2021-12-23T15:34:49.310Z"
   },
   {
    "duration": -113,
    "start_time": "2021-12-23T15:34:49.316Z"
   },
   {
    "duration": -116,
    "start_time": "2021-12-23T15:34:49.321Z"
   },
   {
    "duration": -117,
    "start_time": "2021-12-23T15:34:49.325Z"
   },
   {
    "duration": -118,
    "start_time": "2021-12-23T15:34:49.328Z"
   },
   {
    "duration": -119,
    "start_time": "2021-12-23T15:34:49.331Z"
   },
   {
    "duration": -122,
    "start_time": "2021-12-23T15:34:49.337Z"
   },
   {
    "duration": -123,
    "start_time": "2021-12-23T15:34:49.341Z"
   },
   {
    "duration": -125,
    "start_time": "2021-12-23T15:34:49.344Z"
   },
   {
    "duration": -127,
    "start_time": "2021-12-23T15:34:49.348Z"
   },
   {
    "duration": -127,
    "start_time": "2021-12-23T15:34:49.350Z"
   },
   {
    "duration": -129,
    "start_time": "2021-12-23T15:34:49.353Z"
   },
   {
    "duration": -129,
    "start_time": "2021-12-23T15:34:49.355Z"
   },
   {
    "duration": -131,
    "start_time": "2021-12-23T15:34:49.358Z"
   },
   {
    "duration": -131,
    "start_time": "2021-12-23T15:34:49.360Z"
   },
   {
    "duration": -133,
    "start_time": "2021-12-23T15:34:49.363Z"
   },
   {
    "duration": -141,
    "start_time": "2021-12-23T15:34:49.372Z"
   },
   {
    "duration": -143,
    "start_time": "2021-12-23T15:34:49.375Z"
   },
   {
    "duration": -145,
    "start_time": "2021-12-23T15:34:49.378Z"
   },
   {
    "duration": -122,
    "start_time": "2021-12-23T15:34:49.381Z"
   },
   {
    "duration": -122,
    "start_time": "2021-12-23T15:34:49.383Z"
   },
   {
    "duration": -124,
    "start_time": "2021-12-23T15:34:49.387Z"
   },
   {
    "duration": -125,
    "start_time": "2021-12-23T15:34:49.389Z"
   },
   {
    "duration": -127,
    "start_time": "2021-12-23T15:34:49.392Z"
   },
   {
    "duration": -128,
    "start_time": "2021-12-23T15:34:49.395Z"
   },
   {
    "duration": -129,
    "start_time": "2021-12-23T15:34:49.397Z"
   },
   {
    "duration": -131,
    "start_time": "2021-12-23T15:34:49.400Z"
   },
   {
    "duration": -132,
    "start_time": "2021-12-23T15:34:49.403Z"
   },
   {
    "duration": -133,
    "start_time": "2021-12-23T15:34:49.405Z"
   },
   {
    "duration": -135,
    "start_time": "2021-12-23T15:34:49.408Z"
   },
   {
    "duration": -135,
    "start_time": "2021-12-23T15:34:49.410Z"
   },
   {
    "duration": 1619,
    "start_time": "2021-12-23T15:34:58.566Z"
   },
   {
    "duration": 113,
    "start_time": "2021-12-23T15:35:00.189Z"
   },
   {
    "duration": 35,
    "start_time": "2021-12-23T15:35:00.305Z"
   },
   {
    "duration": 23,
    "start_time": "2021-12-23T15:35:00.344Z"
   },
   {
    "duration": 20,
    "start_time": "2021-12-23T15:35:00.370Z"
   },
   {
    "duration": 13,
    "start_time": "2021-12-23T15:35:00.393Z"
   },
   {
    "duration": 889,
    "start_time": "2021-12-23T15:35:00.409Z"
   },
   {
    "duration": 9,
    "start_time": "2021-12-23T15:35:01.302Z"
   },
   {
    "duration": 776,
    "start_time": "2021-12-23T15:35:01.314Z"
   },
   {
    "duration": 798,
    "start_time": "2021-12-23T15:35:02.093Z"
   },
   {
    "duration": 9,
    "start_time": "2021-12-23T15:35:02.893Z"
   },
   {
    "duration": 671,
    "start_time": "2021-12-23T15:35:02.904Z"
   },
   {
    "duration": 9,
    "start_time": "2021-12-23T15:35:03.578Z"
   },
   {
    "duration": 8,
    "start_time": "2021-12-23T15:35:03.590Z"
   },
   {
    "duration": 61,
    "start_time": "2021-12-23T15:35:03.601Z"
   },
   {
    "duration": 7,
    "start_time": "2021-12-23T15:35:03.665Z"
   },
   {
    "duration": 32,
    "start_time": "2021-12-23T15:35:03.675Z"
   },
   {
    "duration": 22,
    "start_time": "2021-12-23T15:35:03.710Z"
   },
   {
    "duration": 33,
    "start_time": "2021-12-23T15:35:03.760Z"
   },
   {
    "duration": 8,
    "start_time": "2021-12-23T15:35:03.795Z"
   },
   {
    "duration": 59,
    "start_time": "2021-12-23T15:35:03.805Z"
   },
   {
    "duration": 28,
    "start_time": "2021-12-23T15:35:03.867Z"
   },
   {
    "duration": 78,
    "start_time": "2021-12-23T15:35:03.900Z"
   },
   {
    "duration": 43,
    "start_time": "2021-12-23T15:35:03.983Z"
   },
   {
    "duration": 44,
    "start_time": "2021-12-23T15:35:04.028Z"
   },
   {
    "duration": 9,
    "start_time": "2021-12-23T15:35:04.074Z"
   },
   {
    "duration": 8,
    "start_time": "2021-12-23T15:35:04.086Z"
   },
   {
    "duration": 5,
    "start_time": "2021-12-23T15:35:04.097Z"
   },
   {
    "duration": 83,
    "start_time": "2021-12-23T15:35:04.104Z"
   },
   {
    "duration": 21,
    "start_time": "2021-12-23T15:35:04.190Z"
   },
   {
    "duration": 51,
    "start_time": "2021-12-23T15:35:04.214Z"
   },
   {
    "duration": 9,
    "start_time": "2021-12-23T15:35:04.268Z"
   },
   {
    "duration": 16,
    "start_time": "2021-12-23T15:35:04.279Z"
   },
   {
    "duration": 139,
    "start_time": "2021-12-23T15:35:04.298Z"
   },
   {
    "duration": 98,
    "start_time": "2021-12-23T15:35:04.441Z"
   },
   {
    "duration": 30,
    "start_time": "2021-12-23T15:35:04.542Z"
   },
   {
    "duration": 311,
    "start_time": "2021-12-23T15:35:04.574Z"
   },
   {
    "duration": 8,
    "start_time": "2021-12-23T15:35:04.887Z"
   },
   {
    "duration": 8,
    "start_time": "2021-12-23T15:35:04.898Z"
   },
   {
    "duration": 5,
    "start_time": "2021-12-23T15:35:04.909Z"
   },
   {
    "duration": 52,
    "start_time": "2021-12-23T15:35:04.917Z"
   },
   {
    "duration": 17,
    "start_time": "2021-12-23T15:35:04.971Z"
   },
   {
    "duration": 6,
    "start_time": "2021-12-23T15:35:04.990Z"
   },
   {
    "duration": 17,
    "start_time": "2021-12-23T15:35:04.998Z"
   },
   {
    "duration": 48,
    "start_time": "2021-12-23T15:35:05.018Z"
   },
   {
    "duration": 458806,
    "start_time": "2021-12-23T15:35:05.069Z"
   },
   {
    "duration": 7,
    "start_time": "2021-12-23T15:42:43.878Z"
   },
   {
    "duration": 1160,
    "start_time": "2021-12-23T15:42:43.888Z"
   },
   {
    "duration": 804,
    "start_time": "2021-12-23T15:42:45.060Z"
   },
   {
    "duration": 1246,
    "start_time": "2021-12-23T15:42:45.867Z"
   },
   {
    "duration": 466,
    "start_time": "2021-12-23T15:42:47.116Z"
   },
   {
    "duration": 1023,
    "start_time": "2021-12-23T15:42:47.585Z"
   },
   {
    "duration": 5,
    "start_time": "2021-12-23T15:42:48.611Z"
   },
   {
    "duration": 187248,
    "start_time": "2021-12-23T15:42:48.619Z"
   },
   {
    "duration": 45198,
    "start_time": "2021-12-23T15:45:55.869Z"
   },
   {
    "duration": 42803,
    "start_time": "2021-12-23T15:46:41.070Z"
   },
   {
    "duration": 21298,
    "start_time": "2021-12-23T15:47:23.876Z"
   },
   {
    "duration": 17114,
    "start_time": "2021-12-23T15:47:45.177Z"
   },
   {
    "duration": 71,
    "start_time": "2021-12-23T15:48:02.293Z"
   },
   {
    "duration": 1406,
    "start_time": "2021-12-23T15:48:02.366Z"
   },
   {
    "duration": 615,
    "start_time": "2021-12-23T15:48:03.775Z"
   },
   {
    "duration": 1121,
    "start_time": "2021-12-23T15:48:04.392Z"
   },
   {
    "duration": 471,
    "start_time": "2021-12-23T15:48:05.516Z"
   },
   {
    "duration": 329,
    "start_time": "2021-12-23T15:48:05.989Z"
   },
   {
    "duration": 6,
    "start_time": "2021-12-23T15:48:06.320Z"
   },
   {
    "duration": 56712,
    "start_time": "2021-12-23T15:48:06.328Z"
   },
   {
    "duration": 23771,
    "start_time": "2021-12-23T15:49:03.042Z"
   },
   {
    "duration": 57500,
    "start_time": "2021-12-23T15:49:26.824Z"
   },
   {
    "duration": 16569,
    "start_time": "2021-12-23T15:50:24.328Z"
   },
   {
    "duration": 17049,
    "start_time": "2021-12-23T15:50:40.900Z"
   },
   {
    "duration": 7,
    "start_time": "2021-12-23T15:50:57.952Z"
   },
   {
    "duration": 121,
    "start_time": "2021-12-23T15:50:57.962Z"
   },
   {
    "duration": 305,
    "start_time": "2021-12-23T15:50:58.162Z"
   },
   {
    "duration": 229,
    "start_time": "2021-12-23T15:50:58.475Z"
   },
   {
    "duration": 198,
    "start_time": "2021-12-23T15:50:58.761Z"
   },
   {
    "duration": 199,
    "start_time": "2021-12-23T15:50:59.060Z"
   },
   {
    "duration": 6,
    "start_time": "2021-12-23T15:50:59.262Z"
   },
   {
    "duration": 5,
    "start_time": "2021-12-23T15:52:40.933Z"
   },
   {
    "duration": 9,
    "start_time": "2021-12-23T15:52:52.768Z"
   },
   {
    "duration": 258,
    "start_time": "2021-12-23T15:53:36.405Z"
   },
   {
    "duration": 6,
    "start_time": "2021-12-23T15:53:39.301Z"
   },
   {
    "duration": 6,
    "start_time": "2021-12-23T15:53:43.134Z"
   },
   {
    "duration": 126,
    "start_time": "2021-12-23T15:54:12.349Z"
   },
   {
    "duration": 589,
    "start_time": "2021-12-23T15:54:41.012Z"
   },
   {
    "duration": 474,
    "start_time": "2021-12-23T15:54:49.518Z"
   },
   {
    "duration": 5,
    "start_time": "2021-12-23T15:54:58.965Z"
   },
   {
    "duration": 6,
    "start_time": "2021-12-23T15:55:07.005Z"
   },
   {
    "duration": 5,
    "start_time": "2021-12-23T15:55:13.301Z"
   },
   {
    "duration": 7,
    "start_time": "2021-12-23T15:56:32.564Z"
   },
   {
    "duration": 1087,
    "start_time": "2021-12-23T15:56:33.073Z"
   },
   {
    "duration": 742,
    "start_time": "2021-12-23T15:56:34.164Z"
   },
   {
    "duration": 1105,
    "start_time": "2021-12-23T15:56:34.909Z"
   },
   {
    "duration": 503,
    "start_time": "2021-12-23T15:56:36.018Z"
   },
   {
    "duration": 526,
    "start_time": "2021-12-23T15:56:36.524Z"
   },
   {
    "duration": 7,
    "start_time": "2021-12-23T15:56:37.053Z"
   },
   {
    "duration": 406,
    "start_time": "2021-12-23T15:56:37.063Z"
   },
   {
    "duration": 326,
    "start_time": "2021-12-23T15:56:37.474Z"
   },
   {
    "duration": 425,
    "start_time": "2021-12-23T15:56:37.803Z"
   },
   {
    "duration": 294,
    "start_time": "2021-12-23T15:56:38.231Z"
   },
   {
    "duration": 240,
    "start_time": "2021-12-23T15:56:38.529Z"
   },
   {
    "duration": 8,
    "start_time": "2021-12-23T15:56:38.772Z"
   },
   {
    "duration": 1577,
    "start_time": "2021-12-23T15:56:38.783Z"
   },
   {
    "duration": 657,
    "start_time": "2021-12-23T15:56:40.363Z"
   },
   {
    "duration": 1045,
    "start_time": "2021-12-23T15:56:41.023Z"
   },
   {
    "duration": 459,
    "start_time": "2021-12-23T15:56:42.071Z"
   },
   {
    "duration": 477,
    "start_time": "2021-12-23T15:56:42.533Z"
   },
   {
    "duration": 7,
    "start_time": "2021-12-23T15:56:43.012Z"
   },
   {
    "duration": 63031,
    "start_time": "2021-12-23T15:56:43.021Z"
   },
   {
    "duration": 22660,
    "start_time": "2021-12-23T15:57:46.055Z"
   },
   {
    "duration": 62605,
    "start_time": "2021-12-23T15:58:08.718Z"
   },
   {
    "duration": 15909,
    "start_time": "2021-12-23T15:59:11.326Z"
   },
   {
    "duration": 17381,
    "start_time": "2021-12-23T15:59:27.241Z"
   },
   {
    "duration": 8,
    "start_time": "2021-12-23T15:59:44.625Z"
   },
   {
    "duration": 225,
    "start_time": "2021-12-23T15:59:44.636Z"
   },
   {
    "duration": 114,
    "start_time": "2021-12-23T15:59:44.959Z"
   },
   {
    "duration": 217,
    "start_time": "2021-12-23T15:59:45.161Z"
   },
   {
    "duration": 304,
    "start_time": "2021-12-23T15:59:45.462Z"
   },
   {
    "duration": 111,
    "start_time": "2021-12-23T15:59:45.859Z"
   },
   {
    "duration": 87,
    "start_time": "2021-12-23T15:59:45.973Z"
   },
   {
    "duration": 12,
    "start_time": "2021-12-23T15:59:46.063Z"
   },
   {
    "duration": 7,
    "start_time": "2021-12-23T16:01:36.588Z"
   },
   {
    "duration": 134,
    "start_time": "2021-12-23T16:04:20.597Z"
   },
   {
    "duration": 347,
    "start_time": "2021-12-23T16:04:27.301Z"
   },
   {
    "duration": 11,
    "start_time": "2021-12-23T16:04:48.014Z"
   },
   {
    "duration": 6,
    "start_time": "2021-12-23T16:05:00.782Z"
   },
   {
    "duration": 6,
    "start_time": "2021-12-23T16:05:47.061Z"
   },
   {
    "duration": 8,
    "start_time": "2021-12-23T16:05:49.788Z"
   },
   {
    "duration": 581,
    "start_time": "2021-12-23T16:06:02.701Z"
   },
   {
    "duration": 339,
    "start_time": "2021-12-23T16:06:05.541Z"
   },
   {
    "duration": 346,
    "start_time": "2021-12-23T16:06:13.065Z"
   },
   {
    "duration": 433,
    "start_time": "2021-12-23T16:06:15.372Z"
   },
   {
    "duration": 348,
    "start_time": "2021-12-23T16:06:20.340Z"
   },
   {
    "duration": 9,
    "start_time": "2021-12-23T16:06:23.861Z"
   },
   {
    "duration": 10,
    "start_time": "2021-12-23T16:06:25.589Z"
   },
   {
    "duration": 4,
    "start_time": "2021-12-23T16:08:51.812Z"
   },
   {
    "duration": 358,
    "start_time": "2021-12-23T16:08:58.909Z"
   },
   {
    "duration": 6,
    "start_time": "2021-12-23T16:09:10.221Z"
   },
   {
    "duration": 5,
    "start_time": "2021-12-23T16:09:39.557Z"
   },
   {
    "duration": 7,
    "start_time": "2021-12-23T16:11:16.445Z"
   },
   {
    "duration": 4,
    "start_time": "2021-12-23T16:12:30.814Z"
   },
   {
    "duration": 9,
    "start_time": "2021-12-23T16:12:31.238Z"
   },
   {
    "duration": 5,
    "start_time": "2021-12-23T16:12:38.309Z"
   },
   {
    "duration": 6,
    "start_time": "2021-12-23T16:12:38.678Z"
   },
   {
    "duration": 6,
    "start_time": "2021-12-23T16:13:29.957Z"
   },
   {
    "duration": 366,
    "start_time": "2021-12-23T16:15:13.965Z"
   },
   {
    "duration": 6,
    "start_time": "2021-12-23T16:15:55.406Z"
   },
   {
    "duration": 6,
    "start_time": "2021-12-23T16:16:01.318Z"
   },
   {
    "duration": 4,
    "start_time": "2021-12-23T16:16:14.142Z"
   },
   {
    "duration": 5,
    "start_time": "2021-12-23T16:16:14.429Z"
   },
   {
    "duration": 5,
    "start_time": "2021-12-23T16:16:21.213Z"
   },
   {
    "duration": 7,
    "start_time": "2021-12-23T16:16:22.052Z"
   },
   {
    "duration": 4,
    "start_time": "2021-12-23T16:16:40.412Z"
   },
   {
    "duration": 10,
    "start_time": "2021-12-23T16:16:40.709Z"
   },
   {
    "duration": 5,
    "start_time": "2021-12-23T16:17:13.582Z"
   },
   {
    "duration": 6,
    "start_time": "2021-12-23T16:17:14.287Z"
   },
   {
    "duration": 4,
    "start_time": "2021-12-23T16:17:19.582Z"
   },
   {
    "duration": 5,
    "start_time": "2021-12-23T16:17:19.934Z"
   },
   {
    "duration": 13,
    "start_time": "2021-12-23T16:17:57.157Z"
   },
   {
    "duration": 5,
    "start_time": "2021-12-23T16:18:02.052Z"
   },
   {
    "duration": 10,
    "start_time": "2021-12-23T16:18:03.587Z"
   },
   {
    "duration": 5,
    "start_time": "2021-12-23T16:19:13.309Z"
   },
   {
    "duration": 17,
    "start_time": "2021-12-23T16:19:14.299Z"
   },
   {
    "duration": 6,
    "start_time": "2021-12-23T16:20:40.679Z"
   },
   {
    "duration": 157,
    "start_time": "2021-12-23T16:23:05.725Z"
   },
   {
    "duration": 178,
    "start_time": "2021-12-23T16:23:38.119Z"
   },
   {
    "duration": 115,
    "start_time": "2021-12-23T16:23:44.109Z"
   },
   {
    "duration": 118,
    "start_time": "2021-12-23T16:24:57.734Z"
   },
   {
    "duration": 162,
    "start_time": "2021-12-23T16:25:37.270Z"
   },
   {
    "duration": 139,
    "start_time": "2021-12-23T16:25:42.310Z"
   },
   {
    "duration": 114,
    "start_time": "2021-12-23T16:26:25.102Z"
   },
   {
    "duration": 119,
    "start_time": "2021-12-23T16:26:31.813Z"
   },
   {
    "duration": 6,
    "start_time": "2021-12-23T16:26:55.414Z"
   },
   {
    "duration": 361,
    "start_time": "2021-12-23T16:27:01.799Z"
   },
   {
    "duration": 732,
    "start_time": "2021-12-23T16:27:45.247Z"
   },
   {
    "duration": 8,
    "start_time": "2021-12-23T16:33:39.327Z"
   },
   {
    "duration": 11,
    "start_time": "2021-12-23T16:33:41.877Z"
   },
   {
    "duration": 427,
    "start_time": "2021-12-23T16:34:10.159Z"
   },
   {
    "duration": 16,
    "start_time": "2021-12-23T16:34:26.447Z"
   },
   {
    "duration": 14,
    "start_time": "2021-12-23T16:34:40.616Z"
   },
   {
    "duration": 13,
    "start_time": "2021-12-23T16:34:52.087Z"
   },
   {
    "duration": 14,
    "start_time": "2021-12-23T16:45:17.915Z"
   },
   {
    "duration": 13,
    "start_time": "2021-12-23T16:45:22.328Z"
   },
   {
    "duration": 1992,
    "start_time": "2021-12-23T16:46:45.092Z"
   },
   {
    "duration": 113,
    "start_time": "2021-12-23T16:46:47.087Z"
   },
   {
    "duration": 42,
    "start_time": "2021-12-23T16:46:47.203Z"
   },
   {
    "duration": 25,
    "start_time": "2021-12-23T16:46:47.248Z"
   },
   {
    "duration": 19,
    "start_time": "2021-12-23T16:46:47.275Z"
   },
   {
    "duration": 8,
    "start_time": "2021-12-23T16:46:47.297Z"
   },
   {
    "duration": 1224,
    "start_time": "2021-12-23T16:46:47.308Z"
   },
   {
    "duration": 24,
    "start_time": "2021-12-23T16:46:48.537Z"
   },
   {
    "duration": 889,
    "start_time": "2021-12-23T16:46:48.567Z"
   },
   {
    "duration": 928,
    "start_time": "2021-12-23T16:46:49.461Z"
   },
   {
    "duration": 10,
    "start_time": "2021-12-23T16:46:50.391Z"
   },
   {
    "duration": 726,
    "start_time": "2021-12-23T16:46:50.404Z"
   },
   {
    "duration": 12,
    "start_time": "2021-12-23T16:46:51.133Z"
   },
   {
    "duration": 14,
    "start_time": "2021-12-23T16:46:51.160Z"
   },
   {
    "duration": 34,
    "start_time": "2021-12-23T16:46:51.177Z"
   },
   {
    "duration": 7,
    "start_time": "2021-12-23T16:46:51.214Z"
   },
   {
    "duration": 63,
    "start_time": "2021-12-23T16:46:51.225Z"
   },
   {
    "duration": 26,
    "start_time": "2021-12-23T16:46:51.291Z"
   },
   {
    "duration": 67,
    "start_time": "2021-12-23T16:46:51.319Z"
   },
   {
    "duration": 9,
    "start_time": "2021-12-23T16:46:51.388Z"
   },
   {
    "duration": 64,
    "start_time": "2021-12-23T16:46:51.400Z"
   },
   {
    "duration": 34,
    "start_time": "2021-12-23T16:46:51.467Z"
   },
   {
    "duration": 86,
    "start_time": "2021-12-23T16:46:51.511Z"
   },
   {
    "duration": 74,
    "start_time": "2021-12-23T16:46:51.601Z"
   },
   {
    "duration": 18,
    "start_time": "2021-12-23T16:46:51.678Z"
   },
   {
    "duration": 11,
    "start_time": "2021-12-23T16:46:51.699Z"
   },
   {
    "duration": 10,
    "start_time": "2021-12-23T16:46:51.712Z"
   },
   {
    "duration": 6,
    "start_time": "2021-12-23T16:46:51.768Z"
   },
   {
    "duration": 47,
    "start_time": "2021-12-23T16:46:51.776Z"
   },
   {
    "duration": 39,
    "start_time": "2021-12-23T16:46:51.826Z"
   },
   {
    "duration": 33,
    "start_time": "2021-12-23T16:46:51.868Z"
   },
   {
    "duration": 7,
    "start_time": "2021-12-23T16:46:51.903Z"
   },
   {
    "duration": 16,
    "start_time": "2021-12-23T16:46:51.913Z"
   },
   {
    "duration": 175,
    "start_time": "2021-12-23T16:46:51.931Z"
   },
   {
    "duration": 135,
    "start_time": "2021-12-23T16:46:52.109Z"
   },
   {
    "duration": 40,
    "start_time": "2021-12-23T16:46:52.246Z"
   },
   {
    "duration": 372,
    "start_time": "2021-12-23T16:46:52.289Z"
   },
   {
    "duration": 9,
    "start_time": "2021-12-23T16:46:52.669Z"
   },
   {
    "duration": 7,
    "start_time": "2021-12-23T16:46:52.680Z"
   },
   {
    "duration": 7,
    "start_time": "2021-12-23T16:46:52.690Z"
   },
   {
    "duration": 62,
    "start_time": "2021-12-23T16:46:52.700Z"
   },
   {
    "duration": 21,
    "start_time": "2021-12-23T16:46:52.765Z"
   },
   {
    "duration": 5,
    "start_time": "2021-12-23T16:46:52.789Z"
   },
   {
    "duration": 23,
    "start_time": "2021-12-23T16:46:52.797Z"
   },
   {
    "duration": 45,
    "start_time": "2021-12-23T16:46:52.823Z"
   },
   {
    "duration": 490314,
    "start_time": "2021-12-23T16:46:52.870Z"
   },
   {
    "duration": 5,
    "start_time": "2021-12-23T16:55:03.186Z"
   },
   {
    "duration": 1046,
    "start_time": "2021-12-23T16:55:03.194Z"
   },
   {
    "duration": 783,
    "start_time": "2021-12-23T16:55:04.243Z"
   },
   {
    "duration": 1141,
    "start_time": "2021-12-23T16:55:05.028Z"
   },
   {
    "duration": 553,
    "start_time": "2021-12-23T16:55:06.172Z"
   },
   {
    "duration": 564,
    "start_time": "2021-12-23T16:55:06.727Z"
   },
   {
    "duration": 5,
    "start_time": "2021-12-23T16:55:07.294Z"
   },
   {
    "duration": 191863,
    "start_time": "2021-12-23T16:55:07.302Z"
   },
   {
    "duration": 240118,
    "start_time": "2021-12-23T16:58:19.176Z"
   },
   {
    "duration": 198079,
    "start_time": "2021-12-23T17:02:19.297Z"
   },
   {
    "duration": 195783,
    "start_time": "2021-12-23T17:05:37.383Z"
   },
   {
    "duration": 196805,
    "start_time": "2021-12-23T17:08:53.171Z"
   },
   {
    "duration": 8,
    "start_time": "2021-12-23T17:12:09.984Z"
   },
   {
    "duration": 1483,
    "start_time": "2021-12-23T17:12:09.995Z"
   },
   {
    "duration": 655,
    "start_time": "2021-12-23T17:12:11.481Z"
   },
   {
    "duration": 1096,
    "start_time": "2021-12-23T17:12:12.139Z"
   },
   {
    "duration": 439,
    "start_time": "2021-12-23T17:12:13.237Z"
   },
   {
    "duration": 334,
    "start_time": "2021-12-23T17:12:13.679Z"
   },
   {
    "duration": 6,
    "start_time": "2021-12-23T17:12:14.016Z"
   },
   {
    "duration": 61274,
    "start_time": "2021-12-23T17:12:14.025Z"
   },
   {
    "duration": 22496,
    "start_time": "2021-12-23T17:13:15.301Z"
   },
   {
    "duration": 62981,
    "start_time": "2021-12-23T17:13:37.804Z"
   },
   {
    "duration": 17461,
    "start_time": "2021-12-23T17:14:40.788Z"
   },
   {
    "duration": 17385,
    "start_time": "2021-12-23T17:14:58.253Z"
   },
   {
    "duration": 8,
    "start_time": "2021-12-23T17:15:15.641Z"
   },
   {
    "duration": 137,
    "start_time": "2021-12-23T17:15:15.652Z"
   },
   {
    "duration": 201,
    "start_time": "2021-12-23T17:15:15.867Z"
   },
   {
    "duration": 290,
    "start_time": "2021-12-23T17:15:16.071Z"
   },
   {
    "duration": 132,
    "start_time": "2021-12-23T17:15:16.365Z"
   },
   {
    "duration": 203,
    "start_time": "2021-12-23T17:15:16.561Z"
   },
   {
    "duration": 103,
    "start_time": "2021-12-23T17:15:16.777Z"
   },
   {
    "duration": 11,
    "start_time": "2021-12-23T17:15:16.884Z"
   },
   {
    "duration": 9,
    "start_time": "2021-12-23T17:15:16.898Z"
   },
   {
    "duration": 19,
    "start_time": "2021-12-23T17:15:16.910Z"
   }
  ],
  "kernelspec": {
   "display_name": "Python 3 (ipykernel)",
   "language": "python",
   "name": "python3"
  },
  "language_info": {
   "codemirror_mode": {
    "name": "ipython",
    "version": 3
   },
   "file_extension": ".py",
   "mimetype": "text/x-python",
   "name": "python",
   "nbconvert_exporter": "python",
   "pygments_lexer": "ipython3",
   "version": "3.9.5"
  },
  "toc": {
   "base_numbering": 1,
   "nav_menu": {},
   "number_sections": true,
   "sideBar": true,
   "skip_h1_title": true,
   "title_cell": "Table of Contents",
   "title_sidebar": "Contents",
   "toc_cell": false,
   "toc_position": {},
   "toc_section_display": true,
   "toc_window_display": false
  }
 },
 "nbformat": 4,
 "nbformat_minor": 2
}
